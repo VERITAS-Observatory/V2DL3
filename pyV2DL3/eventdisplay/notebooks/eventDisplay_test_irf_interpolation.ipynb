{
 "cells": [
  {
   "cell_type": "code",
   "execution_count": null,
   "metadata": {},
   "outputs": [],
   "source": [
    "%pylab inline --no-import-all\n",
    "\n",
    "from ctypes import c_float\n",
    "import sys\n",
    "\n",
    "# import numpy as np\n",
    "from astropy.io import fits\n",
    "from scipy.interpolate import RegularGridInterpolator\n",
    "\n",
    "\n",
    "from ROOT import gSystem, TFile, TCanvas, TGraphAsymmErrors, TH1D, TH2D, TGraphAsymmErrors, TProfile\n",
    "import uproot\n",
    "import matplotlib.pyplot as plt\n",
    "\n",
    "from root_numpy import hist2array\n",
    "\n",
    "# from ROOT import VARootIO, VAEffectiveAreaManager, VAEASimpleParameterData\n",
    "if gSystem.Load(\"$EVNDISPSYS/lib/libVAnaSum.so\"):\n",
    "    print(\"Problem loading EventDisplay libraries - please check this before proceeding\")\n",
    "    \n",
    "# from ROOT import VInstrumentResponseFunctionData"
   ]
  },
  {
   "cell_type": "code",
   "execution_count": null,
   "metadata": {},
   "outputs": [],
   "source": [
    "def remove_duplicities(array, atol):\n",
    "    i = 0\n",
    "    while(i < len(array)-1):\n",
    "        i += 1\n",
    "        if np.isclose(array[i-1], array[i], atol=atol):\n",
    "            array = np.delete(array,i-1)\n",
    "            i -= 1\n",
    "    return array\n",
    "\n",
    "def graph_to_array_y(graph):\n",
    "    y = [g for g in graph.GetY()]\n",
    "    return y\n",
    "\n",
    "def graph_to_array_x(graph):\n",
    "    x = [g for g in graph.GetX()]\n",
    "    return x\n",
    "\n",
    "def bin_edges_to_centers(axis):\n",
    "    # This function assumes bins of equal width\n",
    "    bin_size = axis[1]-axis[0]\n",
    "    return np.delete(axis + bin_size/2., len(axis)-1)\n",
    "\n",
    "def find_nearest(array, value):\n",
    "    array = np.asarray(array)\n",
    "    idx = (np.abs(array - value)).argmin()\n",
    "    return idx\n",
    "\n",
    "def extract_irf(filename, irf_name, coord_tuple=False, return_irf_axes=False): \n",
    "    # Get both the ROOT effective area TTree and the uproot one (much faster)\n",
    "    effAreaFile = TFile.Open(filename)\n",
    "    effAreaTree = effAreaFile.Get(\"fEffArea\")\n",
    "    fast_effArea = uproot.open(filename)['fEffArea']\n",
    "\n",
    "    # Load parameters from each TTree on arrays with uproot (super fast)\n",
    "    all_zds = fast_effArea.array('ze')\n",
    "    all_azs = fast_effArea.array('az')\n",
    "    all_azMins = fast_effArea.array('azMin')\n",
    "    all_azMaxs = fast_effArea.array('azMax')\n",
    "    all_Woffs = fast_effArea.array('Woff')\n",
    "    all_pedvars = fast_effArea.array('pedvar')\n",
    "    all_indexs = fast_effArea.array('index')\n",
    "    all_nbins =  fast_effArea.array('nbins')\n",
    "    all_rec_nbins =  fast_effArea.array('Rec_nbins')\n",
    "    \n",
    "    # If no coord_tuple is provided, extract the IRF over all dimensions\n",
    "    azs = indexs = pedvars = zds = woffs = []\n",
    "    if not coord_tuple:\n",
    "        zds, zes_counts = np.unique(np.round(fast_effArea.array('ze'), decimals=2), return_counts=True)\n",
    "        azs = np.unique(fast_effArea.array('az'))\n",
    "        woffs, Woffs_counts = np.unique(np.round(fast_effArea.array('Woff'), decimals=2), return_counts=True)\n",
    "        pedvars, pedvars_counts = np.unique(np.round(fast_effArea.array('pedvar'), decimals=2), return_counts=True)\n",
    "        indexs, indexs_counts = np.unique(np.round(fast_effArea.array('index'), decimals=2), return_counts=True)\n",
    "        # IMPORTANT: Remove duplicities (shouldn't be the case, but the values are not stored properly...)\n",
    "        # We remove the duplicities from the zenith and pedestal values arrays:\n",
    "        zds = remove_duplicities(zds, 2.0)\n",
    "        pedvars = remove_duplicities(pedvars, 0.21)\n",
    "        if len(all_zds) != len(zds) * len(azs) * len(woffs) * len(pedvars) * len(indexs):\n",
    "            raise ValueError(\"Wrong dimensions extracted from IRF cube.\" +  \n",
    "                             \"Probably due to the rounding applied to the IRF coordinates.\")\n",
    "    # If a specific coord_tuple is provided, only extract the IRFs wihin that range of dimensions\n",
    "    else:\n",
    "        if len(coord_tuple) != 5:\n",
    "            raise ValueError(\"coord_tuple needs to contain 5 dimensions, in this order: az, index, pedvar, zd and woff\")\n",
    "        else:\n",
    "            # Get the coordinates to sample:\n",
    "            azs = coord_tuple[0]\n",
    "            indexs = coord_tuple[1]\n",
    "            pedvars = coord_tuple[2]\n",
    "            zds = coord_tuple[3]\n",
    "            woffs = coord_tuple[4]\n",
    "    \n",
    "    print(azs, indexs, pedvars, zds, woffs)\n",
    "    \n",
    "    # For performance, deactivate all branches except the ones needed:\n",
    "    # Also get the entry with max bins to define the binning in energy\n",
    "    effAreaTree.SetBranchStatus(\"*\",0) \n",
    "    if irf_name == 'eff':\n",
    "        effAreaTree.SetBranchStatus(\"e0\",1)\n",
    "        effAreaTree.SetBranchStatus(\"eff\",1)\n",
    "        entry_with_max_bins = find_nearest(all_nbins, all_nbins.max())\n",
    "    elif irf_name == 'Rec_eff':\n",
    "        effAreaTree.SetBranchStatus(\"Rec_e0\",1)\n",
    "        effAreaTree.SetBranchStatus(\"Rec_eff\",1)\n",
    "        entry_with_max_bins = find_nearest(all_rec_nbins, all_rec_nbins.max())\n",
    "    elif irf_name == 'gEffAreaNoTh2MC':\n",
    "        effAreaTree.SetBranchStatus(\"gEffAreaNoTh2MC\",1)\n",
    "        entry_with_max_bins = 0\n",
    "    elif irf_name == 'gEffAreaNoTh2Rec':\n",
    "        effAreaTree.SetBranchStatus(\"gEffAreaNoTh2Rec\",1)\n",
    "        entry_with_max_bins = 0\n",
    "    elif irf_name == 'hEsysMCRelative2D':\n",
    "        effAreaTree.SetBranchStatus(\"hEsysMCRelative2D\",1)\n",
    "        entry_with_max_bins = 0\n",
    "    elif irf_name == 'hAngularDiff_2D':\n",
    "        effAreaTree.SetBranchStatus(\"hAngularDiff_2D\",1)\n",
    "        entry_with_max_bins = 0\n",
    "    else:\n",
    "        raise Exception(\"WrongIrfName\")\n",
    "    # Now we know which entry we need to get in order to have a sample IRF\n",
    "#     sample_irf = sample_energies = []\n",
    "    for i, entry in enumerate(effAreaTree):\n",
    "        if i == entry_with_max_bins:\n",
    "            if irf_name == 'eff':\n",
    "                sample_irf = [j for j in entry.eff]\n",
    "                sample_energies = [j for j in entry.e0]\n",
    "            elif irf_name == 'Rec_eff':\n",
    "                sample_irf = [j for j in entry.Rec_eff]\n",
    "                sample_energies = [j for j in entry.Rec_e0]\n",
    "            elif irf_name == 'gEffAreaNoTh2MC':\n",
    "                sample_irf = graph_to_array_y(entry.gEffAreaNoTh2MC)\n",
    "                sample_energies = graph_to_array_x(entry.gEffAreaNoTh2MC)\n",
    "            elif irf_name == 'gEffAreaNoTh2Rec':\n",
    "                sample_irf = graph_to_array_y(entry.gEffAreaNoTh2Rec)\n",
    "                sample_energies = graph_to_array_x(entry.gEffAreaNoTh2Rec)\n",
    "            elif irf_name == 'hEsysMCRelative2D':\n",
    "                # Migration vs energy bias and true energy\n",
    "                sample_irf, axes = hist2array(entry.hEsysMCRelative2D, return_edges=True)\n",
    "                # Bin edges (one more entry than migra!) for the true energy and \n",
    "                # energy bias (Erec/Etrue)\n",
    "                irf_dimension_1 = bin_edges_to_centers(axes[0])\n",
    "                irf_dimension_2 = bin_edges_to_centers(axes[1])\n",
    "            elif irf_name == 'hEsysMCRelative2DNoDirectionCut':\n",
    "                # Migration vs energy bias and true energy, without direction cut\n",
    "                sample_irf, axes = hist2array(entry.hEsysMCRelative2DNoDirectionCut, return_edges=True)\n",
    "                # Bin edges (one more entry than migra!) for the true energy and \n",
    "                # energy bias (Erec/Etrue)\n",
    "                irf_dimension_1 = bin_edges_to_centers(axes[0])\n",
    "                irf_dimension_2 = bin_edges_to_centers(axes[1])\n",
    "            elif irf_name == 'hAngularDiff_2D':\n",
    "                # PSF vs true energy:\n",
    "                sample_irf, axes = hist2array(entry.hAngularDiff_2D, return_edges=True)\n",
    "                # Bin edges (one more entry than migra!) for the true energy and \n",
    "                # energy bias (Erec/Etrue)\n",
    "                irf_dimension_1 = bin_edges_to_centers(axes[0])\n",
    "                irf_dimension_2 = bin_edges_to_centers(axes[1])\n",
    "                print(irf_dimension_1, irf_dimension_2)\n",
    "                print(\"Length: \", len(irf_dimension_1), len(irf_dimension_2))\n",
    "            else:\n",
    "                raise Exception(\"WrongIrfName\")\n",
    "        if i > entry_with_max_bins:\n",
    "            break\n",
    "    # Create data container, filled with zeros, containing the required dimensions to store\n",
    "    # the IRF for a given coord_tuple. Separated between 1 and 2 dimensions:\n",
    "    if (irf_name == \"hEsysMCRelative2D\" or irf_name == \"hEsysMCRelative2DNoDirectionCut\" or \n",
    "            irf_name == \"hAngularDiff_2D\"):\n",
    "        data = np.zeros((len(irf_dimension_1), len(irf_dimension_2), len(azs), len(indexs), len(pedvars), len(zds), len(woffs)))\n",
    "    else:\n",
    "        data = np.zeros((len(sample_irf), len(azs), len(indexs), len(pedvars), len(zds), len(woffs)))\n",
    "    # Iterate over all IRFs within the file. If the entry i is close to the coordinates within\n",
    "    # the coord_tuple, then store.\n",
    "    for i, entry in enumerate(effAreaTree):\n",
    "        if i%5000 == 0:\n",
    "            print(\"{}/{}\".format(i, len(all_zds)))\n",
    "#         if i == 3239:\n",
    "#             print([j for j in entry.Rec_e0])\n",
    "        # Parameters within the effective area files show some fluctuation, therefore \n",
    "        # we need to use the \"isclose\".\n",
    "        if (np.isclose(azs, all_azs[i], atol=0.01).any() and\n",
    "                np.isclose(indexs, all_indexs[i], atol=0.01).any() and\n",
    "                np.isclose(pedvars, all_pedvars[i], atol=0.21).any() and\n",
    "                np.isclose(zds, all_zds[i], atol=2.1).any() and\n",
    "                np.isclose(woffs, all_Woffs[i], atol=0.05).any()):\n",
    "            if irf_name == 'eff':\n",
    "                irf = [j for j in entry.eff]\n",
    "                energies = [j for j in entry.e0]\n",
    "            elif irf_name == 'Rec_eff':\n",
    "                irf = [j for j in entry.Rec_eff]\n",
    "                energies = [j for j in entry.Rec_e0]\n",
    "            elif irf_name == 'gEffAreaNoTh2MC':\n",
    "                irf = graph_to_array_y(entry.gEffAreaNoTh2MC)\n",
    "                energies = graph_to_array_x(entry.gEffAreaNoTh2MC)\n",
    "            elif irf_name == 'gEffAreaNoTh2Rec':\n",
    "                irf = graph_to_array_y(entry.gEffAreaNoTh2Rec)\n",
    "                energies = graph_to_array_x(entry.gEffAreaNoTh2Rec)\n",
    "            elif irf_name == 'hEsysMCRelative2D':\n",
    "                irf = hist2array(entry.hEsysMCRelative2D)\n",
    "            elif irf_name == 'hEsysMCRelative2DNoDirectionCut':\n",
    "                irf = hist2array(entry.hEsysMCRelative2DNoDirectionCut)\n",
    "            elif irf_name == 'hAngularDiff_2D':\n",
    "                irf = hist2array(entry.hAngularDiff_2D)\n",
    "            else:\n",
    "                raise Exception(\"WrongIrfName\")\n",
    "            # We separate now 1D and 2D irfs:\n",
    "            # 2D IRFs:\n",
    "            if (irf_name == \"hEsysMCRelative2D\" or irf_name == \"hEsysMCRelative2DNoDirectionCut\" or \n",
    "                    irf_name == \"hAngularDiff_2D\"):\n",
    "                if np.shape(irf) == np.shape(sample_irf):\n",
    "                    try:\n",
    "                        data[:,:, find_nearest(azs, all_azs[i]), find_nearest(indexs, all_indexs[i]), find_nearest(pedvars, all_pedvars[i]), \n",
    "                             find_nearest(zds, all_zds[i]), find_nearest(woffs, all_Woffs[i])] = irf\n",
    "                    except:\n",
    "                        print(\"Unexpected error:\", sys.exc_info()[0])\n",
    "                        print(\"Entry number \", i)\n",
    "                        raise\n",
    "                else:\n",
    "                    print(\"2D IRFs of variable size...\")\n",
    "                    raise\n",
    "            else:\n",
    "                # 1D IRFs:\n",
    "                # In case the extracted IRF has less bins than the \"sample\" one, pad it with zeros:\n",
    "                if len(irf) < len(sample_irf):\n",
    "                    new_irf = np.zeros(len(sample_energies))\n",
    "                    for j, ener in enumerate(energies):\n",
    "                        new_irf[find_nearest(sample_energies, ener)] = irf[j]\n",
    "                    irf = new_irf\n",
    "                try:\n",
    "                    data[:, find_nearest(azs, all_azs[i]), find_nearest(indexs, all_indexs[i]), find_nearest(pedvars, all_pedvars[i]), \n",
    "                         find_nearest(zds, all_zds[i]), find_nearest(woffs, all_Woffs[i])] = irf\n",
    "                except:\n",
    "                    print(\"Unexpected error:\", sys.exc_info()[0])\n",
    "                    print(\"Entry number \", i)\n",
    "                    print(energies, irf)\n",
    "                    raise \n",
    "    if return_irf_axes:\n",
    "        if (irf_name == \"hEsysMCRelative2D\" or irf_name == \"hEsysMCRelative2DNoDirectionCut\" or \n",
    "                irf_name == \"hAngularDiff_2D\"):\n",
    "            return data, [np.array(irf_dimension_1), np.array(irf_dimension_2), azs, indexs, pedvars, zds, woffs]\n",
    "        else:\n",
    "            return data, [np.array(sample_energies), azs, indexs, pedvars, zds, woffs]\n",
    "    else:\n",
    "        return data\n",
    "\n",
    "\n",
    "def duplicate_dimension(data, axis):\n",
    "    # This function duplicates a single axis, assuming it's length is 1.\n",
    "    current_shape = np.shape(data)\n",
    "    corrected_shape = [2 if i == axis else k for i, k in enumerate(current_shape)]\n",
    "    print(current_shape, corrected_shape)\n",
    "    new_data = np.zeros(corrected_shape)\n",
    "    sl = slice(None, None, None)\n",
    "    new_data[[0 if i == axis else sl for i, k in enumerate(current_shape)]] = \\\n",
    "        data[[0 if i == axis else sl for i, k in enumerate(current_shape)]]\n",
    "    new_data[[1 if i == axis else sl for i, k in enumerate(current_shape)]] = \\\n",
    "        data[[0 if i == axis else sl for i, k in enumerate(current_shape)]]\n",
    "    return new_data\n",
    "\n",
    "\n",
    "def duplicate_dimensions(data):\n",
    "    # This function duplicates all axes, one by one, when their size is 1.\n",
    "    new_data = data\n",
    "    current_shape = np.shape(new_data)\n",
    "    for i, dim in enumerate(current_shape):\n",
    "        if (dim == 1):\n",
    "            new_data = duplicate_dimension(new_data, i)\n",
    "    return new_data"
   ]
  },
  {
   "cell_type": "code",
   "execution_count": null,
   "metadata": {},
   "outputs": [],
   "source": [
    "# Let's play around a bit with v501_rd effective area files (after merging, with surviving histograms)\n",
    "# effAreaFileName = '/home/thassan/VERITAS/DL3/DL3_for_eventDisplay/EffectiveAreas_v501_rd/effArea-v501-TL5035MA20-auxv01-CARE_June1702-Cut-NTel4-PointSource-TMVA-BDT-Preselection-GEOID3-V6-ATM61-T1234.root'\n",
    "effAreaFileName = '/home/thassan/VERITAS/DL3/DL3_for_eventDisplay/EffectiveAreas_v501_rd/effArea-v501-TL5035MA20-auxv01-CARE_June1702-Cut-NTel2-PointSource-TMVA-BDT-Preselection-GEOID0-V6-ATM61-T1234.root'\n",
    "\n",
    "effAreaFile = TFile.Open(effAreaFileName)\n",
    "effAreaTree = effAreaFile.Get(\"fEffArea\")\n",
    "fast_effArea = uproot.open(effAreaFileName)['fEffArea']"
   ]
  },
  {
   "cell_type": "code",
   "execution_count": null,
   "metadata": {},
   "outputs": [],
   "source": [
    "# Grab some values from the first element of the file:\n",
    "for i, entry in enumerate(effAreaTree):\n",
    "    if i == 0:\n",
    "        e0 = [i for i in entry.e0]\n",
    "    else:\n",
    "        break\n",
    "print(e0)"
   ]
  },
  {
   "cell_type": "code",
   "execution_count": null,
   "metadata": {},
   "outputs": [],
   "source": [
    "zes, zes_counts = np.unique(np.round(fast_effArea.array('ze'), decimals=2), return_counts=True)\n",
    "azs = np.unique(fast_effArea.array('az'))\n",
    "azMins = np.unique(fast_effArea.array('azMin'))\n",
    "azMaxs = np.unique(fast_effArea.array('azMax'))\n",
    "Woffs, Woffs_counts = np.unique(np.round(fast_effArea.array('Woff'), decimals=2), return_counts=True)\n",
    "noises, noises_counts = np.unique(np.round(fast_effArea.array('noise'), decimals=2), return_counts=True)\n",
    "pedvars, pedvars_counts = np.unique(np.round(fast_effArea.array('pedvar'), decimals=2), return_counts=True)\n",
    "indexs, indexs_counts = np.unique(np.round(fast_effArea.array('index'), decimals=2), return_counts=True)\n",
    "all_nbins =  fast_effArea.array('nbins')\n",
    "all_rec_nbins =  fast_effArea.array('Rec_nbins')\n",
    "\n",
    "# IMPORTANT: Remove duplicities (shouldn't be the case, but the values are not stored properly...)\n",
    "# We remove the duplicities from the zenith and pedestal values arrays:\n",
    "zes = remove_duplicities(zes, 2.0)\n",
    "pedvars = remove_duplicities(pedvars, 0.21)"
   ]
  },
  {
   "cell_type": "code",
   "execution_count": null,
   "metadata": {},
   "outputs": [],
   "source": [
    "# Load parameters from each TTree on arrays with uproot (super fast)\n",
    "all_zds = fast_effArea.array('ze')\n",
    "all_azs = fast_effArea.array('az')\n",
    "all_azMins = fast_effArea.array('azMin')\n",
    "all_azMaxs = fast_effArea.array('azMax')\n",
    "all_Woffs = fast_effArea.array('Woff')\n",
    "all_pedvars = fast_effArea.array('pedvar')\n",
    "all_indexs = fast_effArea.array('index')"
   ]
  },
  {
   "cell_type": "code",
   "execution_count": null,
   "metadata": {},
   "outputs": [],
   "source": [
    "print(len(all_zds), len(zes) * len(azs) * len(Woffs) * len(pedvars) * len(indexs))"
   ]
  },
  {
   "cell_type": "code",
   "execution_count": null,
   "metadata": {},
   "outputs": [],
   "source": [
    "print(zes, azs, Woffs, pedvars, indexs)"
   ]
  },
  {
   "cell_type": "code",
   "execution_count": null,
   "metadata": {},
   "outputs": [],
   "source": [
    "pedvars"
   ]
  },
  {
   "cell_type": "code",
   "execution_count": null,
   "metadata": {},
   "outputs": [],
   "source": [
    "# We remove the duplicities from the zenith and pedestal values arrays:\n",
    "zes = remove_duplicities(zes, 2.0)\n",
    "pedvars = remove_duplicities(pedvars, 0.21)"
   ]
  },
  {
   "cell_type": "markdown",
   "metadata": {},
   "source": [
    "The order we will use is:\n",
    "* Azimuth\n",
    "* Index\n",
    "* Pedestal variance\n",
    "* Zenith\n",
    "* Camera offset (Woff)"
   ]
  },
  {
   "cell_type": "code",
   "execution_count": null,
   "metadata": {},
   "outputs": [],
   "source": [
    "# Just grab some effective areas as a function of the zenith:\n",
    "#   - First bin in azimuth, index of 1.5, pedvar of 4.4 and standard wobble distance\n",
    "dimensions_to_sample = [[0], indexs, pedvars, zes, [0.5]]"
   ]
  },
  {
   "cell_type": "code",
   "execution_count": null,
   "metadata": {},
   "outputs": [],
   "source": [
    "irf_data, irf_axes = extract_irf('/home/thassan/VERITAS/DL3/DL3_for_eventDisplay/EffectiveAreas_v501_rd/effArea-v501-TL5035MA20-auxv01-CARE_June1702-Cut-NTel2-PointSource-TMVA-BDT-Preselection-GEOID0-V6-ATM61-T1234.root',\n",
    "                       'eff', return_irf_axes = True)\n",
    "# irf_data = extract_irf('/home/thassan/VERITAS/DL3/DL3_for_eventDisplay/EffectiveAreas_v501_rd/effArea-v501-TL5035MA20-auxv01-CARE_June1702-Cut-NTel2-PointSource-TMVA-BDT-Preselection-GEOID0-V6-ATM61-T1234.root',\n",
    "#                        'Rec_eff', dimensions_to_sample )\n",
    "# irf_data = extract_irf('/home/thassan/VERITAS/DL3/DL3_for_eventDisplay/EffectiveAreas_v501_rd/effArea-v501-TL5035MA20-auxv01-CARE_June1702-Cut-NTel2-PointSource-TMVA-BDT-Preselection-GEOID0-V6-ATM61-T1234.root',\n",
    "#                        'gEffAreaNoTh2MC', dimensions_to_sample )\n",
    "# irf_data, dims = extract_irf('/home/thassan/VERITAS/DL3/DL3_for_eventDisplay/EffectiveAreas_v501_rd/effArea-v501-TL5035MA20-auxv01-CARE_June1702-Cut-NTel2-PointSource-TMVA-BDT-Preselection-GEOID0-V6-ATM61-T1234.root',\n",
    "#                        'hEsysMCRelative2D', dimensions_to_sample, return_irf_axes=True)\n",
    "print(np.shape(irf_data))\n",
    "print(irf_axes)"
   ]
  },
  {
   "cell_type": "code",
   "execution_count": null,
   "metadata": {},
   "outputs": [],
   "source": [
    "irf_data, dims = extract_irf('/home/thassan/VERITAS/DL3/DL3_for_eventDisplay/EffectiveAreas_v501_rd/effArea-v501-TL5035MA20-auxv01-CARE_June1702-Cut-NTel2-PointSource-TMVA-BDT-Preselection-GEOID0-V6-ATM61-T1234.root',\n",
    "                             'hEsysMCRelative2D', dimensions_to_sample, return_irf_axes=True)\n",
    "\n",
    "# For 2D IRFs:\n",
    "fig = plt.figure(figsize=(10,15))\n",
    "ax = []\n",
    "# Loop over the zenith dimension:\n",
    "nplot = 420\n",
    "for i in np.arange(np.shape(irf_data)[5]):\n",
    "    nplot += 1\n",
    "    ax.append(fig.add_subplot(nplot))    # The big subplot\n",
    "    ax[i].imshow(np.flip(irf_data[:,:,0,0,0,i,0].transpose(), axis=0), vmin=irf_data[:,:,0,0,0,i,0].min(), vmax=irf_data[:,:,0,0,0,i,0].max(),\n",
    "                extent=[dims[0].min(), dims[0].max(), dims[1].min(), dims[1].max()])\n",
    "    ax[i].set_title('Zd = {} deg'.format(zes[i]))\n",
    "# ax.grid(color='gray', linestyle='-', linewidth=2)\n",
    "# ax.set_xlabel('# bin')\n",
    "# ax.set_yscale(\"log\", nonposy='clip')\n",
    "# ax.set_ylabel('Effective area')\n",
    "fig.show()"
   ]
  },
  {
   "cell_type": "code",
   "execution_count": null,
   "metadata": {},
   "outputs": [],
   "source": [
    "print(dims)"
   ]
  },
  {
   "cell_type": "markdown",
   "metadata": {},
   "source": [
    "Effective area vs zenith:\n",
    "-----------------------------"
   ]
  },
  {
   "cell_type": "code",
   "execution_count": null,
   "metadata": {},
   "outputs": [],
   "source": [
    "irf_data, axes = extract_irf('/home/thassan/VERITAS/DL3/DL3_for_eventDisplay/EffectiveAreas_v501_rd/effArea-v501-TL5035MA20-auxv01-CARE_June1702-Cut-NTel2-PointSource-TMVA-BDT-Preselection-GEOID0-V6-ATM61-T1234.root',\n",
    "                       'eff', dimensions_to_sample, return_irf_axes = True )\n",
    "\n",
    "fig = plt.figure(figsize=(14,10))\n",
    "ax = fig.add_subplot(111)\n",
    "for i in np.arange(np.shape(irf_data)[4]):\n",
    "    ax.plot(axes[0], irf_data[:,0,0,0,i,0], marker='o', label='Zd = {} deg'.format(zes[i]))\n",
    "ax.grid(color='gray', linestyle='-', linewidth=2)\n",
    "ax.set_xlabel('log$_{10}$( Energy) TeV')\n",
    "ax.set_yscale(\"log\", nonposy='clip')\n",
    "ax.set_ylabel('Effective area')\n",
    "ax.legend()\n",
    "fig.show()"
   ]
  },
  {
   "cell_type": "markdown",
   "metadata": {},
   "source": [
    "Effective area vs index:\n",
    "---------------------------\n",
    "(Should not vary, because the effective area is vs true energy)"
   ]
  },
  {
   "cell_type": "code",
   "execution_count": null,
   "metadata": {},
   "outputs": [],
   "source": [
    "fig = plt.figure(figsize=(14,10))\n",
    "ax = fig.add_subplot(111)\n",
    "for i in np.arange(np.shape(irf_data)[2]):\n",
    "    ax.plot(axes[0], irf_data[:,0,i,0,0,0]/irf_data[:,0,0,0,0,0], marker='o', label='Index = {}'.format(indexs[i]))\n",
    "ax.grid(color='gray', linestyle='-', linewidth=2)\n",
    "ax.set_xlabel('log$_{10}$( Energy) TeV')\n",
    "# ax.set_yscale(\"log\", nonposy='clip')\n",
    "ax.set_ylabel('Effective area ratio')\n",
    "ax.legend()\n",
    "fig.show()"
   ]
  },
  {
   "cell_type": "markdown",
   "metadata": {},
   "source": [
    "Effective area vs index (vs E$_{est}$):\n",
    "---------------------------\n",
    "(Should vary, because the effective area is vs estimated energy)"
   ]
  },
  {
   "cell_type": "code",
   "execution_count": null,
   "metadata": {},
   "outputs": [],
   "source": [
    "irf_data, axes = extract_irf('/home/thassan/VERITAS/DL3/DL3_for_eventDisplay/EffectiveAreas_v501_rd/effArea-v501-TL5035MA20-auxv01-CARE_June1702-Cut-NTel2-PointSource-TMVA-BDT-Preselection-GEOID0-V6-ATM61-T1234.root',\n",
    "                       'Rec_eff', dimensions_to_sample, return_irf_axes = True )\n",
    "fig = plt.figure(figsize=(14,10))\n",
    "ax = fig.add_subplot(111)\n",
    "for i in np.arange(np.shape(irf_data)[2]):\n",
    "    ax.plot(axes[0], irf_data[:,0,i,0,0,0]/irf_data[:,0,0,0,0,0], marker='o', label='Index = {}'.format(indexs[i]))\n",
    "ax.grid(color='gray', linestyle='-', linewidth=2)\n",
    "ax.set_xlabel('log$_{10}$( Energy) TeV')\n",
    "# ax.set_yscale(\"log\", nonposy='clip')\n",
    "ax.set_ylabel('Effective area')\n",
    "ax.legend()\n",
    "fig.show()"
   ]
  },
  {
   "cell_type": "markdown",
   "metadata": {},
   "source": [
    "Some tests I was running, playing around with the interpolator."
   ]
  },
  {
   "cell_type": "code",
   "execution_count": null,
   "metadata": {},
   "outputs": [],
   "source": [
    "# Evaluate the interpolating function at zenith = 10 deg\n",
    "# interpolated_eff_area = np.zeros([len(dims[0]), len(dims[1])])\n",
    "# for i, x in enumerate(dims[0]):\n",
    "#     for j, y in enumerate(dims[1]):\n",
    "#         interpolated_eff_area[i,j] = my_interpolating_function([x,y, 1.872, 5.7, 35.])"
   ]
  },
  {
   "cell_type": "code",
   "execution_count": null,
   "metadata": {},
   "outputs": [],
   "source": [
    "# shap = np.shape(interpolated_eff_area)"
   ]
  },
  {
   "cell_type": "code",
   "execution_count": null,
   "metadata": {},
   "outputs": [],
   "source": [
    "# XX,YY=np.meshgrid(dims[0],dims[1])\n",
    "# fast_interpolated_eff_area = my_interpolating_function((XX,YY,1.872, 5.7, 35.))"
   ]
  },
  {
   "cell_type": "code",
   "execution_count": null,
   "metadata": {},
   "outputs": [],
   "source": [
    "# fig = plt.figure(figsize=(10,15))\n",
    "# # Loop over the zenith dimension:\n",
    "# nplot = 420\n",
    "# ax1 = fig.add_subplot(121)    # The big subplot\n",
    "# ax1.imshow(np.flip(interpolated_eff_area.transpose(), axis=0), vmin=interpolated_eff_area.min(), vmax=interpolated_eff_area.max(),\n",
    "#             extent=[dims[0].min(), dims[0].max(), dims[1].min(), dims[1].max()])\n",
    "# ax1.set_title('Slow interpolation')\n",
    "\n",
    "# ax2 = fig.add_subplot(122)    # The big subplot\n",
    "# ax2.imshow(np.flip(fast_interpolated_eff_area, axis=0), vmin=fast_interpolated_eff_area.min(), vmax=fast_interpolated_eff_area.max(),\n",
    "#             extent=[dims[0].min(), dims[0].max(), dims[1].min(), dims[1].max()])\n",
    "# ax2.set_title('Fast interpolation')"
   ]
  },
  {
   "cell_type": "code",
   "execution_count": null,
   "metadata": {},
   "outputs": [],
   "source": [
    "# np.arange(shap[0])"
   ]
  },
  {
   "cell_type": "code",
   "execution_count": null,
   "metadata": {},
   "outputs": [],
   "source": [
    "# for i in np.arange(shap[0]):\n",
    "#     for j in np.arange(shap[1]):\n",
    "#         if interpolated_eff_area[i,j] != fast_interpolated_eff_area[i,j]:\n",
    "#             print(\"They are different!!\")"
   ]
  },
  {
   "cell_type": "code",
   "execution_count": null,
   "metadata": {},
   "outputs": [],
   "source": [
    "# if interpolated_eff_area == my_interpolating_function((XX,YY,1.872, 5.7, 35.)):\n",
    "#     print(\"Identical result 1000 times faster!\")"
   ]
  },
  {
   "cell_type": "code",
   "execution_count": null,
   "metadata": {},
   "outputs": [],
   "source": [
    "# XX,YY=np.meshgrid(dims[0],dims[1])\n",
    "# np.shape(my_interpolating_function((XX,YY,1.872, 5.7, 35.)))"
   ]
  },
  {
   "cell_type": "code",
   "execution_count": null,
   "metadata": {},
   "outputs": [],
   "source": [
    "# fig = plt.figure(figsize=(14,10))\n",
    "# ax = fig.add_subplot(111)\n",
    "# for i in np.arange(2):\n",
    "#     ax.plot(np.arange(len(irf_data[:,0,0,0,i,0])), irf_data[:,0,0,0,i,0], marker='o', label='Zd = {} deg'.format(zes[i]))\n",
    "\n",
    "# ax.plot(np.arange(len(irf_data[:,0,0,0,i,0])), interpolated_eff_area, marker='o', label='Interp Zd = {} deg'.format(10.))\n",
    "# ax.grid(color='gray', linestyle='-', linewidth=2)\n",
    "# ax.set_xlabel('# bin')\n",
    "# ax.set_yscale(\"log\", nonposy='clip')\n",
    "# ax.set_ylabel('Effective area')\n",
    "# ax.legend()\n",
    "# fig.show()"
   ]
  },
  {
   "cell_type": "markdown",
   "metadata": {},
   "source": [
    "The final IRF interpolator will have this shape:\n",
    "* Inputs:\n",
    "    * Effective area file, containing all IRFs in the form $A_{i,j,k,l,m}$ where A can be any IRF and $i..m$ the dimensions within the file.\n",
    "    * The value $X = [x_i, x_j, x_k, x_l, x_m]$, a point in the 5D \"hyper cube\" of IRFs, to be interpolated.\n",
    "    * The dimensions will be:\n",
    "        * Azimuth\n",
    "        * Power-law index\n",
    "        * Pedestal variance\n",
    "        * Zenith\n",
    "        * Camera offset (Woff)\n",
    "* The steps that need to be taken are:\n",
    "    * First read the IRF file: \n",
    "        * Load range of all available dimensions $[D_{min}, ..., D_{max}]_{i,j,k,l,m}$ within the file (points corresponding to each IRF)\n",
    "        * Load a 5D cube of a given IRF, as a function of all dimensions \n",
    "    * Check if $X \\in D$. If yes, continue. If not... New IRFs need to be computed.\n",
    "    * Interpolate the IRF:\n",
    "        * Make sure that there is no \"1D\" -> Needs to be at least 2 to use the regular grid interpolator"
   ]
  },
  {
   "cell_type": "code",
   "execution_count": null,
   "metadata": {},
   "outputs": [],
   "source": [
    "loaded_irf_name = False\n",
    "loaded_irf_filename = False\n",
    "loaded_interpolator = False\n",
    "loaded_irf_data = False\n",
    "loaded_irf_axes = False\n",
    "\n",
    "def interpolate_irf(filename, irf_name, coordinate):\n",
    "    compute = True\n",
    "    # If the table for the given file and IRF has been already loaded, do not load again:\n",
    "    if filename == loaded_irf_filename and irf_name == loaded_irf_name:\n",
    "        compute = False\n",
    "        \n",
    "    # List of IRFs that are currently implemented. \n",
    "    implemented_irf_names = ['eff', 'Rec_eff', 'gEffAreaNoTh2MC', 'gEffAreaNoTh2Rec', \n",
    "                             'hEsysMCRelative2D', 'hEsysMCRelative2DNoDirectionCut', 'hAngularDiff_2D']\n",
    "    if irf_name not in implemented_irf_names:\n",
    "        print(\"The irf you entered: {}  is either wrong or not implemented.\".format(irf_name))\n",
    "        raise Exception(\"WrongIrfName\")\n",
    "    # Extract all IRFs within \"filename\" of type \"irf_name\":\n",
    "    irf_data, irf_axes = extract_irf(filename, irf_name, return_irf_axes = True)\n",
    "    \n",
    "    # This is an important technical step: the regular grid interpolator does not accept interpolating on\n",
    "    # a dimension with size = 1.\n",
    "    # Make sure that there are no size 1 dimensions. Do the same with the axes:\n",
    "    irf_data = duplicate_dimensions(irf_data)\n",
    "    for i, axis in enumerate(irf_axes):\n",
    "        if len(axis) == 1:\n",
    "            irf_axes[i] = np.concatenate((axis.flatten(), axis.flatten()+0.01), axis = None)\n",
    "    \n",
    "    # Create the interpolator\n",
    "    loaded_interpolator = RegularGridInterpolator(irf_axes, irf_data)\n",
    "    # The interpolation is slightly different for 1D or 2D IRFs. We do both cases separated:\n",
    "    if (irf_name == \"hEsysMCRelative2D\" or irf_name == \"hEsysMCRelative2DNoDirectionCut\" or \n",
    "        irf_name == \"hAngularDiff_2D\"):\n",
    "        # In this case, the interpolator needs to interpolate over 2 dimensions:\n",
    "        XX,YY=np.meshgrid(irf_axes[0],irf_axes[1])\n",
    "        loaded_interpolator = interpolator((XX,YY,coordinate[0], coordinate[1], coordinate[2], \n",
    "                                                      coordinate[3], coordinate[4]))\n",
    "        return interpolated_irf, [irf_axes[0],irf_axes[1]]\n",
    "    else:\n",
    "        # In this case, the interpolator needs to interpolate only over 1 dimension:\n",
    "        XX,YY=np.meshgrid(irf_axes[0],irf_axes[1])\n",
    "        loaded_interpolator = interpolator((irf_axes[0],coordinate[0], coordinate[1], coordinate[2], \n",
    "                                                      coordinate[3], coordinate[4]))\n",
    "        return interpolated_irf, [irf_axes[0]]"
   ]
  },
  {
   "cell_type": "code",
   "execution_count": null,
   "metadata": {},
   "outputs": [],
   "source": [
    "irf_data, dims = interpolate_irf('/home/thassan/VERITAS/DL3/DL3_for_eventDisplay/EffectiveAreas_v501_rd/effArea-v501-TL5035MA20-auxv01-CARE_June1702-Cut-NTel2-PointSource-TMVA-BDT-Preselection-GEOID0-V6-ATM61-T1234.root',\n",
    "                                 'gEffAreaNoTh2MC', [0, 2.5999999, 3.96000004, 25., 0.5])"
   ]
  },
  {
   "cell_type": "code",
   "execution_count": null,
   "metadata": {},
   "outputs": [],
   "source": [
    "fig = plt.figure(figsize=(10,10))\n",
    "ax = fig.add_subplot(111)\n",
    "ax.plot(dims[0], irf_data, marker='o')\n",
    "ax.grid(color='gray', linestyle='-', linewidth=2)\n",
    "ax.set_xlabel('log$_{10}$( Energy) TeV')\n",
    "ax.set_yscale(\"log\", nonposy='clip')\n",
    "ax.set_ylabel('Effective area')\n",
    "ax.legend()\n",
    "fig.show()"
   ]
  },
  {
   "cell_type": "code",
   "execution_count": null,
   "metadata": {},
   "outputs": [],
   "source": [
    "dims[0]"
   ]
  },
  {
   "cell_type": "code",
   "execution_count": null,
   "metadata": {},
   "outputs": [],
   "source": [
    "irf_data, dims = interpolate_irf('/home/thassan/VERITAS/DL3/DL3_for_eventDisplay/EffectiveAreas_v501_rd/effArea-v501-TL5035MA20-auxv01-CARE_June1702-Cut-NTel2-PointSource-TMVA-BDT-Preselection-GEOID0-V6-ATM61-T1234.root',\n",
    "                                 'hEsysMCRelative2D', [0, 2.5999999, 3.96000004, 25., 0.5])\n",
    "fig = plt.figure(figsize=(10,15))\n",
    "plt.imshow(np.flip(irf_data, axis=0), vmin=irf_data.min(), vmax=irf_data.max(),\n",
    "           extent=[dims[0].min(), dims[0].max(), dims[1].min(), dims[1].max()])"
   ]
  },
  {
   "cell_type": "code",
   "execution_count": null,
   "metadata": {},
   "outputs": [],
   "source": [
    "# Bin size in energy\n",
    "migra_bin_size = dims[1][1]-dims[1][0]\n",
    "norm_irf_data = np.array(irf_data)\n",
    "# Renormalize energy bias plot. For each slice in energy (dim[0]) normalize the curve to have integral 1.\n",
    "for i in np.arange(len(dims[0])):\n",
    "    if np.sum(norm_irf_data[:,i]) > 0.:\n",
    "        norm_irf_data[:,i] = norm_irf_data[:,i]/np.sum(norm_irf_data[:,i]*migra_bin_size)"
   ]
  },
  {
   "cell_type": "code",
   "execution_count": null,
   "metadata": {},
   "outputs": [],
   "source": [
    "fig = plt.figure(figsize=(10,10))\n",
    "ax = fig.add_subplot(111)\n",
    "for i in np.arange(len(dims[0])):\n",
    "    if i%4 == 0:\n",
    "        ax.plot(dims[1], irf_data[:,i], marker='o', label='Energy = {:.2f} TeV'.format(10**dims[0][i]))\n",
    "ax.grid(color='gray', linestyle='-', linewidth=2)\n",
    "ax.set_xlabel('$E_{Reco} / E_{True}$')\n",
    "# ax.set_xscale(\"log\", nonposx='clip')\n",
    "# ax.set_yscale(\"log\", nonposy='clip')\n",
    "ax.set_ylabel('Migration')\n",
    "ax.legend()\n",
    "fig.show()"
   ]
  },
  {
   "cell_type": "code",
   "execution_count": null,
   "metadata": {},
   "outputs": [],
   "source": [
    "def smooth(y, box_pts):\n",
    "    box = np.ones(box_pts)/box_pts\n",
    "    y_smooth = np.convolve(y, box, mode='same')\n",
    "    return y_smooth"
   ]
  },
  {
   "cell_type": "code",
   "execution_count": null,
   "metadata": {},
   "outputs": [],
   "source": [
    "fig = plt.figure(figsize=(10,10))\n",
    "ax = fig.add_subplot(111)\n",
    "for i in np.arange(len(dims[0])):\n",
    "    if i%4 == 0 and i > 8:\n",
    "#     if 10**dims[0][i] > 50.:\n",
    "        ax.plot(dims[1], smooth(norm_irf_data[:,i], 4), marker='o', label='Energy = {:.2f} TeV'.format(10**dims[0][i]))\n",
    "ax.grid(color='gray', linestyle='-', linewidth=2)\n",
    "ax.set_xlabel('$E_{Reco} / E_{True}$')\n",
    "# ax.set_xscale(\"log\", nonposx='clip')\n",
    "# ax.set_yscale(\"log\", nonposy='clip')\n",
    "ax.set_ylabel('Migration')\n",
    "ax.legend()\n",
    "fig.show()"
   ]
  },
  {
   "cell_type": "code",
   "execution_count": null,
   "metadata": {},
   "outputs": [],
   "source": [
    "# Testing different energy migration smoothings:\n",
    "fig = plt.figure(figsize=(15,15))\n",
    "ax = []\n",
    "smooths = [3, 5, 7, 10]\n",
    "nplot = 420\n",
    "for ip, ismooth in enumerate(smooths):\n",
    "    nplot += 1\n",
    "    ax.append(fig.add_subplot(nplot))\n",
    "    for i in np.arange(len(dims[0])):\n",
    "        if i%4 == 0 and i > 8 and np.sum(norm_irf_data[:,i]) > 0.:\n",
    "    #     if 10**dims[0][i] > 50.:\n",
    "            ax[ip].plot(dims[1], smooth(norm_irf_data[:,i], ismooth), marker='.', label='Energy = {:.2f} TeV'.format(10**dims[0][i]))\n",
    "            ax[ip].set_title('Smoothing {}'.format(ismooth))\n",
    "            ax[ip].legend()"
   ]
  },
  {
   "cell_type": "code",
   "execution_count": null,
   "metadata": {},
   "outputs": [],
   "source": [
    "print(dims[0], [np.sum(irf_data[:,i]) for i in np.arange(len(dims[0]))])"
   ]
  },
  {
   "cell_type": "code",
   "execution_count": null,
   "metadata": {},
   "outputs": [],
   "source": [
    "print(dims[1])"
   ]
  },
  {
   "cell_type": "code",
   "execution_count": null,
   "metadata": {},
   "outputs": [],
   "source": [
    "irf_data, dims = interpolate_irf('/home/thassan/VERITAS/DL3/DL3_for_eventDisplay/EffectiveAreas_v501_rd/effArea-v501-TL5035MA20-auxv01-CARE_June1702-Cut-NTel2-PointSource-TMVA-BDT-Preselection-GEOID0-V6-ATM61-T1234.root',\n",
    "                                 'hAngularDiff_2D', [0, 2.5999999, 3.96000004, 25., 0.5])\n",
    "fig = plt.figure(figsize=(10,15))\n",
    "plt.imshow(np.flip(irf_data, axis=0), vmin=irf_data.min(), vmax=irf_data.max(),\n",
    "           extent=[dims[0].min(), dims[0].max(), dims[1].min(), dims[1].max()])"
   ]
  },
  {
   "cell_type": "code",
   "execution_count": null,
   "metadata": {},
   "outputs": [],
   "source": [
    "class Irf_interpolator:\n",
    "    def __init__(self, filename):\n",
    "        import os.path\n",
    "        if os.path.isfile(filename):\n",
    "            self.filename = filename\n",
    "        else:\n",
    "            raise Exception(\"Wrong Effective area file\")\n",
    "\n",
    "    def set_irf(self, irf_name):\n",
    "        implemented_irf_names = ['eff', 'Rec_eff', 'gEffAreaNoTh2MC', 'gEffAreaNoTh2Rec', \n",
    "                                  'hEsysMCRelative2D', 'hEsysMCRelative2DNoDirectionCut', 'hAngularDiff_2D']\n",
    "        if irf_name in implemented_irf_names:\n",
    "            self.irf_name = irf_name\n",
    "            self.__load_irf(irf_name)\n",
    "        else:\n",
    "            print(\"The irf you entered: {}  is either wrong or not implemented.\".format(irf_name))\n",
    "            raise Exception(\"WrongIrfName\")\n",
    "            \n",
    "    def __load_irf(self, irf_name):\n",
    "        irf_data, irf_axes = extract_irf(self.filename, self.irf_name, return_irf_axes = True)\n",
    "        # This is an important technical step: the regular grid interpolator does not accept \n",
    "        # interpolating on a dimension with size = 1.\n",
    "        # Make sure that there are no size 1 dimensions. Do the same with the axes:\n",
    "        irf_data = duplicate_dimensions(irf_data)\n",
    "        # Also the coordinates of the axes need to be in increasing order.\n",
    "        for i, axis in enumerate(irf_axes):\n",
    "            if len(axis) == 1:\n",
    "                irf_axes[i] = np.concatenate((axis.flatten(), axis.flatten()+0.01), axis = None)\n",
    "        self.irf_data = irf_data\n",
    "        self.irf_axes = irf_axes\n",
    "        self.interpolator = RegularGridInterpolator(self.irf_axes, self.irf_data)\n",
    "        \n",
    "    def interpolate(self, coordinate):\n",
    "        # The interpolation is slightly different for 1D or 2D IRFs. We do both cases separated:\n",
    "        if (self.irf_name == \"hEsysMCRelative2D\" or \n",
    "#             self.irf_name == \"hAngularDiff_2D\" or    # Angular Resolution needs to be generated and validated!!\n",
    "            self.irf_name == \"hEsysMCRelative2DNoDirectionCut\"\n",
    "           ):\n",
    "            # In this case, the interpolator needs to interpolate over 2 dimensions:\n",
    "            XX,YY=np.meshgrid(self.irf_axes[0],self.irf_axes[1])\n",
    "            interpolated_irf = self.interpolator((XX,YY,coordinate[0], coordinate[1], coordinate[2], \n",
    "                                             coordinate[3], coordinate[4]))\n",
    "            return interpolated_irf, [self.irf_axes[0],self.irf_axes[1]]\n",
    "        else:\n",
    "            # In this case, the interpolator needs to interpolate only over 1 dimension (true energy):\n",
    "            interpolated_irf = self.interpolator((self.irf_axes[0],coordinate[0], coordinate[1], \n",
    "                                             coordinate[2], coordinate[3], coordinate[4]))\n",
    "            return interpolated_irf, [self.irf_axes[0]]"
   ]
  },
  {
   "cell_type": "code",
   "execution_count": null,
   "metadata": {},
   "outputs": [],
   "source": [
    "irf_generator = Irf_interpolator('/home/thassan/VERITAS/DL3/DL3_for_eventDisplay/EffectiveAreas_v501_rd/effArea-v501-TL5035MA20-auxv01-CARE_June1702-Cut-NTel2-PointSource-TMVA-BDT-Preselection-GEOID0-V6-ATM61-T1234.root')\n",
    "irf_generator.set_irf('eff')"
   ]
  },
  {
   "cell_type": "code",
   "execution_count": null,
   "metadata": {},
   "outputs": [],
   "source": []
  },
  {
   "cell_type": "code",
   "execution_count": null,
   "metadata": {},
   "outputs": [],
   "source": [
    "irf, axis = irf_generator.interpolate([0, 2.5999999, 3.96000004, 10, 0.5])"
   ]
  },
  {
   "cell_type": "code",
   "execution_count": null,
   "metadata": {},
   "outputs": [],
   "source": [
    "axis[0]"
   ]
  },
  {
   "cell_type": "code",
   "execution_count": null,
   "metadata": {},
   "outputs": [],
   "source": [
    "fig = plt.figure(figsize=(14,10))\n",
    "ax = fig.add_subplot(111)\n",
    "for zenith in np.arange(0, 60, 10):\n",
    "    irf, axis = irf_generator.interpolate([0, 2.5999999, 3.96000004, zenith, 0.5])\n",
    "    ax.plot(axis[0], irf, marker='o', label='Zd = {} deg'.format(zenith))\n",
    "ax.grid(color='gray', linestyle='-', linewidth=2)\n",
    "ax.set_xlabel('log$_{10}$( Energy) TeV')\n",
    "ax.set_yscale(\"log\", nonposy='clip')\n",
    "ax.set_ylabel('Effective area')\n",
    "ax.legend()\n",
    "fig.show()"
   ]
  },
  {
   "cell_type": "code",
   "execution_count": null,
   "metadata": {},
   "outputs": [],
   "source": []
  }
 ],
 "metadata": {
  "language_info": {
   "name": "python",
   "pygments_lexer": "ipython3"
  }
 },
 "nbformat": 4,
 "nbformat_minor": 2
}
