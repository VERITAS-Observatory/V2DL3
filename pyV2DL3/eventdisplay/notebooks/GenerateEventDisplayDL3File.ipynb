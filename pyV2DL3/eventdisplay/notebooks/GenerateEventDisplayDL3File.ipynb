{
 "cells": [
  {
   "cell_type": "code",
   "execution_count": 18,
   "metadata": {},
   "outputs": [
    {
     "name": "stdout",
     "output_type": "stream",
     "text": [
      "Populating the interactive namespace from numpy and matplotlib\n"
     ]
    }
   ],
   "source": [
    "%pylab inline --no-import-all\n",
    "\n",
    "from ctypes import c_float\n",
    "import sys\n",
    "\n",
    "# import numpy as np\n",
    "from astropy.io import fits\n",
    "\n",
    "\n",
    "from ROOT import gSystem, TFile, TCanvas, TGraphAsymmErrors, TH1D, TH2D, TGraphAsymmErrors, TProfile\n",
    "import uproot\n",
    "import matplotlib.pyplot as plt\n",
    "\n",
    "from root_numpy import hist2array\n",
    "\n",
    "# from ROOT import VARootIO, VAEffectiveAreaManager, VAEASimpleParameterData\n"
   ]
  },
  {
   "cell_type": "markdown",
   "metadata": {},
   "source": [
    "VEGAS libraries (not used for eventDisplay obviously!)"
   ]
  },
  {
   "cell_type": "code",
   "execution_count": 19,
   "metadata": {
    "collapsed": true
   },
   "outputs": [],
   "source": [
    "# if gSystem.Load(\"libVEGASCommon\"):\n",
    "#     print \"Problem loading VEGAS Common libraries - please check this before proceeding\"\n",
    "# if gSystem.Load(\"libVEGASStage6\"):\n",
    "#     print \"Problem loading VEGAS Stage 6 libraries - please check this before proceeding\""
   ]
  },
  {
   "cell_type": "markdown",
   "metadata": {},
   "source": [
    "Load eventdisplay libraries:"
   ]
  },
  {
   "cell_type": "code",
   "execution_count": 20,
   "metadata": {},
   "outputs": [
    {
     "name": "stdout",
     "output_type": "stream",
     "text": [
      "Problem loading EventDisplay libraries - please check this before proceeding\n"
     ]
    }
   ],
   "source": [
    "if gSystem.Load(\"$EVNDISPSYS/lib/libVAnaSum.so\"):\n",
    "    print(\"Problem loading EventDisplay libraries - please check this before proceeding\")\n",
    "    \n",
    "from ROOT import VInstrumentResponseFunctionData"
   ]
  },
  {
   "cell_type": "markdown",
   "metadata": {},
   "source": [
    "# Compatability\n",
    "Works with VEGAS v2.5.7 or later.\n",
    "\n",
    "# Data format\n",
    "the data format is defined at : https://gamma-astro-data-formats.readthedocs.io/en/latest/\n",
    "\n",
    "# Task List\n",
    "\n",
    "## Top priorities\n",
    "* Time Cuts from ROOT file\n",
    "* Average Azimuth assumes southerly source ....\n",
    "* Convert to format so can read through a stage 6 runlist file\n",
    "* Check validity of 30 min runs for EA (compare decent Crab runlist in 30 vs 10 min runs @ different zenith angles).\n",
    "* Adding ED capability.\n",
    "\n",
    "## Validation\n",
    "* Check high stats crab spectra\n",
    "* Check other spectra\n",
    "* Check significances/sky maps\n",
    "* Upper limits\n",
    "\n",
    "## Documentation\n",
    "* Save a number of notebooks that show how to do conversion and analysis\n",
    "\n",
    "## Wish list\n",
    "* All offset - this will require reworking events list for saving noises etc.\n",
    "* Event Types - how do spectra compare when produced as \"all events\" vs. breaking up into 2, 3 and 4 tel events.\n",
    "* Get window size for noise from root/ea file - at the moment assume it is 7"
   ]
  },
  {
   "cell_type": "code",
   "execution_count": 4,
   "metadata": {},
   "outputs": [
    {
     "name": "stderr",
     "output_type": "stream",
     "text": [
      "Warning in <TClass::Init>: no dictionary for class VAnaSumRunParameterListOfExclusionRegions is available\n"
     ]
    }
   ],
   "source": [
    "edFileIO = TFile.Open(\"/home/thassan/VERITAS/DL3/eventDisplay/54809.anasum.root\")"
   ]
  },
  {
   "cell_type": "code",
   "execution_count": 5,
   "metadata": {},
   "outputs": [
    {
     "data": {
      "text/plain": [
       "ROOT.VEvndispRunParameter"
      ]
     },
     "execution_count": 5,
     "metadata": {},
     "output_type": "execute_result"
    },
    {
     "name": "stderr",
     "output_type": "stream",
     "text": [
      "Warning in <TStreamerInfo::BuildOld>: Cannot convert VEvndispRunParameter::fDoublePass from type: bool to type: vector<bool>, skip element\n",
      "Warning in <TStreamerInfo::BuildOld>: Cannot convert VEvndispRunParameter::fDoublePassErrorWeighting2005 from type: bool to type: vector<bool>, skip element\n"
     ]
    }
   ],
   "source": [
    "from ROOT import VTimeMask, VEvndispRunParameter, VSkyCoordinatesUtilities\n",
    "from astropy.time import Time\n",
    "# runParameters = edFileIO.Get(\"run_54809/stereo/VAnaSumRunParameter\")\n",
    "runParametersV2 = edFileIO.Get(\"run_54809/stereo/runparameterV2\")\n",
    "type(runParametersV2)"
   ]
  },
  {
   "cell_type": "markdown",
   "metadata": {},
   "source": [
    "This should be the content of \"def __fillEVENTS_not_safe__(edFileIO):\""
   ]
  },
  {
   "cell_type": "code",
   "execution_count": 6,
   "metadata": {
    "scrolled": false
   },
   "outputs": [
    {
     "name": "stderr",
     "output_type": "stream",
     "text": [
      "/home/thassan/Paquetes/anaconda3/lib/python3.6/site-packages/numpy/core/fromnumeric.py:2909: RuntimeWarning: Mean of empty slice.\n",
      "  out=out, **kwargs)\n",
      "/home/thassan/Paquetes/anaconda3/lib/python3.6/site-packages/numpy/core/_methods.py:80: RuntimeWarning: invalid value encountered in double_scalars\n",
      "  ret = ret.dtype.type(ret / rcount)\n",
      "Warning in <TStreamerInfo::BuildOld>: Cannot convert VAnaSumRunParameter::fExclusionRegions from type: vector<VAnaSumRunParameterListOfExclusionRegions*> to type: VExclusionRegions, skip element\n"
     ]
    }
   ],
   "source": [
    "import numpy as np\n",
    "import logging\n",
    "from root_numpy import tree2array\n",
    "from astropy.time import Time\n",
    "\n",
    "# EventDisplay imports\n",
    "from ROOT import VEvndispRunParameter, VSkyCoordinatesUtilities, VAnaSumRunParameter, VTimeMask\n",
    "\n",
    "logger = logging.getLogger(__name__)\n",
    "\n",
    "\n",
    "evt_dict = {}\n",
    "\n",
    "# FIXME: This should be taken from a common script (by VEGAS also)\n",
    "reference_mjd = 53402.0\n",
    "\n",
    "# Load header ,array info and selected event tree ( vegas > v2.5.7)\n",
    "runSummary = tree2array(edFileIO.Get(\"total_1/stereo/tRunSummary\"))\n",
    "runNumber = runSummary['runOn'][0]\n",
    "telConfig = tree2array(edFileIO.Get(\"run_{}/stereo/telconfig\".format(runNumber)))\n",
    "runParametersV2 = edFileIO.Get(\"run_{}/stereo/runparameterV2\".format(runNumber))\n",
    "vAnaSumRunParameter = edFileIO.Get(\"run_{}/stereo/VAnaSumRunParameter\".format(runNumber))\n",
    "selectedEventsTree = tree2array(edFileIO.Get(\"run_{}/stereo/TreeWithEventsForCtools\".format(runNumber)))\n",
    "anasumEffectiveArea = edFileIO.Get(\"run_{}/stereo/EffectiveAreas/gMeanEffectiveArea\".format(runNumber))\n",
    "\n",
    "# qStatsData = edFileIO.loadTheQStatsData()\n",
    "# pixelData = edFileIO.loadThePixelStatusData()\n",
    "# arrayInfo          = edFileIO.loadTheArrayInfo(0)\n",
    "# cuts = edFileIO.loadTheCutsInfo()\n",
    "\n",
    "# Get start and stop time within the run.\n",
    "startDateTime = (runParametersV2.fDBRunStartTimeSQL).split(\" \")\n",
    "stopDateTime = (runParametersV2.fDBRunStoppTimeSQL).split(\" \")\n",
    "\n",
    "start_year, start_month, start_day = [int(k) for k in startDateTime[0].split(\"-\")]\n",
    "stop_year, stop_month, stop_day = [int(k) for k in stopDateTime[0].split(\"-\")]\n",
    "\n",
    "start_mjd = VSkyCoordinatesUtilities.getMJD(start_year, start_month, start_day)\n",
    "stop_mjd = VSkyCoordinatesUtilities.getMJD(stop_year, stop_month, stop_day)\n",
    "\n",
    "# Number of seconds between reference time and run MJD at 00:00:00:\n",
    "t_ref = Time(reference_mjd, format='mjd', scale='utc')\n",
    "seconds_from_reference = (Time(start_mjd, format='mjd', scale='utc') - t_ref).sec\n",
    "tstart_from_reference = (Time(runParametersV2.fDBRunStartTimeSQL, format='iso', scale='utc') - t_ref).sec\n",
    "tstop_from_reference = (Time(runParametersV2.fDBRunStoppTimeSQL, format='iso', scale='utc') - t_ref).sec\n",
    "\n",
    "# Start filling events\n",
    "avAlt = []\n",
    "avAz = []\n",
    "avRA = []\n",
    "avDec = []\n",
    "\n",
    "evNumArr = selectedEventsTree['eventNumber']\n",
    "# This should already have microsecond resolution if stored with double precision.\n",
    "timeArr = seconds_from_reference + selectedEventsTree['timeOfDay']\n",
    "raArr = selectedEventsTree['RA']\n",
    "decArr = selectedEventsTree['DEC']\n",
    "azArr = selectedEventsTree['Az']\n",
    "altArr = selectedEventsTree['El']\n",
    "energyArr = selectedEventsTree['Energy']\n",
    "# Not used for the moment by science tools.\n",
    "# nTelArr = selectedEventsTree['NImages']\n",
    "logger.debug(\"Start filling events ...\")\n",
    "\n",
    "# for ev in selectedEventsTree:\n",
    "#     evNumArr.append(selectedEventsTree['eventNumber'])\n",
    "#     timeArr.append(selectedEventsTree['timeOfDay'])\n",
    "#     raArr.append(selectedEventsTree['RA'])\n",
    "#     decArr.append(selectedEventsTree['DEC'])\n",
    "#     azArr.append(selectedEventsTree['Az'])\n",
    "#     altArr.append(selectedEventsTree['El'])\n",
    "#     energyArr.append(selectedEventsTree['Energy'])\n",
    "#     # nTelArr.append(selectedEventsTree['NImages'])\n",
    "#\n",
    "#     avAlt.append(ev.S.fArrayTrackingElevation_Deg)\n",
    "#     avAz.append(ev.S.fArrayTrackingAzimuth_Deg)\n",
    "#     avRA.append(ev.S.fArrayTrackingRA_J2000_Rad)\n",
    "#     avDec.append(ev.S.fArrayTrackingDec_J2000_Rad)\n",
    "\n",
    "avAlt = np.mean(avAlt)\n",
    "# Calculate average azimuth angle from average vector on a circle\n",
    "# https://en.wikipedia.org/wiki/Mean_of_circular_quantities\n",
    "avAz_deg = np.deg2rad(avAz)\n",
    "avAz = np.rad2deg(np.arctan2(np.sum(np.sin(avAz_deg)),np.sum(np.cos(avAz_deg))))\n",
    "avAz = avAz if avAz > 0 else avAz + 360\n",
    "\n",
    "avRA = np.rad2deg(np.mean(avRA))\n",
    "avDec = np.rad2deg(np.mean(avDec))\n",
    "# Filling Event List\n",
    "evt_dict['EVENT_ID'] = evNumArr\n",
    "evt_dict['TIME'] = timeArr\n",
    "evt_dict['RA'] = raArr\n",
    "evt_dict['DEC'] = decArr\n",
    "evt_dict['ALT'] = altArr\n",
    "evt_dict['AZ'] = azArr\n",
    "evt_dict['ENERGY'] = energyArr\n",
    "# evt_dict['EVENT_TYPE'] =nTelArr\n",
    "\n",
    "avNoise = runSummary['pedvarsOn']\n",
    "\n",
    "# Calculate Live Time\n",
    "# startDateTime = (runParameters.fDBRunStartTimeSQL).split(\" \")\n",
    "# endTime = runHeader.getEndTime()\n",
    "\n",
    "# startTime_s = float(startTime.getDayNS()) / 1e9\n",
    "# endTime_s = float(endTime.getDayNS()) / 1e9\n",
    "# startTime = runHeader.getStartTime()\n",
    "# endTime = runHeader.getEndTime()"
   ]
  },
  {
   "cell_type": "code",
   "execution_count": 7,
   "metadata": {},
   "outputs": [
    {
     "data": {
      "text/plain": [
       "['AbstractMethod',\n",
       " 'AppendPad',\n",
       " 'Browse',\n",
       " 'CheckedHash',\n",
       " 'Class',\n",
       " 'ClassName',\n",
       " 'Class_Name',\n",
       " 'Class_Version',\n",
       " 'Clear',\n",
       " 'Clone',\n",
       " 'Compare',\n",
       " 'Copy',\n",
       " 'DeclFileLine',\n",
       " 'DeclFileName',\n",
       " 'Delete',\n",
       " 'Dictionary',\n",
       " 'DistancetoPrimitive',\n",
       " 'Draw',\n",
       " 'DrawClass',\n",
       " 'DrawClone',\n",
       " 'Dump',\n",
       " 'Error',\n",
       " 'Execute',\n",
       " 'ExecuteEvent',\n",
       " 'Fatal',\n",
       " 'FillBuffer',\n",
       " 'FindObject',\n",
       " 'GetDrawOption',\n",
       " 'GetDtorOnly',\n",
       " 'GetIconName',\n",
       " 'GetName',\n",
       " 'GetObjectInfo',\n",
       " 'GetObjectStat',\n",
       " 'GetOption',\n",
       " 'GetTitle',\n",
       " 'GetUniqueID',\n",
       " 'HandleTimer',\n",
       " 'HasInconsistentHash',\n",
       " 'Hash',\n",
       " 'ImplFileLine',\n",
       " 'ImplFileName',\n",
       " 'Info',\n",
       " 'InheritsFrom',\n",
       " 'Inspect',\n",
       " 'InvertBit',\n",
       " 'IsA',\n",
       " 'IsEqual',\n",
       " 'IsFolder',\n",
       " 'IsOnHeap',\n",
       " 'IsSortable',\n",
       " 'IsZombie',\n",
       " 'MayNotUse',\n",
       " 'Notify',\n",
       " 'Obsolete',\n",
       " 'Paint',\n",
       " 'Pop',\n",
       " 'Print',\n",
       " 'Read',\n",
       " 'RecursiveRemove',\n",
       " 'ResetBit',\n",
       " 'SaveAs',\n",
       " 'SavePrimitive',\n",
       " 'SetBit',\n",
       " 'SetDrawOption',\n",
       " 'SetDtorOnly',\n",
       " 'SetName',\n",
       " 'SetNameTitle',\n",
       " 'SetObjectStat',\n",
       " 'SetTitle',\n",
       " 'SetUniqueID',\n",
       " 'ShowMembers',\n",
       " 'Sizeof',\n",
       " 'Streamer',\n",
       " 'StreamerNVirtual',\n",
       " 'SysError',\n",
       " 'TestBit',\n",
       " 'TestBits',\n",
       " 'UseCurrentStyle',\n",
       " 'Warning',\n",
       " 'Write',\n",
       " '_TNamed__CheckTObjectHashConsistency',\n",
       " '_TObject__AddToTObjectTable',\n",
       " '_TObject__CheckTObjectHashConsistency',\n",
       " '_TObject__DoError',\n",
       " '_TObject__MakeZombie',\n",
       " '_VAnaSumRunParameter__CheckTObjectHashConsistency',\n",
       " '_VAnaSumRunParameter__checkAnasumParameter',\n",
       " '_VAnaSumRunParameter__checkNumberOfArguments',\n",
       " '_VAnaSumRunParameter__getRingWidth',\n",
       " '_VAnaSumRunParameter__isFROGSAnalysis',\n",
       " '_VAnaSumRunParameter__readCutParameter',\n",
       " '_VAnaSumRunParameter__readMaximumDistance',\n",
       " '_VAnaSumRunParameter__readSourceRadius',\n",
       " '_VAnaSumRunParameter__reset',\n",
       " '_VAnaSumRunParameter__returnWithError',\n",
       " '_VAnaSumRunParameter__setMCZenith',\n",
       " '_VGlobalRunParameter__CheckTObjectHashConsistency',\n",
       " '__add__',\n",
       " '__assign__',\n",
       " '__bool__',\n",
       " '__class__',\n",
       " '__cmp__',\n",
       " '__contains__',\n",
       " '__cppname__',\n",
       " '__delattr__',\n",
       " '__destruct__',\n",
       " '__dict__',\n",
       " '__dir__',\n",
       " '__dispatch__',\n",
       " '__doc__',\n",
       " '__eq__',\n",
       " '__format__',\n",
       " '__ge__',\n",
       " '__getattribute__',\n",
       " '__gt__',\n",
       " '__hash__',\n",
       " '__init__',\n",
       " '__init_subclass__',\n",
       " '__le__',\n",
       " '__lt__',\n",
       " '__module__',\n",
       " '__mul__',\n",
       " '__ne__',\n",
       " '__new__',\n",
       " '__nonzero__',\n",
       " '__radd__',\n",
       " '__reduce__',\n",
       " '__reduce_ex__',\n",
       " '__repr__',\n",
       " '__rmul__',\n",
       " '__rsub__',\n",
       " '__rtruediv__',\n",
       " '__scope__',\n",
       " '__setattr__',\n",
       " '__sizeof__',\n",
       " '__str__',\n",
       " '__sub__',\n",
       " '__subclasshook__',\n",
       " '__truediv__',\n",
       " '__weakref__',\n",
       " '_get_smart_ptr',\n",
       " 'f2DAcceptanceMode',\n",
       " 'fDeadTimeCalculationMethod',\n",
       " 'fDirectionModel3D',\n",
       " 'fEVNDISP_SVNREVISION',\n",
       " 'fEVNDISP_VERSION',\n",
       " 'fEffectiveAreaVsEnergyMC',\n",
       " 'fEnergyEffectiveAreaSmoothingIterations',\n",
       " 'fEnergyEffectiveAreaSmoothingThreshold',\n",
       " 'fEnergyReconstructionMethod',\n",
       " 'fEnergyReconstructionSpectralIndex',\n",
       " 'fEnergySpectrumBinSize',\n",
       " 'fExclusionRegions',\n",
       " 'fMCZe',\n",
       " 'fMapRunList',\n",
       " 'fModel3D',\n",
       " 'fReconstructionType',\n",
       " 'fRunList',\n",
       " 'fRunWiseRadialAcceptance',\n",
       " 'fScalarDeadTimeFrac',\n",
       " 'fSkyMapBinSize',\n",
       " 'fSkyMapBinSizeUC',\n",
       " 'fSkyMapCentreDecJ2000',\n",
       " 'fSkyMapCentreNorth',\n",
       " 'fSkyMapCentreRAJ2000',\n",
       " 'fSkyMapCentreWest',\n",
       " 'fSkyMapSizeXmax',\n",
       " 'fSkyMapSizeXmin',\n",
       " 'fSkyMapSizeYmax',\n",
       " 'fSkyMapSizeYmin',\n",
       " 'fTMPL_AcceptanceFile',\n",
       " 'fTMPL_CutFile',\n",
       " 'fTMPL_EffectiveAreaFile',\n",
       " 'fTMPL_RE_RemoveOffRegionsRandomly',\n",
       " 'fTMPL_RE_distanceSourceOff',\n",
       " 'fTMPL_RE_nMaxoffsource',\n",
       " 'fTMPL_RE_nMinoffsource',\n",
       " 'fTMPL_RM_RingRadius',\n",
       " 'fTMPL_RM_RingWidth',\n",
       " 'fTMPL_SourceRadius',\n",
       " 'fTMPL_fBackgroundModel',\n",
       " 'fTMPL_maxradius',\n",
       " 'fTargetShiftDecJ2000',\n",
       " 'fTargetShiftNorth',\n",
       " 'fTargetShiftRAJ2000',\n",
       " 'fTargetShiftWest',\n",
       " 'fTimeIntervall',\n",
       " 'fTimeMaskFile',\n",
       " 'fWriteEventTree',\n",
       " 'fWriteEventTreeForCtools',\n",
       " 'getDBServer',\n",
       " 'getDirectory_EVNDISPAnaData',\n",
       " 'getDirectory_EVNDISPCalibrationData',\n",
       " 'getDirectory_EVNDISPCalibrationData_perRun',\n",
       " 'getDirectory_EVNDISPDetectorGeometry',\n",
       " 'getDirectory_EVNDISPOutput',\n",
       " 'getDirectory_EVNDISPParameterFiles',\n",
       " 'getDirectory_VBFRawData',\n",
       " 'getEVNDISP_TREE_VERSION',\n",
       " 'getEVNDISP_TREE_isShort',\n",
       " 'getEVNDISP_VERSION',\n",
       " 'getEVNDISP_VERSION_FL',\n",
       " 'getEVNDISP_VERSION_UI',\n",
       " 'getEventdisplayRunParameter',\n",
       " 'getExclusionRegions',\n",
       " 'getGammaHadronCuts',\n",
       " 'getInputFileVersionNumber',\n",
       " 'getLargestStarExlusionRadius',\n",
       " 'getListOfExcludedSkyRegions',\n",
       " 'getMaxNumberofTelescopes',\n",
       " 'getObservatory',\n",
       " 'getObservatory_Height_m',\n",
       " 'getObservatory_Latitude_deg',\n",
       " 'getObservatory_Longitude_deg',\n",
       " 'getRawDataServer',\n",
       " 'getRunListVersion',\n",
       " 'getSVN_VERSION',\n",
       " 'getStarCatalogue',\n",
       " 'getWobbleOffsets',\n",
       " 'initializeExclusionRegions',\n",
       " 'kBitMask',\n",
       " 'kCanDelete',\n",
       " 'kCannotPick',\n",
       " 'kHasUUID',\n",
       " 'kInconsistent',\n",
       " 'kInvalidObject',\n",
       " 'kIsOnHeap',\n",
       " 'kIsReferenced',\n",
       " 'kMustCleanup',\n",
       " 'kNoContextMenu',\n",
       " 'kNotDeleted',\n",
       " 'kObjInCanvas',\n",
       " 'kOverwrite',\n",
       " 'kSingleKey',\n",
       " 'kWriteDelete',\n",
       " 'kZombie',\n",
       " 'loadLongFileList',\n",
       " 'loadSimpleFileList',\n",
       " 'ls',\n",
       " 'operator delete',\n",
       " 'operator delete[]',\n",
       " 'operator new',\n",
       " 'operator new[]',\n",
       " 'printGlobalRunParameter',\n",
       " 'printStereoParameter',\n",
       " 'readRunParameter',\n",
       " 'readRunparameterFile',\n",
       " 'setDirectories',\n",
       " 'setDirectory_EVNDISPCalibrationData',\n",
       " 'setDirectory_EVNDISPOutput',\n",
       " 'setSkyMapCentreJ2000',\n",
       " 'setTargetRADecJ2000',\n",
       " 'setTargetRADec_currentEpoch',\n",
       " 'setTargetShifts',\n",
       " 'update',\n",
       " 'writeListOfExcludedSkyRegions']"
      ]
     },
     "execution_count": 7,
     "metadata": {},
     "output_type": "execute_result"
    }
   ],
   "source": [
    "dir(vAnaSumRunParameter)"
   ]
  },
  {
   "cell_type": "code",
   "execution_count": 8,
   "metadata": {},
   "outputs": [
    {
     "data": {
      "text/plain": [
       "array([ 5.43885023,  5.43885023])"
      ]
     },
     "execution_count": 8,
     "metadata": {},
     "output_type": "execute_result"
    }
   ],
   "source": [
    "avNoise"
   ]
  },
  {
   "cell_type": "code",
   "execution_count": 9,
   "metadata": {},
   "outputs": [
    {
     "data": {
      "text/plain": [
       "['AbstractMethod',\n",
       " 'AppendPad',\n",
       " 'Browse',\n",
       " 'CheckedHash',\n",
       " 'Class',\n",
       " 'ClassName',\n",
       " 'Class_Name',\n",
       " 'Class_Version',\n",
       " 'Clear',\n",
       " 'Clone',\n",
       " 'Compare',\n",
       " 'Copy',\n",
       " 'DeclFileLine',\n",
       " 'DeclFileName',\n",
       " 'Delete',\n",
       " 'Dictionary',\n",
       " 'DistancetoPrimitive',\n",
       " 'Draw',\n",
       " 'DrawClass',\n",
       " 'DrawClone',\n",
       " 'Dump',\n",
       " 'Error',\n",
       " 'Execute',\n",
       " 'ExecuteEvent',\n",
       " 'Fatal',\n",
       " 'FillBuffer',\n",
       " 'FindObject',\n",
       " 'GetDrawOption',\n",
       " 'GetDtorOnly',\n",
       " 'GetIconName',\n",
       " 'GetName',\n",
       " 'GetObjectInfo',\n",
       " 'GetObjectStat',\n",
       " 'GetOption',\n",
       " 'GetTitle',\n",
       " 'GetUniqueID',\n",
       " 'HandleTimer',\n",
       " 'HasInconsistentHash',\n",
       " 'Hash',\n",
       " 'ImplFileLine',\n",
       " 'ImplFileName',\n",
       " 'Info',\n",
       " 'InheritsFrom',\n",
       " 'Inspect',\n",
       " 'InvertBit',\n",
       " 'IsA',\n",
       " 'IsEqual',\n",
       " 'IsFolder',\n",
       " 'IsOnHeap',\n",
       " 'IsSortable',\n",
       " 'IsZombie',\n",
       " 'MayNotUse',\n",
       " 'Notify',\n",
       " 'Obsolete',\n",
       " 'Paint',\n",
       " 'Pop',\n",
       " 'Print',\n",
       " 'Read',\n",
       " 'RecursiveRemove',\n",
       " 'ResetBit',\n",
       " 'SaveAs',\n",
       " 'SavePrimitive',\n",
       " 'SetBit',\n",
       " 'SetDrawOption',\n",
       " 'SetDtorOnly',\n",
       " 'SetName',\n",
       " 'SetNameTitle',\n",
       " 'SetObjectStat',\n",
       " 'SetTitle',\n",
       " 'SetUniqueID',\n",
       " 'ShowMembers',\n",
       " 'Sizeof',\n",
       " 'Streamer',\n",
       " 'StreamerNVirtual',\n",
       " 'SysError',\n",
       " 'TestBit',\n",
       " 'TestBits',\n",
       " 'UseCurrentStyle',\n",
       " 'Warning',\n",
       " 'Write',\n",
       " '_TNamed__CheckTObjectHashConsistency',\n",
       " '_TObject__AddToTObjectTable',\n",
       " '_TObject__CheckTObjectHashConsistency',\n",
       " '_TObject__DoError',\n",
       " '_TObject__MakeZombie',\n",
       " '_VEvndispRunParameter__CheckTObjectHashConsistency',\n",
       " '_VGlobalRunParameter__CheckTObjectHashConsistency',\n",
       " '__add__',\n",
       " '__assign__',\n",
       " '__bool__',\n",
       " '__class__',\n",
       " '__cmp__',\n",
       " '__contains__',\n",
       " '__cppname__',\n",
       " '__delattr__',\n",
       " '__destruct__',\n",
       " '__dict__',\n",
       " '__dir__',\n",
       " '__dispatch__',\n",
       " '__doc__',\n",
       " '__eq__',\n",
       " '__format__',\n",
       " '__ge__',\n",
       " '__getattribute__',\n",
       " '__gt__',\n",
       " '__hash__',\n",
       " '__init__',\n",
       " '__init_subclass__',\n",
       " '__le__',\n",
       " '__lt__',\n",
       " '__module__',\n",
       " '__mul__',\n",
       " '__ne__',\n",
       " '__new__',\n",
       " '__nonzero__',\n",
       " '__radd__',\n",
       " '__reduce__',\n",
       " '__reduce_ex__',\n",
       " '__repr__',\n",
       " '__rmul__',\n",
       " '__rsub__',\n",
       " '__rtruediv__',\n",
       " '__scope__',\n",
       " '__setattr__',\n",
       " '__sizeof__',\n",
       " '__str__',\n",
       " '__sub__',\n",
       " '__subclasshook__',\n",
       " '__truediv__',\n",
       " '__weakref__',\n",
       " '_get_smart_ptr',\n",
       " 'fAtmosphereID',\n",
       " 'fCalibrationDataType',\n",
       " 'fCalibrationIntSumMin',\n",
       " 'fCalibrationSumFirst',\n",
       " 'fCalibrationSumWindow',\n",
       " 'fCalibrationSumWindowAverageTime',\n",
       " 'fCameraCoordinateTransformX',\n",
       " 'fCameraCoordinateTransformY',\n",
       " 'fCheckPointing',\n",
       " 'fCombineChannelsForPedestalCalculation',\n",
       " 'fCreateLnLTable',\n",
       " 'fDBCameraRotationMeasurements',\n",
       " 'fDBDataStartTimeMJD',\n",
       " 'fDBDataStartTimeSecOfDay',\n",
       " 'fDBDataStoppTimeMJD',\n",
       " 'fDBDataStoppTimeSecOfDay',\n",
       " 'fDBRunStartTimeSQL',\n",
       " 'fDBRunStoppTimeSQL',\n",
       " 'fDBRunType',\n",
       " 'fDBTracking',\n",
       " 'fDBTrackingCorrections',\n",
       " 'fDBUncalibratedVPM',\n",
       " 'fDBVPM',\n",
       " 'fDF_DigitalFilter',\n",
       " 'fDF_PoleZero',\n",
       " 'fDF_UpSample',\n",
       " 'fDeadChannelFile',\n",
       " 'fDebug',\n",
       " 'fDoublePass',\n",
       " 'fDoublePassErrorWeighting2005',\n",
       " 'fEVNDISP_SVNREVISION',\n",
       " 'fEVNDISP_VERSION',\n",
       " 'fEpochFile',\n",
       " 'fEpochGain',\n",
       " 'fEventDisplayBuildArch',\n",
       " 'fEventDisplayBuildCompiler',\n",
       " 'fEventDisplayBuildCompilerVersion',\n",
       " 'fEventDisplayBuildDir',\n",
       " 'fEventDisplayBuildNode',\n",
       " 'fEventDisplayBuildROOTVersion',\n",
       " 'fEventDisplayBuildROOTVersionInt',\n",
       " 'fEventDisplayDate',\n",
       " 'fEventDisplayHost',\n",
       " 'fEventDisplaySystemInfo',\n",
       " 'fEventDisplayUser',\n",
       " 'fFADCChargeUnit',\n",
       " 'fFADCtoPhe',\n",
       " 'fFillImageBorderNeighbours',\n",
       " 'fFillMCHistos',\n",
       " 'fFirstEvent',\n",
       " 'fFixWindowStart_sumwindow2',\n",
       " 'fForceLLImageFit',\n",
       " 'fGainCorrection',\n",
       " 'fGainFileNumber',\n",
       " 'fGainLowGainFileNumber',\n",
       " 'fIDstartDirectionModel3D',\n",
       " 'fIPRdatabase',\n",
       " 'fIPRdatabaseFile',\n",
       " 'fIgnoreCFGversions',\n",
       " 'fIgnoreDSTGains',\n",
       " 'fImageAnalysisFUIFactor',\n",
       " 'fImageCleaningParameters',\n",
       " 'fImageCleaningParameters_DB_Pass1',\n",
       " 'fImageLL',\n",
       " 'fInstrumentEpoch',\n",
       " 'fIsMC',\n",
       " 'fL2TimeCorrect',\n",
       " 'fLaserSumMin',\n",
       " 'fLnLTableFile',\n",
       " 'fLogLikelihoodLoss_max',\n",
       " 'fLogLikelihoodLoss_min',\n",
       " 'fLogLikelihood_Ntubes_min',\n",
       " 'fLowGainCalibrationFile',\n",
       " 'fLowGainMultiplierFileNumber',\n",
       " 'fLowGainPeds',\n",
       " 'fLowGainUsePedestalsInTimeSlices',\n",
       " 'fMCNdead',\n",
       " 'fMCNdeadSeed',\n",
       " 'fMCNdeadboard',\n",
       " 'fMCScale',\n",
       " 'fMC_FADCTraceStart',\n",
       " 'fMCnoDead',\n",
       " 'fMinStarBrightness_B',\n",
       " 'fMinStarNTubes',\n",
       " 'fMinStarPixelDistance_deg',\n",
       " 'fNCalibrationEvents',\n",
       " 'fNNGraphsFile',\n",
       " 'fNTelescopes',\n",
       " 'fNeighbourDistanceFactor',\n",
       " 'fNeighbourMultiplicity',\n",
       " 'fNextDayGainHack',\n",
       " 'fNoCalibNoPb',\n",
       " 'fPMTextFileDirectory',\n",
       " 'fPWcleanNeighbors',\n",
       " 'fPWcleanThreshold',\n",
       " 'fPWlimit',\n",
       " 'fPWmethod',\n",
       " 'fPedFileNumber',\n",
       " 'fPedLowGainFile',\n",
       " 'fPedLowGainFileNumber',\n",
       " 'fPedestalSingleRootFile',\n",
       " 'fPedestalsInTimeSlices',\n",
       " 'fPedestalsLengthOfTimeSlice',\n",
       " 'fPixFileNumber',\n",
       " 'fPlotAllInOneMethod',\n",
       " 'fPlotPaper',\n",
       " 'fPlotRaw',\n",
       " 'fPointingErrorX',\n",
       " 'fPointingErrorY',\n",
       " 'fPrintAnalysisProgress',\n",
       " 'fPrintGrisuHeader',\n",
       " 'fPrintSmallArray',\n",
       " 'fRunDuration',\n",
       " 'fRunIsZeroSuppressed',\n",
       " 'fRunTitle',\n",
       " 'fSGE_TASK_ID',\n",
       " 'fSaveDeadPixelRegistry',\n",
       " 'fSearchWindowLast',\n",
       " 'fShortTree',\n",
       " 'fSmoothDead',\n",
       " 'fStarCatalogueName',\n",
       " 'fSumWindowMaxTimeDifferenceLGtoHG',\n",
       " 'fSumWindowMaxTimedifferenceToDoublePassPosition',\n",
       " 'fTOffFileNumber',\n",
       " 'fTOffLowGainFileNumber',\n",
       " 'fTZeroFileNumber',\n",
       " 'fTZeroLowGainFileNumber',\n",
       " 'fTargetDec',\n",
       " 'fTargetDecOffset',\n",
       " 'fTargetName',\n",
       " 'fTargetRA',\n",
       " 'fTargetRAOffset',\n",
       " 'fTelToAnalyze',\n",
       " 'fTimeCutsMin_max',\n",
       " 'fTimeCutsMin_min',\n",
       " 'fTraceIntegrationMethod',\n",
       " 'fTraceIntegrationMethod_pass1',\n",
       " 'fTraceWindowShift',\n",
       " 'fTrigSimInputcard',\n",
       " 'fTrigSim_referenceTrigger',\n",
       " 'fTrigSim_threshold',\n",
       " 'fUseDisplayModel3D',\n",
       " 'fUseModel3D',\n",
       " 'fUsePedEvents',\n",
       " 'fUsePedestalsInTimeSlices',\n",
       " 'fUseVBFSampleLength',\n",
       " 'fWobbleEast',\n",
       " 'fWobbleNorth',\n",
       " 'fWriteExtraCalibTree',\n",
       " 'fWriteTriggerOnly',\n",
       " 'faverageTZeroFiducialRadius',\n",
       " 'fazimuth',\n",
       " 'fcalibrationfile',\n",
       " 'fcalibrationrun',\n",
       " 'fcamera',\n",
       " 'fdisplaymode',\n",
       " 'fdstcalibration',\n",
       " 'fdstfile',\n",
       " 'fdstminntubes',\n",
       " 'fdstwriteallpixel',\n",
       " 'felevation',\n",
       " 'ffillhistos',\n",
       " 'ffrogsRecID',\n",
       " 'ffrogsmode',\n",
       " 'ffrogsmscwfile',\n",
       " 'ffrogsparameterfile',\n",
       " 'ffrogstemplatelist',\n",
       " 'fgrisuseed',\n",
       " 'fh',\n",
       " 'fhoughmuonmode',\n",
       " 'finjectGaussianNoise',\n",
       " 'finjectGaussianNoiseSeed',\n",
       " 'floopmode',\n",
       " 'fmuonmode',\n",
       " 'fnevents',\n",
       " 'foutputfileName',\n",
       " 'fprintdeadpixelinfo',\n",
       " 'fpulsetiming_max_index',\n",
       " 'fpulsetiming_tzero_index',\n",
       " 'fpulsetiming_width_index',\n",
       " 'fpulsetiminglevels',\n",
       " 'freadCalibfromDB',\n",
       " 'freadCalibfromDB_save_file',\n",
       " 'freadCalibfromDB_versionquery',\n",
       " 'freconstructionparameterfile',\n",
       " 'frecoverImagePixelNearDeadPixel',\n",
       " 'frunmode',\n",
       " 'frunnumber',\n",
       " 'fsampleoffset',\n",
       " 'fsetSpecialChannels',\n",
       " 'fsimu_HILO_from_simFile',\n",
       " 'fsimu_lowgain_pedestal_DefaultPed',\n",
       " 'fsimu_noiselevel',\n",
       " 'fsimu_pedestalfile',\n",
       " 'fsimu_pedestalfile_DefaultPed',\n",
       " 'fsourcefile',\n",
       " 'fsourcetype',\n",
       " 'fsumfirst',\n",
       " 'fsumfirst_maxT0startDiff',\n",
       " 'fsumfirst_startingMethod',\n",
       " 'fsumwindow_1',\n",
       " 'fsumwindow_2',\n",
       " 'fsumwindow_pass1',\n",
       " 'ftelescopeNOffset',\n",
       " 'ftracefile',\n",
       " 'fuseDB',\n",
       " 'fw',\n",
       " 'fwriteAverageLaserPulse',\n",
       " 'fwriteLaserPulseN',\n",
       " 'fwriteMCtree',\n",
       " 'getDBServer',\n",
       " 'getDirectory_EVNDISPAnaData',\n",
       " 'getDirectory_EVNDISPCalibrationData',\n",
       " 'getDirectory_EVNDISPCalibrationData_perRun',\n",
       " 'getDirectory_EVNDISPDetectorGeometry',\n",
       " 'getDirectory_EVNDISPOutput',\n",
       " 'getDirectory_EVNDISPParameterFiles',\n",
       " 'getDirectory_VBFRawData',\n",
       " 'getEVNDISP_TREE_VERSION',\n",
       " 'getEVNDISP_TREE_isShort',\n",
       " 'getEVNDISP_VERSION',\n",
       " 'getEVNDISP_VERSION_FL',\n",
       " 'getEVNDISP_VERSION_UI',\n",
       " 'getObservatory',\n",
       " 'getObservatory_Height_m',\n",
       " 'getObservatory_Latitude_deg',\n",
       " 'getObservatory_Longitude_deg',\n",
       " 'getRawDataServer',\n",
       " 'getSVN_VERSION',\n",
       " 'ifCreateIPRdatabase',\n",
       " 'ifReadIPRfromDSTFile',\n",
       " 'ifReadIPRfromDatabase',\n",
       " 'ifWriteGraphsToFile',\n",
       " 'isMC',\n",
       " 'kBitMask',\n",
       " 'kCanDelete',\n",
       " 'kCannotPick',\n",
       " 'kHasUUID',\n",
       " 'kInconsistent',\n",
       " 'kInvalidObject',\n",
       " 'kIsOnHeap',\n",
       " 'kIsReferenced',\n",
       " 'kMustCleanup',\n",
       " 'kNoContextMenu',\n",
       " 'kNotDeleted',\n",
       " 'kObjInCanvas',\n",
       " 'kOverwrite',\n",
       " 'kSingleKey',\n",
       " 'kWriteDelete',\n",
       " 'kZombie',\n",
       " 'ls',\n",
       " 'operator delete',\n",
       " 'operator delete[]',\n",
       " 'operator new',\n",
       " 'operator new[]',\n",
       " 'print',\n",
       " 'printCTA_DST',\n",
       " 'printGlobalRunParameter',\n",
       " 'readRunparameterFile',\n",
       " 'setDirectories',\n",
       " 'setDirectory_EVNDISPCalibrationData',\n",
       " 'setDirectory_EVNDISPOutput',\n",
       " 'setPulseZeroIndex',\n",
       " 'setSystemParameters',\n",
       " 'update',\n",
       " 'useDB']"
      ]
     },
     "execution_count": 9,
     "metadata": {},
     "output_type": "execute_result"
    }
   ],
   "source": [
    "dir(runParametersV2)"
   ]
  },
  {
   "cell_type": "code",
   "execution_count": 10,
   "metadata": {
    "collapsed": true
   },
   "outputs": [],
   "source": [
    "def produceTelList(telConfig):\n",
    "    '''Convert the list of telescopes into a string for FITS header\n",
    "    '''\n",
    "    telList = \"\"\n",
    "    for tel in telConfig['TelID']:\n",
    "        telList += \"T\" + str(tel) + \",\"\n",
    "    return telList[:-1]"
   ]
  },
  {
   "cell_type": "code",
   "execution_count": 11,
   "metadata": {},
   "outputs": [
    {
     "data": {
      "text/plain": [
       "4"
      ]
     },
     "execution_count": 11,
     "metadata": {},
     "output_type": "execute_result"
    }
   ],
   "source": [
    "len(telConfig['TelID'])"
   ]
  },
  {
   "cell_type": "code",
   "execution_count": 12,
   "metadata": {},
   "outputs": [
    {
     "data": {
      "text/plain": [
       "'T0,T1,T2,T3'"
      ]
     },
     "execution_count": 12,
     "metadata": {},
     "output_type": "execute_result"
    }
   ],
   "source": [
    "produceTelList(telConfig)"
   ]
  },
  {
   "cell_type": "code",
   "execution_count": 13,
   "metadata": {},
   "outputs": [
    {
     "data": {
      "text/plain": [
       "'/lustre/fs19/group/cta/users/thassan/Software/eventDisplay/aux/ParameterFiles/ANASUM.timemask.dat'"
      ]
     },
     "execution_count": 13,
     "metadata": {},
     "output_type": "execute_result"
    }
   ],
   "source": [
    "vAnaSumRunParameter.fTimeMaskFile"
   ]
  },
  {
   "cell_type": "code",
   "execution_count": 14,
   "metadata": {},
   "outputs": [
    {
     "data": {
      "text/plain": [
       "0.08932723358747655"
      ]
     },
     "execution_count": 14,
     "metadata": {},
     "output_type": "execute_result"
    }
   ],
   "source": [
    "vAnaSumRunParameter.fScalarDeadTimeFrac"
   ]
  },
  {
   "cell_type": "code",
   "execution_count": 15,
   "metadata": {},
   "outputs": [
    {
     "data": {
      "text/plain": [
       "array([ 0.08932723,  0.08932723])"
      ]
     },
     "execution_count": 15,
     "metadata": {},
     "output_type": "execute_result"
    }
   ],
   "source": [
    "runSummary['DeadTimeFracOn']"
   ]
  },
  {
   "cell_type": "code",
   "execution_count": 16,
   "metadata": {},
   "outputs": [
    {
     "data": {
      "text/plain": [
       "1203.0"
      ]
     },
     "execution_count": 16,
     "metadata": {},
     "output_type": "execute_result"
    }
   ],
   "source": [
    "tstop_from_reference - tstart_from_reference"
   ]
  },
  {
   "cell_type": "code",
   "execution_count": 17,
   "metadata": {},
   "outputs": [
    {
     "data": {
      "text/plain": [
       "array([ 1203.,  1203.])"
      ]
     },
     "execution_count": 17,
     "metadata": {},
     "output_type": "execute_result"
    }
   ],
   "source": [
    "runSummary['tOn']"
   ]
  },
  {
   "cell_type": "code",
   "execution_count": 18,
   "metadata": {},
   "outputs": [
    {
     "data": {
      "text/plain": [
       "83.63333155231746"
      ]
     },
     "execution_count": 18,
     "metadata": {},
     "output_type": "execute_result"
    }
   ],
   "source": [
    "runParametersV2.fTargetRA"
   ]
  },
  {
   "cell_type": "markdown",
   "metadata": {},
   "source": [
    "Reading deadtime from Nathan code"
   ]
  },
  {
   "cell_type": "code",
   "execution_count": 19,
   "metadata": {
    "collapsed": true
   },
   "outputs": [],
   "source": [
    "#   sprintf( objName, \"run_%d/stereo/vdeadtime\", runid ) ;\n",
    "#   VDeadTime * deadTime = ( VDeadTime* )anasumfile->Get( objName ) ;\n",
    "#   if ( !deadTime ) \n",
    "#   {\n",
    "#     cout << \"  Error, Unable to load VDeadTime object \" << objName << \" from file \" << anasumInputFile << \" , exiting...\" << endl;\n",
    "#     return 1 ;\n",
    "#   }\n",
    "#   else\n",
    "#   {\n",
    "#     cout << \"  Loaded VDeadTime object '\" << objName << \"' ...\" << endl;\n",
    "#   }\n",
    "#   sprintf( objName, \"run_%d/stereo/deadTimeHistograms\", runid ) ;\n",
    "#   TDirectoryFile * deadTimeDir = ( TDirectoryFile* ) anasumfile->Get( objName ) ;\n",
    "#   deadTime->readHistograms( deadTimeDir ) ;\n",
    "#   deadTime->calculateDeadTime();\n",
    "#   deadTime->printDeadTime();"
   ]
  },
  {
   "cell_type": "markdown",
   "metadata": {},
   "source": [
    "Now in python:"
   ]
  },
  {
   "cell_type": "code",
   "execution_count": 20,
   "metadata": {},
   "outputs": [
    {
     "ename": "AttributeError",
     "evalue": "'VEvndispRunParameter' object has no attribute 'get'",
     "output_type": "error",
     "traceback": [
      "\u001b[0;31m---------------------------------------------------------------------------\u001b[0m",
      "\u001b[0;31mAttributeError\u001b[0m                            Traceback (most recent call last)",
      "\u001b[0;32m<ipython-input-20-4554d1a705fe>\u001b[0m in \u001b[0;36m<module>\u001b[0;34m()\u001b[0m\n\u001b[0;32m----> 1\u001b[0;31m \u001b[0mprint\u001b[0m\u001b[0;34m(\u001b[0m\u001b[0mrunParametersV2\u001b[0m\u001b[0;34m.\u001b[0m\u001b[0mget\u001b[0m\u001b[0;34m)\u001b[0m\u001b[0;34m\u001b[0m\u001b[0m\n\u001b[0m",
      "\u001b[0;31mAttributeError\u001b[0m: 'VEvndispRunParameter' object has no attribute 'get'"
     ]
    }
   ],
   "source": [
    "print(runParametersV2.get)"
   ]
  },
  {
   "cell_type": "code",
   "execution_count": null,
   "metadata": {
    "collapsed": true
   },
   "outputs": [],
   "source": [
    "deadTime = "
   ]
  },
  {
   "cell_type": "code",
   "execution_count": null,
   "metadata": {
    "collapsed": true
   },
   "outputs": [],
   "source": [
    "tstop_from_reference - tstart_from_reference"
   ]
  },
  {
   "cell_type": "code",
   "execution_count": null,
   "metadata": {
    "collapsed": true
   },
   "outputs": [],
   "source": [
    "runParametersV2.fDBRunStartTimeSQL"
   ]
  },
  {
   "cell_type": "code",
   "execution_count": null,
   "metadata": {
    "collapsed": true
   },
   "outputs": [],
   "source": [
    "runParametersV2.fTimeCutsMin_max"
   ]
  },
  {
   "cell_type": "code",
   "execution_count": null,
   "metadata": {
    "collapsed": true
   },
   "outputs": [],
   "source": [
    "timeMask = VTimeMask()\n",
    "timeMask = edFileIO.Get(\"run_54809/stereo/vtimeMask\")\n",
    "type(timeMask)\n",
    "dir(timeMask)"
   ]
  },
  {
   "cell_type": "code",
   "execution_count": null,
   "metadata": {
    "collapsed": true
   },
   "outputs": [],
   "source": [
    "timeMask"
   ]
  },
  {
   "cell_type": "code",
   "execution_count": null,
   "metadata": {
    "collapsed": true
   },
   "outputs": [],
   "source": [
    "tm.Get(0)"
   ]
  },
  {
   "cell_type": "code",
   "execution_count": null,
   "metadata": {
    "collapsed": true
   },
   "outputs": [],
   "source": [
    "runSummary = tree2array(f1.Get(\"total_1/stereo/tRunSummary\"))"
   ]
  },
  {
   "cell_type": "code",
   "execution_count": null,
   "metadata": {
    "collapsed": true
   },
   "outputs": [],
   "source": [
    "runSummary['MJDOn']"
   ]
  },
  {
   "cell_type": "code",
   "execution_count": null,
   "metadata": {
    "collapsed": true
   },
   "outputs": [],
   "source": [
    "0.17204264*86400."
   ]
  },
  {
   "cell_type": "code",
   "execution_count": null,
   "metadata": {
    "collapsed": true
   },
   "outputs": [],
   "source": []
  },
  {
   "cell_type": "code",
   "execution_count": null,
   "metadata": {
    "collapsed": true
   },
   "outputs": [],
   "source": [
    "eventList = tree2array(f1.Get(\"run_54809/stereo/TreeWithEventsForCtools\"))"
   ]
  },
  {
   "cell_type": "code",
   "execution_count": null,
   "metadata": {
    "collapsed": true
   },
   "outputs": [],
   "source": [
    "eventList['timeOfDay']"
   ]
  },
  {
   "cell_type": "code",
   "execution_count": 21,
   "metadata": {
    "collapsed": true
   },
   "outputs": [],
   "source": [
    "windowSizeForNoise = 7\n",
    "\n",
    "def decodeConfigMask(mask=15):\n",
    "    '''Decode the telescope config mask to find the telescpes in the array'''\n",
    "    tels = []\n",
    "    if mask >= 8:\n",
    "        tels.append(4)\n",
    "        mask -= 8\n",
    "    if mask >= 4:\n",
    "        tels.append(3)\n",
    "        mask -= 4\n",
    "    if mask >= 2:\n",
    "        tels.append(2)\n",
    "        mask -= 2\n",
    "    if mask >= 1:\n",
    "        tels.append(1)\n",
    "        mask -= 1\n",
    "    return sorted(tels)\n",
    "\n",
    "\n",
    "def produceTelList(mask):\n",
    "    '''Convert the list of telescopes into a string for FITS header'''\n",
    "    telList = \"\"\n",
    "    for tel in decodeConfigMask(mask):\n",
    "        telList += \"T\" + str(tel) + \",\"\n",
    "    return telList[:-1]"
   ]
  },
  {
   "cell_type": "markdown",
   "metadata": {},
   "source": [
    "Extract information from effective areas:"
   ]
  },
  {
   "cell_type": "code",
   "execution_count": 22,
   "metadata": {
    "collapsed": true
   },
   "outputs": [],
   "source": [
    "effAreaFileName = '/home/thassan/Paquetes/lastVersion/V2DL3/eventDisplay/EffArea-GRISU-V5-ID0-Ze20deg-0.5wob-200-Cut-NTel2-PointSource-Moderate.root'\n",
    "effAreaFile = TFile.Open(effAreaFileName)"
   ]
  },
  {
   "cell_type": "markdown",
   "metadata": {},
   "source": [
    "Tree containing the EffArea object:"
   ]
  },
  {
   "cell_type": "code",
   "execution_count": 23,
   "metadata": {
    "collapsed": true
   },
   "outputs": [],
   "source": [
    "from ROOT import VPlotInstrumentResponseFunction, GammaHadronCuts, TCanvas, TList, TGraphErrors"
   ]
  },
  {
   "cell_type": "code",
   "execution_count": 24,
   "metadata": {
    "collapsed": true
   },
   "outputs": [],
   "source": [
    "effAreaTree = effAreaFile.Get(\"fEffArea\")\n",
    "angResTree = effAreaFile.Get(\"t_angular_resolution\")\n",
    "cuts = effAreaFile.Get(\"GammaHadronCuts\")"
   ]
  },
  {
   "cell_type": "code",
   "execution_count": 25,
   "metadata": {},
   "outputs": [
    {
     "data": {
      "text/plain": [
       "['AbstractMethod',\n",
       " 'AppendPad',\n",
       " 'Browse',\n",
       " 'CheckedHash',\n",
       " 'Class',\n",
       " 'ClassName',\n",
       " 'Class_Name',\n",
       " 'Class_Version',\n",
       " 'Clear',\n",
       " 'Clone',\n",
       " 'Compare',\n",
       " 'Copy',\n",
       " 'DeclFileLine',\n",
       " 'DeclFileName',\n",
       " 'Delete',\n",
       " 'Dictionary',\n",
       " 'DistancetoPrimitive',\n",
       " 'Draw',\n",
       " 'DrawClass',\n",
       " 'DrawClone',\n",
       " 'Dump',\n",
       " 'Error',\n",
       " 'Execute',\n",
       " 'ExecuteEvent',\n",
       " 'Fatal',\n",
       " 'FillBuffer',\n",
       " 'FindObject',\n",
       " 'GetDrawOption',\n",
       " 'GetDtorOnly',\n",
       " 'GetIconName',\n",
       " 'GetName',\n",
       " 'GetObjectInfo',\n",
       " 'GetObjectStat',\n",
       " 'GetOption',\n",
       " 'GetTitle',\n",
       " 'GetUniqueID',\n",
       " 'HandleTimer',\n",
       " 'HasInconsistentHash',\n",
       " 'Hash',\n",
       " 'ImplFileLine',\n",
       " 'ImplFileName',\n",
       " 'Info',\n",
       " 'InheritsFrom',\n",
       " 'Inspect',\n",
       " 'InvertBit',\n",
       " 'IsA',\n",
       " 'IsEqual',\n",
       " 'IsFolder',\n",
       " 'IsOnHeap',\n",
       " 'IsSortable',\n",
       " 'IsZombie',\n",
       " 'MayNotUse',\n",
       " 'Notify',\n",
       " 'Obsolete',\n",
       " 'Paint',\n",
       " 'Pop',\n",
       " 'Print',\n",
       " 'Read',\n",
       " 'RecursiveRemove',\n",
       " 'ResetBit',\n",
       " 'SaveAs',\n",
       " 'SavePrimitive',\n",
       " 'SetBit',\n",
       " 'SetDrawOption',\n",
       " 'SetDtorOnly',\n",
       " 'SetName',\n",
       " 'SetNameTitle',\n",
       " 'SetObjectStat',\n",
       " 'SetTitle',\n",
       " 'SetUniqueID',\n",
       " 'ShowMembers',\n",
       " 'Sizeof',\n",
       " 'Streamer',\n",
       " 'StreamerNVirtual',\n",
       " 'SysError',\n",
       " 'TestBit',\n",
       " 'TestBits',\n",
       " 'UseCurrentStyle',\n",
       " 'Warning',\n",
       " 'Write',\n",
       " '_TNamed__CheckTObjectHashConsistency',\n",
       " '_TObject__AddToTObjectTable',\n",
       " '_TObject__CheckTObjectHashConsistency',\n",
       " '_TObject__DoError',\n",
       " '_TObject__MakeZombie',\n",
       " '_VAnalysisUtilities__CheckTObjectHashConsistency',\n",
       " '_VAnalysisUtilities__openEnergyThresholdFile',\n",
       " '_VAnalysisUtilities__readTargetCoordinatesFromtRunSummary',\n",
       " '_VGammaHadronCuts__CheckTObjectHashConsistency',\n",
       " '_VGammaHadronCuts__applyFrogsCut',\n",
       " '_VGammaHadronCuts__applyModel3DCut',\n",
       " '_VGammaHadronCuts__applyProbabilityCut',\n",
       " '_VGammaHadronCuts__getEnergyDependentCut',\n",
       " '_VGammaHadronCuts__getEnergyDependentCutFromFile',\n",
       " '_VGammaHadronCuts__getMeanGoodness',\n",
       " '_VGammaHadronCuts__getTelToAnalyzeString',\n",
       " '_VGammaHadronCuts__initAngularResolutionFile',\n",
       " '_VGammaHadronCuts__initProbabilityCuts',\n",
       " '_VGammaHadronCuts__initTMVAEvaluator',\n",
       " '__add__',\n",
       " '__assign__',\n",
       " '__bool__',\n",
       " '__class__',\n",
       " '__cmp__',\n",
       " '__contains__',\n",
       " '__cppname__',\n",
       " '__delattr__',\n",
       " '__destruct__',\n",
       " '__dict__',\n",
       " '__dir__',\n",
       " '__dispatch__',\n",
       " '__doc__',\n",
       " '__eq__',\n",
       " '__format__',\n",
       " '__ge__',\n",
       " '__getattribute__',\n",
       " '__gt__',\n",
       " '__hash__',\n",
       " '__init__',\n",
       " '__init_subclass__',\n",
       " '__le__',\n",
       " '__lt__',\n",
       " '__module__',\n",
       " '__mul__',\n",
       " '__ne__',\n",
       " '__new__',\n",
       " '__nonzero__',\n",
       " '__radd__',\n",
       " '__reduce__',\n",
       " '__reduce_ex__',\n",
       " '__repr__',\n",
       " '__rmul__',\n",
       " '__rsub__',\n",
       " '__rtruediv__',\n",
       " '__scope__',\n",
       " '__setattr__',\n",
       " '__sizeof__',\n",
       " '__str__',\n",
       " '__sub__',\n",
       " '__subclasshook__',\n",
       " '__truediv__',\n",
       " '__weakref__',\n",
       " '_get_smart_ptr',\n",
       " 'applyDirectionCuts',\n",
       " 'applyEnergyReconstructionQualityCuts',\n",
       " 'applyInsideFiducialAreaCut',\n",
       " 'applyMCXYoffCut',\n",
       " 'applyMeanReducedScaledStereoShapeCuts',\n",
       " 'applyMeanScaledStereoShapeCuts',\n",
       " 'applyMeanStereoShapeCuts',\n",
       " 'applyStereoQualityCuts',\n",
       " 'applyStereoQualityCuts_Chi2',\n",
       " 'applyStereoQualityCuts_ImageSelection',\n",
       " 'applyStereoQualityCuts_NImages',\n",
       " 'applyStereoQualityCuts_SecondMaxCut',\n",
       " 'applyStereoQualityCuts_TableVariables',\n",
       " 'applyStereoQualityCuts_TelescopeCoreDistance',\n",
       " 'applyStereoShapeCuts',\n",
       " 'applyTMVACut',\n",
       " 'applyTelTypeTest',\n",
       " 'bMCCuts',\n",
       " 'calcCumulativeSig',\n",
       " 'closeFile',\n",
       " 'fCut_AverageCoreDistanceToTelescopes_max',\n",
       " 'fCut_AverageCoreDistanceToTelescopes_min',\n",
       " 'fCut_AverageCoreDistanceToTelescopes_nimages',\n",
       " 'fCut_CameraFiducialSize_MC_max',\n",
       " 'fCut_CameraFiducialSize_MC_min',\n",
       " 'fCut_CameraFiducialSize_max',\n",
       " 'fCut_CameraFiducialSize_min',\n",
       " 'fCut_Chi2_max',\n",
       " 'fCut_Chi2_min',\n",
       " 'fCut_EChi2_max',\n",
       " 'fCut_EChi2_min',\n",
       " 'fCut_Emmission_max',\n",
       " 'fCut_Emmission_min',\n",
       " 'fCut_EmultiplicityRatio_min',\n",
       " 'fCut_Erec_max',\n",
       " 'fCut_Erec_min',\n",
       " 'fCut_ImgSelect',\n",
       " 'fCut_MSCL_max',\n",
       " 'fCut_MSCL_min',\n",
       " 'fCut_MSCW_max',\n",
       " 'fCut_MSCW_min',\n",
       " 'fCut_MSL_max',\n",
       " 'fCut_MSL_min',\n",
       " 'fCut_MSW_max',\n",
       " 'fCut_MSW_min',\n",
       " 'fCut_MeanImageDistance_max',\n",
       " 'fCut_MeanImageDistance_min',\n",
       " 'fCut_MeanImageLength_max',\n",
       " 'fCut_MeanImageLength_min',\n",
       " 'fCut_MeanImageWidth_max',\n",
       " 'fCut_MeanImageWidth_min',\n",
       " 'fCut_MinimumCoreDistanceToTelescopes_max',\n",
       " 'fCut_NImages_max',\n",
       " 'fCut_NImages_min',\n",
       " 'fCut_ShowerMax3D_max',\n",
       " 'fCut_ShowerMax3D_min',\n",
       " 'fCut_SizeSecondMax_max',\n",
       " 'fCut_SizeSecondMax_min',\n",
       " 'fCut_Size_max',\n",
       " 'fCut_Size_min',\n",
       " 'fCut_Theta2_max',\n",
       " 'fCut_Theta2_min',\n",
       " 'fCut_Width3D_max',\n",
       " 'fCut_Width3D_min',\n",
       " 'fCut_dE_max',\n",
       " 'fCut_dE_min',\n",
       " 'fNTelTypeCut',\n",
       " 'fProbabilityCut',\n",
       " 'fProbabilityCutRangeLower',\n",
       " 'fProbabilityCutRangeUpper',\n",
       " 'fReconstructionType',\n",
       " 'getAngularResolutionAbsoluteMaximum',\n",
       " 'getAngularResolutionAbsoluteMinimum',\n",
       " 'getAngularResolutionContainmentRadius',\n",
       " 'getAngularResolutionFunction',\n",
       " 'getAngularResolutionScaleFactor',\n",
       " 'getArrayCentre_X',\n",
       " 'getArrayCentre_Y',\n",
       " 'getDirectionCutSelector',\n",
       " 'getGammaHadronCutSelector',\n",
       " 'getHistogram',\n",
       " 'getMeanImageDistance',\n",
       " 'getMeanImageLength',\n",
       " 'getMeanImageWidth',\n",
       " 'getNormalisationFactor',\n",
       " 'getProbabilityCutAlpha',\n",
       " 'getProbabilityCut_Selector',\n",
       " 'getRunList',\n",
       " 'getRunListCut_MJD_maxVector',\n",
       " 'getRunListCut_MJD_minVector',\n",
       " 'getRunListVector',\n",
       " 'getRunList_MJD_max',\n",
       " 'getRunList_MJD_min',\n",
       " 'getRunSummaryTree',\n",
       " 'getSkyMapCentreDecJ2000',\n",
       " 'getSkyMapCentreRAJ2000',\n",
       " 'getTMVAEvaluatorResults',\n",
       " 'getTMVA_EvaluationResult',\n",
       " 'getTargetShiftNorth',\n",
       " 'getTargetShiftWest',\n",
       " 'getTheta2Cut_IRF_Max',\n",
       " 'getTheta2Cut_TMVA_max',\n",
       " 'getTheta2Cut_max',\n",
       " 'getTheta2Cut_min',\n",
       " 'getTreeWithSelectedEvents',\n",
       " 'initialize',\n",
       " 'initializeCuts',\n",
       " 'isGamma',\n",
       " 'isMCCuts',\n",
       " 'kBitMask',\n",
       " 'kCanDelete',\n",
       " 'kCannotPick',\n",
       " 'kHasUUID',\n",
       " 'kInconsistent',\n",
       " 'kInvalidObject',\n",
       " 'kIsOnHeap',\n",
       " 'kIsReferenced',\n",
       " 'kMustCleanup',\n",
       " 'kNoContextMenu',\n",
       " 'kNotDeleted',\n",
       " 'kObjInCanvas',\n",
       " 'kOverwrite',\n",
       " 'kSingleKey',\n",
       " 'kWriteDelete',\n",
       " 'kZombie',\n",
       " 'ls',\n",
       " 'newEvent',\n",
       " 'openFile',\n",
       " 'operator delete',\n",
       " 'operator delete[]',\n",
       " 'operator new',\n",
       " 'operator new[]',\n",
       " 'printCutStatistics',\n",
       " 'printCutSummary',\n",
       " 'printDirectionCuts',\n",
       " 'printEnergyDependentCuts',\n",
       " 'printEnergyThresholds',\n",
       " 'printRunList',\n",
       " 'printSignalEfficiency',\n",
       " 'printTMVA_MVACut',\n",
       " 'readCuts',\n",
       " 'readRunList',\n",
       " 'resetCutStatistics',\n",
       " 'resetCutValues',\n",
       " 'setDataDirectory',\n",
       " 'setDataTree',\n",
       " 'setDebug',\n",
       " 'setEnergyCuts',\n",
       " 'setIRFGraph',\n",
       " 'setInstrumentEpoch',\n",
       " 'setNTel',\n",
       " 'setPhaseFoldingValues',\n",
       " 'setReconstructionType',\n",
       " 'setRunListCutMJDRange',\n",
       " 'setRunListCutMJDRangeVector',\n",
       " 'setRunListCutPhaseRange',\n",
       " 'setRunListCutPhaseRangeVector',\n",
       " 'setRunListMJDRange',\n",
       " 'setTelToAnalyze',\n",
       " 'setTheta2Cut',\n",
       " 'terminate',\n",
       " 'useFrogsCuts',\n",
       " 'useModel3DCuts',\n",
       " 'useTMVACuts']"
      ]
     },
     "execution_count": 25,
     "metadata": {},
     "output_type": "execute_result"
    }
   ],
   "source": [
    "dir(cuts)"
   ]
  },
  {
   "cell_type": "code",
   "execution_count": 26,
   "metadata": {},
   "outputs": [
    {
     "data": {
      "text/plain": [
       "0.008"
      ]
     },
     "execution_count": 26,
     "metadata": {},
     "output_type": "execute_result"
    }
   ],
   "source": [
    "cuts.fCut_Theta2_max"
   ]
  },
  {
   "cell_type": "code",
   "execution_count": 27,
   "metadata": {
    "collapsed": true
   },
   "outputs": [],
   "source": [
    "closest_ze = closest_az = closest_Woff = closest_noise = closest_pedvar = -99\n",
    "diff_ze = diff_az = diff_Woff = diff_noise = diff_pedvar = -99"
   ]
  },
  {
   "cell_type": "code",
   "execution_count": 28,
   "metadata": {},
   "outputs": [
    {
     "ename": "SyntaxError",
     "evalue": "can't assign to literal (<ipython-input-28-bd51678d0a5e>, line 1)",
     "output_type": "error",
     "traceback": [
      "\u001b[0;36m  File \u001b[0;32m\"<ipython-input-28-bd51678d0a5e>\"\u001b[0;36m, line \u001b[0;32m1\u001b[0m\n\u001b[0;31m    avZe = 10.9, avAz = 180.,\u001b[0m\n\u001b[0m          ^\u001b[0m\n\u001b[0;31mSyntaxError\u001b[0m\u001b[0;31m:\u001b[0m can't assign to literal\n"
     ]
    }
   ],
   "source": [
    "avZe = 10.9, avAz = 180., "
   ]
  },
  {
   "cell_type": "code",
   "execution_count": 29,
   "metadata": {
    "collapsed": true
   },
   "outputs": [],
   "source": [
    "def is_close(a, b, rel_tol=1e-02, abs_tol=0.0):\n",
    "\n",
    "    return np.abs(a-b) <= max(rel_tol * max(np.abs(a), np.abs(b)), abs_tol)"
   ]
  },
  {
   "cell_type": "code",
   "execution_count": 30,
   "metadata": {
    "collapsed": true
   },
   "outputs": [],
   "source": [
    "for entry in angResTree:\n",
    "    irfdata = entry.IRF\n",
    "    break"
   ]
  },
  {
   "cell_type": "code",
   "execution_count": 31,
   "metadata": {},
   "outputs": [
    {
     "name": "stdout",
     "output_type": "stream",
     "text": [
      "<class 'ROOT.vector<string>'>\n",
      "angular_resolution\n",
      "core_resolution\n",
      "energy_resolution\n",
      "<class 'ROOT.vector<TGraphErrors*>'>\n"
     ]
    },
    {
     "ename": "TypeError",
     "evalue": "'ROOT.MethodProxy' object is not iterable",
     "output_type": "error",
     "traceback": [
      "\u001b[0;31m---------------------------------------------------------------------------\u001b[0m",
      "\u001b[0;31mTypeError\u001b[0m                                 Traceback (most recent call last)",
      "\u001b[0;32m<ipython-input-31-60dd7540f390>\u001b[0m in \u001b[0;36m<module>\u001b[0;34m()\u001b[0m\n\u001b[1;32m      3\u001b[0m     \u001b[0mprint\u001b[0m \u001b[0;34m(\u001b[0m\u001b[0mirfType\u001b[0m\u001b[0;34m)\u001b[0m\u001b[0;34m\u001b[0m\u001b[0m\n\u001b[1;32m      4\u001b[0m \u001b[0mprint\u001b[0m \u001b[0;34m(\u001b[0m\u001b[0mtype\u001b[0m\u001b[0;34m(\u001b[0m\u001b[0mirfdata\u001b[0m\u001b[0;34m.\u001b[0m\u001b[0mfResolutionGraph\u001b[0m\u001b[0;34m)\u001b[0m\u001b[0;34m)\u001b[0m\u001b[0;34m\u001b[0m\u001b[0m\n\u001b[0;32m----> 5\u001b[0;31m \u001b[0;32mfor\u001b[0m \u001b[0mresolution\u001b[0m \u001b[0;32min\u001b[0m \u001b[0mirfdata\u001b[0m\u001b[0;34m.\u001b[0m\u001b[0mgetListofHistograms\u001b[0m\u001b[0;34m:\u001b[0m\u001b[0;34m\u001b[0m\u001b[0m\n\u001b[0m\u001b[1;32m      6\u001b[0m     \u001b[0mprint\u001b[0m\u001b[0;34m(\u001b[0m\u001b[0mtype\u001b[0m\u001b[0;34m(\u001b[0m\u001b[0mresolution\u001b[0m\u001b[0;34m)\u001b[0m\u001b[0;34m)\u001b[0m\u001b[0;34m\u001b[0m\u001b[0m\n",
      "\u001b[0;31mTypeError\u001b[0m: 'ROOT.MethodProxy' object is not iterable"
     ]
    }
   ],
   "source": [
    "print(type(irfdata.fListofResponseFunctionTypes))\n",
    "for irfType in irfdata.fListofResponseFunctionTypes:\n",
    "    print (irfType)\n",
    "print (type(irfdata.fResolutionGraph))\n",
    "for resolution in irfdata.getListofHistograms:\n",
    "    print(type(resolution))"
   ]
  },
  {
   "cell_type": "code",
   "execution_count": 32,
   "metadata": {},
   "outputs": [
    {
     "name": "stdout",
     "output_type": "stream",
     "text": [
      "20.0 -180.0 -120.0 0.49999915354896857 200 5.227734375000001 2.3\n"
     ]
    }
   ],
   "source": [
    "# Extract effective area:\n",
    "# FIXME: For now, just manually extracting the correct value for the 3ML runs\n",
    "avAlt = 80.17160359513885\n",
    "avAz = -170.57748918711198\n",
    "index = 2.3\n",
    "pedVars = 5.438850227591036         # Closest value: 5.22773 noise = 200\n",
    "# FIXME: We choose azimuth bin between [-180.0, -120.0]\n",
    "for entry in effAreaTree:\n",
    "    # Now you have acess to the leaves/branches of each entry in the tree, e.g.\n",
    "    #     if (np.abs(closest_ze - entry.ze) < diff_ze):\n",
    "    #         closest_ze = entry.ze\n",
    "    if is_close(entry.ze, 20.) and is_close(entry.azMin, -180.) and is_close(entry.azMax, -120.) and is_close(\n",
    "            entry.index, 2.3):\n",
    "        effArea = np.array([i for i in entry.eff])\n",
    "        log_energy_TeV = np.array([i for i in entry.e0])\n",
    "        gEffAreaMC = entry.gEffAreaMC\n",
    "        gEffAreaRec = entry.gEffAreaRec\n",
    "        hEmcSWeight = entry.hEmcSWeight\n",
    "        hEsysRec = entry.hEsysRec\n",
    "        hEsysMC = entry.hEsysMC\n",
    "        hEsysMCRelative = entry.hEsysMCRelative\n",
    "        hEsysMCRelativeRMS = entry.hEsysMCRelativeRMS\n",
    "        hEsysMCRelative2D = entry.hEsysMCRelative2D\n",
    "        hEsys2D = entry.hEsys2D\n",
    "        hResponseMatrix = entry.hResponseMatrix\n",
    "        hResponseMatrixProfile = entry.hResponseMatrixProfile\n",
    "        hResponseMatrixQC = entry.hResponseMatrixQC\n",
    "        hEmcCutCTA = entry.hEmcCutCTA\n",
    "        hResponseMatrixFineQC = entry.hResponseMatrixFineQC        \n",
    "        print(entry.ze, entry.azMin, entry.azMax, entry.Woff, entry.noise, entry.pedvar, entry.index)\n",
    "        break"
   ]
  },
  {
   "cell_type": "code",
   "execution_count": 33,
   "metadata": {},
   "outputs": [
    {
     "data": {
      "text/plain": [
       "ROOT.TH2D"
      ]
     },
     "execution_count": 33,
     "metadata": {},
     "output_type": "execute_result"
    }
   ],
   "source": [
    "type(hEsysMCRelative2D)"
   ]
  },
  {
   "cell_type": "code",
   "execution_count": 34,
   "metadata": {},
   "outputs": [
    {
     "name": "stderr",
     "output_type": "stream",
     "text": [
      "Info in <TCanvas::MakeDefCanvas>:  created default TCanvas with name c1\n"
     ]
    }
   ],
   "source": [
    "hResponseMatrixFineQC.Draw(\"colz\")"
   ]
  },
  {
   "cell_type": "code",
   "execution_count": 35,
   "metadata": {
    "collapsed": true
   },
   "outputs": [],
   "source": [
    "hEmcSWeight.Draw()"
   ]
  },
  {
   "cell_type": "code",
   "execution_count": 36,
   "metadata": {
    "collapsed": true
   },
   "outputs": [],
   "source": [
    "hEsysRec.Draw()"
   ]
  },
  {
   "cell_type": "code",
   "execution_count": 41,
   "metadata": {
    "collapsed": true
   },
   "outputs": [],
   "source": [
    "hEsysMCRelative.Draw()"
   ]
  },
  {
   "cell_type": "code",
   "execution_count": 42,
   "metadata": {
    "collapsed": true
   },
   "outputs": [],
   "source": [
    "hEsysMCRelativeRMS.Draw()"
   ]
  },
  {
   "cell_type": "code",
   "execution_count": 43,
   "metadata": {
    "collapsed": true
   },
   "outputs": [],
   "source": [
    "hEsysMCRelative2D.Draw(\"colz\")"
   ]
  },
  {
   "cell_type": "code",
   "execution_count": 44,
   "metadata": {
    "collapsed": true
   },
   "outputs": [],
   "source": [
    "hEsys2D.Draw(\"colz\")"
   ]
  },
  {
   "cell_type": "code",
   "execution_count": 45,
   "metadata": {},
   "outputs": [
    {
     "name": "stdout",
     "output_type": "stream",
     "text": [
      "x[0]=-1.25, y[0]=1.64244, exl[0]=0, exh[0]=0, eyl[0]=1.64244, eyh[0]=1.64244\n",
      "x[1]=-1.15, y[1]=18.9677, exl[1]=0, exh[1]=0, eyl[1]=6.32366, eyh[1]=6.32366\n",
      "x[2]=-1.05, y[2]=124.415, exl[2]=0, exh[2]=0, eyl[2]=18.1504, eyh[2]=18.1504\n",
      "x[3]=-0.95, y[3]=991.561, exl[3]=0, exh[3]=0, eyl[3]=57.6278, eyh[3]=57.6278\n",
      "x[4]=-0.85, y[4]=5342.76, exl[4]=0, exh[4]=0, eyl[4]=150.677, eyh[4]=150.677\n",
      "x[5]=-0.75, y[5]=16904.1, exl[5]=0, exh[5]=0, eyl[5]=298.485, eyh[5]=298.485\n",
      "x[6]=-0.65, y[6]=34533.2, exl[6]=0, exh[6]=0, eyl[6]=476.219, eyh[6]=476.219\n",
      "x[7]=-0.55, y[7]=48030.9, exl[7]=0, exh[7]=0, eyl[7]=628.668, eyh[7]=628.668\n",
      "x[8]=-0.45, y[8]=57213.6, exl[8]=0, exh[8]=0, eyl[8]=770.255, eyh[8]=770.255\n",
      "x[9]=-0.35, y[9]=70588.4, exl[9]=0, exh[9]=0, eyl[9]=954.571, eyh[9]=954.571\n",
      "x[10]=-0.25, y[10]=80404.7, exl[10]=0, exh[10]=0, eyl[10]=1130.91, eyh[10]=1130.91\n",
      "x[11]=-0.15, y[11]=88571.8, exl[11]=0, exh[11]=0, eyl[11]=1349.08, eyh[11]=1349.08\n",
      "x[12]=-0.05, y[12]=97082.4, exl[12]=0, exh[12]=0, eyl[12]=1577.91, eyh[12]=1577.91\n",
      "x[13]=0.05, y[13]=105232, exl[13]=0, exh[13]=0, eyl[13]=1836.5, eyh[13]=1836.5\n",
      "x[14]=0.15, y[14]=115037, exl[14]=0, exh[14]=0, eyl[14]=2132.02, eyh[14]=2132.02\n",
      "x[15]=0.25, y[15]=112801, exl[15]=0, exh[15]=0, eyl[15]=2409.81, eyh[15]=2409.81\n",
      "x[16]=0.35, y[16]=117425, exl[16]=0, exh[16]=0, eyl[16]=2713.51, eyh[16]=2713.51\n",
      "x[17]=0.45, y[17]=124653, exl[17]=0, exh[17]=0, eyl[17]=3098.45, eyh[17]=3098.45\n",
      "x[18]=0.55, y[18]=117757, exl[18]=0, exh[18]=0, eyl[18]=3328.02, eyh[18]=3328.02\n",
      "x[19]=0.65, y[19]=121372, exl[19]=0, exh[19]=0, eyl[19]=3860.34, eyh[19]=3860.34\n",
      "x[20]=0.75, y[20]=118254, exl[20]=0, exh[20]=0, eyl[20]=4340.12, eyh[20]=4340.12\n",
      "x[21]=0.85, y[21]=117558, exl[21]=0, exh[21]=0, eyl[21]=4857.34, eyh[21]=4857.34\n",
      "x[22]=0.95, y[22]=113081, exl[22]=0, exh[22]=0, eyl[22]=5345.93, eyh[22]=5345.93\n",
      "x[23]=1.05, y[23]=109783, exl[23]=0, exh[23]=0, eyl[23]=5889.79, eyh[23]=5889.79\n",
      "x[24]=1.15, y[24]=114665, exl[24]=0, exh[24]=0, eyl[24]=6580.93, eyh[24]=6580.93\n",
      "x[25]=1.25, y[25]=119456, exl[25]=0, exh[25]=0, eyl[25]=7777.75, eyh[25]=7777.75\n",
      "x[26]=1.35, y[26]=84696.1, exl[26]=0, exh[26]=0, eyl[26]=7513.62, eyh[26]=7513.62\n",
      "x[27]=1.45, y[27]=93398, exl[27]=0, exh[27]=0, eyl[27]=9326.97, eyh[27]=9326.97\n",
      "x[28]=1.55, y[28]=87109.8, exl[28]=0, exh[28]=0, eyl[28]=9108.65, eyh[28]=9108.65\n",
      "x[29]=1.65, y[29]=77286, exl[29]=0, exh[29]=0, eyl[29]=9523.86, eyh[29]=9523.86\n",
      "x[30]=1.75, y[30]=74155.4, exl[30]=0, exh[30]=0, eyl[30]=10479.2, eyh[30]=10479.2\n",
      "x[31]=1.85, y[31]=31511.3, exl[31]=0, exh[31]=0, eyl[31]=8065.05, eyh[31]=8065.05\n",
      "x[32]=1.95, y[32]=24499.5, exl[32]=0, exh[32]=0, eyl[32]=7694.54, eyh[32]=7694.54\n",
      "x[33]=2.05, y[33]=14345.1, exl[33]=0, exh[33]=0, eyl[33]=7144.14, eyh[33]=7144.14\n"
     ]
    }
   ],
   "source": [
    "gEffAreaMC.Print(\"ALL\")"
   ]
  },
  {
   "cell_type": "code",
   "execution_count": 46,
   "metadata": {
    "collapsed": true
   },
   "outputs": [],
   "source": [
    "hEsysMC.Draw()"
   ]
  },
  {
   "cell_type": "code",
   "execution_count": 47,
   "metadata": {
    "collapsed": true
   },
   "outputs": [],
   "source": [
    "hEmcCutCTA.Draw(\"colz\")"
   ]
  },
  {
   "cell_type": "code",
   "execution_count": null,
   "metadata": {
    "collapsed": true
   },
   "outputs": [],
   "source": [
    "areamc.Draw(\"PAL\")\n",
    "arearec.Draw(\"SAME\")"
   ]
  },
  {
   "cell_type": "code",
   "execution_count": null,
   "metadata": {
    "collapsed": true
   },
   "outputs": [],
   "source": [
    "for entry in effAreaTree:\n",
    "    # Now you have acess to the leaves/branches of each entry in the tree, e.g.\n",
    "    #     if (np.abs(closest_ze - entry.ze) < diff_ze):\n",
    "    #         closest_ze = entry.ze\n",
    "    if is_close(entry.ze, 20.) and is_close(entry.azMin, -180.) and is_close(entry.azMax, -120.) and is_close(\n",
    "            entry.index, 2.3):\n",
    "        effArea = np.array([i for i in entry.eff])\n",
    "        log_energy_TeV = np.array([i for i in entry.e0])\n",
    "#         entry.hEsysMCRelative2D.Draw(\"colz\")\n",
    "        histogram = entry.hEsysMCRelative2D\n",
    "        bias, en = hist2array(entry.hEsysMCRelative2D, return_edges=True)\n",
    "        print(type(entry.hEsysMCRelative2D))\n",
    "        print(entry.ze, entry.azMin, entry.azMax, entry.Woff, entry.noise, entry.pedvar, entry.index)\n",
    "        break"
   ]
  },
  {
   "cell_type": "code",
   "execution_count": null,
   "metadata": {
    "collapsed": true
   },
   "outputs": [],
   "source": [
    "histogram.Draw(\"colz\")"
   ]
  },
  {
   "cell_type": "code",
   "execution_count": null,
   "metadata": {
    "collapsed": true
   },
   "outputs": [],
   "source": [
    "bias"
   ]
  },
  {
   "cell_type": "code",
   "execution_count": null,
   "metadata": {
    "collapsed": true
   },
   "outputs": [],
   "source": [
    "eLow = np.power(10, [en[0][:-1]])[0]\n",
    "eHigh = np.power(10, [en[0][1:]])[0]\n",
    "\n",
    "bLow = np.array([en[1][:-1]])[0]\n",
    "bHigh = np.array([en[1][1:]])[0]"
   ]
  },
  {
   "cell_type": "code",
   "execution_count": null,
   "metadata": {
    "collapsed": true
   },
   "outputs": [],
   "source": [
    "import matplotlib.pyplot as plt\n",
    "plt.plot((bHigh+bLow)/2., bias[20], marker='o')\n",
    "plt.grid(color='gray', linestyle='-', linewidth=2)\n",
    "plt.xlabel('Migra')\n",
    "plt.ylabel('Value')\n",
    "plt.show()"
   ]
  },
  {
   "cell_type": "code",
   "execution_count": null,
   "metadata": {
    "collapsed": true
   },
   "outputs": [],
   "source": [
    "ac = []\n",
    "for aa in bias:\n",
    "    if np.sum(aa) > 0:\n",
    "        ab = aa / np.sum(aa*(bHigh - bLow))\n",
    "    else:\n",
    "        ab = aa\n",
    "    try:\n",
    "        ac = np.vstack((ac, ab))\n",
    "    except:\n",
    "        ac = ab\n",
    "\n",
    "act = ac.transpose() "
   ]
  },
  {
   "cell_type": "code",
   "execution_count": null,
   "metadata": {
    "collapsed": true
   },
   "outputs": [],
   "source": [
    "import matplotlib.pyplot as plt\n",
    "plt.plot((bHigh+bLow)/2., ac[20], marker='o')\n",
    "plt.grid(color='gray', linestyle='-', linewidth=2)\n",
    "plt.xlabel('Migra')\n",
    "plt.ylabel('Value')\n",
    "plt.show()"
   ]
  },
  {
   "cell_type": "code",
   "execution_count": null,
   "metadata": {
    "collapsed": true
   },
   "outputs": [],
   "source": [
    "e_bin_width = log_energy_TeV[1]-log_energy_TeV[0]\n",
    "energyLow = np.power(10, log_energy_TeV - (log_energy_TeV[1] - log_energy_TeV[0]) / 2.)\n",
    "energyHigh = np.power(10, log_energy_TeV + (log_energy_TeV[1] - log_energy_TeV[0]) / 2.)"
   ]
  },
  {
   "cell_type": "code",
   "execution_count": null,
   "metadata": {
    "collapsed": true
   },
   "outputs": [],
   "source": [
    "max(energyHigh)"
   ]
  },
  {
   "cell_type": "code",
   "execution_count": null,
   "metadata": {
    "collapsed": true
   },
   "outputs": [],
   "source": [
    "effAreaTree.Print()\n",
    "br = effAreaTree.GetListOfBranches()"
   ]
  },
  {
   "cell_type": "code",
   "execution_count": null,
   "metadata": {
    "collapsed": true
   },
   "outputs": [],
   "source": [
    "a = VPlotInstrumentResponseFunction()"
   ]
  },
  {
   "cell_type": "code",
   "execution_count": null,
   "metadata": {
    "collapsed": true
   },
   "outputs": [],
   "source": [
    "a.addInstrumentResponseData(\"/home/thassan/Paquetes/lastVersion/V2DL3/eventDisplay/EffArea-GRISU-V5-ID0-Ze20deg-0.5wob-200-Cut-NTel2-PointSource-Moderate.root\", 20., 0.5, 0, 1.5, 200, \"A_MC\" )"
   ]
  },
  {
   "cell_type": "code",
   "execution_count": null,
   "metadata": {
    "collapsed": true
   },
   "outputs": [],
   "source": [
    "canv = a.plotAngularResolution2D()"
   ]
  },
  {
   "cell_type": "code",
   "execution_count": null,
   "metadata": {
    "collapsed": true
   },
   "outputs": [],
   "source": [
    "canv = a.plotEffectiveArea()"
   ]
  },
  {
   "cell_type": "code",
   "execution_count": null,
   "metadata": {
    "collapsed": true
   },
   "outputs": [],
   "source": [
    "lst = canv.GetListOfPrimitives().At(1)"
   ]
  },
  {
   "cell_type": "code",
   "execution_count": null,
   "metadata": {
    "collapsed": true
   },
   "outputs": [],
   "source": [
    "effArea = lst.At(1)"
   ]
  },
  {
   "cell_type": "code",
   "execution_count": null,
   "metadata": {
    "collapsed": true
   },
   "outputs": [],
   "source": []
  },
  {
   "cell_type": "code",
   "execution_count": null,
   "metadata": {
    "collapsed": true
   },
   "outputs": [],
   "source": [
    "# a.addInstrumentResponseData(effAreaFileName, 0., 0.5, 0, 2.0, 200, \"A_REC\" );\n",
    "a.addInstrumentResponseData(\"EffArea-GRISU-V5-ID0-Ze00deg-0.5wob-200-Cut-NTel2-PointSource-Moderate.root\", 0., 0.5, 0, 1.5, 200, \"A_MC\" );\n",
    "#  ze              = 0\n",
    "#  az              = 0\n",
    "#  azMin           = 135\n",
    "#  azMax           = -165\n",
    "#  Xoff            = -0\n",
    "#  Yoff            = 0.500001\n",
    "#  Woff            = 0.500001\n",
    "#  noise           = 200\n",
    "#  noisePE         = 1.33333e+12\n",
    "#  pedvar          = 5.22773\n",
    "#  index           = 1.5\n",
    "#  nbins           = 37\n",
    "#  e0              = -1.35, \n",
    "#                   -1.25, -1.15, -1.05, -0.95, -0.85, \n",
    "#                   -0.75, -0.65, -0.55, -0.45, -0.35, \n",
    "#                   -0.25, -0.15, -0.05, 0.05, 0.15, \n",
    "#                   0.25, 0.35, 0.45, 0.55\n",
    "#  eff             = 0.581732, \n",
    "#                   4.42918, 47.5104, 411.253, 2150.6, 8110.85, \n",
    "#                   19767.7, 30946.5, 41005.5, 50129.1, 58824.7, \n",
    "#                   66900.8, 74522.8, 82933.1, 86970.8, 92670.7, \n",
    "#                   96005.4, 96591.2, 98485.2, 98040.6\n",
    "#  seff_L          = 0.581732, \n",
    "#                   1.80847, 6.59182, 21.8043, 55.8764, 121.339, \n",
    "#                   211.656, 294.99, 379.653, 472.217, 568.728, \n",
    "#                   679.916, 802.042, 950.145, 1092.4, 1252.61, \n",
    "#                   1444.14, 1619.38, 1826.96, 2024.25\n",
    "#  seff_U          = 0.581732, \n",
    "#                   1.80847, 6.59182, 21.8043, 55.8764, 121.339, \n",
    "#                   211.656, 294.99, 379.653, 472.217, 568.728, \n",
    "#                   679.916, 802.042, 950.145, 1092.4, 1252.61, \n",
    "#                   1444.14, 1619.38, 1826.96, 2024.25\n",
    "#  Rec_nbins       = 33\n",
    "#  Rec_e0          = -0.95, \n",
    "#                   -0.85, -0.75, -0.65, -0.55, -0.45, \n",
    "#                   -0.35, -0.25, -0.15, -0.05, 0.05, \n",
    "#                   0.15, 0.25, 0.35, 0.45, 0.55, \n",
    "#                   0.65, 0.75, 0.85, 0.95\n",
    "#  Rec_eff         = 10.3404, \n",
    "#                   5882.25, 24140.2, 33998.7, 42029.3, 52021.6, \n",
    "#                   61149.6, 68168.8, 75198.2, 82567.8, 88657.5, \n",
    "#                   94143.5, 94013, 96238.4, 94040.4, 95566.3, \n",
    "#                   99498.8, 96909.2, 88774.7, 90944.7\n",
    "#  Rec_seff_L      = 3.95946, \n",
    "#                   104.228, 233.908, 309.844, 386.195, 483.262, \n",
    "#                   583.668, 691.972, 812.561, 956.841, 1114.21, \n",
    "#                   1275.95, 1445.35, 1637.23, 1810.36, 2024.16, \n",
    "#                   2367.97, 2569.03, 2799.66, 3229.48\n",
    "#  Rec_seff_U      = 3.95946, \n",
    "#                   104.228, 233.908, 309.844, 386.195, 483.262, \n",
    "#                   583.668, 691.972, 812.561, 956.841, 1114.21, \n",
    "#                   1275.95, 1445.35, 1637.23, 1810.36, 2024.16, \n",
    "#                   2367.97, 2569.03, 2799.66, 3229.48\n",
    "#  hEmc            = (TH1D*)0x2330880\n",
    "#  hEcut           = (TH1D*)0x2351620\n",
    "#  hEcutUW         = (TH1D*)0x23581d0\n",
    "#  hEcutLin        = (TH1D*)0x235bea0\n",
    "#  hEcut500        = (TH1D*)0x2377550\n",
    "#  hEcutRec        = (TH1D*)0x21fd250\n",
    "#  hEcutRecUW      = (TH1D*)0x2203db0\n",
    "#  gEffAreaMC      = 22041f0\n",
    "\n",
    "#  gEffAreaRec     = 2392790\n",
    "\n",
    "#  hEmcSWeight     = 2204b90\n",
    "\n",
    "#  hEsysRec        = 23c4220\n",
    "\n",
    "#  hEsysMC         = 23e4510\n",
    "\n",
    "#  hEsysMCRelative = 23916c0\n",
    "\n",
    "#  hEsysMCRelativeRMS = 2408670\n",
    "\n",
    "#  hEsysMCRelative2D = 245e960\n",
    "\n",
    "#  hEsys2D         = 2408710\n",
    "\n",
    "#  hResponseMatrix = 24e4720\n",
    "\n",
    "#  hResponseMatrixProfile = 24f9ee0\n",
    "\n",
    "#  hResponseMatrixQC = 24fa3d0\n",
    "\n",
    "#  hEmcCutCTA      = 25070e0\n",
    "\n",
    "#  hResponseMatrixFineQC = 2507860\n",
    "\n",
    "#  hWeightedRate   = (TH1D*)0x2508020\n",
    "#  hhEcutTrigger   = (TH1D*)0x25396c0\n",
    "#  hhEcutFiducialArea = (TH1D*)0x253d300\n",
    "#  hhEcutStereoQuality = (TH1D*)0x253e090\n",
    "#  hhEcutTelType   = (TH1D*)0x255c4c0\n",
    "#  hhEcutDirection = (TH1D*)0x253f020\n",
    "#  hhEcutEnergyReconstruction = (TH1D*)0x2578b40\n",
    "#  hhEcutGammaHadron = (TH1D*)0x25a2f10"
   ]
  },
  {
   "cell_type": "markdown",
   "metadata": {},
   "source": [
    "# File Generation\n",
    "\n",
    "## First we need to generate the primary HDU\n",
    "\n",
    "This contains the information about who wrote the file and the standards that it is written too.\n",
    "The basic header has some information, we need to complete it to have the following\n",
    "\n",
    "<pre>\n",
    "SIMPLE  =                    T / file does conform to FITS standard             \n",
    "BITPIX  =                    8 / number of bits per data pixel                  \n",
    "NAXIS   =                    0 / number of data axes                            \n",
    "EXTEND  =                    T / FITS dataset may contain extensions            \n",
    "COMMENT   FITS (Flexible Image Transport System) format is defined in 'Astronomy\n",
    "COMMENT   and Astrophysics', volume 376, page 359; bibcode: 2001A&A...376..359H \n",
    "TELESCOP= 'VERITAS'            / Telescope                                      \n",
    "LICENSE = '        '           / Copyright (c) 2018,The VERITAS Collaboration     \n",
    "</pre>"
   ]
  },
  {
   "cell_type": "code",
   "execution_count": null,
   "metadata": {
    "collapsed": true
   },
   "outputs": [],
   "source": [
    "i = 3\n",
    "\n",
    "runs = [54809, 57993, 58456, 59523]\n",
    "atms = [21, 22, 21, 21]\n",
    "\n",
    "run = str(runs[i])\n",
    "atm = str(atms[i])\n",
    "st5File = \"VEGAS/\"+run+\".med.ED.050.St5_Stereo.root\"\n",
    "eaFile = \"VEGAS/EA_na\"+atm+\"stan_medPoint_050_ED_GRISU.root\"\n",
    "outfile = 'VEGAS/DL3/'+run+'_DL3.fits'"
   ]
  },
  {
   "cell_type": "code",
   "execution_count": null,
   "metadata": {
    "collapsed": true
   },
   "outputs": [],
   "source": [
    "hdu0 = fits.PrimaryHDU()\n",
    "hdu0.header.set('TELESCOP', 'VERITAS', 'Telescope')\n",
    "hdu0.header.set('LICENSE ', '', 'Copyright (c) 2018,The VERITAS Collaboration')\n",
    "hdu0.header['COMMENT'] = \"FITS (Flexible Image Transport System) format is defined in 'Astronomy\"\n",
    "hdu0.header['COMMENT'] = \"and Astrophysics', volume 376, page 359; bibcode: 2001A&A...376..359H\""
   ]
  },
  {
   "cell_type": "code",
   "execution_count": null,
   "metadata": {
    "collapsed": true
   },
   "outputs": [],
   "source": [
    "hdu0.header"
   ]
  },
  {
   "cell_type": "markdown",
   "metadata": {},
   "source": [
    "## Event Table \n",
    "The second hdu is the event table - this includes all of the events that pass the gamma/hadron selection cuts.\n",
    "\n",
    "To load this we need to read in the VEGAS stage 5 file and select the keys of interest.  Then this can be saved into a table and then the hdu.  \n",
    "\n",
    "We also need to put a lot of information into the header about the observations."
   ]
  },
  {
   "cell_type": "code",
   "execution_count": null,
   "metadata": {
    "collapsed": true
   },
   "outputs": [],
   "source": [
    "vegasFileIO = VARootIO(st5File, True)\n",
    "runHeader = vegasFileIO.loadTheRunHeader()\n",
    "selectedEventsTree = vegasFileIO.loadTheCutEventTree()\n",
    "qStatsData = vegasFileIO.loadTheQStatsData()\n",
    "\n",
    "arrayInfo = vegasFileIO.loadTheArrayInfo(0)\n",
    "pixelData = vegasFileIO.loadThePixelStatusData()"
   ]
  },
  {
   "cell_type": "code",
   "execution_count": null,
   "metadata": {
    "collapsed": true
   },
   "outputs": [],
   "source": [
    "runHeader.printRunHeader()"
   ]
  },
  {
   "cell_type": "code",
   "execution_count": null,
   "metadata": {
    "collapsed": true
   },
   "outputs": [],
   "source": [
    "selectedEventsTree.Print()"
   ]
  },
  {
   "cell_type": "markdown",
   "metadata": {},
   "source": [
    "### First we need to generate an array of the data"
   ]
  },
  {
   "cell_type": "code",
   "execution_count": null,
   "metadata": {
    "collapsed": true
   },
   "outputs": [],
   "source": [
    "evNumArr = []\n",
    "timeArr = []\n",
    "raArr = []\n",
    "decArr = []\n",
    "azArr = []\n",
    "altArr = []\n",
    "energyArr = []\n",
    "detXArr = []\n",
    "detYArr = []\n",
    "nTelArr = []"
   ]
  },
  {
   "cell_type": "markdown",
   "metadata": {},
   "source": [
    "### Now we can populate the array from the ROOT file\n",
    "\n",
    "Note: We also need to save some useful information for the average altitude, azimuth, RA and Dec.\n",
    "\n",
    "I am not sure how best to do the average of the azimuth - I have ignored this for now ..."
   ]
  },
  {
   "cell_type": "code",
   "execution_count": null,
   "metadata": {
    "collapsed": true
   },
   "outputs": [],
   "source": [
    "avAlt = []\n",
    "avAz = []\n",
    "avRA = []\n",
    "avDec = []\n",
    "for ev in selectedEventsTree:\n",
    "    evNumArr.append(ev.S.fArrayEventNum)\n",
    "    timeArr.append(float(ev.S.fTime.getDayNS())/1e9)\n",
    "    raArr.append(np.rad2deg(ev.S.fDirectionRA_J2000_Rad))\n",
    "    decArr.append(np.rad2deg(ev.S.fDirectionDec_J2000_Rad))\n",
    "    azArr.append(np.rad2deg(ev.S.fDirectionAzimuth_Rad))\n",
    "    altArr.append(np.rad2deg(ev.S.fDirectionElevation_Rad))\n",
    "    energyArr.append(ev.S.fEnergy_GeV / 1000.)\n",
    "    detXArr.append(ev.S.fDirectionXCamPlane_Deg)\n",
    "    detYArr.append(ev.S.fDirectionYCamPlane_Deg)\n",
    "    nTelArr.append(ev.S.fImages)\n",
    "    \n",
    "    avAlt.append(ev.S.fArrayTrackingElevation_Deg)\n",
    "    avAz.append(ev.S.fArrayTrackingAzimuth_Deg)\n",
    "    avRA.append(ev.S.fArrayTrackingRA_J2000_Rad)\n",
    "    avDec.append(ev.S.fArrayTrackingDec_J2000_Rad)\n",
    "        \n",
    "avAlt = np.mean(avAlt)\n",
    "avAz = np.mean(avAz)\n",
    "avRA = np.rad2deg(np.mean(avRA))\n",
    "avDec = np.rad2deg(np.mean(avDec))"
   ]
  },
  {
   "cell_type": "markdown",
   "metadata": {},
   "source": [
    "### Now we need to generate an HDU"
   ]
  },
  {
   "cell_type": "code",
   "execution_count": null,
   "metadata": {
    "collapsed": true
   },
   "outputs": [],
   "source": [
    "hdu1 = fits.BinTableHDU.from_columns([\n",
    "    fits.Column(name='EVENT_ID', format='1J', array=evNumArr), \n",
    "    fits.Column(name='TIME', format='1D', array=timeArr, unit=\"s\"), \n",
    "    fits.Column(name='RA', format='1E', array=raArr, unit = \"deg\"), \n",
    "    fits.Column(name='DEC', format='1E', array=decArr, unit = \"deg\"), \n",
    "    fits.Column(name='ALT', format='1E', array=altArr, unit = \"deg\"), \n",
    "    fits.Column(name='AZ', format='1E', array=azArr, unit = \"deg\"), \n",
    "    fits.Column(name='ENERGY', format='1E', array=energyArr, unit = \"TeV\"), \n",
    "    fits.Column(name='DETX', format='1E', array=detXArr, unit = \"deg\"), \n",
    "    fits.Column(name='DETY', format='1E', array=detYArr, unit = \"deg\"),\n",
    "    fits.Column(name=\"EVENT_TYPE\", format=\"1J\", array=nTelArr)\n",
    "])\n",
    "hdu1.name = \"EVENTS\""
   ]
  },
  {
   "cell_type": "markdown",
   "metadata": {},
   "source": [
    "### Header Information"
   ]
  },
  {
   "cell_type": "code",
   "execution_count": null,
   "metadata": {
    "collapsed": true
   },
   "outputs": [],
   "source": [
    "hdu1.header.set('OBS_ID  ', runHeader.getRunNumber(), 'Run Number')\n",
    "hdu1.header.set('TELESCOP', 'VERITAS', 'Data from VERITAS')\n",
    "\n",
    "startTime = runHeader.getStartTime()\n",
    "endTime = runHeader.getEndTime()\n",
    "\n",
    "startTime_s = float(startTime.getDayNS()) / 1e9\n",
    "endTime_s = float(endTime.getDayNS()) / 1e9\n",
    "hdu1.header.set('DATE-OBS',\n",
    "                startTime.getString().split()[0],\n",
    "                'start date (UTC) of obs yy-mm-dd')\n",
    "hdu1.header.set('TIME-OBS',\n",
    "                startTime.getString().split()[1],\n",
    "                'start time (UTC) of obs hh-mm-ss')\n",
    "hdu1.header.set('DATE-END',\n",
    "                endTime.getString().split()[0],\n",
    "                'end date (UTC) of obs yy-mm-dd')\n",
    "hdu1.header.set('TIME-END',\n",
    "                endTime.getString().split()[1],\n",
    "                'end time (UTC) of obs hh-mm-ss')\n",
    "\n",
    "hdu1.header.set('TSTART  ',\n",
    "                startTime_s,\n",
    "                'mission time of start of obs [s]')\n",
    "hdu1.header.set('TSTOP   ',\n",
    "                endTime_s,\n",
    "                'mission time of end of obs [s]')\n",
    "hdu1.header.set('MJDREFI ',\n",
    "                int(startTime.getMJDInt()), 'int part of reference MJD [days]')\n",
    "hdu1.header.set('MJDREFF ', 0., 'fractional part of reference MJD [days]')\n",
    "\n",
    "hdu1.header.set('TIMEUNIT', 's', 'time unit is seconds since MET start')\n",
    "hdu1.header.set('TIMESYS ', 'utc', 'time scale is UTC')\n",
    "hdu1.header.set('TIMEREF ', 'local', 'local time reference')\n",
    "\n",
    "hdu1.header.set('ONTIME  ', \n",
    "                endTime_s - startTime_s,\n",
    "                'time on target (including deadtime)')\n",
    "hdu1.header.set('LIVETIME', runHeader.pfRunDetails.fRunNominalLiveTimeSeconds,\n",
    "                '(dead=ONTIME-LIVETIME) [s] ')\n",
    "hdu1.header.set('DEADC   ', runHeader.getLiveTimeFrac(),\n",
    "                'average deadtime fraction [] ')\n",
    "\n",
    "hdu1.header.set('OBJECT  ', runHeader.getSourceId(), 'observed object')\n",
    "\n",
    "hdu1.header.set('RA_PNT  ', avRA, 'observation position RA [deg]')\n",
    "hdu1.header.set('DEC_PNT ', avDec, 'observation position DEC [deg]')\n",
    "hdu1.header.set('ALT_PNT ', avAlt, 'average altitude of pointing [deg]')\n",
    "hdu1.header.set('AZ_PNT  ', avAz, 'average azimuth of pointing [deg]')\n",
    "\n",
    "hdu1.header.set('RA_OBJ  ',\n",
    "                np.rad2deg(runHeader.getSourceRA()),\n",
    "                'observation position RA [deg]')\n",
    "hdu1.header.set('DEC_OBJ ',\n",
    "                np.rad2deg(runHeader.getSourceDec()),\n",
    "                'observation position DEC [deg]')\n",
    "\n",
    "# get the list of telescopes that participate in the event\n",
    "hdu1.header.set('TELLIST',\n",
    "                produceTelList(runHeader.fRunInfo.fConfigMask),\n",
    "                'comma-separated list of tel IDs')\n",
    "hdu1.header.set('N_TELS', runHeader.pfRunDetails.fTels,\n",
    "                'number of telescopes in event list')\n",
    "\n",
    "# other info - weather? pointing mode\n",
    "\n",
    "hdu1.header.set('EUNIT   ', 'TeV', 'energy unit')\n",
    "hdu1.header.set('GEOLAT  ', np.rad2deg(arrayInfo.longitudeRad()), 'longitude of array center [deg]')\n",
    "hdu1.header.set('GEOLON  ', np.rad2deg(arrayInfo.latitudeRad()), 'latitude of array center [deg]')\n",
    "hdu1.header.set('ALTITUDE', arrayInfo.elevationM(), 'altitude of array center [m]')\n",
    "\n",
    "# What are these for? - May note be needed, leave out for now.\n",
    "# hdu1.header.set('DSTYP1', 'TIME    ', 'Data selection type')\n",
    "# hdu1.header.set('DSUNI1', 's       ', 'Data selection unit')\n",
    "# hdu1.header.set('DSVAL1', 'TABLE   ', 'Data selection value')\n",
    "# hdu1.header.set('DSREF1', ':GTI    ', 'Data selection reference')\n",
    "# hdu1.header.set('DSTYP2', 'POS(RA,DEC)', 'Data selection type')\n",
    "# hdu1.header.set('DSUNI2', 'deg     ', 'Data selection unit')\n",
    "# hdu1.header.set('DSVAL2', 'CIRCLE(83.63,22.01,5)', 'Data selection value')\n",
    "# hdu1.header.set('DSTYP3', 'ENERGY  ', 'Data selection type')\n",
    "# hdu1.header.set('DSUNI3', 'TeV     ', 'Data selection unit')\n",
    "# hdu1.header.set('DSVAL3', '0.05:100', 'Data selection value')\n",
    "# hdu1.header.set('NDSKEYS', '3       ', 'Number of data selections')\n",
    "# hdu1.header"
   ]
  },
  {
   "cell_type": "markdown",
   "metadata": {},
   "source": [
    "## Good Time Intervals (GTI)"
   ]
  },
  {
   "cell_type": "code",
   "execution_count": null,
   "metadata": {
    "collapsed": true
   },
   "outputs": [],
   "source": [
    "goodTimeStart = []\n",
    "goodTimeStop = []\n",
    "\n",
    "goodTimeStart.append(startTime_s)\n",
    "goodTimeStop.append(endTime_s)"
   ]
  },
  {
   "cell_type": "code",
   "execution_count": null,
   "metadata": {
    "collapsed": true
   },
   "outputs": [],
   "source": [
    "# do we record the unit in this table as well? (it is in seconds)\n",
    "\n",
    "hdu2 = fits.BinTableHDU.from_columns([\n",
    "    fits.Column(name='START', format='1D', array=goodTimeStart), \n",
    "    fits.Column(name='STOP', format='1D', array=goodTimeStop)\n",
    "])\n",
    "hdu2.name = \"GTI\"\n",
    "hdu2.header"
   ]
  },
  {
   "cell_type": "markdown",
   "metadata": {},
   "source": [
    "## Effective Area\n",
    "\n",
    "Question - what do we need to do about sim vs real spectral index?"
   ]
  },
  {
   "cell_type": "markdown",
   "metadata": {},
   "source": [
    "### First we need to load the EA file"
   ]
  },
  {
   "cell_type": "code",
   "execution_count": null,
   "metadata": {
    "collapsed": true
   },
   "outputs": [],
   "source": [
    "effectiveAreaIO = VARootIO(eaFile, True)\n",
    "effectiveAreaIO.loadTheRootFile()"
   ]
  },
  {
   "cell_type": "markdown",
   "metadata": {},
   "source": [
    "### Then we need to load the Effective Area"
   ]
  },
  {
   "cell_type": "code",
   "execution_count": null,
   "metadata": {
    "collapsed": true
   },
   "outputs": [],
   "source": [
    "effectiveAreaManager = VAEffectiveAreaManager()\n",
    "effectiveAreaManager.loadEffectiveAreas(effectiveAreaIO)\n",
    "effectiveAreaManager.setUseReconstructedEnergy(False)"
   ]
  },
  {
   "cell_type": "markdown",
   "metadata": {},
   "source": [
    "### Calculate Average Noise of run"
   ]
  },
  {
   "cell_type": "code",
   "execution_count": null,
   "metadata": {
    "collapsed": true
   },
   "outputs": [],
   "source": [
    "avNoise = 0\n",
    "nTels = 0\n",
    "for telID in decodeConfigMask(runHeader.fRunInfo.fConfigMask):\n",
    "    avNoise += qStatsData.getCameraAverageTraceVarTimeIndpt(telID-1, windowSizeForNoise, pixelData, arrayInfo)\n",
    "    nTels += 1\n",
    "\n",
    "avNoise /= nTels"
   ]
  },
  {
   "cell_type": "markdown",
   "metadata": {},
   "source": [
    "### Set the EA parameters"
   ]
  },
  {
   "cell_type": "code",
   "execution_count": null,
   "metadata": {
    "collapsed": true
   },
   "outputs": [],
   "source": [
    "effectiveAreaParameters = VAEASimpleParameterData()\n",
    "effectiveAreaParameters.fAzimuth = (avAz)\n",
    "effectiveAreaParameters.fZenith = (90. - avAlt)\n",
    "effectiveAreaParameters.fNoise = avNoise # this still needs to be worked out\n",
    "effectiveAreaParameters.fOffset = 0.5 # itterate over this in steps? (0.5deg as for sims?)\n",
    "\n",
    "# convert to vector of parameters since this is required for a number of steps\n",
    "effectiveAreaParameters = effectiveAreaManager.getVectorParamsFromSimpleParameterData(effectiveAreaParameters)\n"
   ]
  },
  {
   "cell_type": "markdown",
   "metadata": {},
   "source": [
    "### Get the EA"
   ]
  },
  {
   "cell_type": "code",
   "execution_count": null,
   "metadata": {
    "collapsed": true
   },
   "outputs": [],
   "source": [
    "effectiveArea = effectiveAreaManager.getEffectiveAreaCurve(effectiveAreaParameters)"
   ]
  },
  {
   "cell_type": "markdown",
   "metadata": {},
   "source": [
    "### Lets Check by Plotting"
   ]
  },
  {
   "cell_type": "code",
   "execution_count": null,
   "metadata": {
    "collapsed": true
   },
   "outputs": [],
   "source": [
    "x, y, ye = [], [], []\n",
    "for i in range(effectiveArea.GetN()):\n",
    "    tmpX, tmpY = ROOT.Double(0), ROOT.Double(0)\n",
    "    effectiveArea.GetPoint(i, tmpX, tmpY)\n",
    "    ye.append(effectiveArea.GetErrorY(i))\n",
    "    effectiveArea.GetErrorX\n",
    "    x.append(tmpX)\n",
    "    y.append(tmpY)\n",
    "        \n",
    "x = np.array(x)\n",
    "y = np.array(y)\n",
    "ye = np.array(ye)"
   ]
  },
  {
   "cell_type": "code",
   "execution_count": null,
   "metadata": {
    "collapsed": true
   },
   "outputs": [],
   "source": [
    "# this can be removed from the later code but is good for checking\n",
    "plt.errorbar(x, y, yerr = ye, ls = \"\", marker = \"_\")\n",
    "plt.semilogy()"
   ]
  },
  {
   "cell_type": "code",
   "execution_count": null,
   "metadata": {
    "collapsed": true
   },
   "outputs": [],
   "source": [
    "energyLow = np.power(10, x - (x[1] - x[0])/2.)\n",
    "energyHigh = np.power(10, x + (x[1] - x[0])/2.)\n",
    "thetaLow = [0.0, 1.0]\n",
    "thetaHigh = [1.0, 2.0]\n",
    "# ea = np.vstack((y, y))\n",
    "ea = [y,y]\n",
    "minEnergy , maxEnergy = c_float(), c_float()\n",
    "effectiveAreaManager.getSafeEnergyRange(effectiveAreaParameters, 0.5, minEnergy, maxEnergy)"
   ]
  },
  {
   "cell_type": "code",
   "execution_count": null,
   "metadata": {
    "collapsed": true
   },
   "outputs": [],
   "source": [
    "x = np.array([(energyLow, energyHigh, thetaLow, thetaHigh, ea)], \n",
    "             dtype=[('ENERG_LO', '>f4', np.shape(energyLow)), \n",
    "                    ('ENERG_HI', '>f4', np.shape(energyHigh)), \n",
    "                    ('THETA_LO', '>f4', np.shape(thetaLow)), \n",
    "                    ('THETA_HI', '>f4', np.shape(thetaHigh)), \n",
    "                    ('EFFAREA', '>f4', np.shape(ea))])"
   ]
  },
  {
   "cell_type": "code",
   "execution_count": null,
   "metadata": {
    "collapsed": true
   },
   "outputs": [],
   "source": [
    "hdu3 = fits.BinTableHDU(data=x)\n",
    "hdu3.name = \"EFFECTIVE AREA\"\n",
    "\n",
    "hdu3.header.set('TUNIT1 ', 'TeV', \"\")\n",
    "hdu3.header.set('TUNIT2 ', 'TeV', \"\")\n",
    "hdu3.header.set('TUNIT3 ', 'deg', \"\")\n",
    "hdu3.header.set('TUNIT4 ', 'deg', \"\")\n",
    "hdu3.header.set('TUNIT5 ', 'm^2', \"\")\n",
    "\n",
    "hdu3.header.set('HDUCLASS', 'GADF',\n",
    "                'FITS file following the GADF data format.')\n",
    "hdu3.header.set('HDUCLAS1', 'RESPONSE', 'HDU class')\n",
    "hdu3.header.set('HDUCLAS2', 'EFF_AREA', 'HDU class')\n",
    "hdu3.header.set('HDUCLAS3', 'POINT-LIKE', 'HDU class')\n",
    "hdu3.header.set('HDUCLAS4', 'AEFF_2D', 'HDU class')\n",
    "hdu3.header.set('LO_THRES', minEnergy.value/1000.,\n",
    "                'Low energy threshold of validity [TeV]')\n",
    "hdu3.header.set('HI_THRES', maxEnergy.value/1000.,\n",
    "                'High energy threshold of validity [TeV]')\n",
    "hdu3.header.set('RAD_MAX ', 0.1, 'Direction cut applied [deg]')\n",
    "\n",
    "hdu3.columns"
   ]
  },
  {
   "cell_type": "code",
   "execution_count": null,
   "metadata": {
    "collapsed": true
   },
   "outputs": [],
   "source": [
    "hdu3.header"
   ]
  },
  {
   "cell_type": "markdown",
   "metadata": {},
   "source": [
    "## Migration Matrix\n",
    "We want to get pfEnergy_Rec_VS_MC_2D for the correct parameters.\n",
    "\n",
    "This could be done with a getter within VEGAS - lets try that first!"
   ]
  },
  {
   "cell_type": "code",
   "execution_count": null,
   "metadata": {
    "collapsed": true
   },
   "outputs": [],
   "source": [
    "a, e = hist2array(effectiveAreaManager.getEnergyBias2D(effectiveAreaParameters), return_edges=True)"
   ]
  },
  {
   "cell_type": "code",
   "execution_count": null,
   "metadata": {
    "collapsed": true
   },
   "outputs": [],
   "source": [
    "eLow = np.power(10, [e[0][:-1]])[0]\n",
    "eHigh = np.power(10, [e[0][1:]])[0]\n",
    "\n",
    "bLow = np.power(10, [e[1][:-1]])[0]\n",
    "bHigh = np.power(10, [e[1][1:]])[0]\n",
    "\n",
    "ac = []\n",
    "for aa in a:\n",
    "    if np.sum(aa) > 0:\n",
    "        ab = aa / np.sum(aa*(bHigh - bLow))\n",
    "    else:\n",
    "        ab = aa\n",
    "    try:\n",
    "        ac = np.vstack((ac, ab))\n",
    "    except:\n",
    "        ac = ab\n",
    "        \n",
    "ac = ac.transpose()"
   ]
  },
  {
   "cell_type": "code",
   "execution_count": null,
   "metadata": {
    "collapsed": true
   },
   "outputs": [],
   "source": [
    "# again good for checking - will delete later\n",
    "plt.imshow(np.log10(ac))\n",
    "plt.colorbar()"
   ]
  },
  {
   "cell_type": "code",
   "execution_count": null,
   "metadata": {
    "collapsed": true
   },
   "outputs": [],
   "source": [
    "x = np.array([(eLow, eHigh, bLow, bHigh, [0, 1.0], [1.0, 2.0], [ac, ac])], \n",
    "             dtype=[('ETRUE_LO', '>f4', (len(eLow),)), \n",
    "                    ('ETRUE_HI', '>f4', (len(eHigh),)), \n",
    "                    ('MIGRA_LO', '>f4', (len(bLow),)), \n",
    "                    ('MIGRA_HI', '>f4', (len(bLow),)), \n",
    "                    ('THETA_LO', '>f4', (2,)), \n",
    "                    ('THETA_HI', '>f4', (2,)), \n",
    "                    ('MATRIX', '>f4', (2, np.shape(ac)[0], np.shape(ac)[1]))])\n",
    "\n",
    "hdu4 = fits.BinTableHDU(data=x)\n",
    "hdu4.name = \"ENERGY DISPERSION\"\n",
    "\n",
    "hdu4.header.set('TUNIT1 ', 'TeV', \"\")\n",
    "hdu4.header.set('TUNIT2 ', 'TeV', \"\")\n",
    "hdu4.header.set('TUNIT5 ', 'deg', \"\")\n",
    "hdu4.header.set('TUNIT6 ', 'deg', \"\")\n",
    "# hdu3.header.set('TUNIT5 ', 'm^2', \"\")\n",
    "\n",
    "hdu4.header.set('HDUCLASS', 'GADF',\n",
    "                'FITS file following the GADF data format.')\n",
    "hdu4.header.set('HDUCLAS1', 'RESPONSE', 'HDU class')\n",
    "hdu4.header.set('HDUCLAS2', 'EDISP', 'HDU class')\n",
    "hdu4.header.set('HDUCLAS3', 'POINT-LIKE', 'HDU class')\n",
    "hdu4.header.set('HDUCLAS4', 'EDISP_2D', 'HDU class')\n",
    "hdu4.header.set('LO_THRES', minEnergy.value/1000.,\n",
    "                'Low energy threshold of validity [TeV]')\n",
    "hdu4.header.set('HI_THRES', maxEnergy.value/1000.,\n",
    "                'High energy threshold of validity [TeV]')\n",
    "hdu4.header.set('RAD_MAX ', 0.1, 'Direction cut applied [deg]')\n",
    "\n",
    "hdu4.columns"
   ]
  },
  {
   "cell_type": "code",
   "execution_count": null,
   "metadata": {
    "collapsed": true
   },
   "outputs": [],
   "source": [
    "hdu4.header"
   ]
  },
  {
   "cell_type": "markdown",
   "metadata": {},
   "source": [
    "## Write FITS file"
   ]
  },
  {
   "cell_type": "code",
   "execution_count": null,
   "metadata": {
    "collapsed": true
   },
   "outputs": [],
   "source": [
    "hdulist = fits.HDUList([hdu0, hdu1, hdu2, hdu3, hdu4])\n",
    "hdulist.writeto(outfile, overwrite=True)"
   ]
  },
  {
   "cell_type": "markdown",
   "metadata": {},
   "source": [
    "## Playing around with ED effective areas"
   ]
  },
  {
   "cell_type": "code",
   "execution_count": 21,
   "metadata": {
    "collapsed": true
   },
   "outputs": [],
   "source": [
    "# Let's play around a bit with v501_rd effective area files (after merging, with surviving histograms)\n",
    "# effAreaFileName = '/home/thassan/VERITAS/DL3/DL3_for_eventDisplay/EffectiveAreas_v501_rd/effArea-v501-TL5035MA20-auxv01-CARE_June1702-Cut-NTel4-PointSource-TMVA-BDT-Preselection-GEOID3-V6-ATM61-T1234.root'\n",
    "# effAreaFileName = '/home/thassan/VERITAS/DL3/DL3_for_eventDisplay/EffectiveAreas_v501_rd/effArea-v501-TL5035MA20-auxv01-CARE_June1702-Cut-NTel2-PointSource-TMVA-BDT-Preselection-GEOID0-V6-ATM61-T1234.root'\n",
    "# effAreaFileName = '/home/thassan/Workspace/VERITAS_macros/DL3/eventDisplay/gernot_effarea_test_direction.root'\n",
    "effAreaFileName = '/home/thassan/Workspace/VERITAS_macros/DL3/eventDisplay/gernot_effarea_test_direction_full_stats.root'\n",
    "\n",
    "# angResTree = effAreaFile.Get(\"t_angular_resolution\")\n",
    "effAreaFile = TFile.Open(effAreaFileName)\n",
    "effAreaTree = effAreaFile.Get(\"fEffArea\")\n",
    "cuts = effAreaFile.Get(\"GammaHadronCuts\")\n",
    "\n",
    "fast_effArea = uproot.open(effAreaFileName)['fEffArea']"
   ]
  },
  {
   "cell_type": "code",
   "execution_count": 22,
   "metadata": {},
   "outputs": [
    {
     "name": "stdout",
     "output_type": "stream",
     "text": [
      "[-1.350000023841858, -1.25, -1.149999976158142, -1.0499999523162842, -0.949999988079071, -0.8500000238418579, -0.75, -0.6499999761581421, -0.550000011920929, -0.44999998807907104, -0.3499999940395355, -0.25, -0.15000000596046448, -0.05000000074505806, 0.05000000074505806, 0.15000000596046448, 0.25, 0.3499999940395355, 0.44999998807907104, 0.550000011920929, 0.6499999761581421, 0.75, 0.8500000238418579, 0.949999988079071, 1.0499999523162842, 1.149999976158142, 1.25, 1.350000023841858, 1.4500000476837158, 1.5499999523162842, 1.649999976158142, 1.75, 1.850000023841858, 1.9500000476837158, 2.049999952316284, 2.1500000953674316, 2.25, 2.3499999046325684]\n"
     ]
    }
   ],
   "source": [
    "# Grab some values from the first element of the file:\n",
    "for i, entry in enumerate(effAreaTree):\n",
    "    if i == 0:\n",
    "        e0 = [i for i in entry.e0]\n",
    "    else:\n",
    "        break\n",
    "print(e0)"
   ]
  },
  {
   "cell_type": "code",
   "execution_count": 23,
   "metadata": {
    "collapsed": true
   },
   "outputs": [],
   "source": [
    "def remove_duplicities(array, atol):\n",
    "    i = 0\n",
    "    while(i < len(array)-1):\n",
    "        i += 1\n",
    "        if np.isclose(array[i-1], array[i], atol=atol):\n",
    "            array = np.delete(array,i-1)\n",
    "            i -= 1\n",
    "    return array"
   ]
  },
  {
   "cell_type": "code",
   "execution_count": 24,
   "metadata": {
    "collapsed": true
   },
   "outputs": [],
   "source": [
    "all_zes = fast_effArea.array('ze')\n",
    "all_azs = fast_effArea.array('az')\n",
    "all_azMins = fast_effArea.array('azMin')\n",
    "all_azMaxs = fast_effArea.array('azMax')\n",
    "all_Woffs = fast_effArea.array('Woff')\n",
    "all_noises = fast_effArea.array('noise')\n",
    "# There are some bins with +0.01... Check those:\n",
    "all_pedvars = fast_effArea.array('pedvar')\n",
    "all_indexs = fast_effArea.array('index')"
   ]
  },
  {
   "cell_type": "code",
   "execution_count": 25,
   "metadata": {
    "collapsed": true
   },
   "outputs": [],
   "source": [
    "zes, zes_counts = np.unique(np.round(fast_effArea.array('ze'), decimals=2), return_counts=True)\n",
    "azs = np.unique(fast_effArea.array('az'))\n",
    "azMins = np.unique(fast_effArea.array('azMin'))\n",
    "azMaxs = np.unique(fast_effArea.array('azMax'))\n",
    "Woffs, Woffs_counts = np.unique(np.round(fast_effArea.array('Woff'), decimals=2), return_counts=True)\n",
    "noises, noises_counts = np.unique(np.round(fast_effArea.array('noise'), decimals=2), return_counts=True)\n",
    "# There are some bins with +0.01... Check those:\n",
    "pedvars, pedvars_counts = np.unique(np.round(fast_effArea.array('pedvar'), decimals=2), return_counts=True)\n",
    "# for i, pv in enumerate(pedvars):\n",
    "#     if pv\n",
    "indexs, indexs_counts = np.unique(np.round(fast_effArea.array('index'), decimals=2), return_counts=True)"
   ]
  },
  {
   "cell_type": "code",
   "execution_count": 26,
   "metadata": {},
   "outputs": [],
   "source": [
    "# We remove the duplicities from the zenith and pedestal values arrays:\n",
    "zes = remove_duplicities(zes, 2.0)\n",
    "pedvars = remove_duplicities(pedvars, 0.21)"
   ]
  },
  {
   "cell_type": "markdown",
   "metadata": {},
   "source": [
    "The order we will use is:\n",
    "* Azimuth\n",
    "* Index\n",
    "* Pedestal variance\n",
    "* Zenith\n",
    "* Camera offset (Woff)"
   ]
  },
  {
   "cell_type": "code",
   "execution_count": 27,
   "metadata": {},
   "outputs": [
    {
     "data": {
      "text/plain": [
       "(0, 1.5, 4.4, array([ 20.], dtype=float32))"
      ]
     },
     "execution_count": 27,
     "metadata": {},
     "output_type": "execute_result"
    }
   ],
   "source": [
    "tp = (0, 1.5, 4.4, zes)\n",
    "tp"
   ]
  },
  {
   "cell_type": "code",
   "execution_count": 28,
   "metadata": {},
   "outputs": [
    {
     "data": {
      "text/plain": [
       "9"
      ]
     },
     "execution_count": 28,
     "metadata": {},
     "output_type": "execute_result"
    }
   ],
   "source": [
    "len(azs)"
   ]
  },
  {
   "cell_type": "code",
   "execution_count": 29,
   "metadata": {},
   "outputs": [
    {
     "data": {
      "text/plain": [
       "array([ 20.], dtype=float32)"
      ]
     },
     "execution_count": 29,
     "metadata": {},
     "output_type": "execute_result"
    }
   ],
   "source": [
    "zes"
   ]
  },
  {
   "cell_type": "code",
   "execution_count": 30,
   "metadata": {},
   "outputs": [
    {
     "data": {
      "text/plain": [
       "array([ 1.5       ,  1.60000002,  1.70000005,  1.79999995,  1.89999998,\n",
       "        2.        ,  2.0999999 ,  2.20000005,  2.29999995,  2.4000001 ,\n",
       "        2.5       ,  2.5999999 ,  2.70000005,  2.79999995,  2.9000001 ,\n",
       "        3.        ,  3.0999999 ,  3.20000005,  3.29999995,  3.4000001 ,\n",
       "        3.5       ,  3.5999999 ,  3.70000005,  3.79999995,  3.9000001 ,\n",
       "        4.        ,  4.0999999 ,  4.19999981,  4.30000019,  4.4000001 ,\n",
       "        4.5       ,  4.5999999 ,  4.69999981,  4.80000019,  4.9000001 ,\n",
       "        5.        ,  5.0999999 ,  5.19999981,  5.30000019,  5.4000001 ], dtype=float32)"
      ]
     },
     "execution_count": 30,
     "metadata": {},
     "output_type": "execute_result"
    }
   ],
   "source": [
    "indexs"
   ]
  },
  {
   "cell_type": "code",
   "execution_count": 31,
   "metadata": {},
   "outputs": [
    {
     "data": {
      "text/plain": [
       "array([200], dtype=int32)"
      ]
     },
     "execution_count": 31,
     "metadata": {},
     "output_type": "execute_result"
    }
   ],
   "source": [
    "noises"
   ]
  },
  {
   "cell_type": "code",
   "execution_count": 32,
   "metadata": {},
   "outputs": [
    {
     "name": "stdout",
     "output_type": "stream",
     "text": [
      "[ 7.61000013] [360]\n"
     ]
    }
   ],
   "source": [
    "print(pedvars, pedvars_counts)"
   ]
  },
  {
   "cell_type": "code",
   "execution_count": 33,
   "metadata": {},
   "outputs": [
    {
     "name": "stdout",
     "output_type": "stream",
     "text": [
      "9 40 1 1 1\n"
     ]
    }
   ],
   "source": [
    "print(len(azs), len(indexs), len(noises), len(pedvars), len(zes))"
   ]
  },
  {
   "cell_type": "code",
   "execution_count": 34,
   "metadata": {},
   "outputs": [
    {
     "name": "stdout",
     "output_type": "stream",
     "text": [
      "[ 20.] [360]\n"
     ]
    }
   ],
   "source": [
    "check_zes, zes_counts = np.unique(fast_effArea.array('ze'), return_counts=True)\n",
    "print(check_zes, zes_counts)"
   ]
  },
  {
   "cell_type": "code",
   "execution_count": 35,
   "metadata": {},
   "outputs": [
    {
     "name": "stdout",
     "output_type": "stream",
     "text": [
      "[ 1.5         1.60000002  1.70000005  1.79999995  1.89999998  2.          2.0999999\n",
      "  2.20000005  2.29999995  2.4000001   2.5         2.5999999   2.70000005\n",
      "  2.79999995  2.9000001   3.          3.0999999   3.20000005  3.29999995\n",
      "  3.4000001   3.5         3.5999999   3.70000005  3.79999995  3.9000001   4.\n",
      "  4.0999999   4.19999981  4.30000019  4.4000001   4.5         4.5999999\n",
      "  4.69999981  4.80000019  4.9000001   5.          5.0999999   5.19999981\n",
      "  5.30000019  5.4000001 ] [9 9 9 9 9 9 9 9 9 9 9 9 9 9 9 9 9 9 9 9 9 9 9 9 9 9 9 9 9 9 9 9 9 9 9 9 9\n",
      " 9 9 9]\n"
     ]
    }
   ],
   "source": [
    "check_index, counts = np.unique(fast_effArea.array('index'), return_counts=True)\n",
    "print(check_index, counts)"
   ]
  },
  {
   "cell_type": "code",
   "execution_count": 36,
   "metadata": {},
   "outputs": [
    {
     "name": "stdout",
     "output_type": "stream",
     "text": [
      "[200]\n"
     ]
    }
   ],
   "source": [
    "check_noise = np.unique(fast_effArea.array('noise'))\n",
    "print(check_noise)"
   ]
  },
  {
   "cell_type": "code",
   "execution_count": 37,
   "metadata": {},
   "outputs": [
    {
     "name": "stdout",
     "output_type": "stream",
     "text": [
      "[ 7.5999999] [360]\n"
     ]
    }
   ],
   "source": [
    "check_pedvar, counts = np.unique(np.round(fast_effArea.array('pedvar'), decimals=1), return_counts=True)\n",
    "print(check_pedvar, counts)"
   ]
  },
  {
   "cell_type": "code",
   "execution_count": 38,
   "metadata": {},
   "outputs": [
    {
     "data": {
      "text/plain": [
       "array([0, 1, 2, 3, 4, 5, 6, 7, 8], dtype=int32)"
      ]
     },
     "execution_count": 38,
     "metadata": {},
     "output_type": "execute_result"
    }
   ],
   "source": [
    "azs"
   ]
  },
  {
   "cell_type": "code",
   "execution_count": 39,
   "metadata": {},
   "outputs": [
    {
     "name": "stdout",
     "output_type": "stream",
     "text": [
      "['[-1000.0, -135.0]', '[-180.0, -90.0]', '[-135.0, -45.0]', '[-90.0, 0.0]', '[-45.0, 45.0]', '[0.0, 90.0]', '[45.0, 135.0]', '[90.0, 180.0]', '[135.0, 1000.0]']\n"
     ]
    }
   ],
   "source": [
    "print([\"[{}, {}]\".format(azMins[az], azMaxs[az]) for az in azs])"
   ]
  },
  {
   "cell_type": "code",
   "execution_count": 40,
   "metadata": {},
   "outputs": [
    {
     "name": "stdout",
     "output_type": "stream",
     "text": [
      "0 1.5 7.6146039962768555 20.0 0.4999898374080658\n"
     ]
    }
   ],
   "source": [
    "effAreaList = []\n",
    "gEffAreaNoTh2MCList = []\n",
    "for i, entry in enumerate(effAreaTree):\n",
    "#     if i<300:\n",
    "#         continue\n",
    "#     if i%10 == 0:\n",
    "#         print(\"{}/{}\".format(i, len(fast_effArea)))\n",
    "    if i == 0:\n",
    "        print(entry.az, entry.index, entry.pedvar, entry.ze, entry.Woff)\n",
    "        effAreaList.append([i for i in entry.eff])\n",
    "        gEffAreaNoTh2MC = entry.gEffAreaNoTh2MC.Clone()\n",
    "        gEffAreaNoTh2MCList.append(entry.gEffAreaNoTh2MC.Clone())\n",
    "#         gEffAreaNoTh2Rec = entry.gEffAreaNoTh2Rec.Clone()\n",
    "        hEsysMCRelative2D = entry.hEsysMCRelative2D.Clone()\n",
    "#         hEsysMCRelative2DNoDirectionCut = entry.hEsysMCRelative2DNoDirectionCut.Clone()\n",
    "        hAngularDiff_2D = entry.hAngularDiff_2D.Clone()\n",
    "        hAngularDiffEmc_2D = entry.hAngularDiffEmc_2D.Clone()\n",
    "        hAngularLogDiff_2D = entry.hAngularLogDiff_2D.Clone()\n",
    "        hAngularLogDiffEmc_2D = entry.hAngularLogDiffEmc_2D.Clone()\n",
    "#         break\n",
    "    else:\n",
    "        break"
   ]
  },
  {
   "cell_type": "code",
   "execution_count": 41,
   "metadata": {},
   "outputs": [
    {
     "name": "stdout",
     "output_type": "stream",
     "text": [
      "[-1.9   -1.684 -1.468 -1.252 -1.036 -0.82  -0.604 -0.388 -0.172  0.044\n",
      "  0.26   0.476  0.692  0.908  1.124  1.34   1.556  1.772  1.988  2.204\n",
      "  2.42   2.636  2.852  3.068  3.284  3.5  ]\n",
      "[  0.00000000e+00   5.00000000e-04   1.00000000e-03 ...,   4.49900000e+00\n",
      "   4.49950000e+00   4.50000000e+00]\n"
     ]
    }
   ],
   "source": [
    "ang_diff, en = hist2array(hAngularDiff_2D, return_edges=True)\n",
    "true_energy = en[0]\n",
    "print(en[0])\n",
    "print(en[1])"
   ]
  },
  {
   "cell_type": "code",
   "execution_count": 42,
   "metadata": {},
   "outputs": [
    {
     "data": {
      "image/png": "[encoded data removed]",
      "text/plain": [
       "<IPython.core.display.Image object>"
      ]
     },
     "metadata": {},
     "output_type": "display_data"
    }
   ],
   "source": [
    "c = TCanvas(\"hAngularDiff_2D\",\"hAngularDiff_2D\",800,600)\n",
    "hAngularDiff_2D.Draw(\"COLZ\")\n",
    "# c.SetLogy()\n",
    "c.Draw()"
   ]
  },
  {
   "cell_type": "code",
   "execution_count": 43,
   "metadata": {
    "scrolled": false
   },
   "outputs": [
    {
     "data": {
      "image/png": "[encoded data removed]",
      "text/plain": [
       "<IPython.core.display.Image object>"
      ]
     },
     "metadata": {},
     "output_type": "display_data"
    }
   ],
   "source": [
    "c = TCanvas(\"hAngularDiffEmc_2D\",\"hAngularDiffEmc_2D\",800,600)\n",
    "hAngularDiffEmc_2D.Draw(\"COLZ\")\n",
    "# c.SetLogy()\n",
    "c.Draw()"
   ]
  },
  {
   "cell_type": "code",
   "execution_count": 44,
   "metadata": {},
   "outputs": [
    {
     "data": {
      "image/png": "[encoded data removed]",
      "text/plain": [
       "<IPython.core.display.Image object>"
      ]
     },
     "metadata": {},
     "output_type": "display_data"
    }
   ],
   "source": [
    "c = TCanvas(\"hAngularLogDiff_2D\",\"hAngularLogDiff_2D\",800,600)\n",
    "hAngularLogDiff_2D.Draw(\"COLZ\")\n",
    "# c.SetLogy()\n",
    "c.Draw()"
   ]
  },
  {
   "cell_type": "code",
   "execution_count": 45,
   "metadata": {},
   "outputs": [
    {
     "data": {
      "image/png": "[encoded data removed]",
      "text/plain": [
       "<IPython.core.display.Image object>"
      ]
     },
     "metadata": {},
     "output_type": "display_data"
    }
   ],
   "source": [
    "c = TCanvas(\"hAngularLogDiffEmc_2D\",\"hAngularLogDiffEmc_2D\",800,600)\n",
    "hAngularLogDiffEmc_2D.Draw(\"COLZ\")\n",
    "# c.SetLogy()\n",
    "c.Draw()"
   ]
  },
  {
   "cell_type": "code",
   "execution_count": 81,
   "metadata": {
    "collapsed": true
   },
   "outputs": [],
   "source": [
    "def bin_edges_to_centers(axis):\n",
    "    # This function assumes bins of equal width\n",
    "    bin_size = axis[1]-axis[0]\n",
    "    return np.delete(axis + bin_size/2., len(axis)-1)"
   ]
  },
  {
   "cell_type": "code",
   "execution_count": null,
   "metadata": {
    "collapsed": true
   },
   "outputs": [],
   "source": [
    "migra, en = hist2array(hEsysMCRelative2D, return_edges=True)\n",
    "true_energy = en[0]\n"
   ]
  },
  {
   "cell_type": "code",
   "execution_count": null,
   "metadata": {
    "collapsed": true
   },
   "outputs": [],
   "source": [
    "print(true_energy)\n",
    "print(bin_edges_to_centers(true_energy))"
   ]
  },
  {
   "cell_type": "code",
   "execution_count": null,
   "metadata": {
    "collapsed": true
   },
   "outputs": [],
   "source": [
    "print(np.shape(migra))\n",
    "print(np.shape(en[0]))\n",
    "print(np.shape(en[1]))"
   ]
  },
  {
   "cell_type": "code",
   "execution_count": null,
   "metadata": {
    "collapsed": true
   },
   "outputs": [],
   "source": [
    "c = TCanvas(\"hEsysMCRelative2D\",\"hEsysMCRelative2D\",800,600)\n",
    "hEsysMCRelative2D.Draw(\"COLZ\")\n",
    "# c.SetLogy()\n",
    "c.Draw()"
   ]
  },
  {
   "cell_type": "code",
   "execution_count": null,
   "metadata": {
    "collapsed": true
   },
   "outputs": [],
   "source": [
    "en"
   ]
  },
  {
   "cell_type": "code",
   "execution_count": null,
   "metadata": {
    "collapsed": true
   },
   "outputs": [],
   "source": [
    "c = TCanvas(\"gEffAreaNoTh2MCList\",\"gEffAreaNoTh2MCList\",800,600)\n",
    "for i, graph in enumerate(gEffAreaNoTh2MCList):\n",
    "    if i == 0:\n",
    "        graph.Draw(\"PAL\")\n",
    "    else:\n",
    "        graph.Draw(\"SAME\")\n",
    "c.SetLogy()\n",
    "c.Draw()"
   ]
  },
  {
   "cell_type": "code",
   "execution_count": null,
   "metadata": {
    "collapsed": true
   },
   "outputs": [],
   "source": [
    "print(effAreaList[1], effAreaList[2])"
   ]
  },
  {
   "cell_type": "code",
   "execution_count": null,
   "metadata": {
    "collapsed": true
   },
   "outputs": [],
   "source": [
    "np.meshgrid(10, 10, 10)"
   ]
  },
  {
   "cell_type": "code",
   "execution_count": null,
   "metadata": {
    "collapsed": true
   },
   "outputs": [],
   "source": [
    "c = TCanvas(\"gEffAreaNoTh2Rec\",\"gEffAreaNoTh2Rec\",800,600)\n",
    "gEffAreaNoTh2MC.Draw(\"PAL\")\n",
    "c.SetLogy()\n",
    "c.Draw()\n",
    "print(graph_to_array(gEffAreaNoTh2MC))"
   ]
  },
  {
   "cell_type": "code",
   "execution_count": null,
   "metadata": {
    "collapsed": true
   },
   "outputs": [],
   "source": [
    "c = TCanvas(\"hEsysMCRelative2D\",\"hEsysMCRelative2D\",800,600)\n",
    "hEsysMCRelative2D.Draw(\"COLZ\")\n",
    "c.Draw()"
   ]
  },
  {
   "cell_type": "code",
   "execution_count": null,
   "metadata": {
    "collapsed": true
   },
   "outputs": [],
   "source": [
    "hEsysMCRelative2D"
   ]
  },
  {
   "cell_type": "code",
   "execution_count": null,
   "metadata": {
    "collapsed": true
   },
   "outputs": [],
   "source": [
    "np.meshgrid(10, 10, 10)"
   ]
  },
  {
   "cell_type": "code",
   "execution_count": null,
   "metadata": {
    "collapsed": true
   },
   "outputs": [],
   "source": [
    "his = hist2array(hEsysMCRelative2D)"
   ]
  },
  {
   "cell_type": "code",
   "execution_count": null,
   "metadata": {
    "collapsed": true
   },
   "outputs": [],
   "source": [
    "his"
   ]
  },
  {
   "cell_type": "code",
   "execution_count": null,
   "metadata": {
    "collapsed": true
   },
   "outputs": [],
   "source": [
    "np.shape(his)"
   ]
  },
  {
   "cell_type": "code",
   "execution_count": null,
   "metadata": {
    "collapsed": true
   },
   "outputs": [],
   "source": [
    "np.array(hEsysMCRelative2D.GetArray())"
   ]
  },
  {
   "cell_type": "code",
   "execution_count": null,
   "metadata": {
    "collapsed": true
   },
   "outputs": [],
   "source": [
    "# hEsysMCRelative2D.GetNbinsX()\n",
    "axis = hEsysMCRelative2D.GetXaxis()"
   ]
  },
  {
   "cell_type": "code",
   "execution_count": null,
   "metadata": {
    "collapsed": true
   },
   "outputs": [],
   "source": [
    "xarray = axis.GetXbins()"
   ]
  },
  {
   "cell_type": "code",
   "execution_count": null,
   "metadata": {
    "collapsed": true
   },
   "outputs": [],
   "source": [
    "x = [i for i in xarray.GetArray()]"
   ]
  },
  {
   "cell_type": "code",
   "execution_count": null,
   "metadata": {
    "collapsed": true
   },
   "outputs": [],
   "source": [
    "x"
   ]
  },
  {
   "cell_type": "code",
   "execution_count": null,
   "metadata": {
    "collapsed": true
   },
   "outputs": [],
   "source": []
  },
  {
   "cell_type": "code",
   "execution_count": 55,
   "metadata": {
    "collapsed": true
   },
   "outputs": [],
   "source": [
    "def graph_to_array(graph):\n",
    "    y = [i for i in gEffAreaNoTh2MC.GetY()]\n",
    "    return y\n",
    "\n",
    "def th2_to_array(hist):\n",
    "    return hist2array(hist)\n",
    "\n",
    "def find_nearest(array, value):\n",
    "    array = np.asarray(array)\n",
    "    idx = (np.abs(array - value)).argmin()\n",
    "    return idx\n",
    "\n",
    "def extract_irf(filename, irf_name, coord_tuple):\n",
    "    # Get the coordinates to sample:\n",
    "    azs = coord_tuple[0]\n",
    "    indexs = coord_tuple[1]\n",
    "    pedvars = coord_tuple[2]\n",
    "    zds = coord_tuple[3]\n",
    "    woffs = coord_tuple[4]\n",
    "    \n",
    "    # Get both the ROOT effective area TTree and the uproot one (much faster)\n",
    "    effAreaFile = TFile.Open(filename)\n",
    "    effAreaTree = effAreaFile.Get(\"fEffArea\")\n",
    "    fast_effArea = uproot.open(effAreaFileName)['fEffArea']\n",
    "    \n",
    "    all_zds = fast_effArea.array('ze')\n",
    "    all_azs = fast_effArea.array('az')\n",
    "    all_azMins = fast_effArea.array('azMin')\n",
    "    all_azMaxs = fast_effArea.array('azMax')\n",
    "    all_Woffs = fast_effArea.array('Woff')\n",
    "    all_noises = fast_effArea.array('noise')\n",
    "    # There are some bins with +0.01... Check those:\n",
    "    all_pedvars = fast_effArea.array('pedvar')\n",
    "    all_indexs = fast_effArea.array('index')\n",
    "    \n",
    "    for i, entry in enumerate(effAreaTree):\n",
    "        if i == 0:\n",
    "            if irf_name == 'eff':\n",
    "                first_irf = [i for i in entry.eff]\n",
    "                first_e0 = [i for i in entry.e0]\n",
    "#             if irf_name == 'Rec_eff':\n",
    "#                 irf = [i for i in entry.Rec_eff]\n",
    "#             if irf_name == 'gEffAreaNoTh2MC':\n",
    "#                 irf = entry.gEffAreaNoTh2MC\n",
    "#             if irf_name == 'gEffAreaNoTh2Rec':\n",
    "#                 irf = \n",
    "#             if irf_name == 'hEsysMCRelative2D':\n",
    "#                 irf = \n",
    "#             if irf_name == 'hEsysMCRelative2DNoDirectionCut':\n",
    "#                 irf = \n",
    "#             if irf_name == 'hAngularDiff_2D':\n",
    "#                 irf = \n",
    "            else:\n",
    "                raise Exception(\"WrongIrfName\")\n",
    "        else:\n",
    "            break\n",
    "    # Create np.array filled with zeros, containing the required dimensions\n",
    "    data = np.zeros((len(first_irf), len(azs), len(indexs), len(pedvars), len(zds), len(woffs)))\n",
    "\n",
    "    for i, entry in enumerate(effAreaTree):\n",
    "        if i%500 == 0:\n",
    "            print(\"{}/{}\".format(i, len(all_zds)))\n",
    "        if (np.isclose(azs, all_azs[i], atol=0.01).any() and\n",
    "                np.isclose(indexs, all_indexs[i], atol=0.01).any() and\n",
    "                np.isclose(pedvars, all_pedvars[i], atol=0.21).any() and\n",
    "                np.isclose(zds, all_zds[i], atol=2.1).any() and\n",
    "                np.isclose(woffs, all_Woffs[i], atol=0.05).any()):\n",
    "#         if (all_azs[i] in azs and all_indexs[i] in indexs and all_pedvars[i] in pedvars and \n",
    "#                 all_zds[i] in zds and all_Woffs[i] in woffs):\n",
    "            if irf_name == 'eff':\n",
    "                e0 = [j for j in entry.e0]\n",
    "                irf = [j for j in entry.eff]\n",
    "#             if irf_name == 'Rec_eff':\n",
    "#                 irf = [i for i in entry.Rec_eff]\n",
    "#             if irf_name == 'gEffAreaNoTh2MC':\n",
    "#                 irf = entry.gEffAreaNoTh2MC\n",
    "#             if irf_name == 'gEffAreaNoTh2Rec':\n",
    "#                 irf = \n",
    "#             if irf_name == 'hEsysMCRelative2D':\n",
    "#                 irf = \n",
    "#             if irf_name == 'hEsysMCRelative2DNoDirectionCut':\n",
    "#                 irf = \n",
    "#             if irf_name == 'hAngularDiff_2D':\n",
    "#                 irf =  \n",
    "            if len(irf) < len(first_irf):\n",
    "                for j in np.arange(len(first_irf) - len(irf)):\n",
    "                    irf.insert(0,0.)\n",
    "            try:\n",
    "                data[:, find_nearest(azs, all_azs[i]), find_nearest(indexs, all_indexs[i]), find_nearest(pedvars, all_pedvars[i]), \n",
    "                     find_nearest(zds, all_zds[i]), find_nearest(woffs, all_Woffs[i])] = irf\n",
    "            except:\n",
    "                print(\"Unexpected error:\", sys.exc_info()[0])\n",
    "                print(\"Entry number \", i)\n",
    "                print(e0)\n",
    "                raise\n",
    "                \n",
    "    return data"
   ]
  },
  {
   "cell_type": "code",
   "execution_count": 56,
   "metadata": {},
   "outputs": [
    {
     "ename": "NameError",
     "evalue": "name 'fast_effArea' is not defined",
     "output_type": "error",
     "traceback": [
      "\u001b[0;31m---------------------------------------------------------------------------\u001b[0m",
      "\u001b[0;31mNameError\u001b[0m                                 Traceback (most recent call last)",
      "\u001b[0;32m<ipython-input-56-603fa0735fab>\u001b[0m in \u001b[0;36m<module>\u001b[0;34m()\u001b[0m\n\u001b[0;32m----> 1\u001b[0;31m \u001b[0mall_zds\u001b[0m \u001b[0;34m=\u001b[0m \u001b[0mfast_effArea\u001b[0m\u001b[0;34m.\u001b[0m\u001b[0marrays\u001b[0m\u001b[0;34m(\u001b[0m\u001b[0;34m'ze'\u001b[0m\u001b[0;34m)\u001b[0m\u001b[0;34m\u001b[0m\u001b[0m\n\u001b[0m\u001b[1;32m      2\u001b[0m \u001b[0mall_azs\u001b[0m \u001b[0;34m=\u001b[0m \u001b[0mfast_effArea\u001b[0m\u001b[0;34m.\u001b[0m\u001b[0marray\u001b[0m\u001b[0;34m(\u001b[0m\u001b[0;34m'az'\u001b[0m\u001b[0;34m)\u001b[0m\u001b[0;34m\u001b[0m\u001b[0m\n\u001b[1;32m      3\u001b[0m \u001b[0mall_azMins\u001b[0m \u001b[0;34m=\u001b[0m \u001b[0mfast_effArea\u001b[0m\u001b[0;34m.\u001b[0m\u001b[0marray\u001b[0m\u001b[0;34m(\u001b[0m\u001b[0;34m'azMin'\u001b[0m\u001b[0;34m)\u001b[0m\u001b[0;34m\u001b[0m\u001b[0m\n\u001b[1;32m      4\u001b[0m \u001b[0mall_azMaxs\u001b[0m \u001b[0;34m=\u001b[0m \u001b[0mfast_effArea\u001b[0m\u001b[0;34m.\u001b[0m\u001b[0marray\u001b[0m\u001b[0;34m(\u001b[0m\u001b[0;34m'azMax'\u001b[0m\u001b[0;34m)\u001b[0m\u001b[0;34m\u001b[0m\u001b[0m\n\u001b[1;32m      5\u001b[0m \u001b[0mall_Woffs\u001b[0m \u001b[0;34m=\u001b[0m \u001b[0mfast_effArea\u001b[0m\u001b[0;34m.\u001b[0m\u001b[0marray\u001b[0m\u001b[0;34m(\u001b[0m\u001b[0;34m'Woff'\u001b[0m\u001b[0;34m)\u001b[0m\u001b[0;34m\u001b[0m\u001b[0m\n",
      "\u001b[0;31mNameError\u001b[0m: name 'fast_effArea' is not defined"
     ]
    }
   ],
   "source": [
    "all_zds = fast_effArea.arrays('ze')\n",
    "all_azs = fast_effArea.array('az')\n",
    "all_azMins = fast_effArea.array('azMin')\n",
    "all_azMaxs = fast_effArea.array('azMax')\n",
    "all_Woffs = fast_effArea.array('Woff')\n",
    "all_noises = fast_effArea.array('noise')\n",
    "# There are some bins with +0.01... Check those:\n",
    "all_pedvars = fast_effArea.array('pedvar')\n",
    "all_indexs = fast_effArea.array('index')"
   ]
  },
  {
   "cell_type": "code",
   "execution_count": 57,
   "metadata": {},
   "outputs": [
    {
     "ename": "NameError",
     "evalue": "name 'fast_effArea' is not defined",
     "output_type": "error",
     "traceback": [
      "\u001b[0;31m---------------------------------------------------------------------------\u001b[0m",
      "\u001b[0;31mNameError\u001b[0m                                 Traceback (most recent call last)",
      "\u001b[0;32m<ipython-input-57-4ea88991ded5>\u001b[0m in \u001b[0;36m<module>\u001b[0;34m()\u001b[0m\n\u001b[0;32m----> 1\u001b[0;31m \u001b[0mzes\u001b[0m \u001b[0;34m=\u001b[0m \u001b[0mnp\u001b[0m\u001b[0;34m.\u001b[0m\u001b[0munique\u001b[0m\u001b[0;34m(\u001b[0m\u001b[0mnp\u001b[0m\u001b[0;34m.\u001b[0m\u001b[0mround\u001b[0m\u001b[0;34m(\u001b[0m\u001b[0mfast_effArea\u001b[0m\u001b[0;34m.\u001b[0m\u001b[0marray\u001b[0m\u001b[0;34m(\u001b[0m\u001b[0;34m'ze'\u001b[0m\u001b[0;34m)\u001b[0m\u001b[0;34m,\u001b[0m \u001b[0mdecimals\u001b[0m\u001b[0;34m=\u001b[0m\u001b[0;36m1\u001b[0m\u001b[0;34m)\u001b[0m\u001b[0;34m)\u001b[0m\u001b[0;34m\u001b[0m\u001b[0m\n\u001b[0m\u001b[1;32m      2\u001b[0m \u001b[0mazs\u001b[0m \u001b[0;34m=\u001b[0m \u001b[0mnp\u001b[0m\u001b[0;34m.\u001b[0m\u001b[0munique\u001b[0m\u001b[0;34m(\u001b[0m\u001b[0mnp\u001b[0m\u001b[0;34m.\u001b[0m\u001b[0mround\u001b[0m\u001b[0;34m(\u001b[0m\u001b[0mfast_effArea\u001b[0m\u001b[0;34m.\u001b[0m\u001b[0marray\u001b[0m\u001b[0;34m(\u001b[0m\u001b[0;34m'az'\u001b[0m\u001b[0;34m)\u001b[0m\u001b[0;34m,\u001b[0m \u001b[0mdecimals\u001b[0m\u001b[0;34m=\u001b[0m\u001b[0;36m2\u001b[0m\u001b[0;34m)\u001b[0m\u001b[0;34m)\u001b[0m\u001b[0;34m\u001b[0m\u001b[0m\n\u001b[1;32m      3\u001b[0m \u001b[0mazMins\u001b[0m \u001b[0;34m=\u001b[0m \u001b[0mnp\u001b[0m\u001b[0;34m.\u001b[0m\u001b[0munique\u001b[0m\u001b[0;34m(\u001b[0m\u001b[0mnp\u001b[0m\u001b[0;34m.\u001b[0m\u001b[0mround\u001b[0m\u001b[0;34m(\u001b[0m\u001b[0mfast_effArea\u001b[0m\u001b[0;34m.\u001b[0m\u001b[0marray\u001b[0m\u001b[0;34m(\u001b[0m\u001b[0;34m'azMin'\u001b[0m\u001b[0;34m)\u001b[0m\u001b[0;34m,\u001b[0m \u001b[0mdecimals\u001b[0m\u001b[0;34m=\u001b[0m\u001b[0;36m2\u001b[0m\u001b[0;34m)\u001b[0m\u001b[0;34m)\u001b[0m\u001b[0;34m\u001b[0m\u001b[0m\n\u001b[1;32m      4\u001b[0m \u001b[0mazMaxs\u001b[0m \u001b[0;34m=\u001b[0m \u001b[0mnp\u001b[0m\u001b[0;34m.\u001b[0m\u001b[0munique\u001b[0m\u001b[0;34m(\u001b[0m\u001b[0mnp\u001b[0m\u001b[0;34m.\u001b[0m\u001b[0mround\u001b[0m\u001b[0;34m(\u001b[0m\u001b[0mfast_effArea\u001b[0m\u001b[0;34m.\u001b[0m\u001b[0marray\u001b[0m\u001b[0;34m(\u001b[0m\u001b[0;34m'azMax'\u001b[0m\u001b[0;34m)\u001b[0m\u001b[0;34m,\u001b[0m \u001b[0mdecimals\u001b[0m\u001b[0;34m=\u001b[0m\u001b[0;36m2\u001b[0m\u001b[0;34m)\u001b[0m\u001b[0;34m)\u001b[0m\u001b[0;34m\u001b[0m\u001b[0m\n\u001b[1;32m      5\u001b[0m \u001b[0mWoffs\u001b[0m \u001b[0;34m=\u001b[0m \u001b[0mnp\u001b[0m\u001b[0;34m.\u001b[0m\u001b[0munique\u001b[0m\u001b[0;34m(\u001b[0m\u001b[0mnp\u001b[0m\u001b[0;34m.\u001b[0m\u001b[0mround\u001b[0m\u001b[0;34m(\u001b[0m\u001b[0mfast_effArea\u001b[0m\u001b[0;34m.\u001b[0m\u001b[0marray\u001b[0m\u001b[0;34m(\u001b[0m\u001b[0;34m'Woff'\u001b[0m\u001b[0;34m)\u001b[0m\u001b[0;34m,\u001b[0m \u001b[0mdecimals\u001b[0m\u001b[0;34m=\u001b[0m\u001b[0;36m2\u001b[0m\u001b[0;34m)\u001b[0m\u001b[0;34m)\u001b[0m\u001b[0;34m\u001b[0m\u001b[0m\n",
      "\u001b[0;31mNameError\u001b[0m: name 'fast_effArea' is not defined"
     ]
    }
   ],
   "source": [
    "zes = np.unique(np.round(fast_effArea.array('ze'), decimals=1))\n",
    "azs = np.unique(np.round(fast_effArea.array('az'), decimals=2))\n",
    "azMins = np.unique(np.round(fast_effArea.array('azMin'), decimals=2))\n",
    "azMaxs = np.unique(np.round(fast_effArea.array('azMax'), decimals=2))\n",
    "Woffs = np.unique(np.round(fast_effArea.array('Woff'), decimals=2))\n",
    "noises = np.unique(np.round(fast_effArea.array('noise'), decimals=2))\n",
    "# There are some bins with +0.01... Check those:\n",
    "pedvars = np.unique(np.round(fast_effArea.array('pedvar'), decimals=2))\n",
    "# for i, pv in enumerate(pedvars):\n",
    "#     if pv\n",
    "indexs = np.unique(np.round(fast_effArea.array('index'), decimals=2))"
   ]
  },
  {
   "cell_type": "code",
   "execution_count": 58,
   "metadata": {},
   "outputs": [
    {
     "ename": "NameError",
     "evalue": "name 'remove_duplicities' is not defined",
     "output_type": "error",
     "traceback": [
      "\u001b[0;31m---------------------------------------------------------------------------\u001b[0m",
      "\u001b[0;31mNameError\u001b[0m                                 Traceback (most recent call last)",
      "\u001b[0;32m<ipython-input-58-c0e770daddc5>\u001b[0m in \u001b[0;36m<module>\u001b[0;34m()\u001b[0m\n\u001b[1;32m      1\u001b[0m \u001b[0;31m# We remove the duplicities from the zenith and pedestal values arrays:\u001b[0m\u001b[0;34m\u001b[0m\u001b[0;34m\u001b[0m\u001b[0m\n\u001b[0;32m----> 2\u001b[0;31m \u001b[0mzes\u001b[0m \u001b[0;34m=\u001b[0m \u001b[0mremove_duplicities\u001b[0m\u001b[0;34m(\u001b[0m\u001b[0mzes\u001b[0m\u001b[0;34m,\u001b[0m \u001b[0;36m2.0\u001b[0m\u001b[0;34m)\u001b[0m\u001b[0;34m\u001b[0m\u001b[0m\n\u001b[0m\u001b[1;32m      3\u001b[0m \u001b[0mpedvars\u001b[0m \u001b[0;34m=\u001b[0m \u001b[0mremove_duplicities\u001b[0m\u001b[0;34m(\u001b[0m\u001b[0mpedvars\u001b[0m\u001b[0;34m,\u001b[0m \u001b[0;36m0.21\u001b[0m\u001b[0;34m)\u001b[0m\u001b[0;34m\u001b[0m\u001b[0m\n",
      "\u001b[0;31mNameError\u001b[0m: name 'remove_duplicities' is not defined"
     ]
    }
   ],
   "source": [
    "# We remove the duplicities from the zenith and pedestal values arrays:\n",
    "zes = remove_duplicities(zes, 2.0)\n",
    "pedvars = remove_duplicities(pedvars, 0.21)"
   ]
  },
  {
   "cell_type": "code",
   "execution_count": null,
   "metadata": {
    "collapsed": true
   },
   "outputs": [],
   "source": [
    "np.isclose(39., 40., atol=1.1)"
   ]
  },
  {
   "cell_type": "code",
   "execution_count": null,
   "metadata": {
    "collapsed": true
   },
   "outputs": [],
   "source": [
    "find_nearest(all_zds[b'ze'], 39.)"
   ]
  },
  {
   "cell_type": "code",
   "execution_count": null,
   "metadata": {
    "collapsed": true
   },
   "outputs": [],
   "source": [
    "len((0., 1.5, 4.4, zes))"
   ]
  },
  {
   "cell_type": "code",
   "execution_count": null,
   "metadata": {
    "collapsed": true
   },
   "outputs": [],
   "source": [
    "zes"
   ]
  },
  {
   "cell_type": "code",
   "execution_count": null,
   "metadata": {
    "collapsed": true,
    "scrolled": true
   },
   "outputs": [],
   "source": [
    "irf_data = extract_irf('/home/thassan/VERITAS/DL3/DL3_for_eventDisplay/EffectiveAreas_v501_rd/effArea-v501-TL5035MA20-auxv01-CARE_June1702-Cut-NTel2-PointSource-TMVA-BDT-Preselection-GEOID0-V6-ATM61-T1234.root',\n",
    "                       'eff',\n",
    "                       ([0], [1.5], [4.4], zes, [0.5]) )"
   ]
  },
  {
   "cell_type": "code",
   "execution_count": null,
   "metadata": {
    "collapsed": true
   },
   "outputs": [],
   "source": [
    "np.shape(irf_data)"
   ]
  },
  {
   "cell_type": "code",
   "execution_count": null,
   "metadata": {
    "collapsed": true
   },
   "outputs": [],
   "source": [
    "fig = plt.figure(figsize=(14,10))\n",
    "ax = fig.add_subplot(111)\n",
    "for i in np.arange(np.shape(irf_data)[4]):\n",
    "    ax.plot(np.arange(len(irf_data[:,0,0,0,i,0])), irf_data[:,0,0,0,i,0], marker='o', label='Zd = {} deg'.format(zes[i]))\n",
    "ax.grid(color='gray', linestyle='-', linewidth=2)\n",
    "ax.set_xlabel('# bin')\n",
    "ax.set_yscale(\"log\", nonposy='clip')\n",
    "ax.set_ylabel('Effective area')\n",
    "ax.legend()\n",
    "fig.show()"
   ]
  },
  {
   "cell_type": "code",
   "execution_count": null,
   "metadata": {
    "collapsed": true
   },
   "outputs": [],
   "source": [
    "# First interpolator to test: (it allows un-even spacing)\n",
    "from scipy.interpolate import RegularGridInterpolator\n",
    "my_interpolating_function = RegularGridInterpolator((e0, [0], [1.5], [4.4], zes, [0.5]), irf_data)\n",
    "\n",
    "# Evaluate the interpolating function at the two points (x,y,z) = (2.1, 6.2, 8.3) and (3.3, 5.2, 7.1):\n",
    "# pts = np.array([[2.1, 6.2, 8.3], [3.3, 5.2, 7.1]])\n",
    "# my_interpolating_function(pts)"
   ]
  },
  {
   "cell_type": "code",
   "execution_count": null,
   "metadata": {
    "collapsed": true
   },
   "outputs": [],
   "source": [
    "fig = plt.figure()\n",
    "ax = fig.subplot(1,1,1)\n",
    "ax.plot(np.arange(len(irf_data[:,0,0,0,0])), irf_data[:,0,0,0,0], marker='o')\n",
    "ax.grid(color='gray', linestyle='-', linewidth=2)\n",
    "ax.set_xlabel('# bin')\n",
    "ax.set_yscale(\"log\", nonposy='clip')\n",
    "ax.set_ylabel('Effective area')\n",
    "fig.show()"
   ]
  },
  {
   "cell_type": "code",
   "execution_count": null,
   "metadata": {
    "collapsed": true
   },
   "outputs": [],
   "source": [
    "if 4.4 in all_pedvars:\n",
    "    print(\"works\")"
   ]
  },
  {
   "cell_type": "code",
   "execution_count": null,
   "metadata": {
    "collapsed": true
   },
   "outputs": [],
   "source": [
    "if 0 in [0]:\n",
    "    print(\"Works\")"
   ]
  },
  {
   "cell_type": "code",
   "execution_count": null,
   "metadata": {
    "collapsed": true
   },
   "outputs": [],
   "source": [
    "all_zds"
   ]
  },
  {
   "cell_type": "code",
   "execution_count": null,
   "metadata": {
    "collapsed": true
   },
   "outputs": [],
   "source": [
    "irf_data[:,0,0,0,8,0]"
   ]
  },
  {
   "cell_type": "code",
   "execution_count": null,
   "metadata": {
    "collapsed": true
   },
   "outputs": [],
   "source": [
    "#     azs = coord_tuple[0]\n",
    "#     indexs = coord_tuple[1]\n",
    "#     pedvars = coord_tuple[2]\n",
    "#     zds = coord_tuple[3]\n",
    "#     woffs = coord_tuple[4]\n",
    "\n",
    "fig = plt.figure()\n",
    "ax = fig.add_subplot(111)\n",
    "ax.plot(np.arange(len(irf_data[:,0,0,0,0])), irf_data[:,0,0,0,0], marker='o')\n",
    "ax.grid(color='gray', linestyle='-', linewidth=2)\n",
    "ax.set_xlabel('# bin')\n",
    "ax.set_yscale(\"log\", nonposy='clip')\n",
    "ax.set_ylabel('Effective area')\n",
    "fig.show()"
   ]
  },
  {
   "cell_type": "code",
   "execution_count": null,
   "metadata": {
    "collapsed": true
   },
   "outputs": [],
   "source": [
    "z = np.zeros((3,2,2))\n",
    "z[:,0,0] = [1,2,3]"
   ]
  },
  {
   "cell_type": "code",
   "execution_count": null,
   "metadata": {
    "collapsed": true
   },
   "outputs": [],
   "source": [
    "z"
   ]
  },
  {
   "cell_type": "code",
   "execution_count": null,
   "metadata": {
    "collapsed": true
   },
   "outputs": [],
   "source": [
    "# First interpolator to test: (it allows un-even spacing)\n",
    "from scipy.interpolate import RegularGridInterpolator\n",
    "\n",
    "energy = e0\n",
    "# Coordinates of the IRFs\n",
    "x = np.linspace(1, 4, 11)\n",
    "y = np.linspace(4, 7, 22)\n",
    "z = np.linspace(7, 9, 33)\n",
    "data = f(*np.meshgrid(x, y, z, indexing='ij', sparse=True))\n",
    "\n",
    "# data is now a 3D array with data[i,j,k] = f(x[i], y[j], z[k]). Next, define an interpolating function from this data:\n",
    "\n",
    "my_interpolating_function = RegularGridInterpolator((x, y, z), data)\n",
    "\n",
    "# Evaluate the interpolating function at the two points (x,y,z) = (2.1, 6.2, 8.3) and (3.3, 5.2, 7.1):\n",
    "pts = np.array([[2.1, 6.2, 8.3], [3.3, 5.2, 7.1]])\n",
    "my_interpolating_function(pts)\n",
    "# array([ 125.80469388,  146.30069388])"
   ]
  },
  {
   "cell_type": "code",
   "execution_count": null,
   "metadata": {
    "collapsed": true
   },
   "outputs": [],
   "source": [
    "np.isclose(zds, all_zds[i], atol=0.01).any()"
   ]
  },
  {
   "cell_type": "code",
   "execution_count": null,
   "metadata": {
    "collapsed": true
   },
   "outputs": [],
   "source": [
    "np.shape(data)"
   ]
  },
  {
   "cell_type": "code",
   "execution_count": null,
   "metadata": {
    "collapsed": true
   },
   "outputs": [],
   "source": []
  }
 ],
 "metadata": {
  "kernelspec": {
   "display_name": "Python 3",
   "language": "python",
   "name": "python3"
  },
  "language_info": {
   "codemirror_mode": {
    "name": "ipython",
    "version": 3
   },
   "file_extension": ".py",
   "mimetype": "text/x-python",
   "name": "python",
   "nbconvert_exporter": "python",
   "pygments_lexer": "ipython3",
   "version": "3.6.3"
  }
 },
 "nbformat": 4,
 "nbformat_minor": 2
}
