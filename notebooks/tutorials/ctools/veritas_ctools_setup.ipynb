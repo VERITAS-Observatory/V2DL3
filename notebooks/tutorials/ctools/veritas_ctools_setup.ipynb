{
 "cells": [
  {
   "cell_type": "markdown",
   "metadata": {},
   "source": [
    "# Setting up the analysis\n",
    "This notebook will outline how to get setup to run a ctools analysis of VERITAS data. At this point you should have all of your data files formatted into DL3 compatible FITS files. "
   ]
  },
  {
   "cell_type": "code",
   "execution_count": 1,
   "metadata": {},
   "outputs": [],
   "source": [
    "# Import the GammaLib and ctools relevant moduals\n",
    "import gammalib\n",
    "import ctools\n",
    "import cscripts\n",
    "\n",
    "# We will also use matplotlib for visualization\n",
    "%matplotlib inline\n",
    "import matplotlib.pyplot as plt"
   ]
  },
  {
   "cell_type": "markdown",
   "metadata": {},
   "source": [
    "## Assembling the observation definition file\n",
    "In order to use these files in the various ctools we need to create an observation definition XML file. This file tells ctools and GammaLib where to find all of the necessary IRF components for each file. \n",
    "\n",
    "To start, create a text file that contains the full path to each file on a new line. It should look something like this:\n",
    "```\n",
    "/home/user/path/to/54809.fits\n",
    "/home/user/path/to/57993.fits\n",
    "```\n",
    "You can find an example runlist file that will be used in this tutorial here:\n",
    "    `$V2DL3/notebooks/tutorials/ctools/resources/tutorial_runlist.txt`\n",
    "    \n",
    "The following code will loop through each file, setup a `GObservation` object for each file, and fill all those observations into a `GObservations` object that can be saved to a file for use in the various tools."
   ]
  },
  {
   "cell_type": "code",
   "execution_count": 2,
   "metadata": {},
   "outputs": [
    {
     "name": "stdout",
     "output_type": "stream",
     "text": [
      "No psf info found in file. Make sure you're running a point-like analysis!\n",
      "No psf info found in file. Make sure you're running a point-like analysis!\n"
     ]
    }
   ],
   "source": [
    "# Load the file\n",
    "runs    = open('resources/tutorial_runlist.txt', 'rt')\n",
    "obsfile = 'resources/obs.xml'\n",
    "\n",
    "# Create an observation container\n",
    "obs_list = gammalib.GObservations()\n",
    "\n",
    "# Loop through each line\n",
    "for line in runs:\n",
    "    line = line.strip()\n",
    "    # Load the observation and relavant information\n",
    "    obs  = gammalib.GCTAObservation(line)\n",
    "    \n",
    "    # Load each of the IRF objects\n",
    "    response = gammalib.GCTAResponseIrf()\n",
    "    response.load_aeff(line)\n",
    "    response.load_edisp(line)\n",
    "    \n",
    "    # Make sure the PSF information is in the file\n",
    "    try:\n",
    "        response.load_psf(line)\n",
    "    except:\n",
    "        print(\"No psf info found in file. Make sure you're running a point-like analysis!\")\n",
    "        # PSF information is not available in standard EA files\n",
    "        # so we need to get creative by loading dummy PSF \n",
    "        # information so ctools will at least give reasonable results\n",
    "        response.load_psf(\"$CTOOLS/share/caldb/data/cta/prod2/bcf/North_50h/irf_file.fits.gz\")\n",
    "        \n",
    "    # Set the response\n",
    "    obs.response(response)\n",
    "    obs.name(\"VTS_Obs\")\n",
    "    \n",
    "    # Add the observation to the list\n",
    "    obs_list.append(obs)\n",
    "    \n",
    "# Write the observation file\n",
    "obs_list.save(obsfile)"
   ]
  },
  {
   "cell_type": "markdown",
   "metadata": {},
   "source": [
    "You should now have a file `obs.xml` that lists each observation and identifies where to find the relevant instrument response function components. Here's a section of the file defining a single run:\n",
    "```xml\n",
    "<?xml version=\"1.0\" encoding=\"UTF-8\" standalone=\"no\"?>\n",
    "<observation_list title=\"observation list\">\n",
    "    \n",
    "  <!-- observations start here -->\n",
    "    \n",
    "  <observation name=\"VTS_Obs\" id=\"54809\" instrument=\"VERITAS\" statistic=\"cstat\">\n",
    "    <parameter name=\"EventList\" file=\"../../../VEGAS/DL3med/54809.med.ED.050.St5_Stereo.fits\" />\n",
    "    <parameter name=\"EffectiveArea\" file=\"../../../VEGAS/DL3med/54809.med.ED.050.St5_Stereo.fits\" />\n",
    "    <parameter name=\"PointSpreadFunction\" file=\"$CTOOLS/share/caldb/data/cta/prod2/bcf/North_50h/irf_file.fits.gz\" />\n",
    "    <parameter name=\"EnergyDispersion\" file=\"../../../VEGAS/DL3med/54809.med.ED.050.St5_Stereo.fits\" />\n",
    "  </observation>\n",
    "  \n",
    "  <!-- ... potentially many more observations past here ... -->\n",
    "  \n",
    "</observation_list>\n",
    "```\n",
    "\n",
    "You could of course generate this file by hand, but that's a lot of typing. You could potentially have hundreds of files, depending on your analysis, and the above script is much easier.\n",
    "\n",
    "### A note on the PSF information\n",
    "You may notice that the PSF information points to a file in your `$CTOOLS` directory. If you've chosen to generate point-like DL3 files, then they will not contain any information about the PSF. This is fine, since a standard ON/OFF analysis doesn't use this information anyway. However, since a 3D likelihood analysis DOES require PSF information ctools will still look in the file to make sure this information is present when the file loads. To prevent ctools from complaining or trying to load IRF information from somewhere else, we just add a reference to a file where some kind of PSF information exists. This will have no impact on the results we're going to be obtaining in this tutorial, since the PSF information is never actually used for the ON/OFF analyses we are going to do. \n",
    "\n",
    "**NOTE:** If you are using full-enclosure IRFs to do a 3D-likelihood analysis YOU WILL NEED ACCURATE PSF INFORMATION and the above observation definition will yeild completely wrong results."
   ]
  },
  {
   "cell_type": "markdown",
   "metadata": {},
   "source": [
    "## Selecting the events for the analysis\n",
    "Event selection is done using the `ctselect` tool. This tool can apply time, energy, and offset cuts to the events. The output is a set of event files that contain only the events satisfying the defined event selection criteria."
   ]
  },
  {
   "cell_type": "code",
   "execution_count": 3,
   "metadata": {},
   "outputs": [
    {
     "name": "stdout",
     "output_type": "stream",
     "text": [
      "BEFORE CUT:\n",
      " === GObservations ===\n",
      " Number of observations ....: 2\n",
      " Number of models ..........: 0\n",
      " Number of observed events .: 3482\n",
      " Number of predicted events : 0 \n",
      "\n",
      "AFTER CUT:\n",
      " === GObservations ===\n",
      " Number of observations ....: 2\n",
      " Number of models ..........: 0\n",
      " Number of observed events .: 2891\n",
      " Number of predicted events : 0\n"
     ]
    }
   ],
   "source": [
    "# Define an output file\n",
    "obs_selected = 'resources/obs_selected.xml'\n",
    "\n",
    "# Create a ctselect object\n",
    "select = ctools.ctselect()\n",
    "select['inobs']    = obsfile               # Input observation file\n",
    "select['outobs']   = obs_selected          # Output observation XML file\n",
    "select['prefix']   = 'resources/selected_' # Prefix for generated obs files\n",
    "select['usethres'] = 'DEFAULT'             # Use the default safe energy threshold\n",
    "select['emin']     = 'NONE'                # No manual energy cut\n",
    "select['tmin']     = 'NONE'                # No manual time cut\n",
    "select['rad']      = 1.7                   # Only events within this distance of tracking position (deg)\n",
    "\n",
    "# Run the event selection\n",
    "select.execute()\n",
    "\n",
    "# Get some information about the generated files\n",
    "print('BEFORE CUT:\\n', gammalib.GObservations(obsfile), '\\n')\n",
    "print('AFTER CUT:\\n', select.obs())"
   ]
  },
  {
   "cell_type": "markdown",
   "metadata": {},
   "source": [
    "We have successfully cut events from the files!"
   ]
  },
  {
   "cell_type": "markdown",
   "metadata": {},
   "source": [
    "## Generating a skymap of the data\n",
    "Now that we have the data formatted, let's generate a skymap of the data to visually inspect what it looks like. To do that, we are going to use `ctskymap`. `ctskymap` simply generates a skymap from an event list, such as the one we just generated."
   ]
  },
  {
   "cell_type": "code",
   "execution_count": 4,
   "metadata": {},
   "outputs": [],
   "source": [
    "# Create the object\n",
    "skymap = ctools.ctskymap()\n",
    "\n",
    "# Setup the parameters of the tool\n",
    "skymap['inobs']    = obs_selected\n",
    "skymap['outmap']   = 'resources/skymap.fits' # Output filename\n",
    "skymap['emin']     = 0.1           # Minimum energy in TeV\n",
    "skymap['emax']     = 100           # Maximum energy in TeV\n",
    "skymap['nxpix']    = 200           # Number of pixels in X\n",
    "skymap['nypix']    = 200           # Number of pixels in Y\n",
    "skymap['binsz']    = 0.02          # Pixel size (degrees/pixel)\n",
    "skymap['coordsys'] = 'CEL'         # Coordinate system of projection (celestial used here)\n",
    "skymap['proj']     = 'CAR'         # WCS Projection\n",
    "skymap['xref']     = 83.633        # X-coord for skymap center\n",
    "skymap['yref']     = 22.0145       # Y-coord for skymap center\n",
    "\n",
    "# Run ctskymap\n",
    "skymap.execute()"
   ]
  },
  {
   "cell_type": "markdown",
   "metadata": {},
   "source": [
    "Now let's take a look at the skymap to see what the data looks like:"
   ]
  },
  {
   "cell_type": "code",
   "execution_count": 5,
   "metadata": {},
   "outputs": [
    {
     "data": {
      "image/png": "[encoded data removed]",
      "text/plain": [
       "<Figure size 432x288 with 2 Axes>"
      ]
     },
     "metadata": {
      "needs_background": "light"
     },
     "output_type": "display_data"
    }
   ],
   "source": [
    "#module used to stretch the color palette\n",
    "import matplotlib.colors as colors\n",
    "\n",
    "ax = plt.subplot()\n",
    "plt.imshow(skymap.skymap().array(),origin='lower',\n",
    "            extent=[83.63+0.02*200,83.63-0.02*200,22.01-0.02*200,22.01+0.02*200],\n",
    "            # boundaries of the coord grid\n",
    "            norm=colors.PowerNorm(gamma=0.5),\n",
    "            cmap=plt.get_cmap('jet')) # square root scale \n",
    "ax.set_xlabel('R.A. (deg)')\n",
    "ax.set_ylabel('Dec (deg)')\n",
    "cbar = plt.colorbar()\n",
    "cbar.set_label('Counts')"
   ]
  },
  {
   "cell_type": "markdown",
   "metadata": {},
   "source": [
    "## Defining a source model\n",
    "We can see there is a source in the very center of the above map. For the next step let's imagine we didn't know what it was or that it was there. `cssrcdetect` is a low level source detection tool that we can use to search for sources in data."
   ]
  },
  {
   "cell_type": "code",
   "execution_count": 6,
   "metadata": {},
   "outputs": [
    {
     "name": "stdout",
     "output_type": "stream",
     "text": [
      "=== GModels ===\n",
      " Number of models ..........: 1\n",
      " Number of parameters ......: 6\n",
      "=== GModelSky ===\n",
      " Name ......................: Src001\n",
      " Instruments ...............: all\n",
      " Observation identifiers ...: all\n",
      " Model type ................: PointSource\n",
      " Model components ..........: \"PointSource\" * \"PowerLaw\" * \"Constant\"\n",
      " Number of parameters ......: 6\n",
      " Number of spatial par's ...: 2\n",
      "  RA .......................: 83.6222127881284 +/- 0 deg (free,scale=1)\n",
      "  DEC ......................: 22.0244996471388 +/- 0 deg (free,scale=1)\n",
      " Number of spectral par's ..: 3\n",
      "  Prefactor ................: 5.7e-18 +/- 0 [0,infty[ ph/cm2/s/MeV (free,scale=5.7e-18,gradient)\n",
      "  Index ....................: -2.48 +/- 0 [10,-10]  (free,scale=-2.48,gradient)\n",
      "  PivotEnergy ..............: 300000 MeV (fixed,scale=300000,gradient)\n",
      " Number of temporal par's ..: 1\n",
      "  Normalization ............: 1 (relative value) (fixed,scale=1,gradient)\n",
      " Number of scale par's .....: 0\n"
     ]
    }
   ],
   "source": [
    "# Initialize the detection script\n",
    "srcdetect = cscripts.cssrcdetect(skymap.skymap().copy())\n",
    "\n",
    "# Set the parameters\n",
    "srcdetect['srcmodel']   = 'POINT' # Output point source models\n",
    "srcdetect['bkgmodel']   = 'NONE'\n",
    "srcdetect['threshold']  = 5\n",
    "srcdetect['corr_rad']   = 0.1     # Smoothing radius\n",
    "srcdetect['outmodel']   = 'resources/crab.xml'\n",
    "srcdetect['outds9file'] = 'resources/crab_regions.reg'\n",
    "srcdetect.execute()\n",
    "\n",
    "# Inspect the results\n",
    "models = gammalib.GModels(srcdetect['outmodel'].filename())\n",
    "print(models)"
   ]
  },
  {
   "cell_type": "markdown",
   "metadata": {},
   "source": [
    "So we see above that we detect a source at roughly the Crab position! This file will NOT serve as our input model for the rest of the analysis, but demonstrates one method for probing your data for sources. You can also create these models in alternative ways:\n",
    "* **Programmatically**: Create individual models via GammaLib model classes, then assemble them into a GModels collection\n",
    "* **By hand**: Creating and modifying an XML file directly"
   ]
  },
  {
   "cell_type": "markdown",
   "metadata": {},
   "source": [
    "### Summary\n",
    "We now have a formatted input file for our observations and our model. Next steps will include generating the ON/OFF input files (`csphagen`) and ultimately running the fit (`ctlike`).\n",
    "\n",
    "** Additional Resources **\n",
    "* [ctools tutorials](http://cta.irap.omp.eu/ctools/users/tutorials/index.html)\n",
    "* [GammaLib spatial models](http://cta.irap.omp.eu/gammalib/users/user_manual/modules/model/sky/spatial.html)\n",
    "* [GammaLib spectral models](http://cta.irap.omp.eu/gammalib/users/user_manual/modules/model/sky/spectral.html)\n",
    "* [GammaLib temporal models](http://cta.irap.omp.eu/gammalib/users/user_manual/modules/model/sky/temporal.html)"
   ]
  }
 ],
 "metadata": {
  "kernelspec": {
   "display_name": "Python 3",
   "language": "python",
   "name": "python3"
  },
  "language_info": {
   "codemirror_mode": {
    "name": "ipython",
    "version": 3
   },
   "file_extension": ".py",
   "mimetype": "text/x-python",
   "name": "python",
   "nbconvert_exporter": "python",
   "pygments_lexer": "ipython3",
   "version": "3.7.3"
  }
 },
 "nbformat": 4,
 "nbformat_minor": 2
}
