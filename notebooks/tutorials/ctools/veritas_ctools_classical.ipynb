{
 "cells": [
  {
   "cell_type": "markdown",
   "metadata": {},
   "source": [
    "# Classical ON/OFF analysis\n",
    "This tutorial will demonstrate how to run a generic ON/OFF analysis assuming you have no model for your background and that your source is point-like. First we will run a stacked ON/OFF analysis, followed by a runwise ON/OFF analysis.\n",
    "\n",
    "Recall that before this point we have already done the following:\n",
    "* Generated an observation definition XML file from our list of runs\n",
    "* Applied event selection to those events"
   ]
  },
  {
   "cell_type": "code",
   "execution_count": 1,
   "metadata": {},
   "outputs": [],
   "source": [
    "# Import the standard moduals\n",
    "import gammalib\n",
    "import ctools\n",
    "import cscripts\n",
    "\n",
    "# Import matplotlib for visualization\n",
    "%matplotlib inline\n",
    "import matplotlib.pyplot as plt\n",
    "\n",
    "# Setup the example scripts directory for inspecting the results\n",
    "import sys\n",
    "import os\n",
    "sys.path.append(os.environ['CTOOLS']+'/share/examples/python/')\n",
    "from show_residuals import plot_residuals\n",
    "from show_spectrum  import plot_spectrum\n",
    "from show_butterfly import plot_butterfly"
   ]
  },
  {
   "cell_type": "markdown",
   "metadata": {},
   "source": [
    "Here we define some parameters relating to the source under investigation and how how we want to bin the energy axis:"
   ]
  },
  {
   "cell_type": "code",
   "execution_count": 2,
   "metadata": {},
   "outputs": [],
   "source": [
    "# Source coordinates\n",
    "srcname  = 'Crab'\n",
    "ra       = 83.633\n",
    "dec      = 22.0145\n",
    "\n",
    "# Energy binning\n",
    "emin     = 0.16\n",
    "emax     = 30.0\n",
    "enumbins = 20\n",
    "ebinalg  = 'LOG'"
   ]
  },
  {
   "cell_type": "markdown",
   "metadata": {},
   "source": [
    "## Preparing the ON/OFF binned data (stacked analysis)\n",
    "The next step is to bin the data for the signal (ON) and background (OFF) regions. This is done using the `csphagen` script:"
   ]
  },
  {
   "cell_type": "code",
   "execution_count": 3,
   "metadata": {},
   "outputs": [
    {
     "name": "stdout",
     "output_type": "stream",
     "text": [
      "OBSERVATIONS:\n",
      " === GCTAOnOffObservation ===\n",
      " Name ......................: \n",
      " Identifier ................: \n",
      " Instrument ................: VERITASOnOff\n",
      " Statistic .................: wstat\n",
      " Ontime ....................: 2181.4773196 s\n",
      " Livetime ..................: 2181.4773196 s\n",
      " Deadtime correction .......: 1\n",
      "=== GPha ===\n",
      " Exposure ..................: 2181.4773196 s\n",
      " Number of bins ............: 20\n",
      " Energy range ..............: 160 GeV - 30 TeV\n",
      " Observation energy range ..: 149.623565673828 GeV - 33.49654296875 TeV\n",
      " Total number of counts ....: 287\n",
      " Underflow counts ..........: 5\n",
      " Overflow counts ...........: 1\n",
      " Outflow counts ............: 0\n",
      "=== GPha ===\n",
      " Exposure ..................: 2181.4773196 s\n",
      " Number of bins ............: 20\n",
      " Energy range ..............: 160 GeV - 30 TeV\n",
      " Observation energy range ..: 149.623565673828 GeV - 33.49654296875 TeV\n",
      " Total number of counts ....: 143\n",
      " Underflow counts ..........: 6\n",
      " Overflow counts ...........: 0\n",
      " Outflow counts ............: 0\n",
      "=== GArf ===\n",
      " Number of bins ............: 80\n",
      " Energy range ..............: 80 GeV - 36.000002048 TeV\n",
      "=== GRmf ===\n",
      " Number of true energy bins : 80\n",
      " Number of measured bins ...: 20\n",
      " True energy range .........: 80 GeV - 36.000002048 TeV\n",
      " Measured energy range .....: 160 GeV - 30 TeV \n",
      "\n",
      "MODEL:\n",
      " === GModels ===\n",
      " Number of models ..........: 1\n",
      " Number of parameters ......: 6\n",
      "=== GModelSky ===\n",
      " Name ......................: Dummy\n",
      " Instruments ...............: all\n",
      " Observation identifiers ...: all\n",
      " Model type ................: PointSource\n",
      " Model components ..........: \"PointSource\" * \"PowerLaw\" * \"Constant\"\n",
      " Number of parameters ......: 6\n",
      " Number of spatial par's ...: 2\n",
      "  RA .......................: 83.633 deg (fixed,scale=1)\n",
      "  DEC ......................: 22.0145 deg (fixed,scale=1)\n",
      " Number of spectral par's ..: 3\n",
      "  Prefactor ................: 1e-18 +/- 0 [0,infty[ ph/cm2/s/MeV (free,scale=1e-18,gradient)\n",
      "  Index ....................: -2 +/- 0 [10,-10]  (free,scale=-2,gradient)\n",
      "  PivotEnergy ..............: 1000000 MeV (fixed,scale=1000000,gradient)\n",
      " Number of temporal par's ..: 1\n",
      "  Normalization ............: 1 (relative value) (fixed,scale=1,gradient)\n",
      " Number of scale par's .....: 0\n"
     ]
    }
   ],
   "source": [
    "# Define input/output files\n",
    "obsfile  = 'resources/obs_selected.xml'     # Input observation file\n",
    "\n",
    "# Setup the csphagen script\n",
    "phagen  = cscripts.csphagen()\n",
    "phagen['inobs']         = obsfile           \n",
    "phagen['outobs']        = 'resources/obs_onoff_stacked.xml'\n",
    "phagen['outmodel']      = 'resources/onoff_stacked_model.xml'\n",
    "phagen['prefix']        = 'resources/onoff_stacked'\n",
    "phagen['inmodel']       = 'NONE'            # assume that the source is pointlike\n",
    "phagen['ebinalg']       = ebinalg           # Method for defining energy binning\n",
    "phagen['emin']          = emin              # Minimum energy (TeV)\n",
    "phagen['emax']          = emax              # Maximum energy (TeV)\n",
    "phagen['enumbins']      = enumbins          # Number of energy bins\n",
    "phagen['coordsys']      = 'CEL'             # Coord. system for analysis\n",
    "phagen['ra']            = ra                # RA of ON region center\n",
    "phagen['dec']           = dec               # Dec of ON region center\n",
    "phagen['rad']           = 0.1               # Radius of ON region (degrees)\n",
    "phagen['bkgmethod']     = 'REFLECTED'       # Reflected region analysis\n",
    "phagen['use_model_bkg'] = False             # No model for the background\n",
    "phagen['maxoffset']     = 1.6               # Maximum source offset for data file to be considered\n",
    "phagen['stack']         = True              # Stack the data\n",
    "phagen.execute()\n",
    "\n",
    "# Peak at the results\n",
    "print('OBSERVATIONS:\\n', phagen.obs()[0], '\\n')\n",
    "print('MODEL:\\n', phagen.obs().models())"
   ]
  },
  {
   "cell_type": "markdown",
   "metadata": {},
   "source": [
    "You should now have the files `obs_onoff.xml` and `onoff_model.xml` in the resources folder. These files define the counts information and source model that will be used and the ON/OFF analysis, respectively. Since we have not specified any input model the script has placed a point source, named Dummy, at the center of the On region with a power law spectrum. We will rename this source as Crab."
   ]
  },
  {
   "cell_type": "code",
   "execution_count": 4,
   "metadata": {},
   "outputs": [],
   "source": [
    "phagen.obs().models()['Dummy'].name(srcname)  # Rename source\n",
    "phagen.obs().models()[srcname].tscalc(True)   # Compute a TS value"
   ]
  },
  {
   "cell_type": "markdown",
   "metadata": {},
   "source": [
    "## Likelihood ON/OFF fit (stacked)\n",
    "We can now quite easily run the ON/OFF analysis directly"
   ]
  },
  {
   "cell_type": "code",
   "execution_count": 5,
   "metadata": {
    "scrolled": true
   },
   "outputs": [
    {
     "name": "stdout",
     "output_type": "stream",
     "text": [
      "=== GOptimizerLM ===\n",
      " Optimized function value ..: 10.647\n",
      " Absolute precision ........: 0.005\n",
      " Acceptable value decrease .: 2\n",
      " Optimization status .......: converged\n",
      " Number of parameters ......: 6\n",
      " Number of free parameters .: 2\n",
      " Number of iterations ......: 10\n",
      " Lambda ....................: 1e-07\n",
      "=== GModels ===\n",
      " Number of models ..........: 1\n",
      " Number of parameters ......: 6\n",
      "=== GModelSky ===\n",
      " Name ......................: Crab\n",
      " Instruments ...............: all\n",
      " Test Statistic ............: 935.153029343876\n",
      " Observation identifiers ...: all\n",
      " Model type ................: PointSource\n",
      " Model components ..........: \"PointSource\" * \"PowerLaw\" * \"Constant\"\n",
      " Number of parameters ......: 6\n",
      " Number of spatial par's ...: 2\n",
      "  RA .......................: 83.633 deg (fixed,scale=1)\n",
      "  DEC ......................: 22.0145 deg (fixed,scale=1)\n",
      " Number of spectral par's ..: 3\n",
      "  Prefactor ................: 3.46797767180737e-17 +/- 2.87330267840198e-18 [0,infty[ ph/cm2/s/MeV (free,scale=1e-18,gradient)\n",
      "  Index ....................: -2.36165194764272 +/- 0.0772420380327042 [10,-10]  (free,scale=-2,gradient)\n",
      "  PivotEnergy ..............: 1000000 MeV (fixed,scale=1000000,gradient)\n",
      " Number of temporal par's ..: 1\n",
      "  Normalization ............: 1 (relative value) (fixed,scale=1,gradient)\n",
      " Number of scale par's .....: 0\n"
     ]
    }
   ],
   "source": [
    "# Run a likelihood analysis\n",
    "like = ctools.ctlike(phagen.obs())\n",
    "like['outmodel'] = 'resources/crab_onoff_stacked_plaw.xml'\n",
    "like.execute()\n",
    "\n",
    "# Look at the results\n",
    "print(like.opt())\n",
    "print(like.obs().models())"
   ]
  },
  {
   "cell_type": "markdown",
   "metadata": {},
   "source": [
    "Ok, not bad!"
   ]
  },
  {
   "cell_type": "markdown",
   "metadata": {},
   "source": [
    "## Likelihood ON/OFF fit (un-stacked)\n",
    "Now let's setup and run an un-stacked analysis"
   ]
  },
  {
   "cell_type": "code",
   "execution_count": 6,
   "metadata": {},
   "outputs": [],
   "source": [
    "# Setup the csphagen script\n",
    "phagen = cscripts.csphagen()\n",
    "phagen['inobs']         = obsfile           \n",
    "phagen['outobs']        = 'resources/obs_onoff_unstacked.xml'\n",
    "phagen['outmodel']      = 'resources/onoff_unstacked_model.xml'\n",
    "phagen['prefix']        = 'resources/onoff_unstacked'\n",
    "phagen['inmodel']       = 'NONE'            # assume that the source is pointlike\n",
    "phagen['ebinalg']       = ebinalg           # Method for defining energy bins\n",
    "phagen['emin']          = emin              # Minimum energy (TeV)\n",
    "phagen['emax']          = emax              # Maximum energy (TeV)\n",
    "phagen['enumbins']      = enumbins          # Number of energy bins\n",
    "phagen['coordsys']      = 'CEL'             # Coord. system for analysis\n",
    "phagen['ra']            = ra                # RA of ON region center\n",
    "phagen['dec']           = dec               # Dec of ON region center\n",
    "phagen['rad']           = 0.1               # Radius of ON region (degrees)\n",
    "phagen['bkgmethod']     = 'REFLECTED'       # Reflected region analysis\n",
    "phagen['use_model_bkg'] = False             # No model for the background\n",
    "phagen['maxoffset']     = 1.6               # Maximum source offset for data file to be considered\n",
    "phagen['stack']         = False             # Dont stack the data\n",
    "phagen.execute()\n",
    "\n",
    "# Rename the source model\n",
    "phagen.obs().models()['Dummy'].name(srcname)\n",
    "phagen.obs().models()[srcname].tscalc(True)"
   ]
  },
  {
   "cell_type": "code",
   "execution_count": 7,
   "metadata": {
    "scrolled": true
   },
   "outputs": [
    {
     "name": "stdout",
     "output_type": "stream",
     "text": [
      "=== GOptimizerLM ===\n",
      " Optimized function value ..: 22.216\n",
      " Absolute precision ........: 0.005\n",
      " Acceptable value decrease .: 2\n",
      " Optimization status .......: converged\n",
      " Number of parameters ......: 6\n",
      " Number of free parameters .: 2\n",
      " Number of iterations ......: 12\n",
      " Lambda ....................: 1e-07\n",
      "=== GModels ===\n",
      " Number of models ..........: 1\n",
      " Number of parameters ......: 6\n",
      "=== GModelSky ===\n",
      " Name ......................: Crab\n",
      " Instruments ...............: all\n",
      " Test Statistic ............: 938.723302565377\n",
      " Observation identifiers ...: all\n",
      " Model type ................: PointSource\n",
      " Model components ..........: \"PointSource\" * \"PowerLaw\" * \"Constant\"\n",
      " Number of parameters ......: 6\n",
      " Number of spatial par's ...: 2\n",
      "  RA .......................: 83.633 deg (fixed,scale=1)\n",
      "  DEC ......................: 22.0145 deg (fixed,scale=1)\n",
      " Number of spectral par's ..: 3\n",
      "  Prefactor ................: 3.46199341563154e-17 +/- 2.88814269868207e-18 [0,infty[ ph/cm2/s/MeV (free,scale=1e-18,gradient)\n",
      "  Index ....................: -2.36489510400207 +/- 0.0780081342379216 [10,-10]  (free,scale=-2,gradient)\n",
      "  PivotEnergy ..............: 1000000 MeV (fixed,scale=1000000,gradient)\n",
      " Number of temporal par's ..: 1\n",
      "  Normalization ............: 1 (relative value) (fixed,scale=1,gradient)\n",
      " Number of scale par's .....: 0\n"
     ]
    }
   ],
   "source": [
    "# Run a likelihood analysis\n",
    "like = ctools.ctlike(phagen.obs())\n",
    "like['outmodel'] = 'resources/crab_onoff_unstacked_plaw.xml'\n",
    "like.execute()\n",
    "\n",
    "# Look at the results\n",
    "print(like.opt())\n",
    "print(like.obs().models())"
   ]
  },
  {
   "cell_type": "markdown",
   "metadata": {},
   "source": [
    "Again, the results seem reasonable! Let's take a look at the spectral residuals to see just how good we're doing."
   ]
  },
  {
   "cell_type": "code",
   "execution_count": 8,
   "metadata": {},
   "outputs": [
    {
     "data": {
      "image/png": "[encoded data removed]",
      "text/plain": [
       "<Figure size 864x504 with 4 Axes>"
      ]
     },
     "metadata": {
      "needs_background": "light"
     },
     "output_type": "display_data"
    }
   ],
   "source": [
    "# Residuals output file\n",
    "residuals = 'resources/residuals_crab_onoff_unstacked_plaw.fits'\n",
    "\n",
    "# Generate the residuals\n",
    "res = cscripts.csresspec(like.obs())\n",
    "res['components'] = True\n",
    "res['algorithm']  = 'SIGNIFICANCE'\n",
    "res['outfile']    = residuals\n",
    "res.execute()\n",
    "\n",
    "# Now plot the residuals\n",
    "plot_residuals(residuals,'',0)"
   ]
  },
  {
   "cell_type": "markdown",
   "metadata": {},
   "source": [
    "## Log-parabola test\n",
    "But we know the Crab is better modeled as a log-parabola, so let's apply that model to the data"
   ]
  },
  {
   "cell_type": "code",
   "execution_count": 9,
   "metadata": {},
   "outputs": [
    {
     "name": "stdout",
     "output_type": "stream",
     "text": [
      "=== GOptimizerLM ===\n",
      " Optimized function value ..: 20.362\n",
      " Absolute precision ........: 0.005\n",
      " Acceptable value decrease .: 2\n",
      " Optimization status .......: converged\n",
      " Number of parameters ......: 7\n",
      " Number of free parameters .: 3\n",
      " Number of iterations ......: 3\n",
      " Lambda ....................: 1e-06\n",
      "=== GModels ===\n",
      " Number of models ..........: 1\n",
      " Number of parameters ......: 7\n",
      "=== GModelSky ===\n",
      " Name ......................: Crab\n",
      " Instruments ...............: all\n",
      " Test Statistic ............: 942.431509434875\n",
      " Observation identifiers ...: all\n",
      " Model type ................: PointSource\n",
      " Model components ..........: \"PointSource\" * \"LogParabola\" * \"Constant\"\n",
      " Number of parameters ......: 7\n",
      " Number of spatial par's ...: 2\n",
      "  RA .......................: 83.633 deg (fixed,scale=1)\n",
      "  DEC ......................: 22.0145 deg (fixed,scale=1)\n",
      " Number of spectral par's ..: 4\n",
      "  Prefactor ................: 3.83272290722107e-17 +/- 3.70736095064603e-18 [0,infty[ ph/cm2/s/MeV (free,scale=3.4e-17,gradient)\n",
      "  Index ....................: -2.46069533983579 +/- 0.0956560450136137 [10,-10]  (free,scale=-2.4,gradient)\n",
      "  Curvature ................: -0.140719700814947 +/- 0.072272844622449 [10,-10]  (free,scale=-0.15,gradient)\n",
      "  PivotEnergy ..............: 1000000 MeV (fixed,scale=1000000,gradient)\n",
      " Number of temporal par's ..: 1\n",
      "  Normalization ............: 1 (relative value) (fixed,scale=1,gradient)\n",
      " Number of scale par's .....: 0\n"
     ]
    }
   ],
   "source": [
    "# Create the desired spectral model\n",
    "pref  = 3.4e-17\n",
    "index = -2.4\n",
    "pivot = gammalib.GEnergy(1.0, 'TeV')\n",
    "curv  = -0.15\n",
    "spectrum = gammalib.GModelSpectralLogParabola(pref, index, pivot, curv)\n",
    "\n",
    "# Set the Crab spectrum\n",
    "phagen.obs().models()[srcname].spectral(spectrum)\n",
    "\n",
    "# Reinitialize and run the likelihood\n",
    "like = ctools.ctlike(phagen.obs())\n",
    "like['outmodel'] = 'resources/crab_onoff_unstacked_logparab.xml'\n",
    "like.execute()\n",
    "\n",
    "# Look at the results\n",
    "print(like.opt())\n",
    "print(like.obs().models())"
   ]
  },
  {
   "cell_type": "markdown",
   "metadata": {},
   "source": [
    "Based on the value of the 'Test Statistic' the log-parabola model improved the fit, but not really by a significant amount. This isn't all that surprising, however, with only two runs.\n",
    "\n",
    "Just for completeness, let's go ahead and re-generate the residuals for the log-parabola spectral model:"
   ]
  },
  {
   "cell_type": "code",
   "execution_count": 10,
   "metadata": {},
   "outputs": [
    {
     "data": {
      "image/png": "[encoded data removed]",
      "text/plain": [
       "<Figure size 864x504 with 4 Axes>"
      ]
     },
     "metadata": {
      "needs_background": "light"
     },
     "output_type": "display_data"
    }
   ],
   "source": [
    "# Residuals output file\n",
    "residuals = 'resources/residuals_crab_onoff_unstacked_logparab.fits'\n",
    "\n",
    "# Run the script for generating the output file\n",
    "res = cscripts.csresspec(like.obs())\n",
    "res['components'] = True\n",
    "res['algorithm']  = 'SIGNIFICANCE'\n",
    "res['outfile']    = residuals\n",
    "res.execute()\n",
    "\n",
    "# Now use the 'plot_residuals' examples script to plot the residuals\n",
    "plot_residuals(residuals,'',0)"
   ]
  },
  {
   "cell_type": "markdown",
   "metadata": {},
   "source": [
    "# Butterfly Plot Generation\n",
    "We can use `ctbutterfly` to generate a butterfly plot of the resulting spectrum."
   ]
  },
  {
   "cell_type": "code",
   "execution_count": 11,
   "metadata": {},
   "outputs": [
    {
     "data": {
      "image/png": "[encoded data removed]",
      "text/plain": [
       "<Figure size 432x288 with 1 Axes>"
      ]
     },
     "metadata": {
      "needs_background": "light"
     },
     "output_type": "display_data"
    }
   ],
   "source": [
    "# Generate a butterfly plot\n",
    "butterfly = ctools.ctbutterfly(like.obs())\n",
    "butterfly['srcname']  = srcname\n",
    "butterfly['edisp']    = True\n",
    "butterfly['ebinalg']  = ebinalg\n",
    "butterfly['enumbins'] = enumbins\n",
    "butterfly['emin']     = emin\n",
    "butterfly['emax']     = emax\n",
    "butterfly['outfile']  = 'resources/crab_onoff_unstacked_logp_btrfly.fits'\n",
    "butterfly.execute()\n",
    "\n",
    "# Visualize the results\n",
    "plot_butterfly(butterfly['outfile'].filename(), 'resources/crab_onoff_unstacked_logp_btrfly.png')"
   ]
  },
  {
   "cell_type": "markdown",
   "metadata": {},
   "source": [
    "## SED Generation\n",
    "So we've generated a spectral fit and visualized the spectrum, but we can also generate an SED using `csspec`."
   ]
  },
  {
   "cell_type": "code",
   "execution_count": 12,
   "metadata": {},
   "outputs": [
    {
     "data": {
      "image/png": "[encoded data removed]",
      "text/plain": [
       "<Figure size 432x288 with 1 Axes>"
      ]
     },
     "metadata": {
      "needs_background": "light"
     },
     "output_type": "display_data"
    }
   ],
   "source": [
    "# Generate the spectral information\n",
    "spec = cscripts.csspec(like.obs())\n",
    "spec['srcname']  = srcname\n",
    "spec['edisp']    = True\n",
    "spec['ebinalg']  = ebinalg\n",
    "spec['enumbins'] = enumbins\n",
    "spec['emin']     = emin\n",
    "spec['emax']     = emax\n",
    "spec['method']   = 'AUTO'\n",
    "spec['outfile']  = 'resources/crab_onoff_unstacked_logp_spec.fits'\n",
    "spec.execute()\n",
    "\n",
    "# Visualize the result\n",
    "plot_spectrum(spec['outfile'].filename(), 'resources/crab_onoff_unstacked_logp_spec.png')"
   ]
  },
  {
   "cell_type": "markdown",
   "metadata": {},
   "source": [
    "## Wrapup\n",
    "You should now have at least an idea of how to run a standard analysis of DL3 formatted veritas data using ctools. In the next tutorial (veritas_ctools_classical_v2) you will see how to define exclusion regions. We will then see how to apply those exclusion regions in a fit and how to generate an RBM significance map."
   ]
  }
 ],
 "metadata": {
  "kernelspec": {
   "display_name": "Python 3",
   "language": "python",
   "name": "python3"
  },
  "language_info": {
   "codemirror_mode": {
    "name": "ipython",
    "version": 3
   },
   "file_extension": ".py",
   "mimetype": "text/x-python",
   "name": "python",
   "nbconvert_exporter": "python",
   "pygments_lexer": "ipython3",
   "version": "3.7.3"
  }
 },
 "nbformat": 4,
 "nbformat_minor": 2
}
