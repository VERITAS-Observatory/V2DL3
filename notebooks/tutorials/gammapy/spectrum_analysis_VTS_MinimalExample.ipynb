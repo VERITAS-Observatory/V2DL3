{
 "cells": [
  {
   "cell_type": "markdown",
   "metadata": {},
   "source": [
    "# 1D Spectral analysis of VERITAS data with Gammapy "
   ]
  },
  {
   "cell_type": "markdown",
   "metadata": {},
   "source": [
    "### Setup\n"
   ]
  },
  {
   "cell_type": "code",
   "execution_count": 1,
   "metadata": {},
   "outputs": [],
   "source": [
    "%matplotlib inline\n",
    "import matplotlib.pyplot as plt"
   ]
  },
  {
   "cell_type": "code",
   "execution_count": 2,
   "metadata": {},
   "outputs": [
    {
     "name": "stdout",
     "output_type": "stream",
     "text": [
      "gammapy: 0.18.2\n",
      "numpy: 1.19.4\n",
      "astropy 4.1\n",
      "regions 0.4\n"
     ]
    }
   ],
   "source": [
    "# Check package versions\n",
    "import gammapy\n",
    "import numpy as np\n",
    "import astropy\n",
    "import regions\n",
    "\n",
    "print(\"gammapy:\", gammapy.__version__)\n",
    "print(\"numpy:\", np.__version__)\n",
    "print(\"astropy\", astropy.__version__)\n",
    "print(\"regions\", regions.__version__)"
   ]
  },
  {
   "cell_type": "code",
   "execution_count": 3,
   "metadata": {},
   "outputs": [],
   "source": [
    "from pathlib import Path\n",
    "import astropy.units as u\n",
    "from astropy.coordinates import SkyCoord, Angle\n",
    "from regions import CircleSkyRegion\n",
    "from gammapy.maps import Map, MapAxis\n",
    "from gammapy.modeling import Fit\n",
    "from gammapy.data import DataStore\n",
    "from gammapy.datasets import (\n",
    "    Datasets,\n",
    "    SpectrumDataset,\n",
    "    SpectrumDatasetOnOff,\n",
    "    FluxPointsDataset,\n",
    ")\n",
    "from gammapy.modeling.models import (\n",
    "    PowerLawSpectralModel,\n",
    "    create_crab_spectral_model,\n",
    "    SkyModel,\n",
    ")\n",
    "from gammapy.makers import (\n",
    "    SafeMaskMaker,\n",
    "    SpectrumDatasetMaker,\n",
    "    ReflectedRegionsBackgroundMaker,\n",
    ")\n",
    "from gammapy.estimators import FluxPointsEstimator\n",
    "from gammapy.visualization import plot_spectrum_datasets_off_regions"
   ]
  },
  {
   "cell_type": "markdown",
   "metadata": {},
   "source": [
    "### Loading Data"
   ]
  },
  {
   "cell_type": "code",
   "execution_count": 4,
   "metadata": {},
   "outputs": [
    {
     "name": "stderr",
     "output_type": "stream",
     "text": [
      "No HDU found matching: OBS_ID = 64080, HDU_TYPE = bkg, HDU_CLASS = None\n",
      "No HDU found matching: OBS_ID = 64081, HDU_TYPE = bkg, HDU_CLASS = None\n",
      "No HDU found matching: OBS_ID = 64082, HDU_TYPE = bkg, HDU_CLASS = None\n",
      "No HDU found matching: OBS_ID = 64083, HDU_TYPE = bkg, HDU_CLASS = None\n"
     ]
    }
   ],
   "source": [
    "datastore = DataStore.from_dir(\"$GAMMAPY_DATA\")\n",
    "obs_ids = [64080, 64081, 64082, 64083]\n",
    "observations = datastore.get_observations(obs_ids)"
   ]
  },
  {
   "cell_type": "markdown",
   "metadata": {},
   "source": [
    "### Defining Target Region"
   ]
  },
  {
   "cell_type": "code",
   "execution_count": 5,
   "metadata": {},
   "outputs": [],
   "source": [
    "target_position = SkyCoord(ra=83.63, dec=22.01, unit=\"deg\", frame=\"icrs\")\n",
    "on_region_radius = Angle(\"0.11 deg\")\n",
    "on_region = CircleSkyRegion(center=target_position, radius=on_region_radius)"
   ]
  },
  {
   "cell_type": "markdown",
   "metadata": {},
   "source": [
    "### Creating exclusion mask\n",
    "\n",
    "We will use the reflected regions method to place off regions to estimate the background level in the on region.\n",
    "To make sure the off regions don't contain gamma-ray emission, we create an exclusion mask.\n",
    "\n",
    "Using http://gamma-sky.net/ we find that there's only one known gamma-ray source near the Crab nebula: the AGN called [RGB J0521+212](http://gamma-sky.net/#/cat/tev/23) at GLON = 183.604 deg and GLAT = -8.708 deg."
   ]
  },
  {
   "cell_type": "code",
   "execution_count": 6,
   "metadata": {
    "scrolled": true
   },
   "outputs": [],
   "source": [
    "exclusion_region = CircleSkyRegion(\n",
    "    center=SkyCoord(183.604, -8.708, unit=\"deg\", frame=\"galactic\"),\n",
    "    radius=0.5 * u.deg,\n",
    ")\n",
    "\n",
    "skydir = target_position.galactic\n",
    "exclusion_mask = Map.create(\n",
    "    npix=(150, 150), binsz=0.05, skydir=skydir, proj=\"TAN\", frame=\"icrs\"\n",
    ")\n",
    "\n",
    "mask = exclusion_mask.geom.region_mask([exclusion_region], inside=False)\n",
    "exclusion_mask.data = mask\n",
    "#exclusion_mask.plot();"
   ]
  },
  {
   "cell_type": "markdown",
   "metadata": {},
   "source": [
    "### Running data reduction chain\n",
    "\n",
    " - configuration of the maker classes:"
   ]
  },
  {
   "cell_type": "code",
   "execution_count": 7,
   "metadata": {},
   "outputs": [],
   "source": [
    "e_reco = MapAxis.from_energy_bounds(0.1, 30, 20, unit=\"TeV\", name=\"energy\")\n",
    "e_true = MapAxis.from_energy_bounds(\n",
    "    0.05, 100, 200, unit=\"TeV\", name=\"energy_true\"\n",
    ")\n",
    "dataset_empty = SpectrumDataset.create(\n",
    "    e_reco=e_reco, e_true=e_true, region=on_region\n",
    ")"
   ]
  },
  {
   "cell_type": "code",
   "execution_count": 8,
   "metadata": {},
   "outputs": [],
   "source": [
    "dataset_maker = SpectrumDatasetMaker(\n",
    "    containment_correction=False, selection=[\"counts\", \"exposure\", \"edisp\"]\n",
    ")\n",
    "bkg_maker = ReflectedRegionsBackgroundMaker(exclusion_mask=exclusion_mask)\n",
    "safe_mask_masker = SafeMaskMaker(methods=[\"aeff-max\"], aeff_percent=10)"
   ]
  },
  {
   "cell_type": "code",
   "execution_count": 9,
   "metadata": {},
   "outputs": [
    {
     "name": "stdout",
     "output_type": "stream",
     "text": [
      "CPU times: user 14.7 s, sys: 72.9 ms, total: 14.7 s\n",
      "Wall time: 15.1 s\n"
     ]
    }
   ],
   "source": [
    "%%time\n",
    "datasets = Datasets()\n",
    "\n",
    "for obs_id, observation in zip(obs_ids, observations):\n",
    "    dataset = dataset_maker.run(\n",
    "        dataset_empty.copy(name=str(obs_id)), observation\n",
    "    )\n",
    "    dataset_on_off = bkg_maker.run(dataset, observation)\n",
    "    dataset_on_off = safe_mask_masker.run(dataset_on_off, observation)\n",
    "    datasets.append(dataset_on_off)"
   ]
  },
  {
   "cell_type": "markdown",
   "metadata": {},
   "source": [
    "### Plotting off regions"
   ]
  },
  {
   "cell_type": "code",
   "execution_count": 10,
   "metadata": {},
   "outputs": [
    {
     "data": {
      "image/png": "[encoded data removed]",
      "text/plain": [
       "<Figure size 576x576 with 1 Axes>"
      ]
     },
     "metadata": {
      "needs_background": "light"
     },
     "output_type": "display_data"
    }
   ],
   "source": [
    "plt.figure(figsize=(8, 8))\n",
    "_, ax, _ = exclusion_mask.plot()\n",
    "on_region.to_pixel(ax.wcs).plot(ax=ax, edgecolor=\"k\")\n",
    "plot_spectrum_datasets_off_regions(ax=ax, datasets=datasets)"
   ]
  },
  {
   "cell_type": "markdown",
   "metadata": {},
   "source": [
    "### Source statistic\n",
    "\n",
    "Next we're going to look at the overall source statistics in our signal region."
   ]
  },
  {
   "cell_type": "code",
   "execution_count": 11,
   "metadata": {},
   "outputs": [],
   "source": [
    "info_table = datasets.info_table(cumulative=True)"
   ]
  },
  {
   "cell_type": "code",
   "execution_count": 12,
   "metadata": {},
   "outputs": [
    {
     "data": {
      "text/html": [
       "<i>Table length=4</i>\n",
       "<table id=\"table22767588584696\" class=\"table-striped table-bordered table-condensed\">\n",
       "<thead><tr><th>name</th><th>counts</th><th>background</th><th>excess</th><th>sqrt_ts</th><th>npred</th><th>npred_background</th><th>npred_signal</th><th>exposure_min</th><th>exposure_max</th><th>livetime</th><th>ontime</th><th>counts_rate</th><th>background_rate</th><th>excess_rate</th><th>n_bins</th><th>n_fit_bins</th><th>stat_type</th><th>stat_sum</th><th>counts_off</th><th>acceptance</th><th>acceptance_off</th><th>alpha</th></tr></thead>\n",
       "<thead><tr><th></th><th></th><th></th><th></th><th></th><th></th><th></th><th></th><th>m2 s</th><th>m2 s</th><th>s</th><th>s</th><th>1 / s</th><th>1 / s</th><th>1 / s</th><th></th><th></th><th></th><th></th><th></th><th></th><th></th><th></th></tr></thead>\n",
       "<thead><tr><th>str5</th><th>float32</th><th>float64</th><th>float64</th><th>float64</th><th>float64</th><th>float64</th><th>float64</th><th>float64</th><th>float64</th><th>float64</th><th>float64</th><th>float64</th><th>float64</th><th>float64</th><th>int64</th><th>int64</th><th>str5</th><th>float64</th><th>float32</th><th>float64</th><th>float64</th><th>float64</th></tr></thead>\n",
       "<tr><td>64080</td><td>183.0</td><td>10.538461538461538</td><td>172.46153846153845</td><td>23.435482399945528</td><td>22.857142857142854</td><td>22.857142857142854</td><td>nan</td><td>12.452619722457348</td><td>154369037.1168514</td><td>1013.3333005282775</td><td>1201.8021302819252</td><td>0.1805921111095404</td><td>0.010399797907527127</td><td>0.17019231320201328</td><td>20</td><td>18</td><td>wstat</td><td>577.5673183221645</td><td>137.0</td><td>18.0</td><td>234.0</td><td>0.07692307692307693</td></tr>\n",
       "<tr><td>64080</td><td>351.0</td><td>18.25274658203125</td><td>332.74725341796875</td><td>32.307498832715375</td><td>47.84060623008153</td><td>47.84060623008153</td><td>nan</td><td>12.452619722457348</td><td>320025429.49067855</td><td>2027.4102266012342</td><td>2403.686617165804</td><td>0.17312727113368617</td><td>0.009002986343138997</td><td>0.1641242847905472</td><td>20</td><td>18</td><td>wstat</td><td>1101.546893655389</td><td>191.0</td><td>18.0</td><td>188.35520935058594</td><td>0.0954001322388649</td></tr>\n",
       "<tr><td>64080</td><td>506.0</td><td>24.852746963500977</td><td>481.1472473144531</td><td>39.11558043498012</td><td>68.167615188625</td><td>68.167615188625</td><td>nan</td><td>12.452619722457348</td><td>476481326.70273733</td><td>3032.78274616505</td><td>3605.5122197270393</td><td>0.1668434709475436</td><td>0.008194700723263889</td><td>0.15864876833754848</td><td>20</td><td>18</td><td>wstat</td><td>1597.470861030191</td><td>257.0</td><td>18.0</td><td>186.13636779785156</td><td>0.09741399437189102</td></tr>\n",
       "<tr><td>64080</td><td>681.0</td><td>32.102745056152344</td><td>648.8972778320312</td><td>45.3935420630811</td><td>93.56099876080539</td><td>93.56099876080539</td><td>nan</td><td>12.452619722457348</td><td>642180045.8265678</td><td>4047.026153101484</td><td>4807.312323898077</td><td>0.16827170723325027</td><td>0.007932428366332657</td><td>0.16033928452247376</td><td>20</td><td>18</td><td>wstat</td><td>2131.176716997915</td><td>315.0</td><td>18.0</td><td>176.6204071044922</td><td>0.10172095894813538</td></tr>\n",
       "</table>"
      ],
      "text/plain": [
       "<Table length=4>\n",
       " name  counts     background     ...   acceptance_off          alpha       \n",
       "                                 ...                                       \n",
       " str5 float32      float64       ...      float64             float64      \n",
       "----- ------- ------------------ ... ------------------ -------------------\n",
       "64080   183.0 10.538461538461538 ...              234.0 0.07692307692307693\n",
       "64080   351.0  18.25274658203125 ... 188.35520935058594  0.0954001322388649\n",
       "64080   506.0 24.852746963500977 ... 186.13636779785156 0.09741399437189102\n",
       "64080   681.0 32.102745056152344 ...  176.6204071044922 0.10172095894813538"
      ]
     },
     "execution_count": 12,
     "metadata": {},
     "output_type": "execute_result"
    }
   ],
   "source": [
    "info_table"
   ]
  },
  {
   "cell_type": "code",
   "execution_count": 13,
   "metadata": {},
   "outputs": [
    {
     "data": {
      "image/png": "[encoded data removed]",
      "text/plain": [
       "<Figure size 432x288 with 1 Axes>"
      ]
     },
     "metadata": {
      "needs_background": "light"
     },
     "output_type": "display_data"
    }
   ],
   "source": [
    "plt.plot(\n",
    "    info_table[\"livetime\"].to(\"h\"), info_table[\"excess\"], marker=\"o\", ls=\"none\"\n",
    ")\n",
    "plt.xlabel(\"Livetime [h]\")\n",
    "plt.ylabel(\"Excess\");"
   ]
  },
  {
   "cell_type": "code",
   "execution_count": 14,
   "metadata": {},
   "outputs": [
    {
     "data": {
      "image/png": "[encoded data removed]",
      "text/plain": [
       "<Figure size 432x288 with 1 Axes>"
      ]
     },
     "metadata": {
      "needs_background": "light"
     },
     "output_type": "display_data"
    }
   ],
   "source": [
    "plt.plot(\n",
    "    info_table[\"livetime\"].to(\"h\"),\n",
    "    info_table[\"sqrt_ts\"],\n",
    "    marker=\"o\",\n",
    "    ls=\"none\",\n",
    ")\n",
    "plt.xlabel(\"Livetime [h]\")\n",
    "plt.ylabel(\"Sqrt(TS)\");"
   ]
  },
  {
   "cell_type": "markdown",
   "metadata": {},
   "source": [
    "Finally you can write the extrated datasets to disk using the OGIP format (PHA, ARF, RMF, BKG, see [here](https://gamma-astro-data-formats.readthedocs.io/en/latest/spectra/ogip/index.html) for details):"
   ]
  },
  {
   "cell_type": "code",
   "execution_count": 15,
   "metadata": {},
   "outputs": [],
   "source": [
    "path = Path(\"spectrum_analysis\")\n",
    "path.mkdir(exist_ok=True)"
   ]
  },
  {
   "cell_type": "code",
   "execution_count": 16,
   "metadata": {},
   "outputs": [
    {
     "name": "stderr",
     "output_type": "stream",
     "text": [
      "/home/sonal/miniconda2/envs/gammapy-0.18.2/lib/python3.7/site-packages/numpy/core/_asarray.py:83: VisibleDeprecationWarning: Creating an ndarray from ragged nested sequences (which is a list-or-tuple of lists-or-tuples-or ndarrays with different lengths or shapes) is deprecated. If you meant to do this, you must specify 'dtype=object' when creating the ndarray\n",
      "  return array(a, dtype, copy=False, order=order)\n",
      "/home/sonal/miniconda2/envs/gammapy-0.18.2/lib/python3.7/site-packages/numpy/core/_asarray.py:83: VisibleDeprecationWarning: Creating an ndarray from ragged nested sequences (which is a list-or-tuple of lists-or-tuples-or ndarrays with different lengths or shapes) is deprecated. If you meant to do this, you must specify 'dtype=object' when creating the ndarray\n",
      "  return array(a, dtype, copy=False, order=order)\n",
      "/home/sonal/miniconda2/envs/gammapy-0.18.2/lib/python3.7/site-packages/numpy/core/_asarray.py:83: VisibleDeprecationWarning: Creating an ndarray from ragged nested sequences (which is a list-or-tuple of lists-or-tuples-or ndarrays with different lengths or shapes) is deprecated. If you meant to do this, you must specify 'dtype=object' when creating the ndarray\n",
      "  return array(a, dtype, copy=False, order=order)\n",
      "/home/sonal/miniconda2/envs/gammapy-0.18.2/lib/python3.7/site-packages/numpy/core/_asarray.py:83: VisibleDeprecationWarning: Creating an ndarray from ragged nested sequences (which is a list-or-tuple of lists-or-tuples-or ndarrays with different lengths or shapes) is deprecated. If you meant to do this, you must specify 'dtype=object' when creating the ndarray\n",
      "  return array(a, dtype, copy=False, order=order)\n"
     ]
    }
   ],
   "source": [
    "for dataset in datasets:\n",
    "    dataset.to_ogip_files(outdir=path, overwrite=True)"
   ]
  },
  {
   "cell_type": "markdown",
   "metadata": {},
   "source": [
    "If you want to read back the datasets from disk you can use:"
   ]
  },
  {
   "cell_type": "code",
   "execution_count": 17,
   "metadata": {},
   "outputs": [],
   "source": [
    "datasets = Datasets()\n",
    "for obs_id in obs_ids:\n",
    "    filename = path / f\"pha_obs{obs_id}.fits\"\n",
    "    datasets.append(SpectrumDatasetOnOff.from_ogip_files(filename))"
   ]
  },
  {
   "cell_type": "markdown",
   "metadata": {},
   "source": [
    "## Fitting spectrum\n",
    "\n",
    "Now we'll fit a global model to the spectrum by stacking the observations. "
   ]
  },
  {
   "cell_type": "markdown",
   "metadata": {},
   "source": [
    "### Stack observations\n",
    "\n",
    "Fitting the spectrum by stacking all observations first and the fitting a model. "
   ]
  },
  {
   "cell_type": "code",
   "execution_count": 18,
   "metadata": {},
   "outputs": [],
   "source": [
    "dataset_stacked = Datasets(datasets).stack_reduce()"
   ]
  },
  {
   "cell_type": "markdown",
   "metadata": {},
   "source": [
    "Set the model on the dataset we would like to fit and pass it to the `~gammapy.modeling.Fit` object:"
   ]
  },
  {
   "cell_type": "code",
   "execution_count": 19,
   "metadata": {},
   "outputs": [],
   "source": [
    "spectral_model = PowerLawSpectralModel(\n",
    "    index=2, amplitude=2e-11 * u.Unit(\"cm-2 s-1 TeV-1\"), reference=1 * u.TeV\n",
    ")\n",
    "model = SkyModel(spectral_model=spectral_model, name=\"crab\")\n",
    "\n",
    "dataset_stacked.models = model\n",
    "stacked_fit = Fit([dataset_stacked])\n",
    "result_stacked = stacked_fit.run()\n",
    "\n",
    "# make a copy to compare later\n",
    "model_best_stacked = model.copy()"
   ]
  },
  {
   "cell_type": "code",
   "execution_count": 20,
   "metadata": {},
   "outputs": [
    {
     "name": "stdout",
     "output_type": "stream",
     "text": [
      "OptimizeResult\n",
      "\n",
      "\tbackend    : minuit\n",
      "\tmethod     : minuit\n",
      "\tsuccess    : True\n",
      "\tmessage    : Optimization terminated successfully.\n",
      "\tnfev       : 44\n",
      "\ttotal stat : 59.20\n",
      "\n"
     ]
    }
   ],
   "source": [
    "print(result_stacked)"
   ]
  },
  {
   "cell_type": "code",
   "execution_count": 21,
   "metadata": {},
   "outputs": [
    {
     "data": {
      "text/html": [
       "<i>Table length=3</i>\n",
       "<table id=\"table22767587075632\" class=\"table-striped table-bordered table-condensed\">\n",
       "<thead><tr><th>name</th><th>value</th><th>unit</th><th>min</th><th>max</th><th>frozen</th><th>error</th></tr></thead>\n",
       "<thead><tr><th>str9</th><th>float64</th><th>str14</th><th>float64</th><th>float64</th><th>bool</th><th>float64</th></tr></thead>\n",
       "<tr><td>index</td><td>2.5444e+00</td><td></td><td>nan</td><td>nan</td><td>False</td><td>5.707e-02</td></tr>\n",
       "<tr><td>amplitude</td><td>2.3256e-11</td><td>cm-2 s-1 TeV-1</td><td>nan</td><td>nan</td><td>False</td><td>1.364e-12</td></tr>\n",
       "<tr><td>reference</td><td>1.0000e+00</td><td>TeV</td><td>nan</td><td>nan</td><td>True</td><td>0.000e+00</td></tr>\n",
       "</table>"
      ],
      "text/plain": [
       "<Table length=3>\n",
       "   name     value         unit        min     max   frozen   error  \n",
       "   str9    float64       str14      float64 float64  bool   float64 \n",
       "--------- ---------- -------------- ------- ------- ------ ---------\n",
       "    index 2.5444e+00                    nan     nan  False 5.707e-02\n",
       "amplitude 2.3256e-11 cm-2 s-1 TeV-1     nan     nan  False 1.364e-12\n",
       "reference 1.0000e+00            TeV     nan     nan   True 0.000e+00"
      ]
     },
     "execution_count": 21,
     "metadata": {},
     "output_type": "execute_result"
    }
   ],
   "source": [
    "model_best_stacked.parameters.to_table()"
   ]
  },
  {
   "cell_type": "code",
   "execution_count": 22,
   "metadata": {},
   "outputs": [
    {
     "data": {
      "text/plain": [
       "<matplotlib.legend.Legend at 0x14b4fdf0ff28>"
      ]
     },
     "execution_count": 22,
     "metadata": {},
     "output_type": "execute_result"
    },
    {
     "data": {
      "image/png": "[encoded data removed]",
      "text/plain": [
       "<Figure size 432x288 with 1 Axes>"
      ]
     },
     "metadata": {
      "needs_background": "light"
     },
     "output_type": "display_data"
    }
   ],
   "source": [
    "plot_kwargs = {\n",
    "    \"energy_range\": [0.2, 10] * u.TeV,\n",
    "    \"energy_power\": 2,\n",
    "    \"flux_unit\": \"erg-1 cm-2 s-1\",\n",
    "}\n",
    "\n",
    "# plot stacked model\n",
    "model_best_stacked.spectral_model.plot(\n",
    "    **plot_kwargs, label=\"Stacked analysis result\"\n",
    ")\n",
    "model_best_stacked.spectral_model.plot_error(**plot_kwargs)\n",
    "\n",
    "\n",
    "plt.legend()"
   ]
  },
  {
   "cell_type": "markdown",
   "metadata": {},
   "source": [
    "### Computing Flux Points\n",
    "\n",
    "- Compute flux points by fitting the norm of the global model in energy bands. We'll use a fixed energy binning for now\n",
    "- Create an instance of the ~gammapy.estimators.FluxPointsEstimator, by passing the dataset and the energy binning\n",
    "- the table of the resulting flux points"
   ]
  },
  {
   "cell_type": "code",
   "execution_count": 23,
   "metadata": {},
   "outputs": [
    {
     "data": {
      "text/html": [
       "<i>Table length=12</i>\n",
       "<table id=\"table22767589598096\" class=\"table-striped table-bordered table-condensed\">\n",
       "<thead><tr><th>counts [1]</th><th>e_ref</th><th>e_min</th><th>e_max</th><th>ref_dnde</th><th>ref_flux</th><th>ref_eflux</th><th>ref_e2dnde</th><th>norm</th><th>stat</th><th>success</th><th>norm_err</th><th>ts</th><th>norm_errp</th><th>norm_errn</th><th>norm_ul</th><th>norm_scan [11]</th><th>stat_scan [11]</th><th>sqrt_ts</th><th>dnde</th><th>dnde_ul</th><th>dnde_err</th><th>dnde_errp</th><th>dnde_errn</th></tr></thead>\n",
       "<thead><tr><th></th><th>TeV</th><th>TeV</th><th>TeV</th><th>1 / (cm2 s TeV)</th><th>1 / (cm2 s)</th><th>TeV / (cm2 s)</th><th>TeV / (cm2 s)</th><th></th><th></th><th></th><th></th><th></th><th></th><th></th><th></th><th></th><th></th><th></th><th>1 / (cm2 s TeV)</th><th>1 / (cm2 s TeV)</th><th>1 / (cm2 s TeV)</th><th>1 / (cm2 s TeV)</th><th>1 / (cm2 s TeV)</th></tr></thead>\n",
       "<thead><tr><th>int64</th><th>float64</th><th>float64</th><th>float64</th><th>float64</th><th>float64</th><th>float64</th><th>float64</th><th>float64</th><th>float64</th><th>bool</th><th>float64</th><th>float64</th><th>float64</th><th>float64</th><th>float64</th><th>float64</th><th>float64</th><th>float64</th><th>float64</th><th>float64</th><th>float64</th><th>float64</th><th>float64</th></tr></thead>\n",
       "<tr><td>181</td><td>0.235</td><td>0.177</td><td>0.313</td><td>9.237e-10</td><td>1.280e-10</td><td>2.928e-11</td><td>5.113e-11</td><td>0.830</td><td>30.515</td><td>True</td><td>0.069</td><td>384.531</td><td>0.071</td><td>0.068</td><td>0.976</td><td>0.200 .. 5.000</td><td>184.681 .. 1037.972</td><td>19.609</td><td>7.666e-10</td><td>9.013e-10</td><td>6.420e-11</td><td>6.577e-11</td><td>6.265e-11</td></tr>\n",
       "<tr><td>139</td><td>0.361</td><td>0.313</td><td>0.416</td><td>3.111e-10</td><td>3.227e-11</td><td>1.156e-11</td><td>4.051e-11</td><td>1.077</td><td>0.000</td><td>True</td><td>0.096</td><td>421.451</td><td>0.099</td><td>0.093</td><td>1.280</td><td>0.200 .. 5.000</td><td>191.188 .. 548.355</td><td>20.529</td><td>3.350e-10</td><td>3.982e-10</td><td>2.988e-11</td><td>3.073e-11</td><td>2.905e-11</td></tr>\n",
       "<tr><td>117</td><td>0.480</td><td>0.416</td><td>0.554</td><td>1.506e-10</td><td>2.077e-11</td><td>9.901e-12</td><td>3.468e-11</td><td>1.145</td><td>0.000</td><td>True</td><td>0.110</td><td>387.092</td><td>0.113</td><td>0.106</td><td>1.378</td><td>0.200 .. 5.000</td><td>179.229 .. 422.201</td><td>19.675</td><td>1.724e-10</td><td>2.075e-10</td><td>1.652e-11</td><td>1.703e-11</td><td>1.602e-11</td></tr>\n",
       "<tr><td>101</td><td>0.638</td><td>0.554</td><td>0.736</td><td>7.287e-11</td><td>1.337e-11</td><td>8.477e-12</td><td>2.969e-11</td><td>1.338</td><td>0.000</td><td>True</td><td>0.135</td><td>386.787</td><td>0.140</td><td>0.131</td><td>1.627</td><td>0.200 .. 5.000</td><td>191.160 .. 280.038</td><td>19.667</td><td>9.751e-11</td><td>1.186e-10</td><td>9.866e-12</td><td>1.020e-11</td><td>9.543e-12</td></tr>\n",
       "<tr><td>58</td><td>0.849</td><td>0.736</td><td>0.979</td><td>3.527e-11</td><td>8.609e-12</td><td>7.258e-12</td><td>2.542e-11</td><td>1.046</td><td>0.000</td><td>True</td><td>0.142</td><td>190.222</td><td>0.148</td><td>0.136</td><td>1.356</td><td>0.200 .. 5.000</td><td>83.164 .. 245.901</td><td>13.792</td><td>3.690e-11</td><td>4.781e-11</td><td>5.012e-12</td><td>5.233e-12</td><td>4.796e-12</td></tr>\n",
       "<tr><td>36</td><td>1.129</td><td>0.979</td><td>1.302</td><td>1.707e-11</td><td>5.542e-12</td><td>6.214e-12</td><td>2.177e-11</td><td>0.955</td><td>0.000</td><td>True</td><td>0.163</td><td>132.093</td><td>0.172</td><td>0.154</td><td>1.317</td><td>0.200 .. 5.000</td><td>50.265 .. 180.716</td><td>11.493</td><td>1.630e-11</td><td>2.248e-11</td><td>2.777e-12</td><td>2.933e-12</td><td>2.625e-12</td></tr>\n",
       "<tr><td>18</td><td>1.502</td><td>1.302</td><td>1.732</td><td>8.262e-12</td><td>3.568e-12</td><td>5.320e-12</td><td>1.864e-11</td><td>0.730</td><td>0.000</td><td>True</td><td>0.175</td><td>69.466</td><td>0.189</td><td>0.162</td><td>1.138</td><td>0.200 .. 5.000</td><td>19.137 .. 138.158</td><td>8.335</td><td>6.035e-12</td><td>9.402e-12</td><td>1.448e-12</td><td>1.564e-12</td><td>1.337e-12</td></tr>\n",
       "<tr><td>18</td><td>2.304</td><td>1.732</td><td>3.064</td><td>2.782e-12</td><td>3.775e-12</td><td>8.455e-12</td><td>1.476e-11</td><td>0.705</td><td>0.000</td><td>True</td><td>0.167</td><td>79.390</td><td>0.180</td><td>0.154</td><td>1.093</td><td>0.200 .. 5.000</td><td>19.128 .. 147.859</td><td>8.910</td><td>1.960e-12</td><td>3.041e-12</td><td>4.648e-13</td><td>5.020e-13</td><td>4.290e-13</td></tr>\n",
       "<tr><td>5</td><td>3.533</td><td>3.064</td><td>4.075</td><td>9.369e-13</td><td>9.517e-13</td><td>3.339e-12</td><td>1.170e-11</td><td>0.765</td><td>0.000</td><td>True</td><td>0.349</td><td>18.763</td><td>0.403</td><td>0.300</td><td>1.685</td><td>0.200 .. 5.000</td><td>5.547 .. 35.648</td><td>4.332</td><td>7.166e-13</td><td>1.579e-12</td><td>3.274e-13</td><td>3.777e-13</td><td>2.807e-13</td></tr>\n",
       "<tr><td>3</td><td>4.700</td><td>4.075</td><td>5.420</td><td>4.534e-13</td><td>6.127e-13</td><td>2.859e-12</td><td>1.001e-11</td><td>0.741</td><td>0.000</td><td>True</td><td>0.428</td><td>14.284</td><td>0.514</td><td>0.350</td><td>1.953</td><td>0.200 .. 5.000</td><td>3.476 .. 23.040</td><td>3.779</td><td>3.359e-13</td><td>8.854e-13</td><td>1.939e-13</td><td>2.329e-13</td><td>1.586e-13</td></tr>\n",
       "<tr><td>1</td><td>6.250</td><td>5.420</td><td>7.208</td><td>2.195e-13</td><td>3.944e-13</td><td>2.448e-12</td><td>8.574e-12</td><td>0.355</td><td>0.000</td><td>True</td><td>0.397</td><td>2.214</td><td>0.537</td><td>0.281</td><td>1.741</td><td>0.200 .. 5.000</td><td>0.209 .. 18.424</td><td>1.488</td><td>7.799e-14</td><td>3.821e-13</td><td>8.709e-14</td><td>1.179e-13</td><td>6.166e-14</td></tr>\n",
       "<tr><td>4</td><td>8.313</td><td>7.208</td><td>9.587</td><td>1.062e-13</td><td>2.539e-13</td><td>2.096e-12</td><td>7.341e-12</td><td>2.473</td><td>0.000</td><td>True</td><td>1.270</td><td>14.370</td><td>1.489</td><td>1.069</td><td>5.919</td><td>0.200 .. 5.000</td><td>9.950 .. 2.437</td><td>3.791</td><td>2.627e-13</td><td>6.287e-13</td><td>1.349e-13</td><td>1.582e-13</td><td>1.135e-13</td></tr>\n",
       "</table>"
      ],
      "text/plain": [
       "<Table length=12>\n",
       "counts [1]  e_ref   e_min  ...     dnde_err       dnde_errp       dnde_errn   \n",
       "             TeV     TeV   ... 1 / (cm2 s TeV) 1 / (cm2 s TeV) 1 / (cm2 s TeV)\n",
       "  int64    float64 float64 ...     float64         float64         float64    \n",
       "---------- ------- ------- ... --------------- --------------- ---------------\n",
       "       181   0.235   0.177 ...       6.420e-11       6.577e-11       6.265e-11\n",
       "       139   0.361   0.313 ...       2.988e-11       3.073e-11       2.905e-11\n",
       "       117   0.480   0.416 ...       1.652e-11       1.703e-11       1.602e-11\n",
       "       101   0.638   0.554 ...       9.866e-12       1.020e-11       9.543e-12\n",
       "        58   0.849   0.736 ...       5.012e-12       5.233e-12       4.796e-12\n",
       "        36   1.129   0.979 ...       2.777e-12       2.933e-12       2.625e-12\n",
       "        18   1.502   1.302 ...       1.448e-12       1.564e-12       1.337e-12\n",
       "        18   2.304   1.732 ...       4.648e-13       5.020e-13       4.290e-13\n",
       "         5   3.533   3.064 ...       3.274e-13       3.777e-13       2.807e-13\n",
       "         3   4.700   4.075 ...       1.939e-13       2.329e-13       1.586e-13\n",
       "         1   6.250   5.420 ...       8.709e-14       1.179e-13       6.166e-14\n",
       "         4   8.313   7.208 ...       1.349e-13       1.582e-13       1.135e-13"
      ]
     },
     "execution_count": 23,
     "metadata": {},
     "output_type": "execute_result"
    }
   ],
   "source": [
    "e_min, e_max = 0.2, 10\n",
    "energy_edges = np.logspace(np.log10(e_min), np.log10(e_max), 13) * u.TeV\n",
    "\n",
    "\n",
    "fpe = FluxPointsEstimator(energy_edges=energy_edges, source=\"crab\")\n",
    "flux_points = fpe.run(datasets=dataset_stacked)\n",
    "\n",
    "\n",
    "flux_points.table_formatted"
   ]
  },
  {
   "cell_type": "markdown",
   "metadata": {},
   "source": [
    "Now we plot the flux points and their likelihood profiles. For the plotting of upper limits we choose a threshold of TS < 4."
   ]
  },
  {
   "cell_type": "code",
   "execution_count": 24,
   "metadata": {},
   "outputs": [
    {
     "data": {
      "image/png": "[encoded data removed]",
      "text/plain": [
       "<Figure size 576x360 with 2 Axes>"
      ]
     },
     "metadata": {
      "needs_background": "light"
     },
     "output_type": "display_data"
    }
   ],
   "source": [
    "plt.figure(figsize=(8, 5))\n",
    "flux_points.table[\"is_ul\"] = flux_points.table[\"ts\"] < 4\n",
    "ax = flux_points.plot(\n",
    "    energy_power=2, flux_unit=\"erg-1 cm-2 s-1\", color=\"darkorange\"\n",
    ")\n",
    "flux_points.to_sed_type(\"e2dnde\").plot_ts_profiles(ax=ax);"
   ]
  },
  {
   "cell_type": "markdown",
   "metadata": {},
   "source": [
    "The final plot with the best fit model, flux points and residuals can be quickly made like this:"
   ]
  },
  {
   "cell_type": "code",
   "execution_count": 25,
   "metadata": {},
   "outputs": [
    {
     "data": {
      "image/png": "[encoded data removed]",
      "text/plain": [
       "<Figure size 576x504 with 2 Axes>"
      ]
     },
     "metadata": {
      "needs_background": "light"
     },
     "output_type": "display_data"
    }
   ],
   "source": [
    "flux_points_dataset = FluxPointsDataset(\n",
    "    data=flux_points, models=model_best_stacked\n",
    ")\n",
    "\n",
    "flux_points_dataset.plot_fit();"
   ]
  },
  {
   "cell_type": "code",
   "execution_count": null,
   "metadata": {},
   "outputs": [],
   "source": []
  }
 ],
 "metadata": {
  "kernelspec": {
   "display_name": "Python 3",
   "language": "python",
   "name": "python3"
  },
  "language_info": {
   "codemirror_mode": {
    "name": "ipython",
    "version": 3
   },
   "file_extension": ".py",
   "mimetype": "text/x-python",
   "name": "python",
   "nbconvert_exporter": "python",
   "pygments_lexer": "ipython3",
   "version": "3.7.0"
  },
  "nbsphinx": {
   "orphan": true
  }
 },
 "nbformat": 4,
 "nbformat_minor": 4
}
