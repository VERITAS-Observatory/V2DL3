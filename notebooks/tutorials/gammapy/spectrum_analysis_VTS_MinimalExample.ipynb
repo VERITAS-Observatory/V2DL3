{
 "cells": [
  {
   "cell_type": "markdown",
   "metadata": {},
   "source": [
    "# 1D Spectral analysis of VERITAS data with Gammapy \n",
    "\n",
    "### Note:\n",
    "- To run this notebook `GAMMAPY_DATA`path should be set to the directory containig VERITAS DL3 files and index files\n",
    "- VERTIAS DL3 files and index files of four Crab runs which are used in this notebook can be downloaded from [here](https://github.com/VERITAS-Observatory/V2DL3/blob/master/notebooks/tutorials/gammapy/DL3_files.tar.gz) \n",
    "- Users can also create index files for their VERITAS DL3 dataset as explained [here](https://veritas.sao.arizona.edu/wiki/Eventdisplay_Manual:_Performing_a_gammapy_analysis)"
   ]
  },
  {
   "cell_type": "markdown",
   "metadata": {},
   "source": [
    "### Setup\n"
   ]
  },
  {
   "cell_type": "code",
   "execution_count": 1,
   "metadata": {},
   "outputs": [],
   "source": [
    "%matplotlib inline\n",
    "import matplotlib.pyplot as plt"
   ]
  },
  {
   "cell_type": "code",
   "execution_count": 2,
   "metadata": {},
   "outputs": [
    {
     "name": "stdout",
     "output_type": "stream",
     "text": [
      "gammapy: 0.19\n",
      "numpy: 1.22.1\n",
      "astropy 5.0\n",
      "regions 0.5\n"
     ]
    }
   ],
   "source": [
    "# Check package versions\n",
    "import gammapy\n",
    "import numpy as np\n",
    "import astropy\n",
    "import regions\n",
    "\n",
    "print(\"gammapy:\", gammapy.__version__)\n",
    "print(\"numpy:\", np.__version__)\n",
    "print(\"astropy\", astropy.__version__)\n",
    "print(\"regions\", regions.__version__)"
   ]
  },
  {
   "cell_type": "code",
   "execution_count": 3,
   "metadata": {},
   "outputs": [],
   "source": [
    "from pathlib import Path\n",
    "import astropy.units as u\n",
    "from astropy.coordinates import SkyCoord, Angle\n",
    "from regions import CircleSkyRegion\n",
    "from gammapy.maps import Map, MapAxis\n",
    "from gammapy.modeling import Fit\n",
    "from gammapy.data import DataStore\n",
    "from gammapy.datasets import (\n",
    "    Datasets,\n",
    "    SpectrumDataset,\n",
    "    SpectrumDatasetOnOff,\n",
    "    FluxPointsDataset,\n",
    ")\n",
    "from gammapy.modeling.models import (\n",
    "    PowerLawSpectralModel,\n",
    "    create_crab_spectral_model,\n",
    "    SkyModel,\n",
    ")\n",
    "from gammapy.makers import (\n",
    "    SafeMaskMaker,\n",
    "    SpectrumDatasetMaker,\n",
    "    ReflectedRegionsBackgroundMaker,\n",
    ")\n",
    "from gammapy.estimators import FluxPointsEstimator\n",
    "from gammapy.visualization import plot_spectrum_datasets_off_regions"
   ]
  },
  {
   "cell_type": "markdown",
   "metadata": {},
   "source": [
    "### Loading Data"
   ]
  },
  {
   "cell_type": "code",
   "execution_count": 4,
   "metadata": {},
   "outputs": [
    {
     "ename": "OSError",
     "evalue": "File not found: $GAMMAPY_DATA/hdu-index.fits.gz",
     "output_type": "error",
     "traceback": [
      "\u001b[0;31m---------------------------------------------------------------------------\u001b[0m",
      "\u001b[0;31mOSError\u001b[0m                                   Traceback (most recent call last)",
      "Input \u001b[0;32mIn [4]\u001b[0m, in \u001b[0;36m<module>\u001b[0;34m\u001b[0m\n\u001b[0;32m----> 1\u001b[0m datastore \u001b[38;5;241m=\u001b[39m \u001b[43mDataStore\u001b[49m\u001b[38;5;241;43m.\u001b[39;49m\u001b[43mfrom_dir\u001b[49m\u001b[43m(\u001b[49m\u001b[38;5;124;43m\"\u001b[39;49m\u001b[38;5;124;43m$GAMMAPY_DATA\u001b[39;49m\u001b[38;5;124;43m\"\u001b[39;49m\u001b[43m)\u001b[49m\n\u001b[1;32m      2\u001b[0m obs_ids \u001b[38;5;241m=\u001b[39m [\u001b[38;5;241m64080\u001b[39m, \u001b[38;5;241m64081\u001b[39m, \u001b[38;5;241m64082\u001b[39m, \u001b[38;5;241m64083\u001b[39m]\n\u001b[1;32m      3\u001b[0m observations \u001b[38;5;241m=\u001b[39m datastore\u001b[38;5;241m.\u001b[39mget_observations(obs_ids)\n",
      "File \u001b[0;32m~/miniconda3/envs/v2dl3_examples/lib/python3.9/site-packages/gammapy/data/data_store.py:132\u001b[0m, in \u001b[0;36mDataStore.from_dir\u001b[0;34m(cls, base_dir, hdu_table_filename, obs_table_filename)\u001b[0m\n\u001b[1;32m    129\u001b[0m     obs_table_filename \u001b[38;5;241m=\u001b[39m base_dir \u001b[38;5;241m/\u001b[39m \u001b[38;5;28mcls\u001b[39m\u001b[38;5;241m.\u001b[39mDEFAULT_OBS_TABLE\n\u001b[1;32m    131\u001b[0m \u001b[38;5;28;01mif\u001b[39;00m \u001b[38;5;129;01mnot\u001b[39;00m hdu_table_filename\u001b[38;5;241m.\u001b[39mexists():\n\u001b[0;32m--> 132\u001b[0m     \u001b[38;5;28;01mraise\u001b[39;00m \u001b[38;5;167;01mOSError\u001b[39;00m(\u001b[38;5;124mf\u001b[39m\u001b[38;5;124m\"\u001b[39m\u001b[38;5;124mFile not found: \u001b[39m\u001b[38;5;132;01m{\u001b[39;00mhdu_table_filename\u001b[38;5;132;01m}\u001b[39;00m\u001b[38;5;124m\"\u001b[39m)\n\u001b[1;32m    133\u001b[0m log\u001b[38;5;241m.\u001b[39mdebug(\u001b[38;5;124mf\u001b[39m\u001b[38;5;124m\"\u001b[39m\u001b[38;5;124mReading \u001b[39m\u001b[38;5;132;01m{\u001b[39;00mhdu_table_filename\u001b[38;5;132;01m}\u001b[39;00m\u001b[38;5;124m\"\u001b[39m)\n\u001b[1;32m    134\u001b[0m hdu_table \u001b[38;5;241m=\u001b[39m HDUIndexTable\u001b[38;5;241m.\u001b[39mread(hdu_table_filename, \u001b[38;5;28mformat\u001b[39m\u001b[38;5;241m=\u001b[39m\u001b[38;5;124m\"\u001b[39m\u001b[38;5;124mfits\u001b[39m\u001b[38;5;124m\"\u001b[39m)\n",
      "\u001b[0;31mOSError\u001b[0m: File not found: $GAMMAPY_DATA/hdu-index.fits.gz"
     ]
    }
   ],
   "source": [
    "datastore = DataStore.from_dir(\"$GAMMAPY_DATA\")\n",
    "obs_ids = [64080, 64081, 64082, 64083]\n",
    "observations = datastore.get_observations(obs_ids)"
   ]
  },
  {
   "cell_type": "markdown",
   "metadata": {},
   "source": [
    "### Defining Target Region"
   ]
  },
  {
   "cell_type": "code",
   "execution_count": 5,
   "metadata": {},
   "outputs": [],
   "source": [
    "target_position = SkyCoord(ra=83.63, dec=22.01, unit=\"deg\", frame=\"icrs\")\n",
    "on_region_radius = Angle(\"0.11 deg\")\n",
    "on_region = CircleSkyRegion(center=target_position, radius=on_region_radius)"
   ]
  },
  {
   "cell_type": "markdown",
   "metadata": {},
   "source": [
    "### Creating exclusion mask\n",
    "\n",
    "We will use the reflected regions method to place off regions to estimate the background level in the on region.\n",
    "To make sure the off regions don't contain gamma-ray emission, we create an exclusion mask.\n",
    "\n",
    "Using http://gamma-sky.net/ we find that there's only one known gamma-ray source near the Crab nebula: the AGN called [RGB J0521+212](http://gamma-sky.net/#/cat/tev/23) at GLON = 183.604 deg and GLAT = -8.708 deg."
   ]
  },
  {
   "cell_type": "code",
   "execution_count": 6,
   "metadata": {
    "scrolled": true
   },
   "outputs": [],
   "source": [
    "exclusion_region = CircleSkyRegion(\n",
    "    center=SkyCoord(183.604, -8.708, unit=\"deg\", frame=\"galactic\"),\n",
    "    radius=0.5 * u.deg,\n",
    ")\n",
    "\n",
    "skydir = target_position.galactic\n",
    "exclusion_mask = Map.create(\n",
    "    npix=(150, 150), binsz=0.05, skydir=skydir, proj=\"TAN\", frame=\"icrs\"\n",
    ")\n",
    "\n",
    "mask = exclusion_mask.geom.region_mask([exclusion_region], inside=False)\n",
    "exclusion_mask.data = mask\n",
    "#exclusion_mask.plot();"
   ]
  },
  {
   "cell_type": "markdown",
   "metadata": {},
   "source": [
    "### Running data reduction chain\n",
    "\n",
    " - configuration of the maker classes:"
   ]
  },
  {
   "cell_type": "code",
   "execution_count": 7,
   "metadata": {},
   "outputs": [],
   "source": [
    "e_reco = MapAxis.from_energy_bounds(0.1, 30, 20, unit=\"TeV\", name=\"energy\")\n",
    "e_true = MapAxis.from_energy_bounds(\n",
    "    0.05, 100, 200, unit=\"TeV\", name=\"energy_true\"\n",
    ")\n",
    "dataset_empty = SpectrumDataset.create(\n",
    "    e_reco=e_reco, e_true=e_true, region=on_region\n",
    ")"
   ]
  },
  {
   "cell_type": "code",
   "execution_count": 8,
   "metadata": {},
   "outputs": [],
   "source": [
    "dataset_maker = SpectrumDatasetMaker(\n",
    "    containment_correction=False, selection=[\"counts\", \"exposure\", \"edisp\"]\n",
    ")\n",
    "bkg_maker = ReflectedRegionsBackgroundMaker(exclusion_mask=exclusion_mask)\n",
    "safe_mask_masker = SafeMaskMaker(methods=[\"aeff-max\"], aeff_percent=10)"
   ]
  },
  {
   "cell_type": "code",
   "execution_count": 9,
   "metadata": {},
   "outputs": [
    {
     "name": "stdout",
     "output_type": "stream",
     "text": [
      "CPU times: user 1.42 s, sys: 41.8 ms, total: 1.46 s\n",
      "Wall time: 1.49 s\n"
     ]
    }
   ],
   "source": [
    "%%time\n",
    "datasets = Datasets()\n",
    "\n",
    "for obs_id, observation in zip(obs_ids, observations):\n",
    "    dataset = dataset_maker.run(\n",
    "        dataset_empty.copy(name=str(obs_id)), observation\n",
    "    )\n",
    "    dataset_on_off = bkg_maker.run(dataset, observation)\n",
    "    dataset_on_off = safe_mask_masker.run(dataset_on_off, observation)\n",
    "    datasets.append(dataset_on_off)"
   ]
  },
  {
   "cell_type": "markdown",
   "metadata": {},
   "source": [
    "### Plotting off regions"
   ]
  },
  {
   "cell_type": "code",
   "execution_count": 10,
   "metadata": {},
   "outputs": [
    {
     "data": {
      "image/png": "[encoded data removed]",
      "text/plain": [
       "<Figure size 576x576 with 1 Axes>"
      ]
     },
     "metadata": {
      "needs_background": "light"
     },
     "output_type": "display_data"
    }
   ],
   "source": [
    "plt.figure(figsize=(8, 8))\n",
    "_, ax, _ = exclusion_mask.plot()\n",
    "on_region.to_pixel(ax.wcs).plot(ax=ax, edgecolor=\"k\")\n",
    "plot_spectrum_datasets_off_regions(ax=ax, datasets=datasets)"
   ]
  },
  {
   "cell_type": "markdown",
   "metadata": {},
   "source": [
    "### Source statistic\n",
    "\n",
    "Next we're going to look at the overall source statistics in our signal region."
   ]
  },
  {
   "cell_type": "code",
   "execution_count": 11,
   "metadata": {},
   "outputs": [],
   "source": [
    "info_table = datasets.info_table(cumulative=True)"
   ]
  },
  {
   "cell_type": "code",
   "execution_count": 12,
   "metadata": {},
   "outputs": [
    {
     "data": {
      "text/html": [
       "<i>Table length=4</i>\n",
       "<table id=\"table140620983131664\" class=\"table-striped table-bordered table-condensed\">\n",
       "<thead><tr><th>name</th><th>counts</th><th>background</th><th>excess</th><th>sqrt_ts</th><th>npred</th><th>npred_background</th><th>npred_signal</th><th>exposure_min</th><th>exposure_max</th><th>livetime</th><th>ontime</th><th>counts_rate</th><th>background_rate</th><th>excess_rate</th><th>n_bins</th><th>n_fit_bins</th><th>stat_type</th><th>stat_sum</th><th>counts_off</th><th>acceptance</th><th>acceptance_off</th><th>alpha</th></tr></thead>\n",
       "<thead><tr><th></th><th></th><th></th><th></th><th></th><th></th><th></th><th></th><th>m2 s</th><th>m2 s</th><th>s</th><th>s</th><th>1 / s</th><th>1 / s</th><th>1 / s</th><th></th><th></th><th></th><th></th><th></th><th></th><th></th><th></th></tr></thead>\n",
       "<thead><tr><th>str5</th><th>float32</th><th>float64</th><th>float64</th><th>float64</th><th>float64</th><th>float64</th><th>float64</th><th>float64</th><th>float64</th><th>float64</th><th>float64</th><th>float64</th><th>float64</th><th>float64</th><th>int64</th><th>int64</th><th>str5</th><th>float64</th><th>float32</th><th>float64</th><th>float64</th><th>float64</th></tr></thead>\n",
       "<tr><td>64080</td><td>183.0</td><td>10.538461538461538</td><td>172.46153846153845</td><td>23.435482399945528</td><td>22.857142857142854</td><td>22.857142857142854</td><td>nan</td><td>37.83285463612941</td><td>154150587.7668249</td><td>1013.3333005282775</td><td>1201.8021302819252</td><td>0.1805921111095404</td><td>0.010399797907527127</td><td>0.17019231320201328</td><td>20</td><td>18</td><td>wstat</td><td>577.5673183221645</td><td>137.0</td><td>18.0</td><td>234.0</td><td>0.07692307692307693</td></tr>\n",
       "<tr><td>64080</td><td>351.0</td><td>18.25274658203125</td><td>332.74725341796875</td><td>32.307498832715375</td><td>47.84060623008153</td><td>47.84060623008153</td><td>nan</td><td>363.4655159235247</td><td>309466174.5048972</td><td>2027.4102266012342</td><td>2403.686617165804</td><td>0.17312727113368617</td><td>0.009002986343138997</td><td>0.1641242847905472</td><td>20</td><td>18</td><td>wstat</td><td>1101.546893655389</td><td>191.0</td><td>18.0</td><td>188.35520935058594</td><td>0.0954001322388649</td></tr>\n",
       "<tr><td>64080</td><td>537.0</td><td>29.552745819091797</td><td>507.447265625</td><td>39.48303898417378</td><td>75.2656422718385</td><td>75.2656422718385</td><td>nan</td><td>618.5042909244111</td><td>461754665.6880373</td><td>3032.78274616505</td><td>3605.5122197270393</td><td>0.17706510651942867</td><td>0.009744432190687317</td><td>0.1673206781022038</td><td>20</td><td>18</td><td>wstat</td><td>1649.4448852593368</td><td>304.0</td><td>18.0</td><td>185.16046142578125</td><td>0.09821156412363052</td></tr>\n",
       "<tr><td>64080</td><td>753.0</td><td>42.0527458190918</td><td>710.947265625</td><td>46.2540380318155</td><td>109.65706600669698</td><td>109.65706600669698</td><td>nan</td><td>1154.7522748518281</td><td>621962849.595549</td><td>4047.026153101484</td><td>4807.312323898077</td><td>0.18606254852663356</td><td>0.01039102398358958</td><td>0.17567152737082206</td><td>20</td><td>18</td><td>wstat</td><td>2258.956718359663</td><td>404.0</td><td>18.0</td><td>172.92568969726562</td><td>0.1036963164806366</td></tr>\n",
       "</table>"
      ],
      "text/plain": [
       "<Table length=4>\n",
       " name  counts     background     ...   acceptance_off          alpha       \n",
       "                                 ...                                       \n",
       " str5 float32      float64       ...      float64             float64      \n",
       "----- ------- ------------------ ... ------------------ -------------------\n",
       "64080   183.0 10.538461538461538 ...              234.0 0.07692307692307693\n",
       "64080   351.0  18.25274658203125 ... 188.35520935058594  0.0954001322388649\n",
       "64080   537.0 29.552745819091797 ... 185.16046142578125 0.09821156412363052\n",
       "64080   753.0   42.0527458190918 ... 172.92568969726562  0.1036963164806366"
      ]
     },
     "execution_count": 12,
     "metadata": {},
     "output_type": "execute_result"
    }
   ],
   "source": [
    "info_table"
   ]
  },
  {
   "cell_type": "code",
   "execution_count": 13,
   "metadata": {},
   "outputs": [
    {
     "data": {
      "image/png": "[encoded data removed]",
      "text/plain": [
       "<Figure size 432x288 with 1 Axes>"
      ]
     },
     "metadata": {
      "needs_background": "light"
     },
     "output_type": "display_data"
    }
   ],
   "source": [
    "plt.plot(\n",
    "    info_table[\"livetime\"].to(\"h\"), info_table[\"excess\"], marker=\"o\", ls=\"none\"\n",
    ")\n",
    "plt.xlabel(\"Livetime [h]\")\n",
    "plt.ylabel(\"Excess\");"
   ]
  },
  {
   "cell_type": "code",
   "execution_count": 14,
   "metadata": {},
   "outputs": [
    {
     "data": {
      "image/png": "[encoded data removed]",
      "text/plain": [
       "<Figure size 432x288 with 1 Axes>"
      ]
     },
     "metadata": {
      "needs_background": "light"
     },
     "output_type": "display_data"
    }
   ],
   "source": [
    "plt.plot(\n",
    "    info_table[\"livetime\"].to(\"h\"),\n",
    "    info_table[\"sqrt_ts\"],\n",
    "    marker=\"o\",\n",
    "    ls=\"none\",\n",
    ")\n",
    "plt.xlabel(\"Livetime [h]\")\n",
    "plt.ylabel(\"Sqrt(TS)\");"
   ]
  },
  {
   "cell_type": "markdown",
   "metadata": {},
   "source": [
    "Finally you can write the extrated datasets to disk using the OGIP format (PHA, ARF, RMF, BKG, see [here](https://gamma-astro-data-formats.readthedocs.io/en/latest/spectra/ogip/index.html) for details):"
   ]
  },
  {
   "cell_type": "code",
   "execution_count": 15,
   "metadata": {},
   "outputs": [],
   "source": [
    "path = Path(\"spectrum_analysis\")\n",
    "path.mkdir(exist_ok=True)"
   ]
  },
  {
   "cell_type": "code",
   "execution_count": 16,
   "metadata": {},
   "outputs": [
    {
     "name": "stderr",
     "output_type": "stream",
     "text": [
      "/Users/sonal/anaconda3/envs/gammapy-0.18.2/lib/python3.7/site-packages/numpy/core/_asarray.py:83: VisibleDeprecationWarning: Creating an ndarray from ragged nested sequences (which is a list-or-tuple of lists-or-tuples-or ndarrays with different lengths or shapes) is deprecated. If you meant to do this, you must specify 'dtype=object' when creating the ndarray\n",
      "  return array(a, dtype, copy=False, order=order)\n",
      "/Users/sonal/anaconda3/envs/gammapy-0.18.2/lib/python3.7/site-packages/numpy/core/_asarray.py:83: VisibleDeprecationWarning: Creating an ndarray from ragged nested sequences (which is a list-or-tuple of lists-or-tuples-or ndarrays with different lengths or shapes) is deprecated. If you meant to do this, you must specify 'dtype=object' when creating the ndarray\n",
      "  return array(a, dtype, copy=False, order=order)\n",
      "/Users/sonal/anaconda3/envs/gammapy-0.18.2/lib/python3.7/site-packages/numpy/core/_asarray.py:83: VisibleDeprecationWarning: Creating an ndarray from ragged nested sequences (which is a list-or-tuple of lists-or-tuples-or ndarrays with different lengths or shapes) is deprecated. If you meant to do this, you must specify 'dtype=object' when creating the ndarray\n",
      "  return array(a, dtype, copy=False, order=order)\n",
      "/Users/sonal/anaconda3/envs/gammapy-0.18.2/lib/python3.7/site-packages/numpy/core/_asarray.py:83: VisibleDeprecationWarning: Creating an ndarray from ragged nested sequences (which is a list-or-tuple of lists-or-tuples-or ndarrays with different lengths or shapes) is deprecated. If you meant to do this, you must specify 'dtype=object' when creating the ndarray\n",
      "  return array(a, dtype, copy=False, order=order)\n"
     ]
    }
   ],
   "source": [
    "for dataset in datasets:\n",
    "    dataset.to_ogip_files(outdir=path, overwrite=True)"
   ]
  },
  {
   "cell_type": "markdown",
   "metadata": {},
   "source": [
    "If you want to read back the datasets from disk you can use:"
   ]
  },
  {
   "cell_type": "code",
   "execution_count": 17,
   "metadata": {},
   "outputs": [],
   "source": [
    "datasets = Datasets()\n",
    "for obs_id in obs_ids:\n",
    "    filename = path / f\"pha_obs{obs_id}.fits\"\n",
    "    datasets.append(SpectrumDatasetOnOff.from_ogip_files(filename))"
   ]
  },
  {
   "cell_type": "markdown",
   "metadata": {},
   "source": [
    "## Fitting spectrum\n",
    "\n",
    "Now we'll fit a global model to the spectrum by stacking the observations. "
   ]
  },
  {
   "cell_type": "markdown",
   "metadata": {},
   "source": [
    "### Stack observations\n",
    "\n",
    "Fitting the spectrum by stacking all observations first and the fitting a model. "
   ]
  },
  {
   "cell_type": "code",
   "execution_count": 18,
   "metadata": {},
   "outputs": [],
   "source": [
    "dataset_stacked = Datasets(datasets).stack_reduce()"
   ]
  },
  {
   "cell_type": "markdown",
   "metadata": {},
   "source": [
    "Set the model on the dataset we would like to fit and pass it to the `~gammapy.modeling.Fit` object:"
   ]
  },
  {
   "cell_type": "code",
   "execution_count": 19,
   "metadata": {},
   "outputs": [],
   "source": [
    "spectral_model = PowerLawSpectralModel(\n",
    "    index=2, amplitude=2e-11 * u.Unit(\"cm-2 s-1 TeV-1\"), reference=1 * u.TeV\n",
    ")\n",
    "model = SkyModel(spectral_model=spectral_model, name=\"crab\")\n",
    "\n",
    "dataset_stacked.models = model\n",
    "stacked_fit = Fit([dataset_stacked])\n",
    "result_stacked = stacked_fit.run()\n",
    "\n",
    "# make a copy to compare later\n",
    "model_best_stacked = model.copy()"
   ]
  },
  {
   "cell_type": "code",
   "execution_count": 20,
   "metadata": {},
   "outputs": [
    {
     "name": "stdout",
     "output_type": "stream",
     "text": [
      "OptimizeResult\n",
      "\n",
      "\tbackend    : minuit\n",
      "\tmethod     : minuit\n",
      "\tsuccess    : True\n",
      "\tmessage    : Optimization terminated successfully.\n",
      "\tnfev       : 45\n",
      "\ttotal stat : 20.58\n",
      "\n"
     ]
    }
   ],
   "source": [
    "print(result_stacked)"
   ]
  },
  {
   "cell_type": "code",
   "execution_count": 21,
   "metadata": {},
   "outputs": [
    {
     "data": {
      "text/html": [
       "<i>Table length=3</i>\n",
       "<table id=\"table140621039261848\" class=\"table-striped table-bordered table-condensed\">\n",
       "<thead><tr><th>name</th><th>value</th><th>unit</th><th>min</th><th>max</th><th>frozen</th><th>error</th></tr></thead>\n",
       "<thead><tr><th>str9</th><th>float64</th><th>str14</th><th>float64</th><th>float64</th><th>bool</th><th>float64</th></tr></thead>\n",
       "<tr><td>index</td><td>2.6065e+00</td><td></td><td>nan</td><td>nan</td><td>False</td><td>5.641e-02</td></tr>\n",
       "<tr><td>amplitude</td><td>2.3076e-11</td><td>cm-2 s-1 TeV-1</td><td>nan</td><td>nan</td><td>False</td><td>1.392e-12</td></tr>\n",
       "<tr><td>reference</td><td>1.0000e+00</td><td>TeV</td><td>nan</td><td>nan</td><td>True</td><td>0.000e+00</td></tr>\n",
       "</table>"
      ],
      "text/plain": [
       "<Table length=3>\n",
       "   name     value         unit        min     max   frozen   error  \n",
       "   str9    float64       str14      float64 float64  bool   float64 \n",
       "--------- ---------- -------------- ------- ------- ------ ---------\n",
       "    index 2.6065e+00                    nan     nan  False 5.641e-02\n",
       "amplitude 2.3076e-11 cm-2 s-1 TeV-1     nan     nan  False 1.392e-12\n",
       "reference 1.0000e+00            TeV     nan     nan   True 0.000e+00"
      ]
     },
     "execution_count": 21,
     "metadata": {},
     "output_type": "execute_result"
    }
   ],
   "source": [
    "model_best_stacked.parameters.to_table()"
   ]
  },
  {
   "cell_type": "code",
   "execution_count": 22,
   "metadata": {},
   "outputs": [
    {
     "data": {
      "text/plain": [
       "<matplotlib.legend.Legend at 0x7fe4dcdbb748>"
      ]
     },
     "execution_count": 22,
     "metadata": {},
     "output_type": "execute_result"
    },
    {
     "data": {
      "image/png": "[encoded data removed]",
      "text/plain": [
       "<Figure size 432x288 with 1 Axes>"
      ]
     },
     "metadata": {
      "needs_background": "light"
     },
     "output_type": "display_data"
    }
   ],
   "source": [
    "plot_kwargs = {\n",
    "    \"energy_range\": [0.2, 10] * u.TeV,\n",
    "    \"energy_power\": 2,\n",
    "    \"flux_unit\": \"erg-1 cm-2 s-1\",\n",
    "}\n",
    "\n",
    "# plot stacked model\n",
    "model_best_stacked.spectral_model.plot(\n",
    "    **plot_kwargs, label=\"Stacked analysis result\"\n",
    ")\n",
    "model_best_stacked.spectral_model.plot_error(**plot_kwargs)\n",
    "\n",
    "\n",
    "plt.legend()"
   ]
  },
  {
   "cell_type": "markdown",
   "metadata": {},
   "source": [
    "### Computing Flux Points\n",
    "\n",
    "- Compute flux points by fitting the norm of the global model in energy bands. We'll use a fixed energy binning for now\n",
    "- Create an instance of the ~gammapy.estimators.FluxPointsEstimator, by passing the dataset and the energy binning\n",
    "- the table of the resulting flux points"
   ]
  },
  {
   "cell_type": "code",
   "execution_count": 23,
   "metadata": {},
   "outputs": [
    {
     "data": {
      "text/html": [
       "<i>Table length=12</i>\n",
       "<table id=\"table140621036521008\" class=\"table-striped table-bordered table-condensed\">\n",
       "<thead><tr><th>counts [1]</th><th>e_ref</th><th>e_min</th><th>e_max</th><th>ref_dnde</th><th>ref_flux</th><th>ref_eflux</th><th>ref_e2dnde</th><th>norm</th><th>stat</th><th>success</th><th>norm_err</th><th>ts</th><th>norm_errp</th><th>norm_errn</th><th>norm_ul</th><th>norm_scan [11]</th><th>stat_scan [11]</th><th>sqrt_ts</th><th>dnde</th><th>dnde_ul</th><th>dnde_err</th><th>dnde_errp</th><th>dnde_errn</th></tr></thead>\n",
       "<thead><tr><th></th><th>TeV</th><th>TeV</th><th>TeV</th><th>1 / (cm2 s TeV)</th><th>1 / (cm2 s)</th><th>TeV / (cm2 s)</th><th>TeV / (cm2 s)</th><th></th><th></th><th></th><th></th><th></th><th></th><th></th><th></th><th></th><th></th><th></th><th>1 / (cm2 s TeV)</th><th>1 / (cm2 s TeV)</th><th>1 / (cm2 s TeV)</th><th>1 / (cm2 s TeV)</th><th>1 / (cm2 s TeV)</th></tr></thead>\n",
       "<thead><tr><th>int64</th><th>float64</th><th>float64</th><th>float64</th><th>float64</th><th>float64</th><th>float64</th><th>float64</th><th>float64</th><th>float64</th><th>bool</th><th>float64</th><th>float64</th><th>float64</th><th>float64</th><th>float64</th><th>float64</th><th>float64</th><th>float64</th><th>float64</th><th>float64</th><th>float64</th><th>float64</th><th>float64</th></tr></thead>\n",
       "<tr><td>253</td><td>0.235</td><td>0.177</td><td>0.313</td><td>1.003e-09</td><td>1.393e-10</td><td>3.182e-11</td><td>5.550e-11</td><td>0.909</td><td>0.710</td><td>True</td><td>0.064</td><td>542.500</td><td>0.065</td><td>0.063</td><td>1.043</td><td>0.200 .. 5.000</td><td>239.005 .. 1221.003</td><td>23.292</td><td>9.114e-10</td><td>1.045e-09</td><td>6.432e-11</td><td>6.566e-11</td><td>6.301e-11</td></tr>\n",
       "<tr><td>139</td><td>0.361</td><td>0.313</td><td>0.416</td><td>3.288e-10</td><td>3.414e-11</td><td>1.223e-11</td><td>4.282e-11</td><td>1.004</td><td>0.000</td><td>True</td><td>0.090</td><td>421.451</td><td>0.092</td><td>0.087</td><td>1.193</td><td>0.200 .. 5.000</td><td>180.458 .. 618.742</td><td>20.529</td><td>3.300e-10</td><td>3.923e-10</td><td>2.944e-11</td><td>3.027e-11</td><td>2.862e-11</td></tr>\n",
       "<tr><td>117</td><td>0.480</td><td>0.416</td><td>0.554</td><td>1.563e-10</td><td>2.159e-11</td><td>1.028e-11</td><td>3.602e-11</td><td>1.098</td><td>0.000</td><td>True</td><td>0.105</td><td>387.092</td><td>0.109</td><td>0.102</td><td>1.322</td><td>0.200 .. 5.000</td><td>173.464 .. 454.429</td><td>19.675</td><td>1.717e-10</td><td>2.067e-10</td><td>1.646e-11</td><td>1.697e-11</td><td>1.596e-11</td></tr>\n",
       "<tr><td>101</td><td>0.638</td><td>0.554</td><td>0.736</td><td>7.435e-11</td><td>1.365e-11</td><td>8.651e-12</td><td>3.030e-11</td><td>1.301</td><td>0.000</td><td>True</td><td>0.132</td><td>386.787</td><td>0.136</td><td>0.127</td><td>1.582</td><td>0.200 .. 5.000</td><td>187.331 .. 295.423</td><td>19.667</td><td>9.675e-11</td><td>1.177e-10</td><td>9.790e-12</td><td>1.012e-11</td><td>9.469e-12</td></tr>\n",
       "<tr><td>58</td><td>0.849</td><td>0.736</td><td>0.979</td><td>3.535e-11</td><td>8.635e-12</td><td>7.277e-12</td><td>2.548e-11</td><td>1.038</td><td>0.000</td><td>True</td><td>0.141</td><td>190.222</td><td>0.147</td><td>0.135</td><td>1.345</td><td>0.200 .. 5.000</td><td>82.591 .. 249.382</td><td>13.792</td><td>3.668e-11</td><td>4.754e-11</td><td>4.983e-12</td><td>5.202e-12</td><td>4.768e-12</td></tr>\n",
       "<tr><td>36</td><td>1.129</td><td>0.979</td><td>1.302</td><td>1.681e-11</td><td>5.461e-12</td><td>6.121e-12</td><td>2.144e-11</td><td>0.972</td><td>0.000</td><td>True</td><td>0.166</td><td>132.093</td><td>0.175</td><td>0.157</td><td>1.342</td><td>0.200 .. 5.000</td><td>51.163 .. 175.180</td><td>11.493</td><td>1.634e-11</td><td>2.256e-11</td><td>2.784e-12</td><td>2.943e-12</td><td>2.634e-12</td></tr>\n",
       "<tr><td>18</td><td>1.502</td><td>1.302</td><td>1.732</td><td>7.994e-12</td><td>3.454e-12</td><td>5.149e-12</td><td>1.803e-11</td><td>0.760</td><td>0.000</td><td>True</td><td>0.182</td><td>69.466</td><td>0.197</td><td>0.168</td><td>1.185</td><td>0.200 .. 5.000</td><td>20.090 .. 130.051</td><td>8.335</td><td>6.078e-12</td><td>9.469e-12</td><td>1.458e-12</td><td>1.575e-12</td><td>1.346e-12</td></tr>\n",
       "<tr><td>18</td><td>2.304</td><td>1.732</td><td>3.064</td><td>2.621e-12</td><td>3.566e-12</td><td>7.974e-12</td><td>1.391e-11</td><td>0.756</td><td>0.002</td><td>True</td><td>0.179</td><td>79.119</td><td>0.194</td><td>0.165</td><td>1.172</td><td>0.200 .. 5.000</td><td>20.905 .. 133.206</td><td>8.895</td><td>1.981e-12</td><td>3.073e-12</td><td>4.696e-13</td><td>5.073e-13</td><td>4.335e-13</td></tr>\n",
       "<tr><td>5</td><td>3.533</td><td>3.064</td><td>4.075</td><td>8.595e-13</td><td>8.737e-13</td><td>3.064e-12</td><td>1.073e-11</td><td>0.852</td><td>0.000</td><td>True</td><td>0.389</td><td>18.763</td><td>0.449</td><td>0.334</td><td>1.877</td><td>0.200 .. 5.000</td><td>6.255 .. 30.170</td><td>4.332</td><td>7.324e-13</td><td>1.614e-12</td><td>3.346e-13</td><td>3.861e-13</td><td>2.869e-13</td></tr>\n",
       "<tr><td>3</td><td>4.700</td><td>4.075</td><td>5.420</td><td>4.087e-13</td><td>5.526e-13</td><td>2.578e-12</td><td>9.027e-12</td><td>0.845</td><td>0.000</td><td>True</td><td>0.488</td><td>14.169</td><td>0.586</td><td>0.399</td><td>2.228</td><td>0.200 .. 5.000</td><td>4.067 .. 18.829</td><td>3.764</td><td>3.454e-13</td><td>9.106e-13</td><td>1.994e-13</td><td>2.395e-13</td><td>1.631e-13</td></tr>\n",
       "<tr><td>1</td><td>6.250</td><td>5.420</td><td>7.208</td><td>1.944e-13</td><td>3.495e-13</td><td>2.168e-12</td><td>7.593e-12</td><td>0.417</td><td>0.000</td><td>True</td><td>0.466</td><td>2.214</td><td>0.627</td><td>0.328</td><td>2.033</td><td>0.200 .. 5.000</td><td>0.315 .. 15.094</td><td>1.488</td><td>8.108e-14</td><td>3.951e-13</td><td>9.048e-14</td><td>1.219e-13</td><td>6.376e-14</td></tr>\n",
       "<tr><td>4</td><td>8.313</td><td>7.208</td><td>9.587</td><td>9.242e-14</td><td>2.210e-13</td><td>1.824e-12</td><td>6.387e-12</td><td>2.931</td><td>0.000</td><td>True</td><td>1.505</td><td>14.370</td><td>1.767</td><td>1.268</td><td>7.022</td><td>0.200 .. 5.000</td><td>10.566 .. 1.309</td><td>3.791</td><td>2.709e-13</td><td>6.490e-13</td><td>1.391e-13</td><td>1.633e-13</td><td>1.172e-13</td></tr>\n",
       "</table>"
      ],
      "text/plain": [
       "<Table length=12>\n",
       "counts [1]  e_ref   e_min  ...     dnde_err       dnde_errp       dnde_errn   \n",
       "             TeV     TeV   ... 1 / (cm2 s TeV) 1 / (cm2 s TeV) 1 / (cm2 s TeV)\n",
       "  int64    float64 float64 ...     float64         float64         float64    \n",
       "---------- ------- ------- ... --------------- --------------- ---------------\n",
       "       253   0.235   0.177 ...       6.432e-11       6.566e-11       6.301e-11\n",
       "       139   0.361   0.313 ...       2.944e-11       3.027e-11       2.862e-11\n",
       "       117   0.480   0.416 ...       1.646e-11       1.697e-11       1.596e-11\n",
       "       101   0.638   0.554 ...       9.790e-12       1.012e-11       9.469e-12\n",
       "        58   0.849   0.736 ...       4.983e-12       5.202e-12       4.768e-12\n",
       "        36   1.129   0.979 ...       2.784e-12       2.943e-12       2.634e-12\n",
       "        18   1.502   1.302 ...       1.458e-12       1.575e-12       1.346e-12\n",
       "        18   2.304   1.732 ...       4.696e-13       5.073e-13       4.335e-13\n",
       "         5   3.533   3.064 ...       3.346e-13       3.861e-13       2.869e-13\n",
       "         3   4.700   4.075 ...       1.994e-13       2.395e-13       1.631e-13\n",
       "         1   6.250   5.420 ...       9.048e-14       1.219e-13       6.376e-14\n",
       "         4   8.313   7.208 ...       1.391e-13       1.633e-13       1.172e-13"
      ]
     },
     "execution_count": 23,
     "metadata": {},
     "output_type": "execute_result"
    }
   ],
   "source": [
    "e_min, e_max = 0.2, 10\n",
    "energy_edges = np.logspace(np.log10(e_min), np.log10(e_max), 13) * u.TeV\n",
    "\n",
    "\n",
    "fpe = FluxPointsEstimator(energy_edges=energy_edges, source=\"crab\")\n",
    "flux_points = fpe.run(datasets=dataset_stacked)\n",
    "\n",
    "\n",
    "flux_points.table_formatted"
   ]
  },
  {
   "cell_type": "markdown",
   "metadata": {},
   "source": [
    "Now we plot the flux points and their likelihood profiles. For the plotting of upper limits we choose a threshold of TS < 4."
   ]
  },
  {
   "cell_type": "code",
   "execution_count": 24,
   "metadata": {},
   "outputs": [
    {
     "data": {
      "image/png": "[encoded data removed]",
      "text/plain": [
       "<Figure size 576x360 with 2 Axes>"
      ]
     },
     "metadata": {
      "needs_background": "light"
     },
     "output_type": "display_data"
    }
   ],
   "source": [
    "plt.figure(figsize=(8, 5))\n",
    "flux_points.table[\"is_ul\"] = flux_points.table[\"ts\"] < 4\n",
    "ax = flux_points.plot(\n",
    "    energy_power=2, flux_unit=\"erg-1 cm-2 s-1\", color=\"darkorange\"\n",
    ")\n",
    "flux_points.to_sed_type(\"e2dnde\").plot_ts_profiles(ax=ax);"
   ]
  },
  {
   "cell_type": "markdown",
   "metadata": {},
   "source": [
    "The final plot with the best fit model, flux points and residuals can be quickly made like this:"
   ]
  },
  {
   "cell_type": "code",
   "execution_count": 25,
   "metadata": {},
   "outputs": [
    {
     "data": {
      "image/png": "[encoded data removed]",
      "text/plain": [
       "<Figure size 576x504 with 2 Axes>"
      ]
     },
     "metadata": {
      "needs_background": "light"
     },
     "output_type": "display_data"
    }
   ],
   "source": [
    "flux_points_dataset = FluxPointsDataset(\n",
    "    data=flux_points, models=model_best_stacked\n",
    ")\n",
    "\n",
    "flux_points_dataset.plot_fit();"
   ]
  },
  {
   "cell_type": "code",
   "execution_count": null,
   "metadata": {},
   "outputs": [],
   "source": []
  }
 ],
 "metadata": {
  "kernelspec": {
   "display_name": "Python 3 (ipykernel)",
   "language": "python",
   "name": "python3"
  },
  "language_info": {
   "codemirror_mode": {
    "name": "ipython",
    "version": 3
   },
   "file_extension": ".py",
   "mimetype": "text/x-python",
   "name": "python",
   "nbconvert_exporter": "python",
   "pygments_lexer": "ipython3",
   "version": "3.9.9"
  },
  "nbsphinx": {
   "orphan": true
  }
 },
 "nbformat": 4,
 "nbformat_minor": 4
}
