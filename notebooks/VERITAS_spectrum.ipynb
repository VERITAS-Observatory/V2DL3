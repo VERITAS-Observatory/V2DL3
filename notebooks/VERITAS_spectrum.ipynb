{
 "cells": [
  {
   "cell_type": "code",
   "execution_count": null,
   "metadata": {},
   "outputs": [],
   "source": [
    "%matplotlib inline\n",
    "import numpy as np\n",
    "import matplotlib.pyplot as plt\n",
    "\n",
    "from os import listdir\n",
    "from os.path import isfile, join\n",
    "\n",
    "import gammapy\n",
    "from gammapy.data import DataStore\n",
    "from gammapy.scripts import SpectrumAnalysisIACT\n",
    "\n",
    "# Convenience classes to define analsys inputs\n",
    "# At some point we'll add a convenience layer to run the analysis starting from a plain text config file.\n",
    "from gammapy.utils.energy import EnergyBounds\n",
    "from gammapy.spectrum import models\n",
    "from gammapy.maps import Map\n",
    "\n",
    "from regions import CircleSkyRegion\n",
    "from astropy.coordinates import SkyCoord\n",
    "import astropy.units as u\n",
    "from astropy.io import fits"
   ]
  },
  {
   "cell_type": "code",
   "execution_count": null,
   "metadata": {},
   "outputs": [],
   "source": [
    "cuts=\"med\""
   ]
  },
  {
   "cell_type": "markdown",
   "metadata": {},
   "source": [
    "## load the VEGAS fits first to get the energy bands"
   ]
  },
  {
   "cell_type": "code",
   "execution_count": null,
   "metadata": {},
   "outputs": [],
   "source": [
    "ff = fits.open((\"../VEGAS/CrabDL3{0:s}Point_s6.fits\".format(cuts)))\n",
    "points = ff[1].data\n",
    "\n",
    "points['Energy'] *= u.TeV\n",
    "for f in ['Flux', 'FluxError', 'FluxUpperLimit']:\n",
    "    points[f] = (points[f]*u.Unit('TeV-1 m-2 s-1')).to(u.Unit('TeV-1 cm-2 s-1'))\n",
    "\n",
    "fit = ff[2].data\n",
    "cov = ff[3].data\n",
    "\n",
    "# this trickery allows us to reject points after the first non-significant one\n",
    "cond = (points['Significance'] > 2) * (points['On'] > 2)\n",
    "for i,c in enumerate(cond):\n",
    "    if c == False:\n",
    "        cond[i:] = False"
   ]
  },
  {
   "cell_type": "markdown",
   "metadata": {},
   "source": [
    "## Now do the gammapy analysis"
   ]
  },
  {
   "cell_type": "code",
   "execution_count": null,
   "metadata": {},
   "outputs": [],
   "source": [
    "data_store = DataStore.from_dir((\"../VEGAS/DL3{0:s}/\".format(cuts)))\n",
    "data_store.info()"
   ]
  },
  {
   "cell_type": "code",
   "execution_count": null,
   "metadata": {},
   "outputs": [],
   "source": [
    "obs_id = data_store.obs_table['OBS_ID'].data\n",
    "print((\"Use observations {}\".format(obs_id)))\n",
    "\n",
    "obs_list = data_store.obs_list(obs_id)"
   ]
  },
  {
   "cell_type": "code",
   "execution_count": null,
   "metadata": {},
   "outputs": [],
   "source": [
    "crab_pos = SkyCoord(83.633083, 22.0145, unit='deg')\n",
    "\n",
    "if cuts == \"soft\":\n",
    "    radius = 0.173 * u.deg\n",
    "else:\n",
    "    radius = 0.1 * u.deg\n",
    "\n",
    "on_region = CircleSkyRegion(crab_pos, radius)\n",
    "\n",
    "model = models.LogParabola(\n",
    "    alpha=2.5,\n",
    "    beta=0.1,\n",
    "    amplitude=3e-11 * u.Unit('cm-2 s-1 TeV-1'),\n",
    "    reference=1 * u.TeV,\n",
    ")\n",
    "\n",
    "flux_point_binning = EnergyBounds.equal_log_spacing(\n",
    "    points['EBinLowEdge'][cond][0], points['EBinHiEdge'][cond][-1],\n",
    "    len(points[cond]), u.TeV)"
   ]
  },
  {
   "cell_type": "code",
   "execution_count": null,
   "metadata": {},
   "outputs": [],
   "source": [
    "config = dict(\n",
    "    outdir = None,\n",
    "    background = dict(\n",
    "        on_region=on_region,\n",
    "#         exclusion_mask=exclusion_mask,\n",
    "        min_distance = 0.5 * u.deg,\n",
    "    ),\n",
    "    extraction = dict(containment_correction=False),\n",
    "    fit = dict(\n",
    "        model=model,\n",
    "        stat='wstat',\n",
    "        forward_folded=True,\n",
    "        fit_range = flux_point_binning[[0, -1]]\n",
    "    ),\n",
    "    fp_binning=flux_point_binning\n",
    ")"
   ]
  },
  {
   "cell_type": "code",
   "execution_count": null,
   "metadata": {},
   "outputs": [],
   "source": [
    "ana = SpectrumAnalysisIACT(\n",
    "    observations=obs_list,\n",
    "    config=config,\n",
    ")\n",
    "ana.run()"
   ]
  },
  {
   "cell_type": "code",
   "execution_count": null,
   "metadata": {},
   "outputs": [],
   "source": [
    "print(ana.fit.result[0])"
   ]
  },
  {
   "cell_type": "code",
   "execution_count": null,
   "metadata": {},
   "outputs": [],
   "source": [
    "ax = ana.spectrum_result.plot(\n",
    "    energy_range=ana.fit.fit_range,\n",
    "    energy_power=2,\n",
    "    flux_unit='TeV-1 cm-2 s-1',\n",
    "    fig_kwargs=dict(figsize = (8,8)),\n",
    ")\n",
    "ax[1].set_ylim(-2, 2)\n",
    "ax[0].set_ylim(5e-12, 1e-10)"
   ]
  },
  {
   "cell_type": "code",
   "execution_count": null,
   "metadata": {},
   "outputs": [],
   "source": [
    "fig, ax, cbar = ana.background_estimator.plot()\n",
    "ax.set_xlim(-70, 70)\n",
    "ax.set_ylim(0, 100)"
   ]
  },
  {
   "cell_type": "code",
   "execution_count": null,
   "metadata": {},
   "outputs": [],
   "source": [
    "vegas = gammapy.spectrum.models.LogParabola(\n",
    "    amplitude=(fit['Normalization'][0] * u.Unit('1 / (m2 s TeV)')).to(\n",
    "        u.Unit('1 / (cm2 s TeV)')),\n",
    "    reference=fit['E0'][0] * u.TeV,\n",
    "    alpha=fit['Index'][0],\n",
    "    beta=fit['Cutoff'][0])\n",
    "\n",
    "vegas.parameters.set_error(\"amplitude\",\n",
    "                           fit['Normalization'][1] * u.Unit('1 / (m2 s TeV)'))\n",
    "vegas.parameters.set_error(\"alpha\", fit['Index'][1])\n",
    "vegas.parameters.set_error(\"beta\", fit['Cutoff'][1])"
   ]
  },
  {
   "cell_type": "code",
   "execution_count": null,
   "metadata": {},
   "outputs": [],
   "source": [
    "# we need to convert this into a form that is understood by gammapy, grrrr\n",
    "\n",
    "cov2 = np.array(cov.copy())\n",
    "cov2 = np.array(cov2.tolist())\n",
    "cov2 = np.insert(np.insert(cov2, 1, 0, axis=0), 1, 0, axis=1)\n",
    "cov2[:, 0] = cov2[:, 0] * 1e-4\n",
    "cov2[0, :] = cov2[0, :] * 1e-4\n",
    "\n",
    "vegas.parameters.covariance = cov2"
   ]
  },
  {
   "cell_type": "code",
   "execution_count": null,
   "metadata": {},
   "outputs": [],
   "source": [
    "vegas.parameters.to_table()"
   ]
  },
  {
   "cell_type": "code",
   "execution_count": null,
   "metadata": {},
   "outputs": [],
   "source": [
    "ax = ana.spectrum_result.plot(\n",
    "    energy_range=ana.fit.fit_range,\n",
    "    energy_power=2,\n",
    "    flux_unit='TeV-1 cm-2 s-1',\n",
    "    fig_kwargs=dict(figsize=(8, 8)),\n",
    "    butterfly_kwargs=dict(facecolor=\"C0\"),\n",
    "    point_kwargs=dict(c=\"C0\"))\n",
    "\n",
    "vegas.plot(\n",
    "    energy_range=ana.fit.fit_range,\n",
    "    ax=ax[0],\n",
    "    energy_power=2,\n",
    "    flux_unit='TeV-1 cm-2 s-1',\n",
    ")\n",
    "vegas.plot_error(\n",
    "    energy_range=ana.fit.fit_range,\n",
    "    ax=ax[0],\n",
    "    energy_power=2,\n",
    "    flux_unit='TeV-1 cm-2 s-1',\n",
    "    facecolor=\"C1\",\n",
    ")\n",
    "\n",
    "ax[0].errorbar(\n",
    "    points['Energy'][cond],\n",
    "    points['Flux'][cond] * points['Energy'][cond]**2,\n",
    "    yerr=points['FluxError'][cond] * points['Energy'][cond]**2,\n",
    "    c=\"C1\",\n",
    "    marker=\"d\",\n",
    "    ls=\"\")\n",
    "\n",
    "ax[1].set_ylim(-2, 2)\n",
    "ax[0].set_ylim(5e-12, 1e-10)"
   ]
  },
  {
   "cell_type": "code",
   "execution_count": null,
   "metadata": {},
   "outputs": [],
   "source": []
  },
  {
   "cell_type": "code",
   "execution_count": null,
   "metadata": {},
   "outputs": [],
   "source": []
  }
 ],
 "metadata": {
  "language_info": {
   "name": "python",
   "pygments_lexer": "ipython3"
  }
 },
 "nbformat": 4,
 "nbformat_minor": 2
}
