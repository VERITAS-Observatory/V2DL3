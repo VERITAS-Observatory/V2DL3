{
 "cells": [
  {
   "cell_type": "code",
   "execution_count": null,
   "metadata": {},
   "outputs": [],
   "source": [
    "%matplotlib inline\n",
    "import matplotlib.pyplot as plt"
   ]
  },
  {
   "cell_type": "code",
   "execution_count": null,
   "metadata": {},
   "outputs": [],
   "source": [
    "import numpy as np\n",
    "import astropy.units as u\n",
    "from astropy.coordinates import SkyCoord\n",
    "from regions import CircleSkyRegion\n",
    "from gammapy.data import DataStore\n",
    "from gammapy.maps import Map, MapAxis, WcsGeom, WcsNDMap\n",
    "from gammapy.cube import MapMaker, MapFit, PSFKernel\n",
    "from gammapy.cube.models import SkyModel\n",
    "from gammapy.spectrum.models import PowerLaw, ExponentialCutoffPowerLaw\n",
    "from gammapy.image.models import SkyGaussian, SkyPointSource\n",
    "from gammapy.detect import TSMapEstimator\n",
    "from gammapy.scripts import SpectrumAnalysisIACT\n",
    "from pyV2DL3.generateObsHduIndex import create_obs_hdu_index_file\n",
    "import astropy.units as u\n",
    "from gammapy.background import (\n",
    "    ReflectedRegionsBackgroundEstimator,\n",
    "    ring_background_estimate,\n",
    ")\n",
    "from gammapy.spectrum import     SpectrumFit,SpectrumExtraction,SpectrumResult,CrabSpectrum\n",
    "from gammapy.spectrum import SpectrumEnergyGroupMaker\n",
    "from gammapy.spectrum import FluxPointEstimator\n",
    "from gammapy.irf import make_mean_psf"
   ]
  },
  {
   "cell_type": "code",
   "execution_count": null,
   "metadata": {},
   "outputs": [],
   "source": [
    "def spectral_analysis(datastore,on_region,exclusion_mask,point_like=False,plots=False,nbins=81):\n",
    "    # Bakg estimate and extract spectrum\n",
    "    observations=datastore.get_observations(data_store.obs_table['OBS_ID'])\n",
    "    bkg_estimate = ReflectedRegionsBackgroundEstimator(\n",
    "    observations=observations, on_region=on_region, exclusion_mask=exclusion_mask\n",
    "    )\n",
    "    bkg_estimate.run()\n",
    "    energy_bins = np.logspace(np.log10(0.01), np.log10(100), nbins) * u.TeV\n",
    "    extract = SpectrumExtraction(\n",
    "        observations=observations,\n",
    "        bkg_estimate=bkg_estimate.result,\n",
    "        e_true=energy_bins,\n",
    "        e_reco=energy_bins,\n",
    "        containment_correction=(not point_like),\n",
    "    )\n",
    "    extract.run()\n",
    "    if(plots):\n",
    "        extract.spectrum_observations[0].peek()\n",
    "    # Fit spectrum \n",
    "    model = PowerLaw(\n",
    "    index=2, amplitude=2e-11 * u.Unit(\"m-2 s-1 TeV-1\"), reference=1 * u.TeV\n",
    "    )\n",
    "\n",
    "    joint_fit = SpectrumFit(obs_list=extract.spectrum_observations, model=model)\n",
    "    joint_fit.run()\n",
    "    joint_result = joint_fit.result\n",
    "    if(plots):\n",
    "        ax0, ax1 = joint_result[0].plot(figsize=(8, 8))\n",
    "        ax0.set_ylim(0, 20)\n",
    "        print(joint_result[0])\n",
    "    stacked_obs = extract.spectrum_observations.stack()\n",
    "    e_min, e_max = stacked_obs.lo_threshold.to_value(\"TeV\"), 30\n",
    "    ebounds = np.logspace(np.log10(e_min), np.log10(e_max), 10) * u.TeV\n",
    "\n",
    "    seg = SpectrumEnergyGroupMaker(obs=stacked_obs)\n",
    "    seg.compute_groups_fixed(ebounds=ebounds)\n",
    "    if(plots):\n",
    "        print(seg.groups)\n",
    "    fpe = FluxPointEstimator(\n",
    "        obs=stacked_obs, groups=seg.groups, model=joint_result[0].model\n",
    "    )\n",
    "    flux_points = fpe.run()\n",
    "    flux_points.table[\"is_ul\"] = flux_points.table[\"ts\"] < 4\n",
    "    spectrum_result = SpectrumResult(\n",
    "    points=flux_points, model=joint_result[0].model\n",
    "    )\n",
    "    return extract,flux_points,spectrum_result"
   ]
  },
  {
   "cell_type": "markdown",
   "metadata": {},
   "source": [
    "# Define on region"
   ]
  },
  {
   "cell_type": "code",
   "execution_count": null,
   "metadata": {},
   "outputs": [],
   "source": [
    "pos_crab = SkyCoord(83.633, 22.014, unit=\"deg\")\n",
    "on_region = CircleSkyRegion(center=pos_crab, radius=0.1*u.deg)\n",
    "exclusion_mask = Map.read('/Users/tony/Desktop/AtmTransparency/DL3_cross_calibration/joint-crab/results/maps/exclusion_mask.fits.gz')"
   ]
  },
  {
   "cell_type": "markdown",
   "metadata": {},
   "source": [
    "# Draw PSF Kernel"
   ]
  },
  {
   "cell_type": "code",
   "execution_count": null,
   "metadata": {},
   "outputs": [],
   "source": [
    "create_obs_hdu_index_file([\"./full_enclosure/89395.fits\"])\n",
    "data_store = DataStore.from_dir('./full_enclosure/')\n",
    "observations = data_store.get_observations(data_store.obs_table[\"OBS_ID\"])\n",
    "obs = observations[0]\n",
    "table_psf = obs.psf.to_energy_dependent_table_psf(u.deg*0.5)\n",
    "energy_axis = MapAxis.from_edges(\n",
    "    np.logspace(0, 1.0, 5), unit=\"TeV\", name=\"energy\", interp=\"log\"\n",
    ")\n",
    "geom = WcsGeom.create(\n",
    "    skydir=(83.633, 22.014),\n",
    "    binsz=0.02,\n",
    "    width=(5, 5),\n",
    "    coordsys=\"CEL\",\n",
    "    proj=\"TAN\",\n",
    "    axes=[energy_axis],\n",
    ")\n",
    "psf_kernel = PSFKernel.from_table_psf(table_psf, geom, max_radius=\"0.3 deg\")\n",
    "psf_kernel_array = psf_kernel.psf_kernel_map.sum_over_axes().data\n",
    "plt.figure(figsize=(20,20))\n",
    "psf_kernel.psf_kernel_map.slice_by_idx({'energy': 0}).plot()"
   ]
  },
  {
   "cell_type": "code",
   "execution_count": null,
   "metadata": {},
   "outputs": [],
   "source": [
    "psf = observations[0].psf\n",
    "psf.plot_psf_vs_rad()\n",
    "plt.figure()\n",
    "psf.plot_containment(show_safe_energy=True)\n",
    "plt.figure()\n",
    "psf.plot_containment_vs_energy()"
   ]
  },
  {
   "cell_type": "markdown",
   "metadata": {},
   "source": [
    "## The binning for the histogram is too fine\n",
    "## Might need to merge bins --> How to do this in V2DL3 ?"
   ]
  },
  {
   "cell_type": "markdown",
   "metadata": {},
   "source": [
    "# Spectral Analysis -- Full Enclosure"
   ]
  },
  {
   "cell_type": "code",
   "execution_count": null,
   "metadata": {},
   "outputs": [],
   "source": [
    "create_obs_hdu_index_file([\"./full_enclosure/89395.fits\"],index_file_dir='./full_enclosure//')\n",
    "data_store = DataStore.from_dir('./full_enclosure/')\n",
    "extract_fe,flux_points_fe,spectrum_result_fe = spectral_analysis(data_store,on_region,exclusion_mask,point_like=False,plots=True)"
   ]
  },
  {
   "cell_type": "code",
   "execution_count": null,
   "metadata": {},
   "outputs": [],
   "source": [
    "crab_hess_pl = CrabSpectrum('hess_pl')\n",
    "ax0, ax1 = spectrum_result_fe.plot(\n",
    "    energy_range=[0.2,45]*u.TeV,\n",
    "    energy_power=0,\n",
    "    flux_unit=\"TeV-1 m-2 s-1\",\n",
    "    fig_kwargs=dict(figsize=(8, 8)),\n",
    ")\n",
    "crab_hess_pl.model.plot([0.2, 10] * u.TeV,ax=ax0,energy_power=0,flux_unit=\"TeV-1 m-2 s-1\")\n",
    "ax0.set_xlim(0.4, 50)\n"
   ]
  },
  {
   "cell_type": "markdown",
   "metadata": {},
   "source": [
    "## Point Like"
   ]
  },
  {
   "cell_type": "code",
   "execution_count": null,
   "metadata": {},
   "outputs": [],
   "source": [
    "create_obs_hdu_index_file([\"./point_like//89395.fits\"],index_file_dir='./point_like//')\n",
    "data_store = DataStore.from_dir('./point_like/')\n",
    "extract_pl,flux_points_pl,spectrum_result_pl = spectral_analysis(data_store,on_region,exclusion_mask,point_like=True,plots=True)"
   ]
  },
  {
   "cell_type": "code",
   "execution_count": null,
   "metadata": {},
   "outputs": [],
   "source": [
    "crab_hess_pl = CrabSpectrum('hess_pl')\n",
    "ax0, ax1 = spectrum_result_pl.plot(\n",
    "    energy_range=[0.2,45]*u.TeV,\n",
    "    energy_power=0,\n",
    "    flux_unit=\"TeV-1 m-2 s-1\",\n",
    "    fig_kwargs=dict(figsize=(8, 8)),\n",
    ")\n",
    "crab_hess_pl.model.plot([0.2, 10] * u.TeV,ax=ax0,energy_power=0,flux_unit=\"TeV-1 m-2 s-1\")\n",
    "ax0.set_xlim(0.4, 50)"
   ]
  },
  {
   "cell_type": "markdown",
   "metadata": {},
   "source": [
    "# Comparison"
   ]
  },
  {
   "cell_type": "code",
   "execution_count": null,
   "metadata": {},
   "outputs": [],
   "source": [
    "plt.figure(figsize=(15,10))\n",
    "flux_points_fe.plot(flux_unit='TeV-1 m-2 s-1',color='darkorange',label='Full Enclosure ')\n",
    "flux_points_pl.plot(flux_unit='TeV-1 m-2 s-1',color='darkblue',label='Point Like')\n",
    "crab_hess_pl.model.plot([0.2, 40] * u.TeV,energy_power=0,flux_unit=\"TeV-1 m-2 s-1\",label='HESS PL')\n",
    "plt.legend(loc='best')"
   ]
  },
  {
   "cell_type": "code",
   "execution_count": null,
   "metadata": {},
   "outputs": [],
   "source": [
    "plt.figure(figsize=(15,10))\n",
    "crab_hess_pl.model.plot([0.2, 40] * u.TeV,energy_power=0,flux_unit=\"TeV-1 m-2 s-1\",label='HESS PL',color='darkgreen',linewidth=3)\n",
    "spectrum_result_fe.model.plot([0.2, 40] * u.TeV,energy_power=0,flux_unit=\"TeV-1 m-2 s-1\",\n",
    "                              label='Full Enclosure',color='darkorange',linewidth=3)\n",
    "spectrum_result_pl.model.plot([0.2, 40] * u.TeV,energy_power=0,flux_unit=\"TeV-1 m-2 s-1\",\n",
    "                              label='Point Like',color='darkblue',linewidth=3)\n",
    "plt.legend(loc='best')"
   ]
  },
  {
   "cell_type": "markdown",
   "metadata": {},
   "source": [
    "## Compare Effective Area"
   ]
  },
  {
   "cell_type": "code",
   "execution_count": null,
   "metadata": {},
   "outputs": [],
   "source": [
    "fe_spo = extract_fe.spectrum_observations[0]\n",
    "pl_spo = extract_pl.spectrum_observations[0]\n",
    "plt.figure(figsize=(15,10))\n",
    "fe_spo.aeff.plot(label='Full Enclosure',show_energy=(fe_spo.hi_threshold, fe_spo.lo_threshold))\n",
    "ax = plt.gca()\n",
    "ax.set_xlim([0.1,100])\n",
    "\n",
    "pl_spo.aeff.plot(ax=ax,label='Point Like')\n",
    "plt.legend(loc='best')"
   ]
  },
  {
   "cell_type": "markdown",
   "metadata": {},
   "source": [
    "# Integral Flux -- Point Like"
   ]
  },
  {
   "cell_type": "code",
   "execution_count": null,
   "metadata": {},
   "outputs": [],
   "source": [
    "int_crab_flux  = crab_hess_pl.model.integral(1.0*u.TeV,100*u.TeV).to('m-2 s-1')"
   ]
  },
  {
   "cell_type": "code",
   "execution_count": null,
   "metadata": {},
   "outputs": [],
   "source": [
    "integral,err = spectrum_result_pl.model.integral_error(1.0*u.TeV,100*u.TeV)\n",
    "print('Integral Flux (>1TeV):{:.2e}'.format(integral))\n",
    "print('Integral Flux Error (>1TeV):{:.2e}'.format(err))\n",
    "print('{:.1f}'.format(spectrum_result_pl.model.integral(1.0*u.TeV,100*u.TeV)/int_crab_flux*100),'% Crab')"
   ]
  },
  {
   "cell_type": "markdown",
   "metadata": {},
   "source": [
    "# Integral Flux -- Full Enclosure"
   ]
  },
  {
   "cell_type": "code",
   "execution_count": null,
   "metadata": {},
   "outputs": [],
   "source": [
    "spectrum_result_fe.model.integral_error?"
   ]
  },
  {
   "cell_type": "code",
   "execution_count": null,
   "metadata": {},
   "outputs": [],
   "source": [
    "integral,err = spectrum_result_fe.model.integral_error(1.0*u.TeV,100*u.TeV)\n",
    "print('Integral Flux (>1TeV):{:.2e}'.format(integral))\n",
    "print('Integral Flux Error (>1TeV):{:.2e}'.format(err))\n",
    "print('{:.1f}'.format(spectrum_result_fe.model.integral(1.0*u.TeV,100*u.TeV)/int_crab_flux*100),'% Crab')"
   ]
  },
  {
   "cell_type": "markdown",
   "metadata": {},
   "source": [
    "## VEGAS' result for the same run\n",
    "## Integral flux (1 TeV) $1.26\\times 10^{-7} \\pm 5.60\\times10^{-8} m^{-2}s^{-1}$"
   ]
  },
  {
   "cell_type": "markdown",
   "metadata": {},
   "source": [
    "# Test using HESS' DL3 file"
   ]
  },
  {
   "cell_type": "code",
   "execution_count": null,
   "metadata": {},
   "outputs": [],
   "source": [
    "data_store = DataStore.from_dir(\n",
    "    \"/Users/tony/Desktop/AtmTransparency/DL3_cross_calibration/joint-crab/data/hess/\"\n",
    ")\n",
    "mask = data_store.obs_table[\"TARGET_NAME\"] == \"Crab\"\n",
    "obs_table = data_store.obs_table[mask]\n",
    "observations = data_store.get_observations(obs_table[\"OBS_ID\"])"
   ]
  },
  {
   "cell_type": "code",
   "execution_count": null,
   "metadata": {},
   "outputs": [],
   "source": [
    "data_store = DataStore.from_dir(\n",
    "    \"/Users/tony/Desktop/AtmTransparency/DL3_cross_calibration/joint-crab/data/hess/\"\n",
    ")\n",
    "mask = data_store.obs_table[\"TARGET_NAME\"] == \"Crab\"\n",
    "obs_table = data_store.obs_table[mask]\n",
    "observations = data_store.get_observations(obs_table[\"OBS_ID\"])\n",
    "psf = observations[0].psf\n",
    "psf.plot_psf_vs_rad()\n",
    "plt.figure()\n",
    "psf.plot_containment(show_safe_energy=True)\n",
    "plt.figure()\n",
    "psf.plot_containment_vs_energy()"
   ]
  },
  {
   "cell_type": "code",
   "execution_count": null,
   "metadata": {},
   "outputs": [],
   "source": [
    "pos_crab = SkyCoord(83.633, 22.014, unit=\"deg\")"
   ]
  },
  {
   "cell_type": "code",
   "execution_count": null,
   "metadata": {},
   "outputs": [],
   "source": [
    "energy_axis = MapAxis.from_edges(\n",
    "    np.logspace(0, 1.0, 5), unit=\"TeV\", name=\"energy\", interp=\"log\"\n",
    ")\n",
    "geom = WcsGeom.create(\n",
    "    skydir=(83.633, 22.014),\n",
    "    binsz=0.02,\n",
    "    width=(5, 5),\n",
    "    coordsys=\"CEL\",\n",
    "    proj=\"TAN\",\n",
    "    axes=[energy_axis],\n",
    ")"
   ]
  },
  {
   "cell_type": "code",
   "execution_count": null,
   "metadata": {},
   "outputs": [],
   "source": [
    "from gammapy.irf import make_mean_psf\n",
    "table_psf = make_mean_psf(observations, pos_crab)\n",
    "psf_kernel = PSFKernel.from_table_psf(table_psf, geom, max_radius=\"0.3 deg\")\n",
    "psf_kernel_array = psf_kernel.psf_kernel_map.sum_over_axes().data\n",
    "plt.figure(figsize=(20,20))\n",
    "psf_kernel.psf_kernel_map.slice_by_idx({'energy': 0}).plot()\n",
    "#plt.imshow(psf_kernel_array)"
   ]
  }
 ],
 "metadata": {
  "language_info": {
   "name": "python",
   "pygments_lexer": "ipython3"
  }
 },
 "nbformat": 4,
 "nbformat_minor": 2
}
