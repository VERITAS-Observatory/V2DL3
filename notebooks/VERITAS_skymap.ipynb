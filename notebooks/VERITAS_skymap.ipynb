{
 "cells": [
  {
   "cell_type": "markdown",
   "metadata": {},
   "source": [
    "## DL3 skymap with gammapy\n",
    "author:\n",
    "* Tarek Hassan (thassan@ifae.es)\n",
    "* Cosimo Nigro (cosimonigro2@gmail.com)"
   ]
  },
  {
   "cell_type": "code",
   "execution_count": null,
   "metadata": {
    "collapsed": true
   },
   "outputs": [],
   "source": [
    "%matplotlib inline\n",
    "import numpy as np\n",
    "import matplotlib.pyplot as plt\n",
    "from os import listdir\n",
    "from os.path import isfile, join\n",
    "\n",
    "import astropy.units as u\n",
    "from astropy.coordinates import SkyCoord\n",
    "from astropy.convolution import Ring2DKernel, Tophat2DKernel\n",
    "from astropy.visualization import simple_norm\n",
    "\n",
    "from gammapy.data import DataStore\n",
    "from gammapy.image import SkyImage, SkyImageList\n",
    "from gammapy.detect import KernelBackgroundEstimator as KBE"
   ]
  },
  {
   "cell_type": "code",
   "execution_count": null,
   "metadata": {
    "collapsed": true
   },
   "outputs": [],
   "source": [
    "import gammapy"
   ]
  },
  {
   "cell_type": "code",
   "execution_count": null,
   "metadata": {},
   "outputs": [],
   "source": [
    "gammapy.__version__"
   ]
  },
  {
   "cell_type": "code",
   "execution_count": null,
   "metadata": {},
   "outputs": [],
   "source": [
    "dl3Dir = \"../VEGAS/DL3med/\"\n",
    "dl3Files = [dl3Dir + f for f in listdir(dl3Dir) if isfile(join(dl3Dir, f)) and f.endswith(\"fits\")]\n",
    "print(dl3Files)"
   ]
  },
  {
   "cell_type": "markdown",
   "metadata": {},
   "source": [
    "# Use pyV3DL3's helper functions to get DataStore\n",
    "## 1. Generate index file and generate from directory"
   ]
  },
  {
   "cell_type": "code",
   "execution_count": null,
   "metadata": {
    "collapsed": true
   },
   "outputs": [],
   "source": [
    "from pyV2DL3.generateObsHduIndex import create_obs_hdu_index_file"
   ]
  },
  {
   "cell_type": "code",
   "execution_count": null,
   "metadata": {
    "collapsed": true
   },
   "outputs": [],
   "source": [
    "# Create index files\n",
    "create_obs_hdu_index_file(dl3Files,index_file_dir='./')\n",
    "data_store = DataStore.from_dir('./')"
   ]
  },
  {
   "cell_type": "markdown",
   "metadata": {},
   "source": [
    "## 2. Generate DataStroe using getDSfromList\n",
    "The index tables are generated in memory and not saved to files."
   ]
  },
  {
   "cell_type": "code",
   "execution_count": null,
   "metadata": {
    "collapsed": true
   },
   "outputs": [],
   "source": [
    "from pyV2DL3.gammapy_util import getDSfromList"
   ]
  },
  {
   "cell_type": "code",
   "execution_count": null,
   "metadata": {},
   "outputs": [],
   "source": [
    "source_pos = SkyCoord(83.633083, 22.0145, unit='deg')\n",
    "# If you have internet access, you could also use this to define the `source_pos`:\n",
    "# source_pos = SkyCoord.from_name('crab')\n",
    "print(source_pos)"
   ]
  },
  {
   "cell_type": "code",
   "execution_count": null,
   "metadata": {
    "collapsed": true
   },
   "outputs": [],
   "source": [
    "ref_image = SkyImage.empty(\n",
    "    nxpix=400, nypix=400, binsz=0.02,\n",
    "    xref=source_pos.ra.deg, yref=source_pos.dec.deg,\n",
    "    coordsys='CEL', proj='TAN',\n",
    ")\n"
   ]
  },
  {
   "cell_type": "code",
   "execution_count": null,
   "metadata": {
    "collapsed": true
   },
   "outputs": [],
   "source": [
    "# Make a counts image for a single observation\n",
    "events = data_store.obs(obs_id=54809).events\n",
    "counts_image = SkyImage.empty_like(ref_image)\n",
    "counts_image.fill_events(events)"
   ]
  },
  {
   "cell_type": "code",
   "execution_count": null,
   "metadata": {},
   "outputs": [],
   "source": [
    "norm = simple_norm(counts_image.data, stretch='sqrt', min_cut=0, max_cut=0.7)\n",
    "counts_image.smooth(radius=0.1 * u.deg).plot(norm=norm, add_cbar=True)"
   ]
  },
  {
   "cell_type": "code",
   "execution_count": null,
   "metadata": {},
   "outputs": [],
   "source": [
    "# we can also take a look at how much is the value of the map in one position, say the nominal position of the Crab\n",
    "from astropy.coordinates import SkyCoord\n",
    "counts_image.lookup(source_pos)"
   ]
  },
  {
   "cell_type": "code",
   "execution_count": null,
   "metadata": {
    "collapsed": true
   },
   "outputs": [],
   "source": [
    "# Making a counts image for multiple observations is a bit inconvenient at the moment\n",
    "counts_image2 = SkyImage.empty_like(ref_image)\n",
    "for obs_id in data_store.obs_table['OBS_ID'].data:\n",
    "    events = data_store.obs(obs_id=obs_id).events\n",
    "    counts_image2.fill_events(events)"
   ]
  },
  {
   "cell_type": "code",
   "execution_count": null,
   "metadata": {},
   "outputs": [],
   "source": [
    "norm = simple_norm(counts_image2.data, stretch='sqrt', min_cut=0, max_cut=0.5)\n",
    "counts_image2.smooth(radius=0.1 * u.deg).plot(norm=norm, add_cbar=True)"
   ]
  },
  {
   "cell_type": "code",
   "execution_count": null,
   "metadata": {},
   "outputs": [],
   "source": [
    "# suppose now we want to take a look at a zoomed part of the countmap \n",
    "# 1.5 degree around the source nominal postition\n",
    "size = u.Quantity([1.5, 1.5], 'deg')\n",
    "cutout = counts_image2.cutout(source_pos, size)\n",
    "cutout.show()"
   ]
  },
  {
   "cell_type": "markdown",
   "metadata": {},
   "source": [
    "## Background modeling\n",
    "In Gammapy a few different methods to estimate the background are available.\n",
    "\n",
    "Here we'll use the gammapy.detect.KernelBackgroundEstimator to make a background image and the make a significance image.\n",
    "\n",
    "Starting from an initial background estimate and exclusion mask (both provided, optionally) the algorithm works as follows:\n",
    "\n",
    "* Compute significance image\n",
    "* Create exclusion mask by thresholding significance image\n",
    "* Compute improved background estimate based on new exclusion mask\n",
    "\n",
    "The steps are executed repeatedly until the exclusion mask does not change anymore.\n",
    "\n"
   ]
  },
  {
   "cell_type": "code",
   "execution_count": null,
   "metadata": {
    "collapsed": true
   },
   "outputs": [],
   "source": [
    "source_kernel = Tophat2DKernel(radius=5)\n",
    "source_kernel.normalize(mode='peak')\n",
    "source_kernel = source_kernel.array\n",
    "\n",
    "background_kernel = Ring2DKernel(radius_in=20, width=20)\n",
    "background_kernel.normalize(mode='peak')\n",
    "background_kernel = background_kernel.array"
   ]
  },
  {
   "cell_type": "code",
   "execution_count": null,
   "metadata": {},
   "outputs": [],
   "source": [
    "plt.imshow(source_kernel, interpolation='nearest', cmap='gray')\n",
    "plt.colorbar()\n",
    "plt.grid('off')"
   ]
  },
  {
   "cell_type": "code",
   "execution_count": null,
   "metadata": {},
   "outputs": [],
   "source": [
    "plt.imshow(background_kernel, interpolation='nearest', cmap='gray')\n",
    "plt.colorbar()\n",
    "plt.grid('off')"
   ]
  },
  {
   "cell_type": "code",
   "execution_count": null,
   "metadata": {},
   "outputs": [],
   "source": [
    "# To use the `KernelBackgroundEstimator` you first have to set\n",
    "# up a source and background kernel and put the counts image input\n",
    "# into a container `SkyImageList` class.\n",
    "images = SkyImageList()\n",
    "images['counts'] = counts_image2\n",
    "\n",
    "kbe = KBE(\n",
    "    kernel_src=source_kernel,\n",
    "    kernel_bkg=background_kernel,\n",
    "    significance_threshold=5,\n",
    "    mask_dilation_radius=0.06 * u.deg,\n",
    ")\n",
    "print(images)\n",
    "# This takes about 10 seconds on my machine\n",
    "result = kbe.run(images)"
   ]
  },
  {
   "cell_type": "code",
   "execution_count": null,
   "metadata": {},
   "outputs": [],
   "source": [
    "background_image = result['background']\n",
    "norm = simple_norm(background_image.data, stretch='sqrt')#, min_cut=0, max_cut=0.5)\n",
    "background_image.plot(norm=norm, add_cbar=True)"
   ]
  },
  {
   "cell_type": "code",
   "execution_count": null,
   "metadata": {},
   "outputs": [],
   "source": [
    "result['exclusion'].plot()"
   ]
  },
  {
   "cell_type": "code",
   "execution_count": null,
   "metadata": {},
   "outputs": [],
   "source": [
    "significance_image = result['significance']\n",
    "significance_image.plot(add_cbar=True)\n",
    "# significance_image.plot(add_cbar=True, vmin=-5, vmax=5)"
   ]
  },
  {
   "cell_type": "code",
   "execution_count": null,
   "metadata": {},
   "outputs": [],
   "source": [
    "np.nanmax(significance_image.data[np.isfinite(significance_image.data)])"
   ]
  }
 ],
 "metadata": {
  "kernelspec": {
   "display_name": "Python 3",
   "language": "python",
   "name": "python3"
  },
  "language_info": {
   "codemirror_mode": {
    "name": "ipython",
    "version": 3
   },
   "file_extension": ".py",
   "mimetype": "text/x-python",
   "name": "python",
   "nbconvert_exporter": "python",
   "pygments_lexer": "ipython3",
   "version": "3.6.8"
  }
 },
 "nbformat": 4,
 "nbformat_minor": 2
}
