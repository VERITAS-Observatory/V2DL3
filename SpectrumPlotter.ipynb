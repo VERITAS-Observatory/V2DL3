{
 "cells": [
  {
   "cell_type": "code",
   "execution_count": null,
   "metadata": {},
   "outputs": [],
   "source": [
    "%matplotlib inline\n",
    "import numpy as np\n",
    "import matplotlib.pyplot as plt\n",
    "\n",
    "from os import listdir\n",
    "from os.path import isfile, join\n",
    "\n",
    "from gammapy.data import DataStore\n",
    "from gammapy.scripts import SpectrumAnalysisIACT\n",
    "\n",
    "# Convenience classes to define analsys inputs\n",
    "# At some point we'll add a convenience layer to run the analysis starting from a plain text config file.\n",
    "from gammapy.utils.energy import EnergyBounds\n",
    "from gammapy.image import SkyImage\n",
    "from gammapy.spectrum import models\n",
    "from regions import CircleSkyRegion\n",
    "from astropy.coordinates import SkyCoord\n",
    "import astropy.units as u\n",
    "from astropy.io import fits\n",
    "\n",
    "from make_veritas_obs_hdu_index import create_obs_hdu_index"
   ]
  },
  {
   "cell_type": "code",
   "execution_count": null,
   "metadata": {},
   "outputs": [],
   "source": [
    "store_dir = './'\n",
    "dl3Dir = \"./VEGAS/DL3/\"\n",
    "\n",
    "\n",
    "dl3Files = [join(dl3Dir, f) for f in listdir(dl3Dir) if isfile(join(dl3Dir, f)) and f.endswith(\"fits\")]\n",
    "create_obs_hdu_index(dl3Files)\n",
    "\n",
    "data_store = DataStore.from_dir(store_dir)\n",
    "obs_id = data_store.obs_table['OBS_ID'].data\n",
    "print(\"Use observations {}\".format(obs_id))\n",
    "\n",
    "obs_list = data_store.obs_list(obs_id)"
   ]
  },
  {
   "cell_type": "code",
   "execution_count": null,
   "metadata": {},
   "outputs": [],
   "source": [
    "crab_pos = SkyCoord.from_name('crab')\n",
    "on_region = CircleSkyRegion(crab_pos, 0.1 * u.deg)\n",
    "\n",
    "model = models.LogParabola(\n",
    "    alpha = 2.3,\n",
    "    beta = 0,\n",
    "    amplitude = 1e-11 * u.Unit('cm-2 s-1 TeV-1'),\n",
    "    reference = 1 * u.TeV,\n",
    ")\n",
    "\n",
    "# model = models.PowerLaw(\n",
    "#     index = 2.3,\n",
    "#     amplitude = 1e-11 * u.Unit('cm-2 s-1 TeV-1'),\n",
    "#     reference = 1 * u.TeV,\n",
    "# )\n",
    "\n",
    "flux_point_binning = EnergyBounds.equal_log_spacing(0.1585, 3.9811, 15, u.TeV)\n",
    "\n",
    "exclusion_mask = SkyImage.read('$GAMMAPY_EXTRA/datasets/exclusion_masks/tevcat_exclusion.fits')\n"
   ]
  },
  {
   "cell_type": "code",
   "execution_count": null,
   "metadata": {},
   "outputs": [],
   "source": [
    "config = dict(\n",
    "    outdir = None,\n",
    "    background = dict(\n",
    "        on_region=on_region,\n",
    "        exclusion_mask=exclusion_mask,\n",
    "        min_distance = 0.1 * u.rad,\n",
    "    ),\n",
    "    extraction = dict(containment_correction=False),\n",
    "    fit = dict(\n",
    "        model=model,\n",
    "        stat='wstat',\n",
    "        forward_folded=True,\n",
    "        fit_range = flux_point_binning[[0, -1]]\n",
    "    ),\n",
    "    fp_binning=flux_point_binning\n",
    ")"
   ]
  },
  {
   "cell_type": "code",
   "execution_count": null,
   "metadata": {},
   "outputs": [],
   "source": [
    "ana = SpectrumAnalysisIACT(\n",
    "    observations=obs_list,\n",
    "    config=config,\n",
    ")\n",
    "ana.run()"
   ]
  },
  {
   "cell_type": "code",
   "execution_count": null,
   "metadata": {},
   "outputs": [],
   "source": [
    "print(ana.fit.result[0])"
   ]
  },
  {
   "cell_type": "code",
   "execution_count": null,
   "metadata": {},
   "outputs": [],
   "source": [
    "ax = ana.spectrum_result.plot(\n",
    "    energy_range=ana.fit.fit_range,\n",
    "    energy_power=2,\n",
    "    flux_unit='erg-1 cm-2 s-1',\n",
    "    fig_kwargs=dict(figsize = (8,8)),\n",
    ")\n",
    "ax[1].set_ylim(-2, 2)"
   ]
  },
  {
   "cell_type": "code",
   "execution_count": null,
   "metadata": {},
   "outputs": [],
   "source": [
    "ff = fits.open(\"VEGAS/CrabDL3medPoint_s6.fits\")\n",
    "points = ff[1].data\n",
    "fit = ff[2].data\n",
    "\n",
    "points = points[points['Significance'] > 2]\n",
    "points = points[points['On'] > 2]\n",
    "\n",
    "energy = np.array(points['Energy']) * u.TeV\n",
    "flux = np.array(points['Flux'])*u.Unit(\"TeV-1 m-2 s-1\")\n",
    "fluxE = np.array(points['FluxError'])*u.Unit(\"TeV-1 m-2 s-1\")"
   ]
  },
  {
   "cell_type": "code",
   "execution_count": null,
   "metadata": {},
   "outputs": [],
   "source": [
    "ax = ana.spectrum_result.plot(\n",
    "    energy_range=ana.fit.fit_range,\n",
    "    energy_power=2,\n",
    "    flux_unit='erg-1 cm-2 s-1',\n",
    "    fig_kwargs=dict(figsize=(8, 8)), )\n",
    "ax[1].set_ylim(-2, 2)\n",
    "\n",
    "ax[0].errorbar(\n",
    "    energy.value, (flux * energy**2).to(u.Unit(\"erg cm-2 s-1\")).value,\n",
    "    yerr=(fluxE * energy**2).to(u.Unit(\"erg cm-2 s-1\")).value,\n",
    "    ls=\"\",\n",
    "    marker=\"_\")\n",
    "\n",
    "ax[0].plot(energy.value,\n",
    "           (fit[\"Normalization\"][0] * u.Unit(\"TeV-1 m-2 s-1\") * energy.value**\n",
    "            fit[\"Index\"][0] * energy**2).to(u.Unit(\"erg cm-2 s-1\")).value)\n",
    "\n",
    "ax[0].set_ylim(ymin=5e-12)\n",
    "\n",
    "# plt.savefig(\"Plots/spec_comp.pdf\")"
   ]
  },
  {
   "cell_type": "code",
   "execution_count": null,
   "metadata": {},
   "outputs": [],
   "source": [
    "import plottingFunctions as pF"
   ]
  },
  {
   "cell_type": "code",
   "execution_count": null,
   "metadata": {},
   "outputs": [],
   "source": [
    "spec = pF.spectrumPlotter()\n",
    "spec.readVEGASFits(\"VEGAS/CrabDL3medPoint_s6.fits\")\n",
    "spec.e2fluxUnits = u.Unit(\"erg cm-2 s-1\")\n",
    "spec.plotSpectrum()\n"
   ]
  },
  {
   "cell_type": "code",
   "execution_count": null,
   "metadata": {},
   "outputs": [],
   "source": [
    "print points['EBinLowEdge']\n",
    "print points['EBinHiEdge']"
   ]
  },
  {
   "cell_type": "code",
   "execution_count": null,
   "metadata": {},
   "outputs": [],
   "source": []
  }
 ],
 "metadata": {
  "language_info": {
   "name": "python",
   "pygments_lexer": "ipython3"
  }
 },
 "nbformat": 4,
 "nbformat_minor": 2
}
