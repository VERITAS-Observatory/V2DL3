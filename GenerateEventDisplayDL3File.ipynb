{
 "cells": [
  {
   "cell_type": "code",
   "execution_count": 1,
   "metadata": {},
   "outputs": [
    {
     "name": "stdout",
     "output_type": "stream",
     "text": [
      "Populating the interactive namespace from numpy and matplotlib\n"
     ]
    }
   ],
   "source": [
    "%pylab inline --no-import-all\n",
    "\n",
    "from ctypes import c_float\n",
    "\n",
    "# import numpy as np\n",
    "from astropy.io import fits\n",
    "\n",
    "\n",
    "from ROOT import gSystem, TFile, TGraphAsymmErrors\n",
    "\n",
    "from root_numpy import hist2array, tree2array\n",
    "\n",
    "#from ROOT import VARootIO, VAEffectiveAreaManager, VAEASimpleParameterData\n"
   ]
  },
  {
   "cell_type": "markdown",
   "metadata": {},
   "source": [
    "VEGAS libraries (not used for eventDisplay obviously!)"
   ]
  },
  {
   "cell_type": "code",
   "execution_count": 2,
   "metadata": {},
   "outputs": [],
   "source": [
    "# if gSystem.Load(\"libVEGASCommon\"):\n",
    "#     print \"Problem loading VEGAS Common libraries - please check this before proceeding\"\n",
    "# if gSystem.Load(\"libVEGASStage6\"):\n",
    "#     print \"Problem loading VEGAS Stage 6 libraries - please check this before proceeding\""
   ]
  },
  {
   "cell_type": "markdown",
   "metadata": {},
   "source": [
    "Load eventdisplay libraries:"
   ]
  },
  {
   "cell_type": "code",
   "execution_count": 3,
   "metadata": {},
   "outputs": [],
   "source": [
    "if gSystem.Load(\"$EVNDISPSYS/lib/libVAnaSum.so\"):\n",
    "    print \"Problem loading EventDisplay libraries - please check this before proceeding\""
   ]
  },
  {
   "cell_type": "markdown",
   "metadata": {},
   "source": [
    "# Compatability\n",
    "Works with VEGAS v2.5.7 or later.\n",
    "\n",
    "# Data format\n",
    "the data format is defined at : https://gamma-astro-data-formats.readthedocs.io/en/latest/\n",
    "\n",
    "# Task List\n",
    "\n",
    "## Top priorities\n",
    "* Time Cuts from ROOT file\n",
    "* Average Azimuth assumes southerly source ....\n",
    "* Convert to format so can read through a stage 6 runlist file\n",
    "* Check validity of 30 min runs for EA (compare decent Crab runlist in 30 vs 10 min runs @ different zenith angles).\n",
    "* Adding ED capability.\n",
    "\n",
    "## Validation\n",
    "* Check high stats crab spectra\n",
    "* Check other spectra\n",
    "* Check significances/sky maps\n",
    "* Upper limits\n",
    "\n",
    "## Documentation\n",
    "* Save a number of notebooks that show how to do conversion and analysis\n",
    "\n",
    "## Wish list\n",
    "* All offset - this will require reworking events list for saving noises etc.\n",
    "* Event Types - how do spectra compare when produced as \"all events\" vs. breaking up into 2, 3 and 4 tel events.\n",
    "* Get window size for noise from root/ea file - at the moment assume it is 7"
   ]
  },
  {
   "cell_type": "code",
   "execution_count": 52,
   "metadata": {},
   "outputs": [],
   "source": [
    "edFileIO = TFile.Open(\"/home/thassan/VERITAS/DL3/eventDisplay/54809.anasum.root\")"
   ]
  },
  {
   "cell_type": "code",
   "execution_count": 53,
   "metadata": {},
   "outputs": [
    {
     "data": {
      "text/plain": [
       "ROOT.VEvndispRunParameter"
      ]
     },
     "execution_count": 53,
     "metadata": {},
     "output_type": "execute_result"
    }
   ],
   "source": [
    "from ROOT import VTimeMask, VEvndispRunParameter, VSkyCoordinatesUtilities\n",
    "from astropy.time import Time\n",
    "# runParameters = edFileIO.Get(\"run_54809/stereo/VAnaSumRunParameter\")\n",
    "runParametersV2 = edFileIO.Get(\"run_54809/stereo/runparameterV2\")\n",
    "type(runParameters)"
   ]
  },
  {
   "cell_type": "code",
   "execution_count": 54,
   "metadata": {},
   "outputs": [
    {
     "ename": "NameError",
     "evalue": "name 'start_mjd' is not defined",
     "output_type": "error",
     "traceback": [
      "\u001b[0;31m---------------------------------------------------------------------------\u001b[0m",
      "\u001b[0;31mNameError\u001b[0m                                 Traceback (most recent call last)",
      "\u001b[0;32m<ipython-input-54-c9221f76bc70>\u001b[0m in \u001b[0;36m<module>\u001b[0;34m()\u001b[0m\n\u001b[1;32m      1\u001b[0m \u001b[0mreference_mjd\u001b[0m \u001b[0;34m=\u001b[0m \u001b[0;36m53402.0\u001b[0m\u001b[0;34m\u001b[0m\u001b[0m\n\u001b[1;32m      2\u001b[0m \u001b[0mt_ref\u001b[0m \u001b[0;34m=\u001b[0m \u001b[0mTime\u001b[0m\u001b[0;34m(\u001b[0m\u001b[0mreference_mjd\u001b[0m\u001b[0;34m,\u001b[0m \u001b[0mformat\u001b[0m\u001b[0;34m=\u001b[0m\u001b[0;34m'mjd'\u001b[0m\u001b[0;34m,\u001b[0m \u001b[0mscale\u001b[0m\u001b[0;34m=\u001b[0m\u001b[0;34m'utc'\u001b[0m\u001b[0;34m)\u001b[0m\u001b[0;34m\u001b[0m\u001b[0m\n\u001b[0;32m----> 3\u001b[0;31m \u001b[0mseconds_from_reference\u001b[0m \u001b[0;34m=\u001b[0m \u001b[0;34m(\u001b[0m\u001b[0mt_ref\u001b[0m \u001b[0;34m-\u001b[0m \u001b[0mTime\u001b[0m\u001b[0;34m(\u001b[0m\u001b[0mstart_mjd\u001b[0m\u001b[0;34m,\u001b[0m \u001b[0mformat\u001b[0m\u001b[0;34m=\u001b[0m\u001b[0;34m'mjd'\u001b[0m\u001b[0;34m,\u001b[0m \u001b[0mscale\u001b[0m\u001b[0;34m=\u001b[0m\u001b[0;34m'utc'\u001b[0m\u001b[0;34m)\u001b[0m\u001b[0;34m)\u001b[0m\u001b[0;34m.\u001b[0m\u001b[0msec\u001b[0m\u001b[0;34m\u001b[0m\u001b[0m\n\u001b[0m\u001b[1;32m      4\u001b[0m \u001b[0mtstart_from_reference\u001b[0m \u001b[0;34m=\u001b[0m \u001b[0;34m(\u001b[0m\u001b[0mt_ref\u001b[0m \u001b[0;34m-\u001b[0m \u001b[0mTime\u001b[0m\u001b[0;34m(\u001b[0m\u001b[0mrunParametersV2\u001b[0m\u001b[0;34m.\u001b[0m\u001b[0mfDBRunStartTimeSQL\u001b[0m\u001b[0;34m,\u001b[0m \u001b[0mformat\u001b[0m\u001b[0;34m=\u001b[0m\u001b[0;34m'mjd'\u001b[0m\u001b[0;34m,\u001b[0m \u001b[0mscale\u001b[0m\u001b[0;34m=\u001b[0m\u001b[0;34m'utc'\u001b[0m\u001b[0;34m)\u001b[0m\u001b[0;34m)\u001b[0m\u001b[0;34m.\u001b[0m\u001b[0msec\u001b[0m\u001b[0;34m\u001b[0m\u001b[0m\n",
      "\u001b[0;31mNameError\u001b[0m: name 'start_mjd' is not defined"
     ]
    }
   ],
   "source": [
    "reference_mjd = 53402.0\n",
    "t_ref = Time(reference_mjd, format='mjd', scale='utc')\n",
    "seconds_from_reference = (t_ref - Time(start_mjd, format='mjd', scale='utc')).sec\n",
    "tstart_from_reference = (t_ref - Time(runParametersV2.fDBRunStartTimeSQL, format='mjd', scale='utc')).sec"
   ]
  },
  {
   "cell_type": "code",
   "execution_count": 48,
   "metadata": {},
   "outputs": [
    {
     "name": "stdout",
     "output_type": "stream",
     "text": [
      "['2011', '02', '04']\n",
      "55596\n"
     ]
    }
   ],
   "source": [
    "startDateTime = (runParametersV2.fDBRunStartTimeSQL).split(\" \")\n",
    "stopDateTime = (runParametersV2.fDBRunStoppTimeSQL).split(\" \")\n",
    "print(stopDateTime[0].split(\"-\"))\n",
    "year, month, day = [int(k) for k in stopDateTime[0].split(\"-\")]\n",
    "print(int(VSkyCoordinatesUtilities.getMJD( year, month, day)))"
   ]
  },
  {
   "cell_type": "code",
   "execution_count": 43,
   "metadata": {},
   "outputs": [
    {
     "name": "stdout",
     "output_type": "stream",
     "text": [
      "2011\n"
     ]
    }
   ],
   "source": [
    "year, month, day = stopDateTime[0].split(\"-\")\n",
    "print(year)"
   ]
  },
  {
   "cell_type": "markdown",
   "metadata": {},
   "source": [
    "This should be the content of \"def __fillEVENTS_not_safe__(edFileIO):\""
   ]
  },
  {
   "cell_type": "code",
   "execution_count": 118,
   "metadata": {
    "scrolled": true
   },
   "outputs": [],
   "source": [
    "import numpy as np\n",
    "import logging\n",
    "from root_numpy import tree2array\n",
    "from astropy.time import Time\n",
    "\n",
    "# EventDisplay imports\n",
    "from ROOT import VEvndispRunParameter, VSkyCoordinatesUtilities, VAnaSumRunParameter\n",
    "\n",
    "logger = logging.getLogger(__name__)\n",
    "\n",
    "\n",
    "evt_dict = {}\n",
    "\n",
    "# FIXME: This should be taken from a common script (by VEGAS also)\n",
    "reference_mjd = 53402.0\n",
    "\n",
    "# Load header ,array info and selected event tree ( vegas > v2.5.7)\n",
    "runSummary = tree2array(edFileIO.Get(\"total_1/stereo/tRunSummary\"))\n",
    "runNumber = runSummary['runOn'][0]\n",
    "telConfig = tree2array(edFileIO.Get(\"run_{}/stereo/telconfig\".format(runNumber)))\n",
    "runParametersV2 = edFileIO.Get(\"run_{}/stereo/runparameterV2\".format(runNumber))\n",
    "vAnaSumRunParameter = edFileIO.Get(\"run_{}/stereo/VAnaSumRunParameter\".format(runNumber))\n",
    "selectedEventsTree = tree2array(edFileIO.Get(\"run_{}/stereo/TreeWithEventsForCtools\".format(runNumber)))\n",
    "# qStatsData = edFileIO.loadTheQStatsData()\n",
    "# pixelData = edFileIO.loadThePixelStatusData()\n",
    "# arrayInfo          = edFileIO.loadTheArrayInfo(0)\n",
    "# cuts = edFileIO.loadTheCutsInfo()\n",
    "\n",
    "# Get start and stop time within the run.\n",
    "startDateTime = (runParametersV2.fDBRunStartTimeSQL).split(\" \")\n",
    "stopDateTime = (runParametersV2.fDBRunStoppTimeSQL).split(\" \")\n",
    "\n",
    "start_year, start_month, start_day = [int(k) for k in startDateTime[0].split(\"-\")]\n",
    "stop_year, stop_month, stop_day = [int(k) for k in stopDateTime[0].split(\"-\")]\n",
    "\n",
    "start_mjd = VSkyCoordinatesUtilities.getMJD(start_year, start_month, start_day)\n",
    "stop_mjd = VSkyCoordinatesUtilities.getMJD(stop_year, stop_month, stop_day)\n",
    "\n",
    "# Number of seconds between reference time and run MJD at 00:00:00:\n",
    "t_ref = Time(reference_mjd, format='mjd', scale='utc')\n",
    "seconds_from_reference = (Time(start_mjd, format='mjd', scale='utc') - t_ref).sec\n",
    "tstart_from_reference = (Time(runParametersV2.fDBRunStartTimeSQL, format='iso', scale='utc') - t_ref).sec\n",
    "tstop_from_reference = (Time(runParametersV2.fDBRunStoppTimeSQL, format='iso', scale='utc') - t_ref).sec\n",
    "\n",
    "# Start filling events\n",
    "avAlt = []\n",
    "avAz = []\n",
    "avRA = []\n",
    "avDec = []\n",
    "\n",
    "evNumArr = selectedEventsTree['eventNumber']\n",
    "# This should already have microsecond resolution if stored with double precision.\n",
    "timeArr = seconds_from_reference + selectedEventsTree['timeOfDay']\n",
    "raArr = selectedEventsTree['RA']\n",
    "decArr = selectedEventsTree['DEC']\n",
    "azArr = selectedEventsTree['Az']\n",
    "altArr = selectedEventsTree['El']\n",
    "energyArr = selectedEventsTree['Energy']\n",
    "# Not used for the moment by science tools.\n",
    "# nTelArr = selectedEventsTree['NImages']\n",
    "logger.debug(\"Start filling events ...\")\n",
    "\n",
    "# for ev in selectedEventsTree:\n",
    "#     evNumArr.append(selectedEventsTree['eventNumber'])\n",
    "#     timeArr.append(selectedEventsTree['timeOfDay'])\n",
    "#     raArr.append(selectedEventsTree['RA'])\n",
    "#     decArr.append(selectedEventsTree['DEC'])\n",
    "#     azArr.append(selectedEventsTree['Az'])\n",
    "#     altArr.append(selectedEventsTree['El'])\n",
    "#     energyArr.append(selectedEventsTree['Energy'])\n",
    "#     # nTelArr.append(selectedEventsTree['NImages'])\n",
    "#\n",
    "#     avAlt.append(ev.S.fArrayTrackingElevation_Deg)\n",
    "#     avAz.append(ev.S.fArrayTrackingAzimuth_Deg)\n",
    "#     avRA.append(ev.S.fArrayTrackingRA_J2000_Rad)\n",
    "#     avDec.append(ev.S.fArrayTrackingDec_J2000_Rad)\n",
    "\n",
    "avAlt = np.mean(avAlt)\n",
    "# Calculate average azimuth angle from average vector on a circle\n",
    "# https://en.wikipedia.org/wiki/Mean_of_circular_quantities\n",
    "avAz_deg = np.deg2rad(avAz)\n",
    "avAz = np.rad2deg(np.arctan2(np.sum(np.sin(avAz_deg)),np.sum(np.cos(avAz_deg))))\n",
    "avAz = avAz if avAz > 0 else avAz + 360\n",
    "\n",
    "avRA = np.rad2deg(np.mean(avRA))\n",
    "avDec = np.rad2deg(np.mean(avDec))\n",
    "# Filling Event List\n",
    "evt_dict['EVENT_ID'] = evNumArr\n",
    "evt_dict['TIME'] = timeArr\n",
    "evt_dict['RA'] = raArr\n",
    "evt_dict['DEC'] = decArr\n",
    "evt_dict['ALT'] = altArr\n",
    "evt_dict['AZ'] = azArr\n",
    "evt_dict['ENERGY'] = energyArr\n",
    "# evt_dict['EVENT_TYPE'] =nTelArr\n",
    "\n",
    "# Calculate Live Time\n",
    "# startDateTime = (runParameters.fDBRunStartTimeSQL).split(\" \")\n",
    "# endTime = runHeader.getEndTime()\n",
    "\n",
    "# startTime_s = float(startTime.getDayNS()) / 1e9\n",
    "# endTime_s = float(endTime.getDayNS()) / 1e9\n",
    "# startTime = runHeader.getStartTime()\n",
    "# endTime = runHeader.getEndTime()"
   ]
  },
  {
   "cell_type": "code",
   "execution_count": 124,
   "metadata": {},
   "outputs": [
    {
     "data": {
      "text/plain": [
       "array([(54809, 54809, 55596.17204264, 55596.17204264, 83.80028943, 22.02123002, 83.63333155, 22.01447088, 83.63320833, 22.01447222, 83.63320833, 22.01447222, -0., 0., -0.00057786, 0.49988543, 4, 1203., 1203., 80.15031715, -170.66117859, 80.20628753, -170.66117859, 100.840399, 100.840399, 5.43885023, 5.43885023, 173., 27., 4.5      , 0.16666667, 22.87566795, 8.40399002, 0.65742775, 0.2244389 , 0.04319329, 0.08932723, 0.08932723, 15.01571175, 0., 0.),\n",
       "       (   -1,    -1,     0.        ,     0.        ,  0.        ,  0.        ,  0.        ,  0.        , 83.63320833, 22.01447222, 83.63320833, 22.01447222,  0., 0.,  0.        , 0.        , 0, 1203., 1203., 80.15031715, -170.68042204, 80.20628753, -173.40473938, 100.840399, 100.840399, 5.43885023, 5.43885023, 173., 27., 4.5000002, 0.16666667, 22.87566767, 8.40399001, 0.65742775, 0.22443891, 0.04319329, 0.08932723, 0.08932723, 15.01571182, 0., 0.)],\n",
       "      dtype=[('runOn', '<i4'), ('runOff', '<i4'), ('MJDOn', '<f8'), ('MJDOff', '<f8'), ('TargetRA', '<f8'), ('TargetDec', '<f8'), ('TargetRAJ2000', '<f8'), ('TargetDecJ2000', '<f8'), ('SkyMapCentreRAJ2000', '<f8'), ('SkyMapCentreDecJ2000', '<f8'), ('TargetShiftRAJ2000', '<f8'), ('TargetShiftDecJ2000', '<f8'), ('TargetShiftWest', '<f8'), ('TargetShiftNorth', '<f8'), ('WobbleNorth', '<f8'), ('WobbleWest', '<f8'), ('NTel', '<u4'), ('tOn', '<f8'), ('tOff', '<f8'), ('elevationOn', '<f8'), ('azimuthOn', '<f8'), ('elevationOff', '<f8'), ('azimuthOff', '<f8'), ('RawRateOn', '<f8'), ('RawRateOff', '<f8'), ('pedvarsOn', '<f8'), ('pedvarsOff', '<f8'), ('NOn', '<f8'), ('NOff', '<f8'), ('NOffNorm', '<f8'), ('OffNorm', '<f8'), ('Signi', '<f8'), ('Rate', '<f8'), ('RateE', '<f8'), ('RateOff', '<f8'), ('RateOffE', '<f8'), ('DeadTimeFracOn', '<f8'), ('DeadTimeFracOff', '<f8'), ('MaxSigni', '<f8'), ('MaxSigniX', '<f8'), ('MaxSigniY', '<f8')])"
      ]
     },
     "execution_count": 124,
     "metadata": {},
     "output_type": "execute_result"
    }
   ],
   "source": [
    "runSummary"
   ]
  },
  {
   "cell_type": "code",
   "execution_count": 119,
   "metadata": {},
   "outputs": [],
   "source": [
    "def produceTelList(telConfig):\n",
    "    '''Convert the list of telescopes into a string for FITS header\n",
    "    '''\n",
    "    telList = \"\"\n",
    "    for tel in telConfig['TelID']:\n",
    "        telList += \"T\" + str(tel) + \",\"\n",
    "    return telList[:-1]"
   ]
  },
  {
   "cell_type": "code",
   "execution_count": 122,
   "metadata": {},
   "outputs": [
    {
     "data": {
      "text/plain": [
       "4"
      ]
     },
     "execution_count": 122,
     "metadata": {},
     "output_type": "execute_result"
    }
   ],
   "source": [
    "len(telConfig['TelID'])"
   ]
  },
  {
   "cell_type": "code",
   "execution_count": 121,
   "metadata": {},
   "outputs": [
    {
     "data": {
      "text/plain": [
       "'T0,T1,T2,T3'"
      ]
     },
     "execution_count": 121,
     "metadata": {},
     "output_type": "execute_result"
    }
   ],
   "source": [
    "produceTelList(telConfig)"
   ]
  },
  {
   "cell_type": "code",
   "execution_count": 95,
   "metadata": {},
   "outputs": [
    {
     "data": {
      "text/plain": [
       "'/lustre/fs19/group/cta/users/thassan/Software/eventDisplay/aux/ParameterFiles/ANASUM.timemask.dat'"
      ]
     },
     "execution_count": 95,
     "metadata": {},
     "output_type": "execute_result"
    }
   ],
   "source": [
    "vAnaSumRunParameter.fTimeMaskFile"
   ]
  },
  {
   "cell_type": "code",
   "execution_count": 97,
   "metadata": {},
   "outputs": [
    {
     "data": {
      "text/plain": [
       "0.08932723358747655"
      ]
     },
     "execution_count": 97,
     "metadata": {},
     "output_type": "execute_result"
    }
   ],
   "source": [
    "vAnaSumRunParameter.fScalarDeadTimeFrac"
   ]
  },
  {
   "cell_type": "code",
   "execution_count": 101,
   "metadata": {},
   "outputs": [
    {
     "data": {
      "text/plain": [
       "array([0.08932723, 0.08932723])"
      ]
     },
     "execution_count": 101,
     "metadata": {},
     "output_type": "execute_result"
    }
   ],
   "source": [
    "runSummary['DeadTimeFracOn']"
   ]
  },
  {
   "cell_type": "code",
   "execution_count": 105,
   "metadata": {},
   "outputs": [
    {
     "data": {
      "text/plain": [
       "1203.0"
      ]
     },
     "execution_count": 105,
     "metadata": {},
     "output_type": "execute_result"
    }
   ],
   "source": [
    "tstop_from_reference - tstart_from_reference"
   ]
  },
  {
   "cell_type": "code",
   "execution_count": 104,
   "metadata": {},
   "outputs": [
    {
     "data": {
      "text/plain": [
       "array([1203., 1203.])"
      ]
     },
     "execution_count": 104,
     "metadata": {},
     "output_type": "execute_result"
    }
   ],
   "source": [
    "runSummary['tOn']"
   ]
  },
  {
   "cell_type": "code",
   "execution_count": 110,
   "metadata": {},
   "outputs": [
    {
     "data": {
      "text/plain": [
       "83.63333155231746"
      ]
     },
     "execution_count": 110,
     "metadata": {},
     "output_type": "execute_result"
    }
   ],
   "source": [
    "runParametersV2.fTargetRA"
   ]
  },
  {
   "cell_type": "markdown",
   "metadata": {},
   "source": [
    "Reading deadtime from Nathan code"
   ]
  },
  {
   "cell_type": "code",
   "execution_count": 71,
   "metadata": {},
   "outputs": [],
   "source": [
    "#   sprintf( objName, \"run_%d/stereo/vdeadtime\", runid ) ;\n",
    "#   VDeadTime * deadTime = ( VDeadTime* )anasumfile->Get( objName ) ;\n",
    "#   if ( !deadTime ) \n",
    "#   {\n",
    "#     cout << \"  Error, Unable to load VDeadTime object \" << objName << \" from file \" << anasumInputFile << \" , exiting...\" << endl;\n",
    "#     return 1 ;\n",
    "#   }\n",
    "#   else\n",
    "#   {\n",
    "#     cout << \"  Loaded VDeadTime object '\" << objName << \"' ...\" << endl;\n",
    "#   }\n",
    "#   sprintf( objName, \"run_%d/stereo/deadTimeHistograms\", runid ) ;\n",
    "#   TDirectoryFile * deadTimeDir = ( TDirectoryFile* ) anasumfile->Get( objName ) ;\n",
    "#   deadTime->readHistograms( deadTimeDir ) ;\n",
    "#   deadTime->calculateDeadTime();\n",
    "#   deadTime->printDeadTime();"
   ]
  },
  {
   "cell_type": "markdown",
   "metadata": {},
   "source": [
    "Now in python:"
   ]
  },
  {
   "cell_type": "code",
   "execution_count": 78,
   "metadata": {},
   "outputs": [
    {
     "ename": "TypeError",
     "evalue": "count() takes at least 1 argument (0 given)",
     "output_type": "error",
     "traceback": [
      "\u001b[0;31m---------------------------------------------------------------------------\u001b[0m",
      "\u001b[0;31mTypeError\u001b[0m                                 Traceback (most recent call last)",
      "\u001b[0;32m<ipython-input-78-948077524c6f>\u001b[0m in \u001b[0;36m<module>\u001b[0;34m()\u001b[0m\n\u001b[0;32m----> 1\u001b[0;31m \u001b[0;32mprint\u001b[0m\u001b[0;34m(\u001b[0m\u001b[0mrunParametersV2\u001b[0m\u001b[0;34m.\u001b[0m\u001b[0mfEpochFile\u001b[0m\u001b[0;34m.\u001b[0m\u001b[0mcount\u001b[0m\u001b[0;34m(\u001b[0m\u001b[0;34m)\u001b[0m\u001b[0;34m)\u001b[0m\u001b[0;34m\u001b[0m\u001b[0m\n\u001b[0m",
      "\u001b[0;31mTypeError\u001b[0m: count() takes at least 1 argument (0 given)"
     ]
    }
   ],
   "source": [
    "print(runParametersV2.get)"
   ]
  },
  {
   "cell_type": "code",
   "execution_count": null,
   "metadata": {},
   "outputs": [],
   "source": [
    "deadTime = "
   ]
  },
  {
   "cell_type": "code",
   "execution_count": 70,
   "metadata": {},
   "outputs": [
    {
     "data": {
      "text/plain": [
       "1203.0"
      ]
     },
     "execution_count": 70,
     "metadata": {},
     "output_type": "execute_result"
    }
   ],
   "source": [
    "tstop_from_reference - tstart_from_reference"
   ]
  },
  {
   "cell_type": "code",
   "execution_count": 59,
   "metadata": {},
   "outputs": [
    {
     "data": {
      "text/plain": [
       "'2011-02-04 03:57:42'"
      ]
     },
     "execution_count": 59,
     "metadata": {},
     "output_type": "execute_result"
    }
   ],
   "source": [
    "runParametersV2.fDBRunStartTimeSQL"
   ]
  },
  {
   "cell_type": "code",
   "execution_count": 12,
   "metadata": {},
   "outputs": [
    {
     "data": {
      "text/plain": [
       "ROOT.TDirectoryFile"
      ]
     },
     "execution_count": 12,
     "metadata": {},
     "output_type": "execute_result"
    }
   ],
   "source": [
    "timeMask = VTimeMask()\n",
    "timeMask = f1.Get(\"run_54809/stereo/timeMask\")\n",
    "type(timeMask)"
   ]
  },
  {
   "cell_type": "code",
   "execution_count": null,
   "metadata": {},
   "outputs": [],
   "source": []
  },
  {
   "cell_type": "code",
   "execution_count": 13,
   "metadata": {
    "collapsed": true
   },
   "outputs": [],
   "source": [
    "runSummary = tree2array(f1.Get(\"total_1/stereo/tRunSummary\"))"
   ]
  },
  {
   "cell_type": "code",
   "execution_count": 14,
   "metadata": {},
   "outputs": [
    {
     "data": {
      "text/plain": [
       "array([55596.17204264,     0.        ])"
      ]
     },
     "execution_count": 14,
     "metadata": {},
     "output_type": "execute_result"
    }
   ],
   "source": [
    "runSummary['MJDOn']"
   ]
  },
  {
   "cell_type": "code",
   "execution_count": 16,
   "metadata": {},
   "outputs": [
    {
     "data": {
      "text/plain": [
       "14864.484096"
      ]
     },
     "execution_count": 16,
     "metadata": {},
     "output_type": "execute_result"
    }
   ],
   "source": [
    "0.17204264*86400."
   ]
  },
  {
   "cell_type": "code",
   "execution_count": 17,
   "metadata": {},
   "outputs": [
    {
     "data": {
      "text/plain": [
       "1201.6294175000003"
      ]
     },
     "execution_count": 17,
     "metadata": {},
     "output_type": "execute_result"
    }
   ],
   "source": []
  },
  {
   "cell_type": "code",
   "execution_count": 5,
   "metadata": {
    "collapsed": true
   },
   "outputs": [],
   "source": [
    "eventList = tree2array(f1.Get(\"run_54809/stereo/TreeWithEventsForCtools\"))"
   ]
  },
  {
   "cell_type": "code",
   "execution_count": 15,
   "metadata": {},
   "outputs": [
    {
     "data": {
      "text/plain": [
       "array([14263.5729383, 14265.0786412, 14265.6626184, ..., 15462.3345781,\n",
       "       15464.5196243, 15465.2023558])"
      ]
     },
     "execution_count": 15,
     "metadata": {},
     "output_type": "execute_result"
    }
   ],
   "source": [
    "eventList['timeOfDay']"
   ]
  },
  {
   "cell_type": "code",
   "execution_count": null,
   "metadata": {
    "collapsed": true
   },
   "outputs": [],
   "source": [
    "windowSizeForNoise = 7\n",
    "\n",
    "def decodeConfigMask(mask=15):\n",
    "    '''Decode the telescope config mask to find the telescpes in the array'''\n",
    "    tels = []\n",
    "    if mask >= 8:\n",
    "        tels.append(4)\n",
    "        mask -= 8\n",
    "    if mask >= 4:\n",
    "        tels.append(3)\n",
    "        mask -= 4\n",
    "    if mask >= 2:\n",
    "        tels.append(2)\n",
    "        mask -= 2\n",
    "    if mask >= 1:\n",
    "        tels.append(1)\n",
    "        mask -= 1\n",
    "    return sorted(tels)\n",
    "\n",
    "\n",
    "def produceTelList(mask):\n",
    "    '''Convert the list of telescopes into a string for FITS header'''\n",
    "    telList = \"\"\n",
    "    for tel in decodeConfigMask(mask):\n",
    "        telList += \"T\" + str(tel) + \",\"\n",
    "    return telList[:-1]"
   ]
  },
  {
   "cell_type": "markdown",
   "metadata": {},
   "source": [
    "# File Generation\n",
    "\n",
    "## First we need to generate the primary HDU\n",
    "\n",
    "This contains the information about who wrote the file and the standards that it is written too.\n",
    "The basic header has some information, we need to complete it to have the following\n",
    "\n",
    "<pre>\n",
    "SIMPLE  =                    T / file does conform to FITS standard             \n",
    "BITPIX  =                    8 / number of bits per data pixel                  \n",
    "NAXIS   =                    0 / number of data axes                            \n",
    "EXTEND  =                    T / FITS dataset may contain extensions            \n",
    "COMMENT   FITS (Flexible Image Transport System) format is defined in 'Astronomy\n",
    "COMMENT   and Astrophysics', volume 376, page 359; bibcode: 2001A&A...376..359H \n",
    "TELESCOP= 'VERITAS'            / Telescope                                      \n",
    "LICENSE = '        '           / Copyright (c) 2018,The VERITAS Collaboration     \n",
    "</pre>"
   ]
  },
  {
   "cell_type": "code",
   "execution_count": null,
   "metadata": {
    "collapsed": true
   },
   "outputs": [],
   "source": [
    "i = 3\n",
    "\n",
    "runs = [54809, 57993, 58456, 59523]\n",
    "atms = [21, 22, 21, 21]\n",
    "\n",
    "run = str(runs[i])\n",
    "atm = str(atms[i])\n",
    "st5File = \"VEGAS/\"+run+\".med.ED.050.St5_Stereo.root\"\n",
    "eaFile = \"VEGAS/EA_na\"+atm+\"stan_medPoint_050_ED_GRISU.root\"\n",
    "outfile = 'VEGAS/DL3/'+run+'_DL3.fits'"
   ]
  },
  {
   "cell_type": "code",
   "execution_count": null,
   "metadata": {
    "collapsed": true
   },
   "outputs": [],
   "source": [
    "hdu0 = fits.PrimaryHDU()\n",
    "hdu0.header.set('TELESCOP', 'VERITAS', 'Telescope')\n",
    "hdu0.header.set('LICENSE ', '', 'Copyright (c) 2018,The VERITAS Collaboration')\n",
    "hdu0.header['COMMENT'] = \"FITS (Flexible Image Transport System) format is defined in 'Astronomy\"\n",
    "hdu0.header['COMMENT'] = \"and Astrophysics', volume 376, page 359; bibcode: 2001A&A...376..359H\""
   ]
  },
  {
   "cell_type": "code",
   "execution_count": null,
   "metadata": {
    "collapsed": true
   },
   "outputs": [],
   "source": [
    "hdu0.header"
   ]
  },
  {
   "cell_type": "markdown",
   "metadata": {},
   "source": [
    "## Event Table \n",
    "The second hdu is the event table - this includes all of the events that pass the gamma/hadron selection cuts.\n",
    "\n",
    "To load this we need to read in the VEGAS stage 5 file and select the keys of interest.  Then this can be saved into a table and then the hdu.  \n",
    "\n",
    "We also need to put a lot of information into the header about the observations."
   ]
  },
  {
   "cell_type": "code",
   "execution_count": null,
   "metadata": {
    "collapsed": true
   },
   "outputs": [],
   "source": [
    "vegasFileIO = VARootIO(st5File, True)\n",
    "runHeader = vegasFileIO.loadTheRunHeader()\n",
    "selectedEventsTree = vegasFileIO.loadTheCutEventTree()\n",
    "qStatsData = vegasFileIO.loadTheQStatsData()\n",
    "\n",
    "arrayInfo = vegasFileIO.loadTheArrayInfo(0)\n",
    "pixelData = vegasFileIO.loadThePixelStatusData()"
   ]
  },
  {
   "cell_type": "code",
   "execution_count": null,
   "metadata": {
    "collapsed": true
   },
   "outputs": [],
   "source": [
    "runHeader.printRunHeader()"
   ]
  },
  {
   "cell_type": "code",
   "execution_count": null,
   "metadata": {
    "collapsed": true
   },
   "outputs": [],
   "source": [
    "selectedEventsTree.Print()"
   ]
  },
  {
   "cell_type": "markdown",
   "metadata": {},
   "source": [
    "### First we need to generate an array of the data"
   ]
  },
  {
   "cell_type": "code",
   "execution_count": null,
   "metadata": {
    "collapsed": true
   },
   "outputs": [],
   "source": [
    "evNumArr = []\n",
    "timeArr = []\n",
    "raArr = []\n",
    "decArr = []\n",
    "azArr = []\n",
    "altArr = []\n",
    "energyArr = []\n",
    "detXArr = []\n",
    "detYArr = []\n",
    "nTelArr = []"
   ]
  },
  {
   "cell_type": "markdown",
   "metadata": {},
   "source": [
    "### Now we can populate the array from the ROOT file\n",
    "\n",
    "Note: We also need to save some useful information for the average altitude, azimuth, RA and Dec.\n",
    "\n",
    "I am not sure how best to do the average of the azimuth - I have ignored this for now ..."
   ]
  },
  {
   "cell_type": "code",
   "execution_count": null,
   "metadata": {
    "collapsed": true
   },
   "outputs": [],
   "source": [
    "avAlt = []\n",
    "avAz = []\n",
    "avRA = []\n",
    "avDec = []\n",
    "for ev in selectedEventsTree:\n",
    "    evNumArr.append(ev.S.fArrayEventNum)\n",
    "    timeArr.append(float(ev.S.fTime.getDayNS())/1e9)\n",
    "    raArr.append(np.rad2deg(ev.S.fDirectionRA_J2000_Rad))\n",
    "    decArr.append(np.rad2deg(ev.S.fDirectionDec_J2000_Rad))\n",
    "    azArr.append(np.rad2deg(ev.S.fDirectionAzimuth_Rad))\n",
    "    altArr.append(np.rad2deg(ev.S.fDirectionElevation_Rad))\n",
    "    energyArr.append(ev.S.fEnergy_GeV / 1000.)\n",
    "    detXArr.append(ev.S.fDirectionXCamPlane_Deg)\n",
    "    detYArr.append(ev.S.fDirectionYCamPlane_Deg)\n",
    "    nTelArr.append(ev.S.fImages)\n",
    "    \n",
    "    avAlt.append(ev.S.fArrayTrackingElevation_Deg)\n",
    "    avAz.append(ev.S.fArrayTrackingAzimuth_Deg)\n",
    "    avRA.append(ev.S.fArrayTrackingRA_J2000_Rad)\n",
    "    avDec.append(ev.S.fArrayTrackingDec_J2000_Rad)\n",
    "        \n",
    "avAlt = np.mean(avAlt)\n",
    "avAz = np.mean(avAz)\n",
    "avRA = np.rad2deg(np.mean(avRA))\n",
    "avDec = np.rad2deg(np.mean(avDec))"
   ]
  },
  {
   "cell_type": "markdown",
   "metadata": {},
   "source": [
    "### Now we need to generate an HDU"
   ]
  },
  {
   "cell_type": "code",
   "execution_count": null,
   "metadata": {
    "collapsed": true
   },
   "outputs": [],
   "source": [
    "hdu1 = fits.BinTableHDU.from_columns([\n",
    "    fits.Column(name='EVENT_ID', format='1J', array=evNumArr), \n",
    "    fits.Column(name='TIME', format='1D', array=timeArr, unit=\"s\"), \n",
    "    fits.Column(name='RA', format='1E', array=raArr, unit = \"deg\"), \n",
    "    fits.Column(name='DEC', format='1E', array=decArr, unit = \"deg\"), \n",
    "    fits.Column(name='ALT', format='1E', array=altArr, unit = \"deg\"), \n",
    "    fits.Column(name='AZ', format='1E', array=azArr, unit = \"deg\"), \n",
    "    fits.Column(name='ENERGY', format='1E', array=energyArr, unit = \"TeV\"), \n",
    "    fits.Column(name='DETX', format='1E', array=detXArr, unit = \"deg\"), \n",
    "    fits.Column(name='DETY', format='1E', array=detYArr, unit = \"deg\"),\n",
    "    fits.Column(name=\"EVENT_TYPE\", format=\"1J\", array=nTelArr)\n",
    "])\n",
    "hdu1.name = \"EVENTS\""
   ]
  },
  {
   "cell_type": "markdown",
   "metadata": {},
   "source": [
    "### Header Information"
   ]
  },
  {
   "cell_type": "code",
   "execution_count": null,
   "metadata": {
    "collapsed": true
   },
   "outputs": [],
   "source": [
    "hdu1.header.set('OBS_ID  ', runHeader.getRunNumber(), 'Run Number')\n",
    "hdu1.header.set('TELESCOP', 'VERITAS', 'Data from VERITAS')\n",
    "\n",
    "startTime = runHeader.getStartTime()\n",
    "endTime = runHeader.getEndTime()\n",
    "\n",
    "startTime_s = float(startTime.getDayNS()) / 1e9\n",
    "endTime_s = float(endTime.getDayNS()) / 1e9\n",
    "hdu1.header.set('DATE-OBS',\n",
    "                startTime.getString().split()[0],\n",
    "                'start date (UTC) of obs yy-mm-dd')\n",
    "hdu1.header.set('TIME-OBS',\n",
    "                startTime.getString().split()[1],\n",
    "                'start time (UTC) of obs hh-mm-ss')\n",
    "hdu1.header.set('DATE-END',\n",
    "                endTime.getString().split()[0],\n",
    "                'end date (UTC) of obs yy-mm-dd')\n",
    "hdu1.header.set('TIME-END',\n",
    "                endTime.getString().split()[1],\n",
    "                'end time (UTC) of obs hh-mm-ss')\n",
    "\n",
    "hdu1.header.set('TSTART  ',\n",
    "                startTime_s,\n",
    "                'mission time of start of obs [s]')\n",
    "hdu1.header.set('TSTOP   ',\n",
    "                endTime_s,\n",
    "                'mission time of end of obs [s]')\n",
    "hdu1.header.set('MJDREFI ',\n",
    "                int(startTime.getMJDInt()), 'int part of reference MJD [days]')\n",
    "hdu1.header.set('MJDREFF ', 0., 'fractional part of reference MJD [days]')\n",
    "\n",
    "hdu1.header.set('TIMEUNIT', 's', 'time unit is seconds since MET start')\n",
    "hdu1.header.set('TIMESYS ', 'utc', 'time scale is UTC')\n",
    "hdu1.header.set('TIMEREF ', 'local', 'local time reference')\n",
    "\n",
    "hdu1.header.set('ONTIME  ', \n",
    "                endTime_s - startTime_s,\n",
    "                'time on target (including deadtime)')\n",
    "hdu1.header.set('LIVETIME', runHeader.pfRunDetails.fRunNominalLiveTimeSeconds,\n",
    "                '(dead=ONTIME-LIVETIME) [s] ')\n",
    "hdu1.header.set('DEADC   ', runHeader.getLiveTimeFrac(),\n",
    "                'average deadtime fraction [] ')\n",
    "\n",
    "hdu1.header.set('OBJECT  ', runHeader.getSourceId(), 'observed object')\n",
    "\n",
    "hdu1.header.set('RA_PNT  ', avRA, 'observation position RA [deg]')\n",
    "hdu1.header.set('DEC_PNT ', avDec, 'observation position DEC [deg]')\n",
    "hdu1.header.set('ALT_PNT ', avAlt, 'average altitude of pointing [deg]')\n",
    "hdu1.header.set('AZ_PNT  ', avAz, 'average azimuth of pointing [deg]')\n",
    "\n",
    "hdu1.header.set('RA_OBJ  ',\n",
    "                np.rad2deg(runHeader.getSourceRA()),\n",
    "                'observation position RA [deg]')\n",
    "hdu1.header.set('DEC_OBJ ',\n",
    "                np.rad2deg(runHeader.getSourceDec()),\n",
    "                'observation position DEC [deg]')\n",
    "\n",
    "# get the list of telescopes that participate in the event\n",
    "hdu1.header.set('TELLIST',\n",
    "                produceTelList(runHeader.fRunInfo.fConfigMask),\n",
    "                'comma-separated list of tel IDs')\n",
    "hdu1.header.set('N_TELS', runHeader.pfRunDetails.fTels,\n",
    "                'number of telescopes in event list')\n",
    "\n",
    "# other info - weather? pointing mode\n",
    "\n",
    "hdu1.header.set('EUNIT   ', 'TeV', 'energy unit')\n",
    "hdu1.header.set('GEOLAT  ', np.rad2deg(arrayInfo.longitudeRad()), 'longitude of array center [deg]')\n",
    "hdu1.header.set('GEOLON  ', np.rad2deg(arrayInfo.latitudeRad()), 'latitude of array center [deg]')\n",
    "hdu1.header.set('ALTITUDE', arrayInfo.elevationM(), 'altitude of array center [m]')\n",
    "\n",
    "# What are these for? - May note be needed, leave out for now.\n",
    "# hdu1.header.set('DSTYP1', 'TIME    ', 'Data selection type')\n",
    "# hdu1.header.set('DSUNI1', 's       ', 'Data selection unit')\n",
    "# hdu1.header.set('DSVAL1', 'TABLE   ', 'Data selection value')\n",
    "# hdu1.header.set('DSREF1', ':GTI    ', 'Data selection reference')\n",
    "# hdu1.header.set('DSTYP2', 'POS(RA,DEC)', 'Data selection type')\n",
    "# hdu1.header.set('DSUNI2', 'deg     ', 'Data selection unit')\n",
    "# hdu1.header.set('DSVAL2', 'CIRCLE(83.63,22.01,5)', 'Data selection value')\n",
    "# hdu1.header.set('DSTYP3', 'ENERGY  ', 'Data selection type')\n",
    "# hdu1.header.set('DSUNI3', 'TeV     ', 'Data selection unit')\n",
    "# hdu1.header.set('DSVAL3', '0.05:100', 'Data selection value')\n",
    "# hdu1.header.set('NDSKEYS', '3       ', 'Number of data selections')\n",
    "# hdu1.header"
   ]
  },
  {
   "cell_type": "markdown",
   "metadata": {},
   "source": [
    "## Good Time Intervals (GTI)"
   ]
  },
  {
   "cell_type": "code",
   "execution_count": null,
   "metadata": {
    "collapsed": true
   },
   "outputs": [],
   "source": [
    "goodTimeStart = []\n",
    "goodTimeStop = []\n",
    "\n",
    "goodTimeStart.append(startTime_s)\n",
    "goodTimeStop.append(endTime_s)"
   ]
  },
  {
   "cell_type": "code",
   "execution_count": null,
   "metadata": {
    "collapsed": true
   },
   "outputs": [],
   "source": [
    "# do we record the unit in this table as well? (it is in seconds)\n",
    "\n",
    "hdu2 = fits.BinTableHDU.from_columns([\n",
    "    fits.Column(name='START', format='1D', array=goodTimeStart), \n",
    "    fits.Column(name='STOP', format='1D', array=goodTimeStop)\n",
    "])\n",
    "hdu2.name = \"GTI\"\n",
    "hdu2.header"
   ]
  },
  {
   "cell_type": "markdown",
   "metadata": {},
   "source": [
    "## Effective Area\n",
    "\n",
    "Question - what do we need to do about sim vs real spectral index?"
   ]
  },
  {
   "cell_type": "markdown",
   "metadata": {},
   "source": [
    "### First we need to load the EA file"
   ]
  },
  {
   "cell_type": "code",
   "execution_count": null,
   "metadata": {
    "collapsed": true
   },
   "outputs": [],
   "source": [
    "effectiveAreaIO = VARootIO(eaFile, True)\n",
    "effectiveAreaIO.loadTheRootFile()"
   ]
  },
  {
   "cell_type": "markdown",
   "metadata": {},
   "source": [
    "### Then we need to load the Effective Area"
   ]
  },
  {
   "cell_type": "code",
   "execution_count": null,
   "metadata": {
    "collapsed": true
   },
   "outputs": [],
   "source": [
    "effectiveAreaManager = VAEffectiveAreaManager()\n",
    "effectiveAreaManager.loadEffectiveAreas(effectiveAreaIO)\n",
    "effectiveAreaManager.setUseReconstructedEnergy(False)"
   ]
  },
  {
   "cell_type": "markdown",
   "metadata": {},
   "source": [
    "### Calculate Average Noise of run"
   ]
  },
  {
   "cell_type": "code",
   "execution_count": null,
   "metadata": {
    "collapsed": true
   },
   "outputs": [],
   "source": [
    "avNoise = 0\n",
    "nTels = 0\n",
    "for telID in decodeConfigMask(runHeader.fRunInfo.fConfigMask):\n",
    "    avNoise += qStatsData.getCameraAverageTraceVarTimeIndpt(telID-1, windowSizeForNoise, pixelData, arrayInfo)\n",
    "    nTels += 1\n",
    "\n",
    "avNoise /= nTels"
   ]
  },
  {
   "cell_type": "markdown",
   "metadata": {},
   "source": [
    "### Set the EA parameters"
   ]
  },
  {
   "cell_type": "code",
   "execution_count": null,
   "metadata": {
    "collapsed": true
   },
   "outputs": [],
   "source": [
    "effectiveAreaParameters = VAEASimpleParameterData()\n",
    "effectiveAreaParameters.fAzimuth = (avAz)\n",
    "effectiveAreaParameters.fZenith = (90. - avAlt)\n",
    "effectiveAreaParameters.fNoise = avNoise # this still needs to be worked out\n",
    "effectiveAreaParameters.fOffset = 0.5 # itterate over this in steps? (0.5deg as for sims?)\n",
    "\n",
    "# convert to vector of parameters since this is required for a number of steps\n",
    "effectiveAreaParameters = effectiveAreaManager.getVectorParamsFromSimpleParameterData(effectiveAreaParameters)\n"
   ]
  },
  {
   "cell_type": "markdown",
   "metadata": {},
   "source": [
    "### Get the EA"
   ]
  },
  {
   "cell_type": "code",
   "execution_count": null,
   "metadata": {
    "collapsed": true
   },
   "outputs": [],
   "source": [
    "effectiveArea = effectiveAreaManager.getEffectiveAreaCurve(effectiveAreaParameters)"
   ]
  },
  {
   "cell_type": "markdown",
   "metadata": {},
   "source": [
    "### Lets Check by Plotting"
   ]
  },
  {
   "cell_type": "code",
   "execution_count": null,
   "metadata": {
    "collapsed": true
   },
   "outputs": [],
   "source": [
    "x, y, ye = [], [], []\n",
    "for i in range(effectiveArea.GetN()):\n",
    "    tmpX, tmpY = ROOT.Double(0), ROOT.Double(0)\n",
    "    effectiveArea.GetPoint(i, tmpX, tmpY)\n",
    "    ye.append(effectiveArea.GetErrorY(i))\n",
    "    effectiveArea.GetErrorX\n",
    "    x.append(tmpX)\n",
    "    y.append(tmpY)\n",
    "        \n",
    "x = np.array(x)\n",
    "y = np.array(y)\n",
    "ye = np.array(ye)"
   ]
  },
  {
   "cell_type": "code",
   "execution_count": null,
   "metadata": {
    "collapsed": true
   },
   "outputs": [],
   "source": [
    "# this can be removed from the later code but is good for checking\n",
    "plt.errorbar(x, y, yerr = ye, ls = \"\", marker = \"_\")\n",
    "plt.semilogy()"
   ]
  },
  {
   "cell_type": "code",
   "execution_count": null,
   "metadata": {
    "collapsed": true
   },
   "outputs": [],
   "source": [
    "energyLow = np.power(10, x - (x[1] - x[0])/2.)\n",
    "energyHigh = np.power(10, x + (x[1] - x[0])/2.)\n",
    "thetaLow = [0.0, 1.0]\n",
    "thetaHigh = [1.0, 2.0]\n",
    "# ea = np.vstack((y, y))\n",
    "ea = [y,y]\n",
    "minEnergy , maxEnergy = c_float(), c_float()\n",
    "effectiveAreaManager.getSafeEnergyRange(effectiveAreaParameters, 0.5, minEnergy, maxEnergy)"
   ]
  },
  {
   "cell_type": "code",
   "execution_count": null,
   "metadata": {
    "collapsed": true
   },
   "outputs": [],
   "source": [
    "x = np.array([(energyLow, energyHigh, thetaLow, thetaHigh, ea)], \n",
    "             dtype=[('ENERG_LO', '>f4', np.shape(energyLow)), \n",
    "                    ('ENERG_HI', '>f4', np.shape(energyHigh)), \n",
    "                    ('THETA_LO', '>f4', np.shape(thetaLow)), \n",
    "                    ('THETA_HI', '>f4', np.shape(thetaHigh)), \n",
    "                    ('EFFAREA', '>f4', np.shape(ea))])"
   ]
  },
  {
   "cell_type": "code",
   "execution_count": null,
   "metadata": {
    "collapsed": true
   },
   "outputs": [],
   "source": [
    "hdu3 = fits.BinTableHDU(data=x)\n",
    "hdu3.name = \"EFFECTIVE AREA\"\n",
    "\n",
    "hdu3.header.set('TUNIT1 ', 'TeV', \"\")\n",
    "hdu3.header.set('TUNIT2 ', 'TeV', \"\")\n",
    "hdu3.header.set('TUNIT3 ', 'deg', \"\")\n",
    "hdu3.header.set('TUNIT4 ', 'deg', \"\")\n",
    "hdu3.header.set('TUNIT5 ', 'm^2', \"\")\n",
    "\n",
    "hdu3.header.set('HDUCLASS', 'GADF',\n",
    "                'FITS file following the GADF data format.')\n",
    "hdu3.header.set('HDUCLAS1', 'RESPONSE', 'HDU class')\n",
    "hdu3.header.set('HDUCLAS2', 'EFF_AREA', 'HDU class')\n",
    "hdu3.header.set('HDUCLAS3', 'POINT-LIKE', 'HDU class')\n",
    "hdu3.header.set('HDUCLAS4', 'AEFF_2D', 'HDU class')\n",
    "hdu3.header.set('LO_THRES', minEnergy.value/1000.,\n",
    "                'Low energy threshold of validity [TeV]')\n",
    "hdu3.header.set('HI_THRES', maxEnergy.value/1000.,\n",
    "                'High energy threshold of validity [TeV]')\n",
    "hdu3.header.set('RAD_MAX ', 0.1, 'Direction cut applied [deg]')\n",
    "\n",
    "hdu3.columns"
   ]
  },
  {
   "cell_type": "code",
   "execution_count": null,
   "metadata": {
    "collapsed": true
   },
   "outputs": [],
   "source": [
    "hdu3.header"
   ]
  },
  {
   "cell_type": "markdown",
   "metadata": {},
   "source": [
    "## Migration Matrix\n",
    "We want to get pfEnergy_Rec_VS_MC_2D for the correct parameters.\n",
    "\n",
    "This could be done with a getter within VEGAS - lets try that first!"
   ]
  },
  {
   "cell_type": "code",
   "execution_count": null,
   "metadata": {
    "collapsed": true
   },
   "outputs": [],
   "source": [
    "a, e = hist2array(effectiveAreaManager.getEnergyBias2D(effectiveAreaParameters), return_edges=True)"
   ]
  },
  {
   "cell_type": "code",
   "execution_count": null,
   "metadata": {
    "collapsed": true
   },
   "outputs": [],
   "source": [
    "eLow = np.power(10, [e[0][:-1]])[0]\n",
    "eHigh = np.power(10, [e[0][1:]])[0]\n",
    "\n",
    "bLow = np.power(10, [e[1][:-1]])[0]\n",
    "bHigh = np.power(10, [e[1][1:]])[0]\n",
    "\n",
    "ac = []\n",
    "for aa in a:\n",
    "    if np.sum(aa) > 0:\n",
    "        ab = aa / np.sum(aa*(bHigh - bLow))\n",
    "    else:\n",
    "        ab = aa\n",
    "    try:\n",
    "        ac = np.vstack((ac, ab))\n",
    "    except:\n",
    "        ac = ab\n",
    "        \n",
    "ac = ac.transpose()"
   ]
  },
  {
   "cell_type": "code",
   "execution_count": null,
   "metadata": {
    "collapsed": true
   },
   "outputs": [],
   "source": [
    "# again good for checking - will delete later\n",
    "plt.imshow(np.log10(ac))\n",
    "plt.colorbar()"
   ]
  },
  {
   "cell_type": "code",
   "execution_count": null,
   "metadata": {
    "collapsed": true
   },
   "outputs": [],
   "source": [
    "x = np.array([(eLow, eHigh, bLow, bHigh, [0, 1.0], [1.0, 2.0], [ac, ac])], \n",
    "             dtype=[('ETRUE_LO', '>f4', (len(eLow),)), \n",
    "                    ('ETRUE_HI', '>f4', (len(eHigh),)), \n",
    "                    ('MIGRA_LO', '>f4', (len(bLow),)), \n",
    "                    ('MIGRA_HI', '>f4', (len(bLow),)), \n",
    "                    ('THETA_LO', '>f4', (2,)), \n",
    "                    ('THETA_HI', '>f4', (2,)), \n",
    "                    ('MATRIX', '>f4', (2, np.shape(ac)[0], np.shape(ac)[1]))])\n",
    "\n",
    "hdu4 = fits.BinTableHDU(data=x)\n",
    "hdu4.name = \"ENERGY DISPERSION\"\n",
    "\n",
    "hdu4.header.set('TUNIT1 ', 'TeV', \"\")\n",
    "hdu4.header.set('TUNIT2 ', 'TeV', \"\")\n",
    "hdu4.header.set('TUNIT5 ', 'deg', \"\")\n",
    "hdu4.header.set('TUNIT6 ', 'deg', \"\")\n",
    "# hdu3.header.set('TUNIT5 ', 'm^2', \"\")\n",
    "\n",
    "hdu4.header.set('HDUCLASS', 'GADF',\n",
    "                'FITS file following the GADF data format.')\n",
    "hdu4.header.set('HDUCLAS1', 'RESPONSE', 'HDU class')\n",
    "hdu4.header.set('HDUCLAS2', 'EDISP', 'HDU class')\n",
    "hdu4.header.set('HDUCLAS3', 'POINT-LIKE', 'HDU class')\n",
    "hdu4.header.set('HDUCLAS4', 'EDISP_2D', 'HDU class')\n",
    "hdu4.header.set('LO_THRES', minEnergy.value/1000.,\n",
    "                'Low energy threshold of validity [TeV]')\n",
    "hdu4.header.set('HI_THRES', maxEnergy.value/1000.,\n",
    "                'High energy threshold of validity [TeV]')\n",
    "hdu4.header.set('RAD_MAX ', 0.1, 'Direction cut applied [deg]')\n",
    "\n",
    "hdu4.columns"
   ]
  },
  {
   "cell_type": "code",
   "execution_count": null,
   "metadata": {
    "collapsed": true
   },
   "outputs": [],
   "source": [
    "hdu4.header"
   ]
  },
  {
   "cell_type": "markdown",
   "metadata": {},
   "source": [
    "## Write FITS file"
   ]
  },
  {
   "cell_type": "code",
   "execution_count": null,
   "metadata": {
    "collapsed": true
   },
   "outputs": [],
   "source": [
    "hdulist = fits.HDUList([hdu0, hdu1, hdu2, hdu3, hdu4])\n",
    "hdulist.writeto(outfile, overwrite=True)"
   ]
  },
  {
   "cell_type": "code",
   "execution_count": null,
   "metadata": {
    "collapsed": true
   },
   "outputs": [],
   "source": []
  }
 ],
 "metadata": {
  "kernelspec": {
   "display_name": "Python 2",
   "language": "python",
   "name": "python2"
  },
  "language_info": {
   "codemirror_mode": {
    "name": "ipython",
    "version": 2
   },
   "file_extension": ".py",
   "mimetype": "text/x-python",
   "name": "python",
   "nbconvert_exporter": "python",
   "pygments_lexer": "ipython2",
   "version": "2.7.15"
  }
 },
 "nbformat": 4,
 "nbformat_minor": 2
}
