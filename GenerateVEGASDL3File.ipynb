{
 "cells": [
  {
   "cell_type": "code",
   "execution_count": 83,
   "metadata": {},
   "outputs": [
    {
     "name": "stdout",
     "output_type": "stream",
     "text": [
      "Populating the interactive namespace from numpy and matplotlib\n"
     ]
    }
   ],
   "source": [
    "%pylab inline --no-import-all\n",
    "\n",
    "# import numpy as np\n",
    "from astropy.io import fits\n",
    "\n",
    "from ctypes import c_float\n",
    "\n",
    "from root_numpy import hist2array"
   ]
  },
  {
   "cell_type": "markdown",
   "metadata": {},
   "source": [
    "# First we need to generate the primary HDU\n",
    "\n",
    "This contains the information about who wrote the file and the standards that it is written too.\n",
    "The basic header has some information, we need to complete it to have the following\n",
    "\n",
    "<pre>\n",
    "SIMPLE  =                    T / file does conform to FITS standard             \n",
    "BITPIX  =                    8 / number of bits per data pixel                  \n",
    "NAXIS   =                    0 / number of data axes                            \n",
    "EXTEND  =                    T / FITS dataset may contain extensions            \n",
    "COMMENT   FITS (Flexible Image Transport System) format is defined in 'Astronomy\n",
    "COMMENT   and Astrophysics', volume 376, page 359; bibcode: 2001A&A...376..359H \n",
    "TELESCOP= 'VERITAS'            / Telescope                                      \n",
    "LICENSE = '        '           / Copyright (c) 2018,The VERITAS Collaboration     \n",
    "</pre>"
   ]
  },
  {
   "cell_type": "code",
   "execution_count": 84,
   "metadata": {},
   "outputs": [],
   "source": [
    "st5File = \"VEGAS/87658.med.ED.All.St5_Stereo.root\"\n",
    "eaFile = \"VEGAS/EA_ua22stan_medPoint_050_ED_GRISU.root\"\n",
    "outfile = 'VEGAS/87658_DL3.fits'"
   ]
  },
  {
   "cell_type": "code",
   "execution_count": 85,
   "metadata": {},
   "outputs": [],
   "source": [
    "hdu0 = fits.PrimaryHDU()\n",
    "hdu0.header.set('TELESCOP', 'VERITAS', 'Telescope')\n",
    "hdu0.header.set('LICENSE ', '', 'Copyright (c) 2018,The VERITAS Collaboration')\n",
    "hdu0.header['COMMENT'] = \"FITS (Flexible Image Transport System) format is defined in 'Astronomy\"\n",
    "hdu0.header['COMMENT'] = \"and Astrophysics', volume 376, page 359; bibcode: 2001A&A...376..359H\""
   ]
  },
  {
   "cell_type": "code",
   "execution_count": 86,
   "metadata": {},
   "outputs": [
    {
     "data": {
      "text/plain": [
       "SIMPLE  =                    T / conforms to FITS standard                      \n",
       "BITPIX  =                    8 / array data type                                \n",
       "NAXIS   =                    0 / number of array dimensions                     \n",
       "EXTEND  =                    T                                                  \n",
       "TELESCOP= 'VERITAS '           / Telescope                                      \n",
       "LICENSE = '' / Copyright (c) 2018,The VERITAS Collaboration                     \n",
       "COMMENT FITS (Flexible Image Transport System) format is defined in 'Astronomy  \n",
       "COMMENT and Astrophysics', volume 376, page 359; bibcode: 2001A&A...376..359H   "
      ]
     },
     "execution_count": 86,
     "metadata": {},
     "output_type": "execute_result"
    }
   ],
   "source": [
    "hdu0.header"
   ]
  },
  {
   "cell_type": "markdown",
   "metadata": {},
   "source": [
    "# Event Table \n",
    "The second hdu is the event table - this includes all of the events that pass the gamma/hadron selection cuts.\n",
    "\n",
    "To load this we need to read in the VEGAS stage 5 file and select the keys of interest.  Then this can be saved into a table and then the hdu.  \n",
    "\n",
    "We also need to put a lot of information into the header about the observations."
   ]
  },
  {
   "cell_type": "code",
   "execution_count": 87,
   "metadata": {},
   "outputs": [],
   "source": [
    "import ROOT\n",
    "from ROOT import gSystem, TFile"
   ]
  },
  {
   "cell_type": "code",
   "execution_count": 88,
   "metadata": {},
   "outputs": [],
   "source": [
    "if gSystem.Load(\"libVEGASCommon\"):\n",
    "    print \"Problem loading VEGAS libraries - please check this before proceeding\""
   ]
  },
  {
   "cell_type": "code",
   "execution_count": 89,
   "metadata": {},
   "outputs": [],
   "source": [
    "vegasFile = TFile(st5File, \"read\")\n",
    "selectedEventsTree = vegasFile.Get(\"SelectedEvents/ShowerEventsTree\")\n",
    "runHeader = vegasFile.Get('RunHeader/VARunHeader')"
   ]
  },
  {
   "cell_type": "code",
   "execution_count": 90,
   "metadata": {},
   "outputs": [
    {
     "name": "stdout",
     "output_type": "stream",
     "text": [
      "Run Number             : 87658\n",
      "Run Start Time         : 2017-10-28 10:39:49.000000000\n",
      "Run End Time           : 2017-10-28 11:09:49.000000000\n",
      "Run Duration (min:sec) : 30:00 (this should be to the nearest second)\n",
      "NominalLiveTime (seconds) : 1543.3\n",
      "CutLiveTime (seconds) : 1543.3\n",
      "Num Tels In Sub Array    : 4\n",
      "Sub Array Telescopes used:T1 T2 T3 T4 \n",
      "Num Samples Per Tel    : 16 16 16 16\n",
      "Source information from DB:\n",
      "\t Source : Crab\n",
      "\t RA \t: 1.45968 [radians]\n",
      "\t Dec \t: 0.384225 [radians]\n",
      "\t epoch \t: 2000 \n",
      "Run information as recorded to DB:\n",
      "\t Weather \t: A-\n",
      "\t Observing Mode : wobble\n",
      "\t Source \t: Crab\n",
      "\t OffsetRA \t: 0 [radians]\n",
      "\t OffsetDec \t: 0.00872665 [radians]\n",
      "\n"
     ]
    }
   ],
   "source": [
    "runHeader.printRunHeader()"
   ]
  },
  {
   "cell_type": "code",
   "execution_count": 91,
   "metadata": {},
   "outputs": [
    {
     "name": "stdout",
     "output_type": "stream",
     "text": [
      "******************************************************************************\n",
      "*Tree    :ShowerEventsTree: Cut VAShowerData Parameters                            *\n",
      "*Entries :     2416 : Total =          830316 bytes  File  Size =     528757 *\n",
      "*        :          : Tree compression factor =   1.57                       *\n",
      "******************************************************************************\n",
      "*Br    0 :S         : VAShowerData                                           *\n",
      "*Entries :     2416 : Total  Size=     829862 bytes  File Size  =     527844 *\n",
      "*Baskets :       53 : Basket Size=      16000 bytes  Compression=   1.57     *\n",
      "*............................................................................*\n"
     ]
    }
   ],
   "source": [
    "selectedEventsTree.Print()"
   ]
  },
  {
   "cell_type": "markdown",
   "metadata": {},
   "source": [
    "## First we need to generate an array of the data"
   ]
  },
  {
   "cell_type": "code",
   "execution_count": 92,
   "metadata": {},
   "outputs": [],
   "source": [
    "evNumArr = []\n",
    "timeArr = []\n",
    "raArr = []\n",
    "decArr = []\n",
    "azArr = []\n",
    "altArr = []\n",
    "energyArr = []\n",
    "detXArr = []\n",
    "detYArr = []"
   ]
  },
  {
   "cell_type": "markdown",
   "metadata": {},
   "source": [
    "## Now we can populate the array from the ROOT file\n",
    "\n",
    "Note: We also need to save some useful information for the average altitude, azimuth, RA and Dec.\n",
    "\n",
    "I am not sure how best to do the average of the azimuth - I have ignored this for now ..."
   ]
  },
  {
   "cell_type": "code",
   "execution_count": 93,
   "metadata": {},
   "outputs": [],
   "source": [
    "avAlt = []\n",
    "avAz = []\n",
    "avRA = []\n",
    "avDec = []\n",
    "avNoise = 4.2\n",
    "for ev in selectedEventsTree:\n",
    "    evNumArr.append(ev.S.fArrayEventNum)\n",
    "    timeArr.append(float(ev.S.fTime.getDayNS())/1e9)\n",
    "    raArr.append(np.rad2deg(ev.S.fDirectionRA_J2000_Rad))\n",
    "    decArr.append(np.rad2deg(ev.S.fDirectionDec_J2000_Rad))\n",
    "    azArr.append(np.rad2deg(ev.S.fDirectionAzimuth_Rad))\n",
    "    altArr.append(np.rad2deg(ev.S.fDirectionElevation_Rad))\n",
    "    energyArr.append(ev.S.fEnergy_GeV / 1000.)\n",
    "    detXArr.append(ev.S.fDirectionXCamPlane_Deg)\n",
    "    detYArr.append(ev.S.fDirectionYCamPlane_Deg)\n",
    "    \n",
    "    avAlt.append(ev.S.fArrayTrackingElevation_Deg)\n",
    "    avAz.append(ev.S.fArrayTrackingAzimuth_Deg)\n",
    "    avRA.append(ev.S.fArrayTrackingRA_J2000_Rad)\n",
    "    avDec.append(ev.S.fArrayTrackingDec_J2000_Rad)\n",
    "    \n",
    "#     avNoise += ev.S.f\n",
    "    \n",
    "# numEv = selectedEventsTree.GetEntriesFast()\n",
    "# print avAlt, avAz, avRA, avDec\n",
    "\n",
    "avAlt = np.mean(avAlt)\n",
    "avAz = np.mean(avAz)\n",
    "avRA = np.rad2deg(np.mean(avRA))\n",
    "avDec = np.rad2deg(np.mean(avDec))\n",
    "# avNoise = avNoise/numEv\n",
    "\n",
    "# print avAlt, avAz, avRA, avDec"
   ]
  },
  {
   "cell_type": "markdown",
   "metadata": {},
   "source": [
    "## Now we need to generate an HDU"
   ]
  },
  {
   "cell_type": "code",
   "execution_count": 94,
   "metadata": {},
   "outputs": [],
   "source": [
    "hdu1 = fits.BinTableHDU.from_columns([\n",
    "    fits.Column(name='EVENT_ID', format='1J', array=evNumArr), \n",
    "    fits.Column(name='TIME', format='1D', array=timeArr, unit=\"s\"), \n",
    "    fits.Column(name='RA', format='1E', array=raArr, unit = \"deg\"), \n",
    "    fits.Column(name='DEC', format='1E', array=decArr, unit = \"deg\"), \n",
    "    fits.Column(name='ALT', format='1E', array=altArr, unit = \"deg\"), \n",
    "    fits.Column(name='AZ', format='1E', array=azArr, unit = \"deg\"), \n",
    "    fits.Column(name='ENERGY', format='1E', array=energyArr, unit = \"TeV\"), \n",
    "    fits.Column(name='DETX', format='1E', array=detXArr, unit = \"deg\"), \n",
    "    fits.Column(name='DETY', format='1E', array=detYArr, unit = \"deg\")\n",
    "])\n",
    "hdu1.name = \"EVENTS\""
   ]
  },
  {
   "cell_type": "markdown",
   "metadata": {},
   "source": [
    "## Header Information"
   ]
  },
  {
   "cell_type": "code",
   "execution_count": 95,
   "metadata": {},
   "outputs": [],
   "source": [
    "def decodeConfigMask(mask=15):\n",
    "    '''Decode the telescope config mask to find the telescpes in the array'''\n",
    "    tels = []\n",
    "    if mask >= 8:\n",
    "        tels.append(4)\n",
    "        mask -= 8\n",
    "    if mask >= 4:\n",
    "        tels.append(3)\n",
    "        mask -= 4\n",
    "    if mask >= 2:\n",
    "        tels.append(2)\n",
    "        mask -= 2\n",
    "    if mask >= 1:\n",
    "        tels.append(1)\n",
    "        mask -= 1\n",
    "    return sorted(tels)\n",
    "\n",
    "\n",
    "def produceTelList(mask):\n",
    "    '''Convert the list of telescopes into a string for FITS header'''\n",
    "    telList = \"\"\n",
    "    for tel in decodeConfigMask(mask):\n",
    "        telList += \"T\" + str(tel) + \",\"\n",
    "    return telList"
   ]
  },
  {
   "cell_type": "code",
   "execution_count": 96,
   "metadata": {},
   "outputs": [
    {
     "data": {
      "text/plain": [
       "XTENSION= 'BINTABLE'           / binary table extension                         \n",
       "BITPIX  =                    8 / array data type                                \n",
       "NAXIS   =                    2 / number of array dimensions                     \n",
       "NAXIS1  =                   40 / length of dimension 1                          \n",
       "NAXIS2  =                 2416 / length of dimension 2                          \n",
       "PCOUNT  =                    0 / number of group parameters                     \n",
       "GCOUNT  =                    1 / number of groups                               \n",
       "TFIELDS =                    9 / number of table fields                         \n",
       "TTYPE1  = 'EVENT_ID'                                                            \n",
       "TFORM1  = '1J      '                                                            \n",
       "TTYPE2  = 'TIME    '                                                            \n",
       "TFORM2  = '1D      '                                                            \n",
       "TUNIT2  = 's       '                                                            \n",
       "TTYPE3  = 'RA      '                                                            \n",
       "TFORM3  = '1E      '                                                            \n",
       "TUNIT3  = 'deg     '                                                            \n",
       "TTYPE4  = 'DEC     '                                                            \n",
       "TFORM4  = '1E      '                                                            \n",
       "TUNIT4  = 'deg     '                                                            \n",
       "TTYPE5  = 'ALT     '                                                            \n",
       "TFORM5  = '1E      '                                                            \n",
       "TUNIT5  = 'deg     '                                                            \n",
       "TTYPE6  = 'AZ      '                                                            \n",
       "TFORM6  = '1E      '                                                            \n",
       "TUNIT6  = 'deg     '                                                            \n",
       "TTYPE7  = 'ENERGY  '                                                            \n",
       "TFORM7  = '1E      '                                                            \n",
       "TUNIT7  = 'TeV     '                                                            \n",
       "TTYPE8  = 'DETX    '                                                            \n",
       "TFORM8  = '1E      '                                                            \n",
       "TUNIT8  = 'deg     '                                                            \n",
       "TTYPE9  = 'DETY    '                                                            \n",
       "TFORM9  = '1E      '                                                            \n",
       "TUNIT9  = 'deg     '                                                            \n",
       "EXTNAME = 'EVENTS  '           / extension name                                 \n",
       "OBS_ID  =                87658 / Run Number                                     \n",
       "TELESCOP= 'VERITAS '           / Data from VERITAS                              \n",
       "DATE-OBS= '2017-10-28'         / start date (UTC) of obs yy-mm-dd               \n",
       "TIME-OBS= '10:39:49.000000000' / start time (UTC) of obs hh-mm-ss               \n",
       "DATE-END= '2017-10-28'         / end date (UTC) of obs yy-mm-dd                 \n",
       "TIME-END= '11:09:49.000000000' / end time (UTC) of obs hh-mm-ss                 \n",
       "TSTART  =              38389.0 / mission time of start of obs [s]               \n",
       "TSTOP   =              40189.0 / mission time of end of obs [s]                 \n",
       "MJDREFI =                58054 / int part of reference MJD [days]               \n",
       "MJDREFF =                  0.0 / fractional part of reference MJD [days]        \n",
       "TIMEUNIT= 's       '           / time unit is seconds since MET start           \n",
       "TIMESYS = 'utc     '           / time scale is UTC                              \n",
       "TIMEREF = 'local   '           / local time reference                           \n",
       "ONTIME  =               1800.0 / time on target (including deadtime)            \n",
       "LIVETIME=         1543.3005563 / (dead=ONTIME-LIVETIME) [s]                     \n",
       "DEADC   =   0.8573891979444446 / average deadtime fraction []                   \n",
       "OBJECT  = 'Crab    '           / observed object                                \n",
       "RA_PNT  =    83.64074919533704 / observation position RA [deg]                  \n",
       "DEC_PNT =     22.5144671286311 / observation position DEC [deg]                 \n",
       "ALT_PNT =    79.38841554818563 / average altitude of pointing [deg]             \n",
       "AZ_PNT  =                  0.0 / average azimuth of pointing [deg]              \n",
       "RA_OBJ  =       83.63333046211 / observation position RA [deg]                  \n",
       "DEC_OBJ =    22.01447150632731 / observation position DEC [deg]                 \n",
       "TELLIST = 'T1,T2,T3,T4,'       / comma-separated list of tel IDs                \n",
       "N_TELS  =                    4 / number of telescopes in event list             \n",
       "EUNIT   = 'TeV     '           / energy unit                                    \n",
       "GEOLAT  =              31.6751 / longitude of array center [deg]                \n",
       "GEOLON  =             -110.952 / latitude of array center [deg]                 \n",
       "ALTITUDE=                 1268 / altitude of array center [m]                   \n",
       "DSTYP1  = 'TIME    '           / Data selection type                            \n",
       "DSUNI1  = 's       '           / Data selection unit                            \n",
       "DSVAL1  = 'TABLE   '           / Data selection value                           \n",
       "DSREF1  = ':GTI    '           / Data selection reference                       \n",
       "DSTYP2  = 'POS(RA,DEC)'        / Data selection type                            \n",
       "DSUNI2  = 'deg     '           / Data selection unit                            \n",
       "DSVAL2  = 'CIRCLE(83.63,22.01,5)' / Data selection value                        \n",
       "DSTYP3  = 'ENERGY  '           / Data selection type                            \n",
       "DSUNI3  = 'TeV     '           / Data selection unit                            \n",
       "DSVAL3  = '0.05:100'           / Data selection value                           \n",
       "NDSKEYS = '3       '           / Number of data selections                      "
      ]
     },
     "execution_count": 96,
     "metadata": {},
     "output_type": "execute_result"
    },
    {
     "name": "stderr",
     "output_type": "stream",
     "text": [
      "WARNING: In RunHeader, pathology with start/end event time:\n",
      "   WARNING: Difference between the first event L3 time and DB time is larger than 1%\n",
      "   WARNING: Difference between the last event L3 time and DB time is larger than 1%\n",
      "using DB start/end time instead of VBF time to calculate fractional live time.\n"
     ]
    }
   ],
   "source": [
    "hdu1.header.set('OBS_ID  ', runHeader.getRunNumber(), 'Run Number')\n",
    "hdu1.header.set('TELESCOP', 'VERITAS', 'Data from VERITAS')\n",
    "\n",
    "startTime = runHeader.getStartTime()\n",
    "endTime = runHeader.getEndTime()\n",
    "\n",
    "startTime_s = float(startTime.getDayNS()) / 1e9\n",
    "endTime_s = float(endTime.getDayNS()) / 1e9\n",
    "hdu1.header.set('DATE-OBS',\n",
    "                startTime.getString().split()[0],\n",
    "                'start date (UTC) of obs yy-mm-dd')\n",
    "hdu1.header.set('TIME-OBS',\n",
    "                startTime.getString().split()[1],\n",
    "                'start time (UTC) of obs hh-mm-ss')\n",
    "hdu1.header.set('DATE-END',\n",
    "                endTime.getString().split()[0],\n",
    "                'end date (UTC) of obs yy-mm-dd')\n",
    "hdu1.header.set('TIME-END',\n",
    "                endTime.getString().split()[1],\n",
    "                'end time (UTC) of obs hh-mm-ss')\n",
    "\n",
    "hdu1.header.set('TSTART  ',\n",
    "                startTime_s,\n",
    "                'mission time of start of obs [s]')\n",
    "hdu1.header.set('TSTOP   ',\n",
    "                endTime_s,\n",
    "                'mission time of end of obs [s]')\n",
    "hdu1.header.set('MJDREFI ',\n",
    "                int(startTime.getMJDInt()), 'int part of reference MJD [days]')\n",
    "hdu1.header.set('MJDREFF ', 0., 'fractional part of reference MJD [days]')\n",
    "\n",
    "hdu1.header.set('TIMEUNIT', 's', 'time unit is seconds since MET start')\n",
    "hdu1.header.set('TIMESYS ', 'utc', 'time scale is UTC')\n",
    "hdu1.header.set('TIMEREF ', 'local', 'local time reference')\n",
    "\n",
    "hdu1.header.set('ONTIME  ', \n",
    "                endTime_s - startTime_s,\n",
    "                'time on target (including deadtime)')\n",
    "hdu1.header.set('LIVETIME', runHeader.pfRunDetails.fRunNominalLiveTimeSeconds,\n",
    "                '(dead=ONTIME-LIVETIME) [s] ')\n",
    "hdu1.header.set('DEADC   ', runHeader.getLiveTimeFrac(),\n",
    "                'average deadtime fraction [] ')\n",
    "\n",
    "hdu1.header.set('OBJECT  ', runHeader.getSourceId(), 'observed object')\n",
    "\n",
    "hdu1.header.set('RA_PNT  ', avRA, 'observation position RA [deg]')\n",
    "hdu1.header.set('DEC_PNT ', avDec, 'observation position DEC [deg]')\n",
    "hdu1.header.set('ALT_PNT ', avAlt, 'average altitude of pointing [deg]')\n",
    "hdu1.header.set('AZ_PNT  ', 0., 'average azimuth of pointing [deg]')\n",
    "\n",
    "hdu1.header.set('RA_OBJ  ',\n",
    "                np.rad2deg(runHeader.getSourceRA()),\n",
    "                'observation position RA [deg]')\n",
    "hdu1.header.set('DEC_OBJ ',\n",
    "                np.rad2deg(runHeader.getSourceDec()),\n",
    "                'observation position DEC [deg]')\n",
    "\n",
    "# get the list of telescopes that participate in the event\n",
    "hdu1.header.set('TELLIST',\n",
    "                produceTelList(runHeader.fRunInfo.fConfigMask),\n",
    "                'comma-separated list of tel IDs')\n",
    "hdu1.header.set('N_TELS', runHeader.pfRunDetails.fTels,\n",
    "                'number of telescopes in event list')\n",
    "\n",
    "# other info - weather? pointing mode\n",
    "\n",
    "hdu1.header.set('EUNIT   ', 'TeV', 'energy unit')\n",
    "hdu1.header.set('GEOLAT  ', 31.6751, 'longitude of array center [deg]')\n",
    "hdu1.header.set('GEOLON  ', -110.952, 'latitude of array center [deg]')\n",
    "hdu1.header.set('ALTITUDE', 1268, 'altitude of array center [m]')\n",
    "\n",
    "# What are these for? - May note be needed, leave out for now.\n",
    "hdu1.header.set('DSTYP1', 'TIME    ', 'Data selection type')\n",
    "hdu1.header.set('DSUNI1', 's       ', 'Data selection unit')\n",
    "hdu1.header.set('DSVAL1', 'TABLE   ', 'Data selection value')\n",
    "hdu1.header.set('DSREF1', ':GTI    ', 'Data selection reference')\n",
    "hdu1.header.set('DSTYP2', 'POS(RA,DEC)', 'Data selection type')\n",
    "hdu1.header.set('DSUNI2', 'deg     ', 'Data selection unit')\n",
    "hdu1.header.set('DSVAL2', 'CIRCLE(83.63,22.01,5)', 'Data selection value')\n",
    "hdu1.header.set('DSTYP3', 'ENERGY  ', 'Data selection type')\n",
    "hdu1.header.set('DSUNI3', 'TeV     ', 'Data selection unit')\n",
    "hdu1.header.set('DSVAL3', '0.05:100', 'Data selection value')\n",
    "hdu1.header.set('NDSKEYS', '3       ', 'Number of data selections')\n",
    "hdu1.header"
   ]
  },
  {
   "cell_type": "markdown",
   "metadata": {},
   "source": [
    "# Good Time Intervals (GTI)"
   ]
  },
  {
   "cell_type": "raw",
   "metadata": {},
   "source": [
    "<bound method ColDefs.info of ColDefs(\n",
    "    name = 'START'; format = '1D'\n",
    "    name = 'STOP'; format = '1D'\n",
    ")>"
   ]
  },
  {
   "cell_type": "code",
   "execution_count": 97,
   "metadata": {},
   "outputs": [],
   "source": [
    "goodTimeStart = []\n",
    "goodTimeStop = []\n",
    "\n",
    "goodTimeStart.append(startTime_s)\n",
    "goodTimeStop.append(endTime_s)"
   ]
  },
  {
   "cell_type": "code",
   "execution_count": 98,
   "metadata": {},
   "outputs": [
    {
     "data": {
      "text/plain": [
       "XTENSION= 'BINTABLE'           / binary table extension                         \n",
       "BITPIX  =                    8 / array data type                                \n",
       "NAXIS   =                    2 / number of array dimensions                     \n",
       "NAXIS1  =                   16 / length of dimension 1                          \n",
       "NAXIS2  =                    1 / length of dimension 2                          \n",
       "PCOUNT  =                    0 / number of group parameters                     \n",
       "GCOUNT  =                    1 / number of groups                               \n",
       "TFIELDS =                    2 / number of table fields                         \n",
       "TTYPE1  = 'START   '                                                            \n",
       "TFORM1  = '1D      '                                                            \n",
       "TTYPE2  = 'STOP    '                                                            \n",
       "TFORM2  = '1D      '                                                            \n",
       "EXTNAME = 'GTI     '           / extension name                                 "
      ]
     },
     "execution_count": 98,
     "metadata": {},
     "output_type": "execute_result"
    }
   ],
   "source": [
    "# do we record the unit in this table as well? (it is in seconds)\n",
    "\n",
    "hdu2 = fits.BinTableHDU.from_columns([\n",
    "    fits.Column(name='START', format='1D', array=goodTimeStart), \n",
    "    fits.Column(name='STOP', format='1D', array=goodTimeStop)\n",
    "])\n",
    "hdu2.name = \"GTI\"\n",
    "hdu2.header"
   ]
  },
  {
   "cell_type": "markdown",
   "metadata": {},
   "source": [
    "# Effective Area\n",
    "\n",
    "Question - what do we need to do about sim vs real spectral index?"
   ]
  },
  {
   "cell_type": "code",
   "execution_count": 99,
   "metadata": {},
   "outputs": [],
   "source": [
    "if gSystem.Load(\"libVEGASStage6\"):\n",
    "    print \"Problem loading VEGAS libraries - please check this before proceeding\""
   ]
  },
  {
   "cell_type": "code",
   "execution_count": 100,
   "metadata": {},
   "outputs": [],
   "source": [
    "from ROOT import TGraphAsymmErrors\n",
    "from ROOT import VARootIO, VAEffectiveAreaManager, VAEASimpleParameterData"
   ]
  },
  {
   "cell_type": "markdown",
   "metadata": {},
   "source": [
    "### First we need to load the EA file"
   ]
  },
  {
   "cell_type": "code",
   "execution_count": 101,
   "metadata": {},
   "outputs": [
    {
     "data": {
      "text/plain": [
       "True"
      ]
     },
     "execution_count": 101,
     "metadata": {},
     "output_type": "execute_result"
    }
   ],
   "source": [
    "effectiveAreaIO = VARootIO(eaFile, True)\n",
    "effectiveAreaIO.loadTheRootFile()"
   ]
  },
  {
   "cell_type": "markdown",
   "metadata": {},
   "source": [
    "### Then we need to load the Effective Area"
   ]
  },
  {
   "cell_type": "code",
   "execution_count": 102,
   "metadata": {},
   "outputs": [
    {
     "name": "stdout",
     "output_type": "stream",
     "text": [
      "Updating Modified Effective Areas with Standard algorithm...\n",
      "EA: Function parameters used for Modified Eff Areas and fit seeds:  1.4e-07 -2.5 1\n",
      "EA: fitFunction initialized [0]*pow(x/[2],[1])\n",
      "Effective Area file has MEA's made using a RealSpectralIndexof: -2.5\n",
      "***MEA's for this run will be made as needed using \n",
      "***the function and parameters above.  If they do not match stage6 results,\n",
      "***vaStage6 should be re-run with the new parameters.\n",
      "***You should iterate until they agree.\n",
      "\n",
      "#############################################\n",
      "  Getting tree with EA parameters - please \n",
      "  check that dimensions and values are what \n",
      "  you expected\n",
      "Number of parameters:  3\n",
      "Azimuth:  0 45 90 135 180 225 270 315 \n",
      "Zenith:  0 20 30 35 40 45 50 55 60 65 \n",
      "Noise:  4.24 5.21 6 6.68 7.27 7.82 8.33 9.2 10.19 11.17 12.17 \n",
      "#############################################\n",
      "\n"
     ]
    }
   ],
   "source": [
    "effectiveAreaManager = VAEffectiveAreaManager()\n",
    "effectiveAreaManager.loadEffectiveAreas(effectiveAreaIO)\n",
    "effectiveAreaManager.setUseReconstructedEnergy(False)"
   ]
  },
  {
   "cell_type": "markdown",
   "metadata": {},
   "source": [
    "### Set the EA parameters"
   ]
  },
  {
   "cell_type": "code",
   "execution_count": 103,
   "metadata": {},
   "outputs": [
    {
     "name": "stdout",
     "output_type": "stream",
     "text": [
      "79.3884155482 10.6115846634\n"
     ]
    }
   ],
   "source": [
    "effectiveAreaParameters = VAEASimpleParameterData()\n",
    "effectiveAreaParameters.fAzimuth = (avAz)\n",
    "effectiveAreaParameters.fZenith = (90. - avAlt)\n",
    "effectiveAreaParameters.fNoise = 4.2 # this still needs to be worked out\n",
    "effectiveAreaParameters.fOffset = 0.5 # itterate over this in steps? (0.5deg as for sims?)\n",
    "\n",
    "\n",
    "print avAlt, effectiveAreaParameters.fZenith\n",
    "# convert to vector of parameters since this is required for a number of steps\n",
    "effectiveAreaParameters = effectiveAreaManager.getVectorParamsFromSimpleParameterData(effectiveAreaParameters)\n"
   ]
  },
  {
   "cell_type": "markdown",
   "metadata": {},
   "source": [
    "### Get the EA"
   ]
  },
  {
   "cell_type": "code",
   "execution_count": 104,
   "metadata": {},
   "outputs": [],
   "source": [
    "effectiveArea = effectiveAreaManager.getEffectiveAreaCurve(effectiveAreaParameters)"
   ]
  },
  {
   "cell_type": "markdown",
   "metadata": {},
   "source": [
    "### Lets Check by Plotting"
   ]
  },
  {
   "cell_type": "code",
   "execution_count": 105,
   "metadata": {},
   "outputs": [],
   "source": [
    "x, y, ye = [], [], []\n",
    "for i in range(effectiveArea.GetN()):\n",
    "    tmpX, tmpY = ROOT.Double(0), ROOT.Double(0)\n",
    "    effectiveArea.GetPoint(i, tmpX, tmpY)\n",
    "    ye.append(effectiveArea.GetErrorY(i))\n",
    "    effectiveArea.GetErrorX\n",
    "    x.append(tmpX)\n",
    "    y.append(tmpY)\n",
    "        \n",
    "x = np.array(x)\n",
    "y = np.array(y)\n",
    "ye = np.array(ye)"
   ]
  },
  {
   "cell_type": "code",
   "execution_count": 106,
   "metadata": {},
   "outputs": [
    {
     "data": {
      "text/plain": [
       "[]"
      ]
     },
     "execution_count": 106,
     "metadata": {},
     "output_type": "execute_result"
    },
    {
     "data": {
      "image/png": "[encoded data removed]",
      "text/plain": [
       "<matplotlib.figure.Figure at 0x127f7dbd0>"
      ]
     },
     "metadata": {},
     "output_type": "display_data"
    }
   ],
   "source": [
    "plt.errorbar(x, y, yerr = ye, ls = \"\", marker = \"_\")\n",
    "plt.semilogy()"
   ]
  },
  {
   "cell_type": "code",
   "execution_count": 107,
   "metadata": {},
   "outputs": [
    {
     "data": {
      "text/plain": [
       "True"
      ]
     },
     "execution_count": 107,
     "metadata": {},
     "output_type": "execute_result"
    },
    {
     "name": "stdout",
     "output_type": "stream",
     "text": [
      "+++ EA: Calculating safe energy range using E_EnergyEAPrecision method\n",
      "+++ EA: min safe energy Emin = 149.624,   EAerr = 8.5095%\n",
      "+++ EA: max safe energy Emax = 37583.7,   EAerr = 19.7062%\n"
     ]
    }
   ],
   "source": [
    "energyLow = np.power(10, x - (x[1] - x[0])/2.)\n",
    "energyHigh = np.power(10, x + (x[1] - x[0])/2.)\n",
    "thetaLow = [0.0, 1.0]\n",
    "thetaHigh = [1.0, 2.0]\n",
    "# ea = np.vstack((y, y))\n",
    "ea = [y,y]\n",
    "minEnergy , maxEnergy = c_float(), c_float()\n",
    "effectiveAreaManager.getSafeEnergyRange(effectiveAreaParameters, 0.5, minEnergy, maxEnergy)"
   ]
  },
  {
   "cell_type": "code",
   "execution_count": 108,
   "metadata": {},
   "outputs": [
    {
     "data": {
      "text/plain": [
       "(2, 78)"
      ]
     },
     "execution_count": 108,
     "metadata": {},
     "output_type": "execute_result"
    }
   ],
   "source": [
    "np.shape(ea)"
   ]
  },
  {
   "cell_type": "code",
   "execution_count": 109,
   "metadata": {},
   "outputs": [],
   "source": [
    "x = np.array([(energyLow, energyHigh, thetaLow, thetaHigh, ea)], \n",
    "             dtype=[('ENERG_LO', '>f4', np.shape(energyLow)), \n",
    "                    ('ENERG_HI', '>f4', np.shape(energyHigh)), \n",
    "                    ('THETA_LO', '>f4', np.shape(thetaLow)), \n",
    "                    ('THETA_HI', '>f4', np.shape(thetaHigh)), \n",
    "                    ('EFFAREA', '>f4', np.shape(ea))])"
   ]
  },
  {
   "cell_type": "code",
   "execution_count": 110,
   "metadata": {},
   "outputs": [
    {
     "data": {
      "text/plain": [
       "ColDefs(\n",
       "    name = 'ENERG_LO'; format = '78E'\n",
       "    name = 'ENERG_HI'; format = '78E'\n",
       "    name = 'THETA_LO'; format = '2E'\n",
       "    name = 'THETA_HI'; format = '2E'\n",
       "    name = 'EFFAREA'; format = '156E'; dim = '(78,2)'\n",
       ")"
      ]
     },
     "execution_count": 110,
     "metadata": {},
     "output_type": "execute_result"
    }
   ],
   "source": [
    "hdu3 = fits.BinTableHDU(data=x)\n",
    "hdu3.name = \"EFFECTIVE AREA\"\n",
    "\n",
    "hdu3.header.set('TUNIT1 ', 'TeV', \"\")\n",
    "hdu3.header.set('TUNIT2 ', 'TeV', \"\")\n",
    "hdu3.header.set('TUNIT3 ', 'deg', \"\")\n",
    "hdu3.header.set('TUNIT4 ', 'deg', \"\")\n",
    "hdu3.header.set('TUNIT5 ', 'm^2', \"\")\n",
    "\n",
    "hdu3.header.set('HDUCLASS', 'GADF',\n",
    "                'FITS file following the GADF data format.')\n",
    "hdu3.header.set('HDUCLAS1', 'RESPONSE', 'HDU class')\n",
    "hdu3.header.set('HDUCLAS2', 'EFF_AREA', 'HDU class')\n",
    "hdu3.header.set('HDUCLAS3', 'POINT-LIKE', 'HDU class')\n",
    "hdu3.header.set('HDUCLAS4', 'AEFF_2D', 'HDU class')\n",
    "hdu3.header.set('LO_THRES', minEnergy.value/1000.,\n",
    "                'Low energy threshold of validity [TeV]')\n",
    "hdu3.header.set('HI_THRES', maxEnergy.value/1000.,\n",
    "                'High energy threshold of validity [TeV]')\n",
    "hdu3.header.set('RAD_MAX ', 0.1, 'Direction cut applied [deg]')\n",
    "\n",
    "hdu3.columns"
   ]
  },
  {
   "cell_type": "code",
   "execution_count": 111,
   "metadata": {},
   "outputs": [
    {
     "data": {
      "text/plain": [
       "XTENSION= 'BINTABLE'           / binary table extension                         \n",
       "BITPIX  =                    8 / array data type                                \n",
       "NAXIS   =                    2 / number of array dimensions                     \n",
       "NAXIS1  =                 1264 / length of dimension 1                          \n",
       "NAXIS2  =                    1 / length of dimension 2                          \n",
       "PCOUNT  =                    0 / number of group parameters                     \n",
       "GCOUNT  =                    1 / number of groups                               \n",
       "TFIELDS =                    5 / number of table fields                         \n",
       "TTYPE1  = 'ENERG_LO'                                                            \n",
       "TFORM1  = '78E     '                                                            \n",
       "TTYPE2  = 'ENERG_HI'                                                            \n",
       "TFORM2  = '78E     '                                                            \n",
       "TTYPE3  = 'THETA_LO'                                                            \n",
       "TFORM3  = '2E      '                                                            \n",
       "TTYPE4  = 'THETA_HI'                                                            \n",
       "TFORM4  = '2E      '                                                            \n",
       "TTYPE5  = 'EFFAREA '                                                            \n",
       "TFORM5  = '156E    '                                                            \n",
       "TDIM5   = '(78,2)  '                                                            \n",
       "EXTNAME = 'EFFECTIVE AREA'     / extension name                                 \n",
       "TUNIT1  = 'TeV     '                                                            \n",
       "TUNIT2  = 'TeV     '                                                            \n",
       "TUNIT3  = 'deg     '                                                            \n",
       "TUNIT4  = 'deg     '                                                            \n",
       "TUNIT5  = 'm^2     '                                                            \n",
       "HDUCLASS= 'GADF    '           / FITS file following the GADF data format.      \n",
       "HDUCLAS1= 'RESPONSE'           / HDU class                                      \n",
       "HDUCLAS2= 'EFF_AREA'           / HDU class                                      \n",
       "HDUCLAS3= 'POINT-LIKE'         / HDU class                                      \n",
       "HDUCLAS4= 'AEFF_2D '           / HDU class                                      \n",
       "LO_THRES=   0.1496235656738281 / Low energy threshold of validity [TeV]         \n",
       "HI_THRES=        37.5837421875 / High energy threshold of validity [TeV]        \n",
       "RAD_MAX =                  0.1 / Direction cut applied [deg]                    "
      ]
     },
     "execution_count": 111,
     "metadata": {},
     "output_type": "execute_result"
    }
   ],
   "source": [
    "hdu3.header"
   ]
  },
  {
   "cell_type": "markdown",
   "metadata": {},
   "source": [
    "# Migration Matrix\n",
    "We want to get pfEnergy_Rec_VS_MC_2D for the correct parameters.\n",
    "\n",
    "This could be done with a getter within VEGAS - lets try that first!"
   ]
  },
  {
   "cell_type": "code",
   "execution_count": 112,
   "metadata": {},
   "outputs": [],
   "source": [
    "a, e = hist2array(effectiveAreaManager.getEnergyBias2D(effectiveAreaParameters), return_edges=True)"
   ]
  },
  {
   "cell_type": "code",
   "execution_count": 113,
   "metadata": {},
   "outputs": [],
   "source": [
    "eLow = np.power(10, [e[0][:-1]])[0]\n",
    "eHigh = np.power(10, [e[0][1:]])[0]\n",
    "\n",
    "bLow = np.power(10, [e[1][:-1]])[0]\n",
    "bHigh = np.power(10, [e[1][1:]])[0]\n",
    "\n",
    "ac = []\n",
    "for aa in a:\n",
    "    if np.sum(aa) > 0:\n",
    "        ab = aa / np.sum(aa*(bHigh - bLow))\n",
    "    else:\n",
    "        ab = aa\n",
    "    try:\n",
    "        ac = np.vstack((ac, ab))\n",
    "    except:\n",
    "        ac = ab\n",
    "        \n",
    "ac = ac.transpose()"
   ]
  },
  {
   "cell_type": "code",
   "execution_count": 114,
   "metadata": {},
   "outputs": [
    {
     "data": {
      "text/plain": [
       "array([  1.00000000e-02,   1.12201845e-02,   1.25892541e-02,\n",
       "         1.41253754e-02,   1.58489319e-02,   1.77827941e-02,\n",
       "         1.99526231e-02,   2.23872114e-02,   2.51188643e-02,\n",
       "         2.81838293e-02,   3.16227766e-02,   3.54813389e-02,\n",
       "         3.98107171e-02,   4.46683592e-02,   5.01187234e-02,\n",
       "         5.62341325e-02,   6.30957344e-02,   7.07945784e-02,\n",
       "         7.94328235e-02,   8.91250938e-02,   1.00000000e-01,\n",
       "         1.12201845e-01,   1.25892541e-01,   1.41253754e-01,\n",
       "         1.58489319e-01,   1.77827941e-01,   1.99526231e-01,\n",
       "         2.23872114e-01,   2.51188643e-01,   2.81838293e-01,\n",
       "         3.16227766e-01,   3.54813389e-01,   3.98107171e-01,\n",
       "         4.46683592e-01,   5.01187234e-01,   5.62341325e-01,\n",
       "         6.30957344e-01,   7.07945784e-01,   7.94328235e-01,\n",
       "         8.91250938e-01,   1.00000000e+00,   1.12201845e+00,\n",
       "         1.25892541e+00,   1.41253754e+00,   1.58489319e+00,\n",
       "         1.77827941e+00,   1.99526231e+00,   2.23872114e+00,\n",
       "         2.51188643e+00,   2.81838293e+00,   3.16227766e+00,\n",
       "         3.54813389e+00,   3.98107171e+00,   4.46683592e+00,\n",
       "         5.01187234e+00,   5.62341325e+00,   6.30957344e+00,\n",
       "         7.07945784e+00,   7.94328235e+00,   8.91250938e+00,\n",
       "         1.00000000e+01,   1.12201845e+01,   1.25892541e+01,\n",
       "         1.41253754e+01,   1.58489319e+01,   1.77827941e+01,\n",
       "         1.99526231e+01,   2.23872114e+01,   2.51188643e+01,\n",
       "         2.81838293e+01,   3.16227766e+01,   3.54813389e+01,\n",
       "         3.98107171e+01,   4.46683592e+01,   5.01187234e+01,\n",
       "         5.62341325e+01,   6.30957344e+01,   7.07945784e+01,\n",
       "         7.94328235e+01,   8.91250938e+01,   1.00000000e+02,\n",
       "         1.12201845e+02,   1.25892541e+02,   1.41253754e+02,\n",
       "         1.58489319e+02,   1.77827941e+02,   1.99526231e+02,\n",
       "         2.23872114e+02,   2.51188643e+02,   2.81838293e+02,\n",
       "         3.16227766e+02,   3.54813389e+02,   3.98107171e+02,\n",
       "         4.46683592e+02,   5.01187234e+02,   5.62341325e+02,\n",
       "         6.30957344e+02,   7.07945784e+02,   7.94328235e+02,\n",
       "         8.91250938e+02])"
      ]
     },
     "execution_count": 114,
     "metadata": {},
     "output_type": "execute_result"
    }
   ],
   "source": [
    "eLow"
   ]
  },
  {
   "cell_type": "code",
   "execution_count": 115,
   "metadata": {},
   "outputs": [
    {
     "name": "stderr",
     "output_type": "stream",
     "text": [
      "/usr/local/lib/python2.7/site-packages/ipykernel_launcher.py:1: RuntimeWarning: divide by zero encountered in log10\n",
      "  \"\"\"Entry point for launching an IPython kernel.\n"
     ]
    },
    {
     "data": {
      "text/plain": [
       "<matplotlib.colorbar.Colorbar at 0x1288c39d0>"
      ]
     },
     "execution_count": 115,
     "metadata": {},
     "output_type": "execute_result"
    },
    {
     "data": {
      "image/png": "[encoded data removed]",
      "text/plain": [
       "<matplotlib.figure.Figure at 0x1287e3c50>"
      ]
     },
     "metadata": {},
     "output_type": "display_data"
    }
   ],
   "source": [
    "plt.imshow(np.log10(ac))\n",
    "plt.colorbar()"
   ]
  },
  {
   "cell_type": "code",
   "execution_count": 116,
   "metadata": {},
   "outputs": [
    {
     "data": {
      "text/plain": [
       "ColDefs(\n",
       "    name = 'ETRUE_LO'; format = '100E'\n",
       "    name = 'ETRUE_HI'; format = '100E'\n",
       "    name = 'MIGRA_LO'; format = '100E'\n",
       "    name = 'MIGRA_HI'; format = '100E'\n",
       "    name = 'THETA_LO'; format = '2E'\n",
       "    name = 'THETA_HI'; format = '2E'\n",
       "    name = 'MATRIX'; format = '20000E'; dim = '(100,100,2)'\n",
       ")"
      ]
     },
     "execution_count": 116,
     "metadata": {},
     "output_type": "execute_result"
    }
   ],
   "source": [
    "x = np.array([(eLow, eHigh, bLow, bHigh, [0, 1.0], [1.0, 2.0], [ac, ac])], \n",
    "             dtype=[('ETRUE_LO', '>f4', (len(eLow),)), \n",
    "                    ('ETRUE_HI', '>f4', (len(eHigh),)), \n",
    "                    ('MIGRA_LO', '>f4', (len(bLow),)), \n",
    "                    ('MIGRA_HI', '>f4', (len(bLow),)), \n",
    "                    ('THETA_LO', '>f4', (2,)), \n",
    "                    ('THETA_HI', '>f4', (2,)), \n",
    "                    ('MATRIX', '>f4', (2, np.shape(ac)[0], np.shape(ac)[1]))])\n",
    "\n",
    "hdu4 = fits.BinTableHDU(data=x)\n",
    "hdu4.name = \"ENERGY DISPERSION\"\n",
    "\n",
    "hdu4.header.set('TUNIT1 ', 'TeV', \"\")\n",
    "hdu4.header.set('TUNIT2 ', 'TeV', \"\")\n",
    "hdu4.header.set('TUNIT5 ', 'deg', \"\")\n",
    "hdu4.header.set('TUNIT6 ', 'deg', \"\")\n",
    "# hdu3.header.set('TUNIT5 ', 'm^2', \"\")\n",
    "\n",
    "hdu4.header.set('HDUCLASS', 'GADF',\n",
    "                'FITS file following the GADF data format.')\n",
    "hdu4.header.set('HDUCLAS1', 'RESPONSE', 'HDU class')\n",
    "hdu4.header.set('HDUCLAS2', 'EDISP', 'HDU class')\n",
    "hdu4.header.set('HDUCLAS3', 'POINT-LIKE', 'HDU class')\n",
    "hdu4.header.set('HDUCLAS4', 'EDISP_2D', 'HDU class')\n",
    "hdu4.header.set('LO_THRES', minEnergy.value/1000.,\n",
    "                'Low energy threshold of validity [TeV]')\n",
    "hdu4.header.set('HI_THRES', maxEnergy.value/1000.,\n",
    "                'High energy threshold of validity [TeV]')\n",
    "hdu4.header.set('RAD_MAX ', 0.1, 'Direction cut applied [deg]')\n",
    "\n",
    "hdu4.columns"
   ]
  },
  {
   "cell_type": "code",
   "execution_count": 117,
   "metadata": {},
   "outputs": [
    {
     "data": {
      "text/plain": [
       "XTENSION= 'BINTABLE'           / binary table extension                         \n",
       "BITPIX  =                    8 / array data type                                \n",
       "NAXIS   =                    2 / number of array dimensions                     \n",
       "NAXIS1  =                81616 / length of dimension 1                          \n",
       "NAXIS2  =                    1 / length of dimension 2                          \n",
       "PCOUNT  =                    0 / number of group parameters                     \n",
       "GCOUNT  =                    1 / number of groups                               \n",
       "TFIELDS =                    7 / number of table fields                         \n",
       "TTYPE1  = 'ETRUE_LO'                                                            \n",
       "TFORM1  = '100E    '                                                            \n",
       "TTYPE2  = 'ETRUE_HI'                                                            \n",
       "TFORM2  = '100E    '                                                            \n",
       "TTYPE3  = 'MIGRA_LO'                                                            \n",
       "TFORM3  = '100E    '                                                            \n",
       "TTYPE4  = 'MIGRA_HI'                                                            \n",
       "TFORM4  = '100E    '                                                            \n",
       "TTYPE5  = 'THETA_LO'                                                            \n",
       "TFORM5  = '2E      '                                                            \n",
       "TTYPE6  = 'THETA_HI'                                                            \n",
       "TFORM6  = '2E      '                                                            \n",
       "TTYPE7  = 'MATRIX  '                                                            \n",
       "TFORM7  = '20000E  '                                                            \n",
       "TDIM7   = '(100,100,2)'                                                         \n",
       "EXTNAME = 'ENERGY DISPERSION'  / extension name                                 \n",
       "TUNIT1  = 'TeV     '                                                            \n",
       "TUNIT2  = 'TeV     '                                                            \n",
       "TUNIT5  = 'deg     '                                                            \n",
       "TUNIT6  = 'deg     '                                                            \n",
       "HDUCLASS= 'GADF    '           / FITS file following the GADF data format.      \n",
       "HDUCLAS1= 'RESPONSE'           / HDU class                                      \n",
       "HDUCLAS2= 'EDISP   '           / HDU class                                      \n",
       "HDUCLAS3= 'POINT-LIKE'         / HDU class                                      \n",
       "HDUCLAS4= 'EDISP_2D'           / HDU class                                      \n",
       "LO_THRES=   0.1496235656738281 / Low energy threshold of validity [TeV]         \n",
       "HI_THRES=        37.5837421875 / High energy threshold of validity [TeV]        \n",
       "RAD_MAX =                  0.1 / Direction cut applied [deg]                    "
      ]
     },
     "execution_count": 117,
     "metadata": {},
     "output_type": "execute_result"
    }
   ],
   "source": [
    "hdu4.header"
   ]
  },
  {
   "cell_type": "raw",
   "metadata": {},
   "source": [
    "XTENSION= 'BINTABLE'           / binary table extension                         \n",
    "BITPIX  =                    8 / 8-bit bytes                                    \n",
    "NAXIS   =                    2 / 2-dimensional binary table                     \n",
    "NAXIS1  =                84896 / width of table in bytes                        \n",
    "NAXIS2  =                    1 / number of rows in table                        \n",
    "PCOUNT  =                    0 / size of special data area                      \n",
    "GCOUNT  =                    1 / one data group (required keyword)              \n",
    "TFIELDS =                    7 / number of fields in each row                   \n",
    "TTYPE1  = 'ETRUE_LO'           / label for field   1                            \n",
    "TFORM1  = '130E    '           / data format of field: 4-byte REAL              \n",
    "TUNIT1  = 'TeV     '           / physical unit of field                         \n",
    "TTYPE2  = 'ETRUE_HI'           / label for field   2                            \n",
    "TFORM2  = '130E    '           / data format of field: 4-byte REAL              \n",
    "TUNIT2  = 'TeV     '           / physical unit of field                         \n",
    "TTYPE3  = 'MIGRA_LO'           / label for field   3                            \n",
    "TFORM3  = '80E     '           / data format of field: 4-byte REAL              \n",
    "TTYPE4  = 'MIGRA_HI'           / label for field   4                            \n",
    "TFORM4  = '80E     '           / data format of field: 4-byte REAL              \n",
    "TTYPE5  = 'THETA_LO'           / label for field   5                            \n",
    "TFORM5  = '2E      '           / data format of field: 4-byte REAL              \n",
    "TUNIT5  = 'deg     '           / physical unit of field                         \n",
    "TTYPE6  = 'THETA_HI'           / label for field   6                            \n",
    "TFORM6  = '2E      '           / data format of field: 4-byte REAL              \n",
    "TUNIT6  = 'deg     '           / physical unit of field                         \n",
    "TTYPE7  = 'MATRIX  '           / label for field   7                            \n",
    "TFORM7  = '20800E  '           / data format of field: 4-byte REAL              \n",
    "EXTNAME = 'ENERGY DISPERSION'  / name of this binary table extension            \n",
    "TDIM7   = '(130,80,2)'         / Dimensions of the field                        \n",
    "HDUDOC  = 'See comment'        / https://github.com/open-gamma-ray-astro/gamma-a\n",
    "HDUVERS = '0.2     '           / Reference version                              \n",
    "HDUCLASS= 'GADF    '           / FITS file following the GADF data format.      \n",
    "HDUCLAS1= 'RESPONSE'           / HDU class                                      \n",
    "HDUCLAS2= 'EDISP   '           / HDU class                                      \n",
    "HDUCLAS3= 'FULL-ENCLOSURE'     / HDU class                                      \n",
    "HDUCLAS4= 'EDISP_2D'           / HDU class                                      \n",
    "RAD_MAX =            0.1414213 / Direction cut applied [deg]  "
   ]
  },
  {
   "cell_type": "markdown",
   "metadata": {},
   "source": [
    "# Fudge background in"
   ]
  },
  {
   "cell_type": "code",
   "execution_count": 118,
   "metadata": {},
   "outputs": [],
   "source": [
    "magicDL3 = fits.open(\"MAGIC/CrabNebula_sample1_fine_binning.fits\")"
   ]
  },
  {
   "cell_type": "markdown",
   "metadata": {},
   "source": [
    "# Write FITS file"
   ]
  },
  {
   "cell_type": "code",
   "execution_count": 119,
   "metadata": {},
   "outputs": [],
   "source": [
    "hdulist = fits.HDUList([hdu0, hdu1, hdu2, hdu3, hdu4])\n",
    "hdulist.writeto(outfile, overwrite=True)\n"
   ]
  },
  {
   "cell_type": "code",
   "execution_count": 120,
   "metadata": {},
   "outputs": [
    {
     "name": "stdout",
     "output_type": "stream",
     "text": [
      "Filename: (No file associated with this HDUList)\n",
      "No.    Name      Ver    Type      Cards   Dimensions   Format\n",
      "  0  PRIMARY       1 PrimaryHDU       8   ()      \n",
      "  1  EVENTS        1 BinTableHDU     75   2416R x 9C   ['1J', '1D', '1E', '1E', '1E', '1E', '1E', '1E', '1E']   \n",
      "  2  GTI           1 BinTableHDU     13   1R x 2C   ['1D', '1D']   \n",
      "  3  EFFECTIVE AREA    1 BinTableHDU     33   1R x 5C   ['78E', '78E', '2E', '2E', '156E']   \n",
      "  4  ENERGY DISPERSION    1 BinTableHDU     36   1R x 7C   ['100E', '100E', '100E', '100E', '2E', '2E', '20000E']   \n"
     ]
    }
   ],
   "source": [
    "hdulist.info()"
   ]
  },
  {
   "cell_type": "raw",
   "metadata": {},
   "source": [
    "Filename: MAGIC/CrabNebula_sample1_fine_binning.fits\n",
    "No.    Name      Ver    Type      Cards   Dimensions   Format\n",
    "  0  PRIMARY       1 PrimaryHDU       8   ()      \n",
    "  1  EVENTS        1 BinTableHDU     77   15685R x 9C   ['1J', '1D', '1E', '1E', '1E', '1E', '1E', '1E', '1E']   \n",
    "  2  GTI           1 BinTableHDU     13   1R x 2C   [1D, 1D]   \n",
    "  3  EFFECTIVE AREA    1 BinTableHDU     35   1R x 5C   [150E, 150E, 2E, 2E, 300E]   \n",
    "  4  ENERGY DISPERSION    1 BinTableHDU     36   1R x 7C   [130E, 130E, 80E, 80E, 2E, 2E, 20800E]   \n",
    "  5  BACKGROUND    1 BinTableHDU     33   1R x 5C   [30E, 30E, 2E, 2E, 60E]   "
   ]
  },
  {
   "cell_type": "code",
   "execution_count": null,
   "metadata": {},
   "outputs": [],
   "source": []
  }
 ],
 "metadata": {
  "kernelspec": {
   "display_name": "Python 2",
   "language": "python",
   "name": "python2"
  },
  "language_info": {
   "codemirror_mode": {
    "name": "ipython",
    "version": 2
   },
   "file_extension": ".py",
   "mimetype": "text/x-python",
   "name": "python",
   "nbconvert_exporter": "python",
   "pygments_lexer": "ipython2",
   "version": "2.7.15"
  }
 },
 "nbformat": 4,
 "nbformat_minor": 2
}
